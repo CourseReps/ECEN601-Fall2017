{
 "cells": [
  {
   "cell_type": "markdown",
   "metadata": {},
   "source": [
    "# Challenge 2\n",
    "An important aspect of pragmatic vector space methods is the ability to handle vectors and matrices.\n",
    "A large collection of linear algebra functions is available in [SciPy.linalg](https://docs.scipy.org/doc/scipy/reference/linalg.html).\n",
    "These functions can be employed in conjunction with the tools available in [NumPy](http://www.numpy.org/).\n",
    "We note that the main object in NumPy is the homogeneous multidimensional array."
   ]
  },
  {
   "cell_type": "markdown",
   "metadata": {},
   "source": [
    "## Matrix\n",
    "We begin by creating a simple matrix.\n",
    "One possible approach to complete this task is to use ```scipy.linalg.circulant(c)```."
   ]
  },
  {
   "cell_type": "code",
   "execution_count": 1,
   "metadata": {},
   "outputs": [
    {
     "name": "stdout",
     "output_type": "stream",
     "text": [
      "[[1 3 2]\n",
      " [2 1 3]\n",
      " [3 2 1]]\n"
     ]
    }
   ],
   "source": [
    "from scipy.linalg import circulant\n",
    "my_circ_matrix = circulant([1, 2, 3])\n",
    "print(my_circ_matrix)"
   ]
  },
  {
   "cell_type": "markdown",
   "metadata": {},
   "source": [
    "Alternatively, you can construct the familiar discrete Fourier transform matrix with ```scipy.linalg.dft(n)```."
   ]
  },
  {
   "cell_type": "code",
   "execution_count": 2,
   "metadata": {},
   "outputs": [
    {
     "name": "stdout",
     "output_type": "stream",
     "text": [
      "[[ 1.0+0.j         1.0+0.j         1.0+0.j       ]\n",
      " [ 1.0+0.j        -0.5-0.8660254j -0.5+0.8660254j]\n",
      " [ 1.0+0.j        -0.5+0.8660254j -0.5-0.8660254j]]\n"
     ]
    }
   ],
   "source": [
    "from scipy.linalg import dft\n",
    "my_dft_matrix = dft(3)\n",
    "print(my_dft_matrix)"
   ]
  },
  {
   "cell_type": "markdown",
   "metadata": {},
   "source": [
    "The inverse of a matrix can be computed using ```scipy.linalg.inv(a)```."
   ]
  },
  {
   "cell_type": "code",
   "execution_count": 3,
   "metadata": {},
   "outputs": [
    {
     "name": "stdout",
     "output_type": "stream",
     "text": [
      "[[ 0.33333333 +6.21949886e-17j  0.33333333 -6.68383741e-18j\n",
      "   0.33333333 -5.55111512e-17j]\n",
      " [ 0.33333333 +5.55111512e-17j -0.16666667 +2.88675135e-01j\n",
      "  -0.16666667 -2.88675135e-01j]\n",
      " [ 0.33333333 -1.11022302e-16j -0.16666667 -2.88675135e-01j\n",
      "  -0.16666667 +2.88675135e-01j]]\n"
     ]
    }
   ],
   "source": [
    "from scipy.linalg import inv\n",
    "my_idft_matrix = inv(my_dft_matrix)\n",
    "print(my_idft_matrix)"
   ]
  },
  {
   "cell_type": "markdown",
   "metadata": {},
   "source": [
    "The operation ```numpy.dot(a, b)``` computes the dot product of two arrays.\n",
    "For 2-D arrays it is equivalent to matrix multiplication, and for 1-D arrays to inner product of vectors (without complex conjugation)."
   ]
  },
  {
   "cell_type": "code",
   "execution_count": 4,
   "metadata": {},
   "outputs": [
    {
     "name": "stdout",
     "output_type": "stream",
     "text": [
      "[[ 6.0-0.j        -0.0+0.j         0.0+0.j       ]\n",
      " [-0.0-0.j        -1.5+0.8660254j -0.0+0.j       ]\n",
      " [ 0.0-0.j         0.0-0.j        -1.5-0.8660254j]]\n"
     ]
    }
   ],
   "source": [
    "import numpy as np\n",
    "matrix_prod1 = np.dot(my_dft_matrix, my_circ_matrix)\n",
    "matrix_prod2 = np.dot(matrix_prod1, my_idft_matrix)\n",
    "\n",
    "np.set_printoptions(suppress=True)\n",
    "print(matrix_prod2)"
   ]
  },
  {
   "cell_type": "markdown",
   "metadata": {},
   "source": [
    "### Questions\n",
    "These steps and their solutions immediately bring up three questions.\n",
    " * Are circulant matrices always diagonalized by the discrete Fourier transform matrix and its inverse?\n",
    " * Are product of circulant matrices (of a same size) always circulant matrices?\n",
    " * Do all pairs of circulant matrices commute under matrix multiplication?"
   ]
  },
  {
   "cell_type": "markdown",
   "metadata": {},
   "source": [
    "### solution\n",
    "1. Yes. We have $X=F*diag(x)*F^H$. It is the property of circulant matrices.\n",
    "2. Yes.\n",
    "  We assume there are two circulant matrices $A$ and $B$. $A$ = [$A_1,A_2,...,A_n$], $B = [B_1,B_2,...,B_n]^T$ and $C = A*B = [AB_1,AB_2,...,AB_n] = [ΣA_iB_1,……,ΣA_iB_n]$ where i = n. Due to distributive law of multiplication, $ΣA_iB_j=(ΣA_i) * B_j$. Let $A_0 = ΣA_i$, we can know that A_0 is a vector of the sum of every element in colunm by the property of circulant matrix. Let every element in A_0 equals to K, then $C=[A_0B_1,……,A_0B_n]=[kB_0,...,kB_n]=kB$. Since $B$ is a circulant matrice, KB is a circulant matrice. Therefore, the product of circulant matrices (of a same size) are always circulant matrices.\n",
    "3. Yes.\n",
    "  We assume there are two circulant matrices $A$ and $B$ where A = a0I + a1D + a2D^2 + a(n-1)D^(n-1) = f(D),  B = b0I + b1D + b2D^2 + b(n-1)D^(n-1) = g(D). D is the basic circulant matrix of order n, $D = circ(0,1,0,...,0)$. Since D^n = D^(n+k) where k is nonnegetive integer and $D^0=I$, $AB=f(D)g(D)=g(D)f(D)=BA$. Therefore, all pairs of circulant matrices commute under matrix multiplication."
   ]
  },
  {
   "cell_type": "markdown",
   "metadata": {},
   "source": [
    "## Determinant\n",
    "The determinant of a square matrix is a value derived arithmetically from the coefficients of the matrix, and it summarizes a multivariable phenomenon with a signle number.\n",
    "It can be computed with ```scipy.linalg.det(a)```."
   ]
  },
  {
   "cell_type": "code",
   "execution_count": 4,
   "metadata": {},
   "outputs": [
    {
     "data": {
      "text/plain": [
       "18.0"
      ]
     },
     "execution_count": 4,
     "metadata": {},
     "output_type": "execute_result"
    }
   ],
   "source": [
    "from scipy.linalg import det\n",
    "det(my_circ_matrix)"
   ]
  },
  {
   "cell_type": "markdown",
   "metadata": {},
   "source": [
    "The code below demonstrates how to create a function in Python, how to vectorize a function so that it can be applied to the elements of a matrix, and how to use ```random```."
   ]
  },
  {
   "cell_type": "code",
   "execution_count": 7,
   "metadata": {},
   "outputs": [
    {
     "name": "stdout",
     "output_type": "stream",
     "text": [
      "18.00108\n"
     ]
    }
   ],
   "source": [
    "import math\n",
    "from numpy import random\n",
    "import numpy as np\n",
    "\n",
    "def my_log(x):\n",
    "    return math.log(x)\n",
    "\n",
    "my_vec_log = np.vectorize(my_log)\n",
    "\n",
    "A_step1 = my_vec_log(my_circ_matrix) # Numpy already offers a vectorized natural logarithm.\n",
    "# A_step1 = np.log(matrix_prod2)\n",
    "\n",
    "max_index = 100000\n",
    "my_identity = np.identity(len(A_step1))\n",
    "current_value = 0.0\n",
    "for my_index in range(0, max_index):\n",
    "    permutation_matrix = random.permutation(my_identity)\n",
    "    sign_permuation = det(permutation_matrix)\n",
    "    current_value += sign_permuation*(np.exp(np.trace(np.dot(A_step1, permutation_matrix))))\n",
    "a_step2 = math.factorial(len(A_step1)) * current_value / max_index\n",
    "print(a_step2)"
   ]
  },
  {
   "cell_type": "markdown",
   "metadata": {},
   "source": [
    "#### Questions\n",
    "It appears that the output of the loop above is close to the determinant of the circulant matrix ```my_circ_matrix```.\n",
    " * Go through the code and provide a compelling explain explanation of why these numbers are close.\n",
    " * Is this a property of circulant matrices, or would this finding extend to arbitrary matrices over the real numbers?"
   ]
  },
  {
   "cell_type": "markdown",
   "metadata": {},
   "source": [
    "### Solution\n",
    "1. By the property of circulant matrix, for a 3x3 matrix, suppose a $A=[a,b,c;c,a,b;b,c,a]$,then $det(A)=a^3+b^3+c^3-3abc$.\n",
    "The code is performing the following $$\\mathbf{logA} = \\left[\\begin{array}\n",
    "{rrr}\n",
    "\\log(1) ; log(3) ; log(2) \\\\\n",
    "log(2) ; log(1) ; log(3) \\\\\n",
    "log(3) ; log(2) ; log(1)\n",
    "\\end{array}\\right]\n",
    "$$\n",
    "This step wants to change the matrix multiplication into addition.\n",
    "Next, we shuffle the Identity matrix which has the same dimension with the original matrix and use the matrix that we get above to dot with the shuffled Identity matrix, This step help us prepare to let this method has the same function as determination.\n",
    "Then we do trace and exp to the matrix. This step wants to get elements which are equal to the dimension of the orginal matrix and each of them has to be distinct, so it can has the same function as we do determine, and also turn it property form addition back to mutiplication by doing exp to the elements. Permutation_matrix is randomly generated and it has 6 different permutations as below: [1,0,0;0,1,0;0,0,1], [1,0,0;0,0,1;0,1,0], [0,1,0;1,0,0;0,0,1], [0,1,0;0,0,1;1,0,0], [0,0,1;1,0,0;0,1,0], [0,0,1;0,1,0;1,0,0].\n",
    "If the time of producing permutation_matrix of six forms are same, a_step2=a^3+b^3+c^3-3abc, which equals to det(my_cric_matrix). In fact, the times may not same but they are very close if the loop have enough times(eg. index=100000). So a_step2 is close to det(my_cric_matrix).\n",
    "\n",
    "2.It can be extend to arbitrary matrices over the real numbers."
   ]
  },
  {
   "cell_type": "markdown",
   "metadata": {},
   "source": [
    "### Tasks\n",
    " * Build code to explore the fact that the determinant function is multiplicative: $\\mathrm{det}(AB) = \\mathrm{det}(A) \\mathrm{det}(B)$."
   ]
  },
  {
   "cell_type": "code",
   "execution_count": 9,
   "metadata": {},
   "outputs": [
    {
     "name": "stdout",
     "output_type": "stream",
     "text": [
      "Matrix A is as follows:\n",
      "[[8 1 3]\n",
      " [3 1 3]\n",
      " [8 8 1]] \n",
      "\n",
      "Matrix B is as follows:\n",
      "[[8 3 1]\n",
      " [7 9 4]\n",
      " [2 4 1]] \n",
      "\n",
      "det(A) = -115.0\n",
      "det(B) = -42.99999999999999\n",
      "det(AB) = 4945\n",
      "det(A) * det(B) = 4945 \n",
      "\n",
      "determinant function is multiplicative:  det(AB)= det(A)det(B) = 4945\n"
     ]
    }
   ],
   "source": [
    "import math\n",
    "from scipy.linalg import det\n",
    "from numpy import random\n",
    "import numpy as np\n",
    "\n",
    "n = random.randint(2,8)\n",
    "my_matrixA = np.random.randint(1,10,(n,n))\n",
    "print(\"Matrix A is as follows:\")\n",
    "print(my_matrixA, '\\n')\n",
    "my_matrixB = np.random.randint(1,10,(n,n))\n",
    "print(\"Matrix B is as follows:\")\n",
    "print(my_matrixB, '\\n')\n",
    "\n",
    "matrix_prodAB = np.dot(my_matrixA, my_matrixB)\n",
    "detA = det(my_matrixA)\n",
    "detB = det(my_matrixB)\n",
    "detAB = round(detA*detB)\n",
    "det_prodAB =round(det(matrix_prodAB))\n",
    "\n",
    "print('det(A) =',detA)\n",
    "print('det(B) =',detB)\n",
    "print('det(AB) =',detAB)\n",
    "print('det(A) * det(B) =',det_prodAB, '\\n')\n",
    "\n",
    "\n",
    "if(det_prodAB==detAB):\n",
    "    print(\"determinant function is multiplicative:  det(AB)= det(A)det(B) = \"+str(det_prodAB))\n",
    "else:\n",
    "    print(\"determinant function is NOT multiplicative:  det(AB) = \"+str(det_prodAB)+\", det(A)*det(B) = \"+str(detAB))"
   ]
  },
  {
   "cell_type": "code",
   "execution_count": null,
   "metadata": {
    "collapsed": true
   },
   "outputs": [],
   "source": []
  }
 ],
 "metadata": {
  "kernelspec": {
   "display_name": "Python 3",
   "language": "python",
   "name": "python3"
  },
  "language_info": {
   "codemirror_mode": {
    "name": "ipython",
    "version": 3
   },
   "file_extension": ".py",
   "mimetype": "text/x-python",
   "name": "python",
   "nbconvert_exporter": "python",
   "pygments_lexer": "ipython3",
   "version": "3.6.1"
  }
 },
 "nbformat": 4,
 "nbformat_minor": 2
}
