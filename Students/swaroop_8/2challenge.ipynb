{
 "cells": [
  {
   "cell_type": "markdown",
   "metadata": {},
   "source": [
    "# Challenge 2\n",
    "An important aspect of pragmatic vector space methods is the ability to handle vectors and matrices.\n",
    "A large collection of linear algebra functions is available in [SciPy.linalg](https://docs.scipy.org/doc/scipy/reference/linalg.html).\n",
    "These functions can be employed in conjunction with the tools available in [NumPy](http://www.numpy.org/).\n",
    "We note that the main object in NumPy is the homogeneous multidimensional array."
   ]
  },
  {
   "cell_type": "markdown",
   "metadata": {},
   "source": [
    "## Matrix\n",
    "We begin by creating a simple matrix.\n",
    "One possible approach to complete this task is to use ```scipy.linalg.circulant(c)```."
   ]
  },
  {
   "cell_type": "code",
   "execution_count": 51,
   "metadata": {},
   "outputs": [
    {
     "name": "stdout",
     "output_type": "stream",
     "text": [
      "[[1 3 2]\n",
      " [2 1 3]\n",
      " [3 2 1]]\n"
     ]
    }
   ],
   "source": [
    "from scipy.linalg import circulant\n",
    "my_circ_matrix = circulant([1, 2, 3])\n",
    "print(my_circ_matrix)"
   ]
  },
  {
   "cell_type": "markdown",
   "metadata": {},
   "source": [
    "Alternatively, you can construct the familiar discrete Fourier transform matrix with ```scipy.linalg.dft(n)```."
   ]
  },
  {
   "cell_type": "code",
   "execution_count": 52,
   "metadata": {},
   "outputs": [
    {
     "name": "stdout",
     "output_type": "stream",
     "text": [
      "[[ 1.0+0.j         1.0+0.j         1.0+0.j       ]\n",
      " [ 1.0+0.j        -0.5-0.8660254j -0.5+0.8660254j]\n",
      " [ 1.0+0.j        -0.5+0.8660254j -0.5-0.8660254j]]\n"
     ]
    }
   ],
   "source": [
    "from scipy.linalg import dft\n",
    "my_dft_matrix = dft(3)\n",
    "print(my_dft_matrix)"
   ]
  },
  {
   "cell_type": "markdown",
   "metadata": {},
   "source": [
    "The inverse of a matrix can be computed using ```scipy.linalg.inv(a)```."
   ]
  },
  {
   "cell_type": "code",
   "execution_count": 53,
   "metadata": {},
   "outputs": [
    {
     "name": "stdout",
     "output_type": "stream",
     "text": [
      "[[ 0.33333333+0.j          0.33333333-0.j          0.33333333-0.j        ]\n",
      " [ 0.33333333+0.j         -0.16666667+0.28867513j -0.16666667-0.28867513j]\n",
      " [ 0.33333333-0.j         -0.16666667-0.28867513j -0.16666667+0.28867513j]]\n"
     ]
    }
   ],
   "source": [
    "from scipy.linalg import inv\n",
    "my_idft_matrix = inv(my_dft_matrix)\n",
    "print(my_idft_matrix)"
   ]
  },
  {
   "cell_type": "markdown",
   "metadata": {},
   "source": [
    "The operation ```numpy.dot(a, b)``` computes the dot product of two arrays.\n",
    "For 2-D arrays it is equivalent to matrix multiplication, and for 1-D arrays to inner product of vectors (without complex conjugation)."
   ]
  },
  {
   "cell_type": "code",
   "execution_count": 54,
   "metadata": {},
   "outputs": [
    {
     "name": "stdout",
     "output_type": "stream",
     "text": [
      "[[ 6.0+0.j        -0.0+0.j         0.0+0.j       ]\n",
      " [-0.0-0.j        -1.5+0.8660254j -0.0-0.j       ]\n",
      " [ 0.0-0.j         0.0-0.j        -1.5-0.8660254j]]\n"
     ]
    }
   ],
   "source": [
    "import numpy as np\n",
    "matrix_prod1 = np.dot(my_dft_matrix, my_circ_matrix)\n",
    "matrix_prod2 = np.dot(matrix_prod1, my_idft_matrix)\n",
    "\n",
    "np.set_printoptions(suppress=True)\n",
    "print(matrix_prod2)"
   ]
  },
  {
   "cell_type": "markdown",
   "metadata": {},
   "source": [
    "### Questions\n",
    "These steps and their solutions immediately bring up three questions.\n",
    " * Are circulant matrices always diagonalized by the discrete Fourier transform matrix and its inverse?\n",
    " * Are product of circulant matrices (of a same size) always circulant matrices?\n",
    " * Do all pairs of circulant matrices commute under matrix multiplication?"
   ]
  },
  {
   "cell_type": "markdown",
   "metadata": {},
   "source": [
    "Answer : 1. Circulant matrices property states that the elements in consecutive rows are right shifted to form a square matrix. In case of DFT, the matrix is the elements of nth root of 1 ordered precisely to perform DFT for a given vector.They form the right eigen vectors for circular matrix.. Inverse DFT matrix is the complex conjugate matrix of DFT matrix and hence the inverse DFT form left Eigen Vector of Circular Matrix.By definition of eigen vectors, we understand that they can be replaced by equivalent scalars, in this case the scalars are the diagonal elements of the digonal matrix. \n",
    "Hence Its always possible for DFT to diagonalize a given circular matrix \n",
    "\n",
    "\n"
   ]
  },
  {
   "cell_type": "code",
   "execution_count": 55,
   "metadata": {},
   "outputs": [
    {
     "name": "stdout",
     "output_type": "stream",
     "text": [
      "[[31 28 31]\n",
      " [31 31 28]\n",
      " [28 31 31]]\n",
      "[[ 6.0+0.j        -0.0+0.j         0.0+0.j       ]\n",
      " [-0.0-0.j        -1.5+0.8660254j -0.0-0.j       ]\n",
      " [ 0.0-0.j         0.0-0.j        -1.5-0.8660254j]]\n"
     ]
    }
   ],
   "source": [
    "# for checking if the product of circular matrix is also circulant. \n",
    "# approach is to multiply two circular matrices and check if they are diagonizable \n",
    "my_circ_matrix_2 = circulant([4, 5, 6])\n",
    "np.set_printoptions(suppress=True)\n",
    "\n",
    "resultant_matrix = np.dot(my_circ_matrix,my_circ_matrix_2)\n",
    "print(resultant_matrix)\n",
    "# checking if its diagonizable\n",
    "matrix_prod3 = np.dot(my_dft_matrix, resultant_matrix)\n",
    "matrix_prod4 = np.dot(matrix_prod3, my_idft_matrix)\n",
    "np.set_printoptions(suppress=True)\n",
    "print(matrix_prod2)"
   ]
  },
  {
   "cell_type": "markdown",
   "metadata": {},
   "source": [
    "Answer : Two Obeservations can be drawn\n",
    "1. By obeserving the resultant matrix of two circular multiplications, we find that the resultant matrix also circular. \n",
    "2. For confirmation, we diagonalize the resultant matrix with fourier transform to find that the final matrix is truly diagonal.\n",
    "Hence the conclusion can be drawn that the product of two cicurlar matrices are always circular.\n"
   ]
  },
  {
   "cell_type": "code",
   "execution_count": 56,
   "metadata": {},
   "outputs": [
    {
     "name": "stdout",
     "output_type": "stream",
     "text": [
      "[[31 28 31]\n",
      " [31 31 28]\n",
      " [28 31 31]]\n",
      "[[31 28 31]\n",
      " [31 31 28]\n",
      " [28 31 31]]\n",
      "the commutation under circular matrix is  True\n"
     ]
    }
   ],
   "source": [
    "# check if commutative law is satisfied for the cirular matrices under multiplication.\n",
    "# approach is by performinig  the direct multiplication of two circular matrices Aand B and verifying if AB=BA\n",
    "\n",
    "#AXB\n",
    "first_matrix = np.dot(my_circ_matrix,my_circ_matrix_2) \n",
    "second_matrix = np.dot(my_circ_matrix_2,my_circ_matrix)\n",
    "\n",
    "\n",
    "np.set_printoptions(suppress= True)\n",
    "print(first_matrix)\n",
    "print(second_matrix)\n",
    "print(\"the commutation under circular matrix is \",np.allclose(first_matrix,second_matrix))\n"
   ]
  },
  {
   "cell_type": "markdown",
   "metadata": {},
   "source": [
    "## Determinant\n",
    "The determinant of a square matrix is a value derived arithmetically from the coefficients of the matrix, and it summarizes a multivariable phenomenon with a signle number.\n",
    "It can be computed with ```scipy.linalg.det(a)```."
   ]
  },
  {
   "cell_type": "code",
   "execution_count": 57,
   "metadata": {},
   "outputs": [
    {
     "name": "stdout",
     "output_type": "stream",
     "text": [
      "18.0\n"
     ]
    }
   ],
   "source": [
    "from scipy.linalg import det\n",
    "x= det(my_circ_matrix)\n",
    "print(x)"
   ]
  },
  {
   "cell_type": "markdown",
   "metadata": {},
   "source": [
    "The code below demonstrates how to create a function in Python, how to vectorize a function so that it can be applied to the elements of a matrix, and how to use ```random```."
   ]
  },
  {
   "cell_type": "code",
   "execution_count": 59,
   "metadata": {},
   "outputs": [
    {
     "name": "stdout",
     "output_type": "stream",
     "text": [
      "18.2598\n"
     ]
    }
   ],
   "source": [
    "import math\n",
    "from numpy import random\n",
    "\n",
    "def my_log(x):\n",
    "    return math.log(x)\n",
    "\n",
    "my_vec_log = np.vectorize(my_log)\n",
    "\n",
    "A_step1 = my_vec_log(my_circ_matrix) # Numpy already offers a vectorized natural logarithm.\n",
    "# A_step1 = np.log(matrix_prod2)\n",
    "#print(A_step1)\n",
    "\n",
    "max_index = 10000\n",
    "my_identity = np.identity(len(A_step1)) # this gives the n*n identity matrix\n",
    "\n",
    "\n",
    "current_value = 0.0\n",
    "for my_index in range(0, max_index):\n",
    "    permutation_matrix = random.permutation(my_identity) # permutation matrix to is randomly generated, hence it takes random distribution\n",
    "    sign_permuation = det(permutation_matrix) # determinant of permutation matrix is always 1/-1\n",
    "#     print(det(permutation_matrix))\n",
    "    current_value += sign_permuation*(np.exp(np.trace(np.dot(A_step1, permutation_matrix)))) \n",
    "a_step2 = math.factorial(len(A_step1)) * current_value / max_index\n",
    "print(a_step2)\n"
   ]
  },
  {
   "cell_type": "markdown",
   "metadata": {},
   "source": [
    "#### Questions\n",
    "It appears that the output of the loop above is close to the determinant of the circulant matrix ```my_circ_matrix```.\n",
    " * Go through the code and provide a compelling explain explanation of why these numbers are close.\n",
    " \n",
    " Answer : \n",
    "     The code performs the following actions:\n",
    "     1. Before entering the loop, the matrix is first reduced to logarithmic base and is vectorized.\n",
    "     2. A permutation matrix of size(n) is created \n",
    "     3. In the loop, The permutation matrix is randomly permuted and its determinant is taken\n",
    "     4. To compute the current_value- \n",
    "         A_step1 is multiplied with permutation matrix : this changes the row order in the matrix\n",
    "         np.trace is applied to the result : This function is used to sum the diagonal elements\n",
    "         exponential is taken : Exponential of log_e is taken, this will cancel each other \n",
    "         Finally, the current value is added over the iterations.\n",
    "     5. The resultant current_value is averged over the share of permutations ranged over the max_index iterations\n",
    "     \n",
    " Interpretation of the code: \n",
    "     It is understood that the determinant of a circular matrix for a 3*3 matrix is given by $a^3 + b^3 + c^3 - 3abc$\n",
    "     where matrix A = circulant([a b c])\n",
    "     And this code is trying to compute the determinant by computing the above formula.\n",
    "     1. Matrix is reduced to logarithmic base because while performing trace function, the addition of diagonal elements ensures         multiplication of elements in the normal domain.\n",
    "     2. There are therefore $n!$ permutation matrices of size $n$.\n",
    "     3. we are iterating 1000number of times.Each permutation matrix is repeated $1000/n!$\n",
    "     4. If $det(Ap) = 1$ then $trace\\_mod = a^3 or\\ b^3 or\\ c^3$\n",
    "     5. If $det(Ap) =-1$ then $trace\\_mod = a\\times b\\times c$\n",
    "According to the code, $trace\\_mat = e^{trace(logA\\times Ap)} $\n",
    "    $current\\_value \\approx 1000/n!(a^3 + b^3 + c^3 - 3\\times (a\\times b\\times c)) $\n",
    "$a\\_step2 \\approx current\\_value\\times n! / 1000 $\n",
    "$a\\_step2 \\approx (a^3 + b^3 + c^3 - 3\\times (a\\times b\\times c) = det(A)$\n",
    "     \n",
    "     \n",
    " \n",
    " \n",
    " * Is this a property of circulant matrices, or would this finding extend to arbitrary matrices over the real numbers?\n",
    "  \n",
    "  Answer : This property is distinctive to circular matrices and hence cannot be extended to any arbitrary matrices"
   ]
  },
  {
   "cell_type": "markdown",
   "metadata": {},
   "source": []
  },
  {
   "cell_type": "markdown",
   "metadata": {},
   "source": [
    "### Tasks\n",
    " * Build code to explore the fact that the determinant function is multiplicative: $\\mathrm{det}(AB) = \\mathrm{det}(A) \\mathrm{det}(B)$."
   ]
  },
  {
   "cell_type": "code",
   "execution_count": 60,
   "metadata": {},
   "outputs": [
    {
     "name": "stdout",
     "output_type": "stream",
     "text": [
      "Determinant of A : -14.0\n",
      "Determinant of B : 6.000000000000003\n",
      "Determinant of AB : , det_AB -84\n",
      "the Determinant function is multiplicative if det(AB) = det(A)*det(B) and is tested to be  True\n"
     ]
    }
   ],
   "source": [
    "matrixA = np.random.randint(1,5,(4,4))\n",
    "matrixB = np.random.randint(1,5,(4,4))\n",
    "matrix_AB = np.dot(matrixA,matrixB)\n",
    "detA = det(matrixA)\n",
    "detB = det(matrixB)\n",
    "detAB = round(detA*detB)\n",
    "det_AB =round(det(matrix_AB))\n",
    "\n",
    "\n",
    "np.set_printoptions(suppress= True)\n",
    "print(\"Determinant of A :\" , detA)\n",
    "print(\"Determinant of B :\" , detB)\n",
    "print(\"Determinant of AB : , det_AB\",det_AB)\n",
    "\n",
    "print(\"the Determinant function is multiplicative if det(AB) = det(A)*det(B) and is tested to be \",np.allclose(det_AB,detA*detB))"
   ]
  },
  {
   "cell_type": "code",
   "execution_count": null,
   "metadata": {
    "collapsed": true
   },
   "outputs": [],
   "source": []
  }
 ],
 "metadata": {
  "kernelspec": {
   "display_name": "Python 3",
   "language": "python",
   "name": "python3"
  },
  "language_info": {
   "codemirror_mode": {
    "name": "ipython",
    "version": 3
   },
   "file_extension": ".py",
   "mimetype": "text/x-python",
   "name": "python",
   "nbconvert_exporter": "python",
   "pygments_lexer": "ipython3",
   "version": "3.6.1"
  }
 },
 "nbformat": 4,
 "nbformat_minor": 2
}
