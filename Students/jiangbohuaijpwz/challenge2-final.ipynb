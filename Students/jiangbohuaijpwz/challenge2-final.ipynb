{
 "cells": [
  {
   "cell_type": "markdown",
   "metadata": {},
   "source": [
    "# Challenge 2\n",
    "1 An important aspect of pragmatic vector space methods is the ability to handle vectors and matrices.\n",
    "A large collection of linear algebra functions is available in [SciPy.linalg](https://docs.scipy.org/doc/scipy/reference/linalg.html).\n",
    "These functions can be employed in conjunction with the tools available in [NumPy](http://www.numpy.org/).\n",
    "We note that the main object in NumPy is the homogeneous multidimensional array."
   ]
  },
  {
   "cell_type": "markdown",
   "metadata": {},
   "source": [
    "## Matrix\n",
    "We begin by creating a simple matrix.\n",
    "One possible approach to complete this task is to use ```scipy.linalg.circulant(c)```."
   ]
  },
  {
   "cell_type": "code",
   "execution_count": 7,
   "metadata": {},
   "outputs": [
    {
     "name": "stdout",
     "output_type": "stream",
     "text": [
      "[[1 3 2]\n",
      " [2 1 3]\n",
      " [3 2 1]]\n",
      "[[4 6 5]\n",
      " [5 4 6]\n",
      " [6 5 4]]\n",
      "[[31 28 31]\n",
      " [31 31 28]\n",
      " [28 31 31]]\n",
      "[[31 28 31]\n",
      " [31 31 28]\n",
      " [28 31 31]]\n"
     ]
    }
   ],
   "source": [
    "from scipy.linalg import circulant\n",
    "my_circ_matrix = circulant([1, 2, 3])\n",
    "\n",
    "my_circ_matrix2 = circulant([4,5,6])\n",
    "\n",
    "my_circ_matrix3 = np.dot(my_circ_matrix,my_circ_matrix2) \n",
    "\n",
    "my_circ_matrix4 = np.dot(my_circ_matrix2,my_circ_matrix)\n",
    "\n",
    "\n",
    "print(my_circ_matrix)\n",
    "print(my_circ_matrix2)\n",
    "print(my_circ_matrix3)# this is to verify the question2\n",
    "print(my_circ_matrix4)# this is to verify question 3, if my_circ_matrix3=my_circ_matrix4,then question3 is correct."
   ]
  },
  {
   "cell_type": "code",
   "execution_count": 1,
   "metadata": {},
   "outputs": [
    {
     "name": "stdout",
     "output_type": "stream",
     "text": [
      "[[ 1.0+0.j         1.0+0.j         1.0+0.j       ]\n",
      " [ 1.0+0.j        -0.5-0.8660254j -0.5+0.8660254j]\n",
      " [ 1.0+0.j        -0.5+0.8660254j -0.5-0.8660254j]]\n"
     ]
    }
   ],
   "source": [
    "from scipy.linalg import dft\n",
    "my_dft_matrix = dft(3)\n",
    "print(my_dft_matrix)\n"
   ]
  },
  {
   "cell_type": "code",
   "execution_count": 3,
   "metadata": {},
   "outputs": [
    {
     "name": "stdout",
     "output_type": "stream",
     "text": [
      "[[ 0.33333333 +6.21949886e-17j  0.33333333 -6.68383741e-18j\n",
      "   0.33333333 -5.55111512e-17j]\n",
      " [ 0.33333333 +5.55111512e-17j -0.16666667 +2.88675135e-01j\n",
      "  -0.16666667 -2.88675135e-01j]\n",
      " [ 0.33333333 -1.11022302e-16j -0.16666667 -2.88675135e-01j\n",
      "  -0.16666667 +2.88675135e-01j]]\n"
     ]
    }
   ],
   "source": [
    "from scipy.linalg import inv\n",
    "my_idft_matrix = inv(my_dft_matrix)\n",
    "print(my_idft_matrix)"
   ]
  },
  {
   "cell_type": "markdown",
   "metadata": {},
   "source": [
    "The operation ```numpy.dot(a, b)``` computes the dot product of two arrays.\n",
    "For 2-D arrays it is equivalent to matrix multiplication, and for 1-D arrays to inner product of vectors (without complex conjugation)."
   ]
  },
  {
   "cell_type": "code",
   "execution_count": 4,
   "metadata": {},
   "outputs": [
    {
     "name": "stdout",
     "output_type": "stream",
     "text": [
      "[[ 6.0+0.j        -0.0+0.j         0.0+0.j       ]\n",
      " [-0.0-0.j        -1.5+0.8660254j -0.0-0.j       ]\n",
      " [ 0.0-0.j         0.0-0.j        -1.5-0.8660254j]]\n"
     ]
    }
   ],
   "source": [
    "import numpy as np\n",
    "matrix_prod1 = np.dot(my_dft_matrix, my_circ_matrix)\n",
    "matrix_prod2 = np.dot(matrix_prod1, my_idft_matrix)\n",
    "\n",
    "np.set_printoptions(suppress=True)\n",
    "print(matrix_prod2)"
   ]
  },
  {
   "cell_type": "markdown",
   "metadata": {},
   "source": [
    "### Questions\n",
    "These steps and their solutions immediately bring up three questions.\n",
    " * Are circulant matrices always diagonalized by the discrete Fourier transform matrix and its inverse?\n",
    " * Are product of circulant matrices (of a same size) always circulant matrices?\n",
    " * Do all pairs of circulant matrices commute under matrix multiplication?"
   ]
  },
  {
   "cell_type": "markdown",
   "metadata": {},
   "source": [
    "Answers:\n",
    "1: YES. It is shown above that only the diagonal elements are not zero and the other elements are zero, so circulant matrices always diagonalized by the discrete Fourier transform matrix and its inverse\n",
    "2: YES. It is shown above that my_circ_matrix3 is a circulant matrice.\n",
    "3: YES. It is shown above that my_circ_matrix3=my_circ_matrix4,indicating paies of circulant matrices commute under matrix multiplication."
   ]
  },
  {
   "cell_type": "markdown",
   "metadata": {},
   "source": [
    "## Determinant\n",
    "The determinant of a square matrix is a value derived arithmetically from the coefficients of the matrix, and it summarizes a multivariable phenomenon with a signle number.\n",
    "It can be computed with ```scipy.linalg.det(a)```."
   ]
  },
  {
   "cell_type": "code",
   "execution_count": 8,
   "metadata": {},
   "outputs": [
    {
     "data": {
      "text/plain": [
       "18.0"
      ]
     },
     "execution_count": 8,
     "metadata": {},
     "output_type": "execute_result"
    }
   ],
   "source": [
    "from scipy.linalg import det\n",
    "det(my_circ_matrix)"
   ]
  },
  {
   "cell_type": "markdown",
   "metadata": {},
   "source": [
    "The code below demonstrates how to create a function in Python, how to vectorize a function so that it can be applied to the elements of a matrix, and how to use ```random```."
   ]
  },
  {
   "cell_type": "code",
   "execution_count": 16,
   "metadata": {},
   "outputs": [
    {
     "name": "stdout",
     "output_type": "stream",
     "text": [
      "[[ 0.          1.09861229  0.69314718]\n",
      " [ 0.69314718  0.          1.09861229]\n",
      " [ 1.09861229  0.69314718  0.        ]]\n",
      "18.08322\n"
     ]
    }
   ],
   "source": [
    "import math\n",
    "from numpy import random\n",
    "\n",
    "def my_log(x):\n",
    "    return math.log(x)\n",
    "\n",
    "my_vec_log = np.vectorize(my_log)\n",
    "\n",
    "A_step1 = my_vec_log(my_circ_matrix) # Numpy already offers a vectorized natural logarithm.\n",
    "# A_step1 = np.log(matrix_prod2)\n",
    "print(A_step1)\n",
    "\n",
    "max_index = 100000\n",
    "my_identity = np.identity(len(A_step1))  # get a identity matrix\n",
    "current_value = 0.0\n",
    "for my_index in range(0, max_index):\n",
    "    permutation_matrix = random.permutation(my_identity)\n",
    "    sign_permuation = det(permutation_matrix)  # either 1 or -1\n",
    "    current_value += sign_permuation*(np.exp(np.trace(np.dot(A_step1, permutation_matrix))))\n",
    "a_step2 = math.factorial(len(A_step1)) * current_value / max_index\n",
    "print(a_step2)\n"
   ]
  },
  {
   "cell_type": "markdown",
   "metadata": {},
   "source": [
    "#### Questions\n",
    "It appears that the output of the loop above is close to the determinant of the circulant matrix ```my_circ_matrix```.\n",
    " * Go through the code and provide a compelling explain explanation of why these numbers are close.\n",
    " * Is this a property of circulant matrices, or would this finding extend to arbitrary matrices over the real numbers?"
   ]
  },
  {
   "cell_type": "markdown",
   "metadata": {},
   "source": [
    "Answers:\n",
    "1 det(my_circ_matrix)=18\n",
    "  By using my_identity = np.identity(len(A_step1)),we have an identity matrix and the permutation_matrix has six different types with their det be either 1 or -1.\n",
    "  \n",
    "  Then we consider the np.trace(np.dot(A_step1, permutation_matrix)) ,it may have four values: 1.79175946923, 0.0, 3.295836866, 2.07944154168 with the possibility of 1/2,1/6,1/6,1/6 respectively. Then sign_permuation*np.exp(np.trace(np.dot(A_step1, permutation_matrix)))may be -6,1,27,8 respectively.So if max_index=6,current_value should be (-6)*3+1+27+8=18.\n",
    " \n",
    " Finally,a_step2=3!*18/6=18. \n",
    "  \n",
    "  The reason why some small differences exist is the possibility isn't the same as said above and 100000 cannot be divided exactly by 6.\n",
    " \n",
    "\n",
    "2  Yes. This property would extend to arbitrary matrices over the real numbers\n",
    "   The result is related to the time that each permutation metrice's showing up. if the max_index is large enough, then the result is the same as the det of my_circ_matrix.\n"
   ]
  },
  {
   "cell_type": "markdown",
   "metadata": {},
   "source": [
    "### Tasks\n",
    " * Build code to explore the fact that the determinant function is multiplicative: $\\mathrm{det}(AB) = \\mathrm{det}(A) \\mathrm{det}(B)$."
   ]
  },
  {
   "cell_type": "code",
   "execution_count": 17,
   "metadata": {},
   "outputs": [
    {
     "name": "stdout",
     "output_type": "stream",
     "text": [
      "Matrix 1 is: \n",
      "[[16 11  8 16 16]\n",
      " [ 5 18 12  9 16]\n",
      " [ 4 12 15  2  8]\n",
      " [12  1 17 15 13]\n",
      " [ 7 10  9  1  2]]\n",
      "Matrix 2 is: \n",
      "[[ 7 11  8  9 18]\n",
      " [ 8 12  7 11  4]\n",
      " [19 13 19  8  2]\n",
      " [ 1  5 12 17  1]\n",
      " [19 17  5  1  5]]\n",
      "Det AB is : 2140735388.0000005\n",
      "Det of A * det of B is : 2140735387.9999993\n"
     ]
    }
   ],
   "source": [
    "import numpy as np\n",
    "from scipy.linalg import det\n",
    "from numpy import random\n",
    "matrix1 = random.randint(1,20,size=(5,5))\n",
    "matrix2 = random.randint(1,20,size=(5,5))\n",
    "print('Matrix 1 is: ')\n",
    "print(matrix1)\n",
    "print('Matrix 2 is: ')\n",
    "print(matrix2)\n",
    "print(\"Det AB is :\",det(np.dot(matrix1,matrix2)))\n",
    "print(\"Det of A * det of B is :\",det(matrix1) * det(matrix2))\n"
   ]
  },
  {
   "cell_type": "markdown",
   "metadata": {},
   "source": [
    "So the determinant function is multiplicative."
   ]
  }
 ],
 "metadata": {
  "kernelspec": {
   "display_name": "Python 3",
   "language": "python",
   "name": "python3"
  },
  "language_info": {
   "codemirror_mode": {
    "name": "ipython",
    "version": 3
   },
   "file_extension": ".py",
   "mimetype": "text/x-python",
   "name": "python",
   "nbconvert_exporter": "python",
   "pygments_lexer": "ipython3",
   "version": "3.6.1"
  }
 },
 "nbformat": 4,
 "nbformat_minor": 2
}
