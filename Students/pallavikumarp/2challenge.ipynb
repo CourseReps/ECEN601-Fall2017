{
 "cells": [
  {
   "cell_type": "markdown",
   "metadata": {},
   "source": [
    "# Challenge 2\n",
    "An important aspect of pragmatic vector space methods is the ability to handle vectors and matrices.\n",
    "A large collection of linear algebra functions is available in [SciPy.linalg](https://docs.scipy.org/doc/scipy/reference/linalg.html).\n",
    "These functions can be employed in conjunction with the tools available in [NumPy](http://www.numpy.org/).\n",
    "We note that the main object in NumPy is the homogeneous multidimensional array."
   ]
  },
  {
   "cell_type": "markdown",
   "metadata": {},
   "source": [
    "## Matrix\n",
    "We begin by creating a simple matrix.\n",
    "One possible approach to complete this task is to use ```scipy.linalg.circulant(c)```."
   ]
  },
  {
   "cell_type": "code",
   "execution_count": 119,
   "metadata": {},
   "outputs": [
    {
     "name": "stdout",
     "output_type": "stream",
     "text": [
      "My circulant matrix\n",
      "[[1 3 2]\n",
      " [2 1 3]\n",
      " [3 2 1]]\n",
      "\n",
      " Product of circulant matrices (of a same size) is always circulant matrices\n",
      "[[43 48 41]\n",
      " [41 43 48]\n",
      " [48 41 43]]\n",
      "\n",
      " All pairs of circulant matrices commute under matrix multiplication\n",
      "[[43 48 41]\n",
      " [41 43 48]\n",
      " [48 41 43]]\n"
     ]
    }
   ],
   "source": [
    "from scipy.linalg import circulant\n",
    "my_circ_matrix = circulant([1, 2, 3])\n",
    "#Each row vector is rotated one element to the right relative to the preceding row vector.\n",
    "#Single row/column completely determines the entire matrix.\n",
    "print(\"My circulant matrix\")\n",
    "print(my_circ_matrix)\n",
    "\n",
    "# Product of circulant matrices (of a same size) is always circulant matrices\n",
    "my_circ_matrix1 = circulant([9,8,5])\n",
    "print(\"\\n Product of circulant matrices (of a same size) is always circulant matrices\")\n",
    "print(np.dot(my_circ_matrix,my_circ_matrix1))\n",
    "print(\"\\n All pairs of circulant matrices commute under matrix multiplication\")\n",
    "print(np.dot(my_circ_matrix1,my_circ_matrix))\n"
   ]
  },
  {
   "cell_type": "markdown",
   "metadata": {},
   "source": [
    "Alternatively, you can construct the familiar discrete Fourier transform matrix with ```scipy.linalg.dft(n)```."
   ]
  },
  {
   "cell_type": "code",
   "execution_count": 118,
   "metadata": {},
   "outputs": [
    {
     "name": "stdout",
     "output_type": "stream",
     "text": [
      "Discrete Fourier transform matrix \n",
      "[[ 1.0+0.j         1.0+0.j         1.0+0.j       ]\n",
      " [ 1.0+0.j        -0.5-0.8660254j -0.5+0.8660254j]\n",
      " [ 1.0+0.j        -0.5+0.8660254j -0.5-0.8660254j]]\n"
     ]
    }
   ],
   "source": [
    "from scipy.linalg import dft\n",
    "my_dft_matrix = dft(3)\n",
    "print(\"Discrete Fourier transform matrix \")\n",
    "print(my_dft_matrix)"
   ]
  },
  {
   "cell_type": "markdown",
   "metadata": {},
   "source": [
    "The inverse of a matrix can be computed using ```scipy.linalg.inv(a)```."
   ]
  },
  {
   "cell_type": "code",
   "execution_count": 117,
   "metadata": {},
   "outputs": [
    {
     "name": "stdout",
     "output_type": "stream",
     "text": [
      "Inverse of a matrix\n",
      "[[ 0.33333333+0.j          0.33333333+0.j          0.33333333-0.j        ]\n",
      " [ 0.33333333+0.j         -0.16666667+0.28867513j -0.16666667-0.28867513j]\n",
      " [ 0.33333333-0.j         -0.16666667-0.28867513j -0.16666667+0.28867513j]]\n"
     ]
    }
   ],
   "source": [
    "from scipy.linalg import inv\n",
    "#Compute the inverse of a matrix.\n",
    "my_idft_matrix = inv(my_dft_matrix)\n",
    "print(\"Inverse of a matrix\")\n",
    "print(my_idft_matrix)"
   ]
  },
  {
   "cell_type": "markdown",
   "metadata": {},
   "source": [
    "The operation ```numpy.dot(a, b)``` computes the dot product of two arrays.\n",
    "For 2-D arrays it is equivalent to matrix multiplication, and for 1-D arrays to inner product of vectors (without complex conjugation)."
   ]
  },
  {
   "cell_type": "code",
   "execution_count": 115,
   "metadata": {},
   "outputs": [
    {
     "name": "stdout",
     "output_type": "stream",
     "text": [
      "\n",
      " DFT matrix \n",
      " [[ 6.0+0.j          6.0+0.j          6.0+0.j        ]\n",
      " [-1.5+0.8660254j   1.5+0.8660254j   0.0-1.73205081j]\n",
      " [-1.5-0.8660254j   1.5-0.8660254j  -0.0+1.73205081j]]\n",
      "\n",
      " IDFT matrix \n",
      " [[ 6.0-0.j        -0.0+0.j         0.0+0.j       ]\n",
      " [-0.0-0.j        -1.5+0.8660254j -0.0+0.j       ]\n",
      " [ 0.0-0.j         0.0-0.j        -1.5-0.8660254j]]\n"
     ]
    }
   ],
   "source": [
    "import numpy as np\n",
    "# np.dot(a,b) - Returns the dot product of a and b. Array is returned. \n",
    "matrix_prod1 = np.dot(my_dft_matrix, my_circ_matrix)\n",
    "matrix_prod2 = np.dot(matrix_prod1, my_idft_matrix)\n",
    "print(\"\\n DFT matrix \\n\",matrix_prod1)\n",
    "#suppress : bool, optional\n",
    "#Whether or not suppress printing of small floating point values using scientific notation (default False).\n",
    "np.set_printoptions(suppress=True) \n",
    "print(\"\\n IDFT matrix \\n\",matrix_prod2)"
   ]
  },
  {
   "cell_type": "markdown",
   "metadata": {},
   "source": [
    "### Questions\n",
    "These steps and their solutions immediately bring up three questions.\n",
    " * Are circulant matrices always diagonalized by the discrete Fourier transform matrix and its inverse?\n",
    " * Are product of circulant matrices (of a same size) always circulant matrices?\n",
    " * Do all pairs of circulant matrices commute under matrix multiplication?"
   ]
  },
  {
   "cell_type": "markdown",
   "metadata": {},
   "source": [
    "### Answers\n",
    "\n",
    " * Circulant matrices (C) are always diagonalized by a discrete Fourier transform (F) and its inverse F^{-1}\n",
    " * Given circulant matrices A and B (of same size), the product AB is always circulant.\n",
    " * A set of matrices is said to commute if they commute pairwise,every pair of matrices in the set commute with each other. Under matrix multiplication, all pairs of circulant matrices commute with each other. \n",
    "      Given circulant matrices A and B, AB=BA\n",
    "        "
   ]
  },
  {
   "cell_type": "markdown",
   "metadata": {},
   "source": [
    "## Determinant\n",
    "The determinant of a square matrix is a value derived arithmetically from the coefficients of the matrix, and it summarizes a multivariable phenomenon with a signle number.\n",
    "It can be computed with ```scipy.linalg.det(a)```."
   ]
  },
  {
   "cell_type": "code",
   "execution_count": 64,
   "metadata": {},
   "outputs": [
    {
     "name": "stdout",
     "output_type": "stream",
     "text": [
      "18.0\n"
     ]
    }
   ],
   "source": [
    "from scipy.linalg import det\n",
    "det(my_circ_matrix)\n",
    "print(det(my_circ_matrix))"
   ]
  },
  {
   "cell_type": "markdown",
   "metadata": {},
   "source": [
    "The code below demonstrates how to create a function in Python, how to vectorize a function so that it can be applied to the elements of a matrix, and how to use ```random```."
   ]
  },
  {
   "cell_type": "code",
   "execution_count": 114,
   "metadata": {},
   "outputs": [
    {
     "name": "stdout",
     "output_type": "stream",
     "text": [
      "17.8026\n",
      "CPU times: user 344 ms, sys: 1.86 ms, total: 346 ms\n",
      "Wall time: 347 ms\n"
     ]
    }
   ],
   "source": [
    "%%time\n",
    "import time\n",
    "import math\n",
    "from numpy import random\n",
    "\n",
    "def my_log(x):\n",
    "    return math.log(x)\n",
    "\n",
    "#Define a vectorized function which takes a nested sequence of objects or numpy arrays as inputs and returns a numpy array as output. \n",
    "#The vectorized function evaluates pyfunc over successive tuples of the input arrays like the python map function.\n",
    "my_vec_log = np.vectorize(my_log)\n",
    "A_step1 = my_vec_log(my_circ_matrix) # Numpy already offers a vectorized natural logarithm.\n",
    "my_identity = np.identity(len(A_step1)) # Identity matrix (of same size as Circulant matrix)  \n",
    "\n",
    "#initialize \n",
    "current_value = 0.0\n",
    "max_index = 10000\n",
    "#for loop\n",
    "for my_index in range(0, max_index):\n",
    "    #A permutation matrix is a square binary matrix that has exactly one entry of 1 in each row and each column and 0s elsewhere.\n",
    "    permutation_matrix = random.permutation(my_identity) #Random permutation of identity matrix\n",
    "    sign_permutation = det(permutation_matrix) # Determinant of Random permutation of identity matrix\n",
    "    current_value += sign_permutation*(np.exp(np.trace(np.dot(A_step1, permutation_matrix)))) # trace-Return the sum along diagonals of the array.\n",
    "a_step2 = math.factorial(len(A_step1)) * current_value / max_index\n",
    "print(a_step2)\n",
    "\n"
   ]
  },
  {
   "cell_type": "markdown",
   "metadata": {},
   "source": [
    "#### Questions\n",
    "It appears that the output of the loop above is close to the determinant of the circulant matrix ```my_circ_matrix```.\n",
    " * Go through the code and provide a compelling explain explanation of why these numbers are close.\n",
    " * Is this a property of circulant matrices, or would this finding extend to arbitrary matrices over the real numbers?"
   ]
  },
  {
   "cell_type": "markdown",
   "metadata": {},
   "source": [
    "#### Answers\n",
    "It appears that the output of the loop above is close to the determinant of the circulant matrix ```my_circ_matrix```.\n",
    "\n",
    " * The determinant of any square matrix can be expressed as a SOPs (sum of products) of entries of the matrix where each product has n terms and the coefficient of each product is −1/1/0. An n × n matrix contributes n! terms.\n",
    " In the code these terms (n! terms) are expressed as the product of the det(permutation matrix) with the A_step1 (vectorized natural logarithm - of the form Hallow matrix) & permutation matrix.\n",
    "  Summation of the average values of these n! terms will give us the determinant close to det(my_circ_matrix).\n",
    "  Since the permutation matrix provides only a subset of possible solutions, output of the loop above is close to the determinant of the circulant matrix and not equal to to the determinant of the circulant matrix.\n",
    "   \n",
    " * Yes, this property can extend to arbitrary matrices over real numbers. "
   ]
  },
  {
   "cell_type": "markdown",
   "metadata": {},
   "source": [
    "### Tasks\n",
    " * Build code to explore the fact that the determinant function is multiplicative: $\\mathrm{det}(AB) = \\mathrm{det}(A) \\mathrm{det}(B)$."
   ]
  },
  {
   "cell_type": "code",
   "execution_count": 16,
   "metadata": {},
   "outputs": [
    {
     "name": "stdout",
     "output_type": "stream",
     "text": [
      " A \n",
      " [[1 3 2]\n",
      " [2 1 3]\n",
      " [3 2 1]] \n",
      " B \n",
      " [[1 0 2]\n",
      " [0 0 2]\n",
      " [0 0 1]]\n",
      "\n",
      " Determinant of A \n",
      " 18.0 \n",
      " \n",
      " Determinant of B \n",
      " 0.0 \n",
      " det(A)det(B) \n",
      "  0.0\n",
      "\n",
      " AB \n",
      " [[ 1  0 10]\n",
      " [ 2  0  9]\n",
      " [ 3  0 11]] \n",
      " Det(AB) \n",
      " 0.0\n",
      "\n",
      " Therefore the determinant of a matrix product of square matrices equals \n",
      "  the product of their determinants \n"
     ]
    }
   ],
   "source": [
    "from numpy import random\n",
    "import numpy as np\n",
    "from scipy.linalg import det \n",
    "\n",
    "A = my_circ_matrix\n",
    "B = np.random.randint(3, size=(3,3))\n",
    "print(\" A \\n\",A,\"\\n B \\n\",B)\n",
    "print(\"\\n Determinant of A \\n\",det(A),\"\\n\",\"\\n Determinant of B \\n\",det(B),\"\\n det(A)det(B) \\n \", det(A)* det(B)) \n",
    "print(\"\\n AB \\n\", np.dot(A,B),\"\\n Det(AB) \\n\", det(np.dot(A,B)))\n",
    "print(\"\\n Therefore the determinant of a matrix product of square matrices equals\",\"\\n\",\" the product of their determinants \")"
   ]
  }
 ],
 "metadata": {
  "kernelspec": {
   "display_name": "Python 3",
   "language": "python",
   "name": "python3"
  },
  "language_info": {
   "codemirror_mode": {
    "name": "ipython",
    "version": 3
   },
   "file_extension": ".py",
   "mimetype": "text/x-python",
   "name": "python",
   "nbconvert_exporter": "python",
   "pygments_lexer": "ipython3",
   "version": "3.6.1"
  }
 },
 "nbformat": 4,
 "nbformat_minor": 2
}
