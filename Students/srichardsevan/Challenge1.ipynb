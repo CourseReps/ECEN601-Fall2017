{
 "cells": [
  {
   "cell_type": "code",
   "execution_count": 1,
   "metadata": {},
   "outputs": [
    {
     "data": {
      "image/png": "[encoded data removed]",
      "text/plain": [
       "<matplotlib.figure.Figure at 0x16e26b0cb38>"
      ]
     },
     "metadata": {},
     "output_type": "display_data"
    },
    {
     "name": "stdout",
     "output_type": "stream",
     "text": [
      "a:  4.603\n",
      "Minimum L2 norm:  1.50453872768\n",
      "Residual mean squared error:  0.0113181839155\n"
     ]
    }
   ],
   "source": [
    "import numpy as np\n",
    "import matplotlib.pyplot as plt\n",
    "from scipy.spatial import distance\n",
    "\n",
    "# define functions g, f\n",
    "def g(t):\n",
    "    return 1 - (np.exp(-2*t) * np.cos(np.pi*t))\n",
    "def f(t,a):\n",
    "    return 1 - np.exp(-a*t)\n",
    "\n",
    "#initialize arrays t1, a1 and amin, Lmin\n",
    "t1 = np.arange(0.0, 2.0, 0.01)\n",
    "a1 = np.arange(0.0, 10.0, 0.001)\n",
    "amin=0\n",
    "L2min=10000000\n",
    "\n",
    "\n",
    "#find the value of a that minimizes the L2 norm\n",
    "for a in a1:                     \n",
    "    dist=(np.sum((f(t1,a)-g(t1))**2))**0.5\n",
    "    if dist<L2min:\n",
    "        amin=a\n",
    "    L2min=np.minimum(L2min,dist)\n",
    "\n",
    "#compute residual mean squared error\n",
    "error=(L2min**2)/len(t1)\n",
    "\n",
    "plt.figure(1)\n",
    "plt.plot(t1, g(t1), 'r',label='g(t)')\n",
    "plt.plot(t1, f(t1,amin), 'b',label='f(t,a)')\n",
    "plt.title('Challenge 1')\n",
    "plt.legend()\n",
    "plt.show()\n",
    "\n",
    "print(\"a: \", amin)\n",
    "print(\"Minimum L2 norm: \", L2min)\n",
    "print(\"Residual mean squared error: \", error)"
   ]
  },
  {
   "cell_type": "code",
   "execution_count": null,
   "metadata": {
    "collapsed": true
   },
   "outputs": [],
   "source": []
  }
 ],
 "metadata": {
  "kernelspec": {
   "display_name": "Python 3",
   "language": "python",
   "name": "python3"
  },
  "language_info": {
   "codemirror_mode": {
    "name": "ipython",
    "version": 3
   },
   "file_extension": ".py",
   "mimetype": "text/x-python",
   "name": "python",
   "nbconvert_exporter": "python",
   "pygments_lexer": "ipython3",
   "version": "3.6.1"
  }
 },
 "nbformat": 4,
 "nbformat_minor": 2
}
