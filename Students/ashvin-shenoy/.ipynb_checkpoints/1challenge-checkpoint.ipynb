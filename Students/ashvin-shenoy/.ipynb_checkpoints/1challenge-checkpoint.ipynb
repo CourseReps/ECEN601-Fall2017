{
 "cells": [
  {
   "cell_type": "markdown",
   "metadata": {},
   "source": [
    "# Challenge 1\n",
    "\n",
    "## SciPy Tutorial\n",
    "Pertinent information about [SciPy](https://docs.scipy.org/) and NumPy is available in the [SciPy Tutorial](https://docs.scipy.org/doc/scipy/reference/tutorial/index.html).\n",
    " * Read [Introduction](https://docs.scipy.org/doc/scipy/reference/tutorial/general.html)\n",
    " * Read [Basic functions](https://docs.scipy.org/doc/scipy/reference/tutorial/basic.html)\n",
    " * Read [Optimization](https://docs.scipy.org/doc/scipy/reference/tutorial/optimize.html)\n",
    " \n",
    "Consider the function defined below.\n",
    " * Plot the function using [matplotlib](https://matplotlib.org/)"
   ]
  },
  {
   "cell_type": "code",
   "execution_count": 21,
   "metadata": {
    "collapsed": true
   },
   "outputs": [],
   "source": [
    "import numpy as np\n",
    "import matplotlib.pyplot as plt"
   ]
  },
  {
   "cell_type": "code",
   "execution_count": 22,
   "metadata": {},
   "outputs": [
    {
     "data": {
      "image/png": "[encoded data removed]",
      "text/plain": [
       "<matplotlib.figure.Figure at 0x228161c8390>"
      ]
     },
     "metadata": {},
     "output_type": "display_data"
    }
   ],
   "source": [
    "def g(t):\n",
    "    return 1 - (np.exp(-2*t) * np.cos(np.pi*t))\n",
    "\n",
    "t1 = np.arange(0.0, 2.0, 0.01)\n",
    "\n",
    "plt.figure(1)\n",
    "plt.plot(t1, g(t1), 'k')\n",
    "plt.show()"
   ]
  },
  {
   "cell_type": "code",
   "execution_count": 23,
   "metadata": {},
   "outputs": [
    {
     "name": "stdout",
     "output_type": "stream",
     "text": [
      "The value of a for which L2 norm is minimum is:  4.60346764482\n",
      "The Residual mean square error is:  0.0113181834871\n"
     ]
    },
    {
     "data": {
      "image/png": "[encoded data removed]",
      "text/plain": [
       "<matplotlib.figure.Figure at 0x228125e6cc0>"
      ]
     },
     "metadata": {},
     "output_type": "display_data"
    }
   ],
   "source": [
    "import scipy as sci_py_object\n",
    "\n",
    "#defining f\n",
    "def f(a,t):\n",
    "    return (1 - np.exp(-a*t))\n",
    "\n",
    "#define l2_Norm function which return an l2 norm between f and g with input as  \n",
    "#a and predefined t as t1\n",
    "def L2_Norm(a):\n",
    "        return (sum(np.square(f(a,t1)-g(t1))))\n",
    "    \n",
    "#Minimize scalar function to find the minimum value of a for the L2_Norm function \n",
    "from scipy.optimize import minimize_scalar\n",
    "Min_L2_Norm = minimize_scalar(L2_Norm)\n",
    "\n",
    "\n",
    "print(\"The value of a for which L2 norm is minimum is: \" ,Min_L2_Norm.x)\n",
    "print(\"The Residual mean square error is: \" ,L2_Norm(Min_L2_Norm.x)/len(t1))\n",
    "\n",
    "#Plot the f and g functions\n",
    "plt.figure(1)\n",
    "plt.plot(t1,f(Min_L2_Norm.x,t1),'b')\n",
    "plt.plot(t1,g(t1),'r')\n",
    "plt.show()\n"
   ]
  },
  {
   "cell_type": "markdown",
   "metadata": {},
   "source": [
    "Consider the class of functions of the form $f(t) = 1 - e^{-at}$ where $a$ is a free parameter.\n",
    " * Find the value of $a$ that minimizes the $L_2$ norm between $g(t)$ and $f(t)$ over the interval $[0, 2]$\n",
    " * Computer the residual mean squared error\n",
    " * Explain how you obtained $a$"
   ]
  },
  {
   "cell_type": "code",
   "execution_count": 24,
   "metadata": {},
   "outputs": [],
   "source": [
    "#Define a new function(L2_Norm here) which will compute the L2 norm with a as input\n",
    "\n",
    "#From the new defined funtion get the value of a for which the L2 norm function \n",
    "#becomes a minimum using a built-in scipy.optimize function called the \"minimize_scalar\".\n",
    "#Compute the residual mean square error using the minimum a and substituting in the \n",
    "#L2_Norm function"
   ]
  }
 ],
 "metadata": {
  "kernelspec": {
   "display_name": "Python 3",
   "language": "python",
   "name": "python3"
  },
  "language_info": {
   "codemirror_mode": {
    "name": "ipython",
    "version": 3
   },
   "file_extension": ".py",
   "mimetype": "text/x-python",
   "name": "python",
   "nbconvert_exporter": "python",
   "pygments_lexer": "ipython3",
   "version": "3.6.1"
  }
 },
 "nbformat": 4,
 "nbformat_minor": 2
}
