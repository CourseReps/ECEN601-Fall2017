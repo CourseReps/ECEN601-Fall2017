{
 "cells": [
  {
   "cell_type": "markdown",
   "metadata": {},
   "source": [
    "# Challenge 2\n",
    "An important aspect of pragmatic vector space methods is the ability to handle vectors and matrices.\n",
    "A large collection of linear algebra functions is available in [SciPy.linalg](https://docs.scipy.org/doc/scipy/reference/linalg.html).\n",
    "These functions can be employed in conjunction with the tools available in [NumPy](http://www.numpy.org/).\n",
    "We note that the main object in NumPy is the homogeneous multidimensional array."
   ]
  },
  {
   "cell_type": "markdown",
   "metadata": {},
   "source": [
    "## Matrix\n",
    "We begin by creating a simple matrix.\n",
    "One possible approach to complete this task is to use ```scipy.linalg.circulant(c)```."
   ]
  },
  {
   "cell_type": "code",
   "execution_count": 16,
   "metadata": {},
   "outputs": [
    {
     "name": "stdout",
     "output_type": "stream",
     "text": [
      "[[1 3 2]\n",
      " [2 1 3]\n",
      " [3 2 1]]\n"
     ]
    }
   ],
   "source": [
    "from scipy.linalg import circulant\n",
    "my_circ_matrix = circulant([1, 2, 3])\n",
    "print(my_circ_matrix)"
   ]
  },
  {
   "cell_type": "markdown",
   "metadata": {},
   "source": [
    "Alternatively, you can construct the familiar discrete Fourier transform matrix with ```scipy.linalg.dft(n)```."
   ]
  },
  {
   "cell_type": "code",
   "execution_count": 17,
   "metadata": {
    "scrolled": true
   },
   "outputs": [
    {
     "name": "stdout",
     "output_type": "stream",
     "text": [
      "[[ 1.0+0.j         1.0+0.j         1.0+0.j       ]\n",
      " [ 1.0+0.j        -0.5-0.8660254j -0.5+0.8660254j]\n",
      " [ 1.0+0.j        -0.5+0.8660254j -0.5-0.8660254j]]\n"
     ]
    }
   ],
   "source": [
    "from scipy.linalg import dft\n",
    "my_dft_matrix = dft(3)\n",
    "print(my_dft_matrix)"
   ]
  },
  {
   "cell_type": "markdown",
   "metadata": {},
   "source": [
    "The inverse of a matrix can be computed using ```scipy.linalg.inv(a)```."
   ]
  },
  {
   "cell_type": "code",
   "execution_count": 18,
   "metadata": {},
   "outputs": [
    {
     "name": "stdout",
     "output_type": "stream",
     "text": [
      "[[ 0.33333333+0.j          0.33333333+0.j          0.33333333-0.j        ]\n",
      " [ 0.33333333+0.j         -0.16666667+0.28867513j -0.16666667-0.28867513j]\n",
      " [ 0.33333333-0.j         -0.16666667-0.28867513j -0.16666667+0.28867513j]]\n"
     ]
    }
   ],
   "source": [
    "from scipy.linalg import inv\n",
    "my_idft_matrix = inv(my_dft_matrix)\n",
    "print(my_idft_matrix)"
   ]
  },
  {
   "cell_type": "markdown",
   "metadata": {},
   "source": [
    "The operation ```numpy.dot(a, b)``` computes the dot product of two arrays.\n",
    "For 2-D arrays it is equivalent to matrix multiplication, and for 1-D arrays to inner product of vectors (without complex conjugation)."
   ]
  },
  {
   "cell_type": "code",
   "execution_count": 19,
   "metadata": {},
   "outputs": [
    {
     "name": "stdout",
     "output_type": "stream",
     "text": [
      "[[ 6.0-0.j        -0.0+0.j         0.0+0.j       ]\n",
      " [-0.0-0.j        -1.5+0.8660254j -0.0+0.j       ]\n",
      " [ 0.0-0.j         0.0-0.j        -1.5-0.8660254j]]\n"
     ]
    }
   ],
   "source": [
    "import numpy as np\n",
    "matrix_prod1 = np.dot(my_dft_matrix, my_circ_matrix)\n",
    "matrix_prod2 = np.dot(matrix_prod1, my_idft_matrix)\n",
    "\n",
    "np.set_printoptions(suppress=True)\n",
    "print(matrix_prod2)"
   ]
  },
  {
   "cell_type": "markdown",
   "metadata": {},
   "source": [
    "### Questions\n",
    "These steps and their solutions immediately bring up three questions.\n",
    " * Are circulant matrices always diagonalized by the discrete Fourier transform matrix and its inverse?\n",
    " * Are product of circulant matrices (of a same size) always circulant matrices?\n",
    " * Do all pairs of circulant matrices commute under matrix multiplication?"
   ]
  },
  {
   "cell_type": "markdown",
   "metadata": {},
   "source": [
    "### Answer\n",
    "\n",
    "1. Yes, $F^{-1}AF = FAF^{-1} = diag(A)$\n",
    "\n",
    "2. Yes, multiplication is commutative\n",
    "\n",
    "3. Yes\n"
   ]
  },
  {
   "cell_type": "markdown",
   "metadata": {},
   "source": [
    "## Determinant\n",
    "The determinant of a square matrix is a value derived arithmetically from the coefficients of the matrix, and it summarizes a multivariable phenomenon with a signle number.\n",
    "It can be computed with ```scipy.linalg.det(a)```."
   ]
  },
  {
   "cell_type": "code",
   "execution_count": 20,
   "metadata": {},
   "outputs": [
    {
     "data": {
      "text/plain": [
       "18.0"
      ]
     },
     "execution_count": 20,
     "metadata": {},
     "output_type": "execute_result"
    }
   ],
   "source": [
    "from scipy.linalg import det\n",
    "det(my_circ_matrix)"
   ]
  },
  {
   "cell_type": "markdown",
   "metadata": {},
   "source": [
    "The code below demonstrates how to create a function in Python, how to vectorize a function so that it can be applied to the elements of a matrix, and how to use ```random```."
   ]
  },
  {
   "cell_type": "code",
   "execution_count": 22,
   "metadata": {},
   "outputs": [
    {
     "name": "stdout",
     "output_type": "stream",
     "text": [
      "17.62806\n"
     ]
    }
   ],
   "source": [
    "import math\n",
    "from numpy import random\n",
    "\n",
    "def my_log(x):\n",
    "    return math.log(x)\n",
    "\n",
    "my_vec_log = np.vectorize(my_log)\n",
    "\n",
    "A_step1 = my_vec_log(my_circ_matrix) # Numpy already offers a vectorized natural logarithm.\n",
    "# A_step1 = np.log(matrix_prod2)\n",
    "\n",
    "max_index = 100000\n",
    "my_identity = np.identity(len(A_step1))\n",
    "current_value = 0.0\n",
    "for my_index in range(0, max_index):\n",
    "    permutation_matrix = random.permutation(my_identity)\n",
    "    sign_permuation = det(permutation_matrix)\n",
    "    current_value += sign_permuation*(np.exp(np.trace(np.dot(A_step1, permutation_matrix))))\n",
    "a_step2 = math.factorial(len(A_step1)) * current_value / max_index\n",
    "print(a_step2)"
   ]
  },
  {
   "cell_type": "markdown",
   "metadata": {},
   "source": [
    "#### Questions\n",
    "It appears that the output of the loop above is close to the determinant of the circulant matrix ```my_circ_matrix```.\n",
    " * Go through the code and provide a compelling explain explanation of why these numbers are close.\n",
    " * Is this a property of circulant matrices, or would this finding extend to arbitrary matrices over the real numbers?"
   ]
  },
  {
   "cell_type": "markdown",
   "metadata": {},
   "source": [
    "### Answer\n",
    "\n",
    "1.\n",
    "<br>\n",
    "In this case the matrix is 3x3, so my_identity is $ eye(3)$.\n",
    "<br>\n",
    "A permutation matrix is a matrix obtained by permuting the rows of an n×n identity matrix according to some permutation of the numbers 1 to n. A permutation matrix is nonsingular, and the determinant is always +/-1. That's to say, sign_permuation is +/-1.\n",
    "<br>\n",
    "np.dot(A_step1, permutation_matrix) gives the matrix A_step1 with rows interchanged according to the permutation vector. \n",
    "<br>\n",
    "np.trace returns the sum along diagonals. That's to say, np.trace(np.dot(A_step1, permutation_matrix)) has only 6 values which are 0, 1.79175946923, 1.79175946923, 1.79175946923, 2.07944154168, 3.295836866\n",
    "<br>\n",
    "Therefore value of sign_permuation*(np.exp(np.trace(np.dot(A_step1, permutation_matrix)))) also can only be 1, -6, -6, -6, 8, 27.\n",
    "<br> \n",
    "Finally, the result a_step2 is taking avg, and its value should be around (1-6-6-6+8+27)/6=18. The larger the max_index is, the closer the result will be 18.\n",
    "<br>\n",
    "<br>\n",
    "2.\n",
    "<br>\n",
    "The property extends to artitrary matrices over the real numbers. This is because limited combinations of permutation matrices determine limited values of \"current_value\". So the final result a_step2 will always be around a constant."
   ]
  },
  {
   "cell_type": "markdown",
   "metadata": {},
   "source": [
    "### Tasks\n",
    " * Build code to explore the fact that the determinant function is multiplicative: $\\mathrm{det}(AB) = \\mathrm{det}(A) \\mathrm{det}(B)$."
   ]
  },
  {
   "cell_type": "code",
   "execution_count": 33,
   "metadata": {},
   "outputs": [
    {
     "name": "stdout",
     "output_type": "stream",
     "text": [
      "Matrix is  7 * 7\n",
      "Matrix A is :\n",
      "[[ 0.80861317  0.67022668  0.93323331  0.6231779   0.48152293  0.40381919\n",
      "   0.36281443]\n",
      " [ 0.93821319  0.48188205  0.69676039  0.23148466  0.99780777  0.79910131\n",
      "   0.09376624]\n",
      " [ 0.30414742  0.1458256   0.91158637  0.90446039  0.12885762  0.68549843\n",
      "   0.17577672]\n",
      " [ 0.08698616  0.05079222  0.30537059  0.14017467  0.03142864  0.21038606\n",
      "   0.76241667]\n",
      " [ 0.86338335  0.13738419  0.24150053  0.72045316  0.86386878  0.13545912\n",
      "   0.84276924]\n",
      " [ 0.75055507  0.19885884  0.67479705  0.70682631  0.52125195  0.92482421\n",
      "   0.66813862]\n",
      " [ 0.6563896   0.23391123  0.66043747  0.61081468  0.35645757  0.24254396\n",
      "   0.02995302]]\n",
      "\n",
      "Matrix B is :\n",
      "[[ 0.13925551  0.77232499  0.51013111  0.61997629  0.11661299  0.72853307\n",
      "   0.76614223]\n",
      " [ 0.65889741  0.10271318  0.83580327  0.06125411  0.68212566  0.56839034\n",
      "   0.58780633]\n",
      " [ 0.37511281  0.62694251  0.01875532  0.90010833  0.9770251   0.36245237\n",
      "   0.23767399]\n",
      " [ 0.18637211  0.17550555  0.80209056  0.13775069  0.88312976  0.55826464\n",
      "   0.44660736]\n",
      " [ 0.80854451  0.57852699  0.68748357  0.03397044  0.97436417  0.14449762\n",
      "   0.50807416]\n",
      " [ 0.50065466  0.39158535  0.53586472  0.78262046  0.40294281  0.76665465\n",
      "   0.16513625]\n",
      " [ 0.11803845  0.34096389  0.1768709   0.07890269  0.25603925  0.42912378\n",
      "   0.75813425]]\n",
      "\n",
      "Matrix AB is :\n",
      "[[ 1.65475795  1.9482184   2.10162746  1.82925114  2.73840241  2.1910637\n",
      "   2.0999939 ]\n",
      " [ 1.97058203  2.17370268  2.21088112  1.9369216   2.64152344  2.1362415\n",
      "   1.98105097]\n",
      " [ 1.11708575  1.3830412   1.50660452  1.69734484  2.27111424  1.75939236\n",
      "   1.25126865]\n",
      " [ 0.40698993  0.64897282  0.47418121  0.57709316  0.77754263  0.77418489\n",
      "   0.86040607]\n",
      " [ 1.30138907  1.79894328  1.95320768  1.06216796  2.17868778  1.78715681\n",
      "   2.22159866]\n",
      " [ 1.58374323  2.03872583  2.10079019  1.97647496  2.55829439  2.37006616\n",
      "   2.09207337]\n",
      " [ 1.02028493  1.36363944  1.41299122  1.30417169  1.873513    1.44183606\n",
      "   1.31401352]]\n",
      "\n",
      "det(AB) =  0.0008035744444560069\n",
      "det(A)det(B) =  0.0008035744444560067\n"
     ]
    }
   ],
   "source": [
    "from numpy import random\n",
    "from scipy.linalg import det\n",
    "\n",
    "n=random.randint(2,10)\n",
    "print(\"Matrix is \",n,\"*\",n)\n",
    "a=random.rand(n,n)\n",
    "print(\"Matrix A is :\")\n",
    "print(a)\n",
    "print()\n",
    "b=random.rand(n,n)\n",
    "print(\"Matrix B is :\")\n",
    "print(b)\n",
    "print()\n",
    "\n",
    "detA=det(a)\n",
    "detB=det(b)\n",
    "ab=np.dot(a,b)\n",
    "print(\"Matrix AB is :\")\n",
    "print(ab)\n",
    "print()\n",
    "detAB=det(ab)\n",
    "\n",
    "print(\"det(AB) = \", detAB)\n",
    "print(\"det(A)det(B) = \", detA*detB)"
   ]
  },
  {
   "cell_type": "markdown",
   "metadata": {},
   "source": [
    "### Result\n",
    "\n",
    "Determinant function is multiplicative: $\\mathrm{det}(AB) = \\mathrm{det}(A) \\mathrm{det}(B)$."
   ]
  },
  {
   "cell_type": "code",
   "execution_count": null,
   "metadata": {
    "collapsed": true
   },
   "outputs": [],
   "source": []
  }
 ],
 "metadata": {
  "kernelspec": {
   "display_name": "Python 3",
   "language": "python",
   "name": "python3"
  },
  "language_info": {
   "codemirror_mode": {
    "name": "ipython",
    "version": 3
   },
   "file_extension": ".py",
   "mimetype": "text/x-python",
   "name": "python",
   "nbconvert_exporter": "python",
   "pygments_lexer": "ipython3",
   "version": "3.6.1"
  }
 },
 "nbformat": 4,
 "nbformat_minor": 2
}
