{
 "cells": [
  {
   "cell_type": "code",
   "execution_count": 2,
   "metadata": {},
   "outputs": [
    {
     "name": "stdout",
     "output_type": "stream",
     "text": [
      "the minimum a is 4.603468 \n",
      "the resident mean square error is 0.011318\n"
     ]
    },
    {
     "data": {
      "image/png": "[encoded data removed]",
      "text/plain": [
       "<matplotlib.figure.Figure at 0x19327eab630>"
      ]
     },
     "metadata": {},
     "output_type": "display_data"
    }
   ],
   "source": [
    "import numpy as np\n",
    "import matplotlib.pyplot as plt\n",
    "from scipy.optimize import minimize_scalar\n",
    "\n",
    "\n",
    "# define function f,g\n",
    "def g(t):\n",
    "    return 1 - (np.exp(-2 * t) * np.cos(np.pi * t))\n",
    "\n",
    "\n",
    "def f(a, t):\n",
    "    return 1 - (np.exp(-a * t))\n",
    "\n",
    "\n",
    "t1 = np.arange(0.0, 2.0, 0.01)\n",
    "\n",
    "\n",
    "# Find the value of a and the resident mean square error\n",
    "def find_a(a):\n",
    "    square_error = 0\n",
    "    for t in (t1):\n",
    "        square_error = square_error + np.square(g(t)-f(a,t))\n",
    "    return np.sqrt(square_error)\n",
    "\n",
    "mina = minimize_scalar(find_a)\n",
    "length=len(t1)\n",
    "mean_squ_err = np.square(find_a(mina.x))/length\n",
    "\n",
    "print(\"the minimum a is %f \"%mina.x)\n",
    "print(\"the resident mean square error is %f\" %mean_squ_err)\n",
    "\n",
    "#the picture that shows how square_error change when a change\n",
    "plt.figure(1)\n",
    "a1=np.arange(1,100,0.1)\n",
    "plt.plot(a1,find_a(a1))\n",
    "plt.xlabel(\"a\")\n",
    "plt.ylabel(\"L2\")\n",
    "plt.show()"
   ]
  },
  {
   "cell_type": "code",
   "execution_count": null,
   "metadata": {
    "collapsed": true
   },
   "outputs": [],
   "source": [
    "#explain how I obtain a\n",
    "#so the whole process is like the code, it's strigtforward\n",
    "(1)define the f,g,\n",
    "(2)then I use them to construct a scalar function, whose dependent variable is the L2, I called it the find_a\n",
    "(3)then I use the existing algrithm to find its minium value in [0,2], then I got a\n",
    "(4)to be professional, I draw a picture to prove I am right intuitively, though I actually no need to do that. You can see there's a vally in the figure, which related to the mina\n"
   ]
  }
 ],
 "metadata": {
  "kernelspec": {
   "display_name": "Python 3",
   "language": "python",
   "name": "python3"
  },
  "language_info": {
   "codemirror_mode": {
    "name": "ipython",
    "version": 3
   },
   "file_extension": ".py",
   "mimetype": "text/x-python",
   "name": "python",
   "nbconvert_exporter": "python",
   "pygments_lexer": "ipython3",
   "version": "3.6.1"
  }
 },
 "nbformat": 4,
 "nbformat_minor": 2
}
