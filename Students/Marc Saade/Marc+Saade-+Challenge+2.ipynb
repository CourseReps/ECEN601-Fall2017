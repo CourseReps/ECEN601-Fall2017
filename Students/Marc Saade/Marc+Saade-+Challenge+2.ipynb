{
 "cells": [
  {
   "cell_type": "code",
   "execution_count": 1,
   "metadata": {
    "collapsed": true
   },
   "outputs": [],
   "source": [
    "from scipy.linalg import circulant\n",
    "my_circ_matrix = circulant([1, 2, 3])"
   ]
  },
  {
   "cell_type": "code",
   "execution_count": 2,
   "metadata": {
    "collapsed": true
   },
   "outputs": [],
   "source": [
    "from scipy.linalg import dft\n",
    "my_dft_matrix = dft(3)"
   ]
  },
  {
   "cell_type": "code",
   "execution_count": 3,
   "metadata": {
    "collapsed": true
   },
   "outputs": [],
   "source": [
    "from scipy.linalg import inv\n",
    "my_idft_matrix = inv(my_dft_matrix)"
   ]
  },
  {
   "cell_type": "code",
   "execution_count": 4,
   "metadata": {},
   "outputs": [
    {
     "name": "stdout",
     "output_type": "stream",
     "text": [
      "[[ 6.0+0.j        -0.0+0.j         0.0+0.j       ]\n",
      " [-0.0-0.j        -1.5+0.8660254j -0.0-0.j       ]\n",
      " [ 0.0-0.j         0.0-0.j        -1.5-0.8660254j]]\n"
     ]
    }
   ],
   "source": [
    "import numpy as np\n",
    "matrix_prod1 = np.dot(my_dft_matrix, my_circ_matrix)\n",
    "matrix_prod2 = np.dot(matrix_prod1, my_idft_matrix)\n",
    "\n",
    "np.set_printoptions(suppress=True)\n",
    "print(matrix_prod2)"
   ]
  },
  {
   "cell_type": "code",
   "execution_count": 5,
   "metadata": {},
   "outputs": [
    {
     "data": {
      "text/plain": [
       "18.0"
      ]
     },
     "execution_count": 5,
     "metadata": {},
     "output_type": "execute_result"
    }
   ],
   "source": [
    "from scipy.linalg import det\n",
    "det(my_circ_matrix)"
   ]
  },
  {
   "cell_type": "code",
   "execution_count": 6,
   "metadata": {},
   "outputs": [
    {
     "name": "stdout",
     "output_type": "stream",
     "text": [
      "yes, circulant matrices always diagonalized by the discrete Fourier transform   matrix and its inverse\n",
      "yes, product of circulant matrices (of a same size) always circulant matrices\n",
      "yes, all pairs of circulant matrices commute under matrix multiplication\n"
     ]
    }
   ],
   "source": [
    "print('yes, circulant matrices always diagonalized by the discrete Fourier transform   matrix and its inverse')\n",
    "print('yes, product of circulant matrices (of a same size) always circulant matrices')\n",
    "print('yes, all pairs of circulant matrices commute under matrix multiplication')"
   ]
  },
  {
   "cell_type": "code",
   "execution_count": 7,
   "metadata": {},
   "outputs": [
    {
     "name": "stdout",
     "output_type": "stream",
     "text": [
      "18.08352\n"
     ]
    }
   ],
   "source": [
    "import math\n",
    "from numpy import random\n",
    "\n",
    "def my_log(x):\n",
    "    return math.log(x)\n",
    "\n",
    "my_vec_log = np.vectorize(my_log)\n",
    "\n",
    "A_step1 = my_vec_log(my_circ_matrix) # Numpy already offers a vectorized natural logarithm.\n",
    "# A_step1 = np.log(matrix_prod2)\n",
    "\n",
    "max_index = 100000\n",
    "my_identity = np.identity(len(A_step1))\n",
    "current_value = 0.0\n",
    "for my_index in range(0, max_index):\n",
    "    permutation_matrix = random.permutation(my_identity)\n",
    "    sign_permuation = det(permutation_matrix)\n",
    "    current_value += sign_permuation*(np.exp(np.trace(np.dot(A_step1, permutation_matrix))))\n",
    "a_step2 = math.factorial(len(A_step1)) * current_value / max_index\n",
    "print(a_step2)"
   ]
  },
  {
   "cell_type": "code",
   "execution_count": 8,
   "metadata": {},
   "outputs": [
    {
     "name": "stdout",
     "output_type": "stream",
     "text": [
      "this finding extends to arbitraty matrices over the real numbers\n"
     ]
    }
   ],
   "source": [
    "print('this finding extends to arbitraty matrices over the real numbers')"
   ]
  },
  {
   "cell_type": "code",
   "execution_count": 9,
   "metadata": {},
   "outputs": [
    {
     "name": "stdout",
     "output_type": "stream",
     "text": [
      "det(AB) is equal det(A)det(B)\n"
     ]
    }
   ],
   "source": [
    "from numpy import dot\n",
    "max_index = 100000\n",
    "my_index = 0.0\n",
    "vector=[]\n",
    "while my_index <= max_index:\n",
    "    #generate two random matricies A and B using random integers between -20 and 20\n",
    "    A=[[random.randint(-20,20),random.randint(-20,20),random.randint(-20,20)],\n",
    "      [random.randint(-20,20),random.randint(-20,20),random.randint(-20,20)],\n",
    "      [random.randint(-20,20),random.randint(-20,20),random.randint(-20,20)]]\n",
    "    B=[[random.randint(-20,20),random.randint(-20,20),random.randint(-20,20)],\n",
    "      [random.randint(-20,20),random.randint(-20,20),random.randint(-20,20)],\n",
    "      [random.randint(-20,20),random.randint(-20,20),random.randint(-20,20)]]\n",
    "    #calculate the determinant of the dot product of A and B   \n",
    "    Det1=det(dot(A,B))\n",
    "    #caluclate the product of the determinants of A and B\n",
    "    Det2=det(A)*det(B)\n",
    "    #calculate the difference of the determinants\n",
    "    difference=abs(Det1-Det2)\n",
    "    #choosing an eps of 0.0000001 if the difference is larger than eps then\n",
    "    # the equality det(AB)=det(A)det(B) doesn't hold otherwise it does\n",
    "    if difference<0.0000001:\n",
    "        s=[1]\n",
    "    else:\n",
    "        s=[0]\n",
    "    \n",
    "    vector.extend(s)\n",
    "    my_index = my_index + 1\n",
    "    \n",
    "#Running a while loop for an indext from 1 to 100000 every time the difference\n",
    "# is larger than eps, the vector is extended by a 0 otherwise it would be extended\n",
    "#by a 1. To check that det(AB) is not equal to det(A)det(B) 1 counter example\n",
    "#is needed. Generating 100000 different A and B matricies and checking for the \n",
    "#equality it is sufficient for the 'vector' to have one zero for the equality not\n",
    "#to hold.\n",
    "if min(vector)==0:\n",
    "    print('det(AB) is not equal to det(A)det(B)')\n",
    "else:\n",
    "    print('det(AB) is equal det(A)det(B)')"
   ]
  }
 ],
 "metadata": {
  "kernelspec": {
   "display_name": "Python 3",
   "language": "python",
   "name": "python3"
  },
  "language_info": {
   "codemirror_mode": {
    "name": "ipython",
    "version": 3
   },
   "file_extension": ".py",
   "mimetype": "text/x-python",
   "name": "python",
   "nbconvert_exporter": "python",
   "pygments_lexer": "ipython3",
   "version": "3.6.1"
  }
 },
 "nbformat": 4,
 "nbformat_minor": 2
}
