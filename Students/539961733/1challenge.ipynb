{
 "cells": [
  {
   "cell_type": "markdown",
   "metadata": {},
   "source": [
    "# Challenge 1\n",
    "\n",
    "## SciPy Tutorial\n",
    "Pertinent information about [SciPy](https://docs.scipy.org/) and NumPy is available in the [SciPy Tutorial](https://docs.scipy.org/doc/scipy/reference/tutorial/index.html).\n",
    " * Read [Introduction](https://docs.scipy.org/doc/scipy/reference/tutorial/general.html)\n",
    " * Read [Basic functions](https://docs.scipy.org/doc/scipy/reference/tutorial/basic.html)\n",
    " * Read [Optimization](https://docs.scipy.org/doc/scipy/reference/tutorial/optimize.html)\n",
    " \n",
    "Consider the function defined below.\n",
    " * Plot the function using [matplotlib](https://matplotlib.org/)"
   ]
  },
  {
   "cell_type": "code",
   "execution_count": 3,
   "metadata": {
    "collapsed": true
   },
   "outputs": [],
   "source": [
    "import numpy as np\n",
    "import matplotlib.pyplot as plt"
   ]
  },
  {
   "cell_type": "code",
   "execution_count": 4,
   "metadata": {},
   "outputs": [
    {
     "data": {
      "image/png": "[encoded data removed]",
      "text/plain": [
       "<matplotlib.figure.Figure at 0x8545cf8>"
      ]
     },
     "metadata": {},
     "output_type": "display_data"
    }
   ],
   "source": [
    "def g(t):\n",
    "    return 1 - (np.exp(-2*t) * np.cos(np.pi*t))\n",
    "\n",
    "t1 = np.arange(0.0, 2.0, 0.01)\n",
    "\n",
    "plt.figure(1)\n",
    "plt.plot(t1, g(t1), 'k')\n",
    "plt.show()"
   ]
  },
  {
   "cell_type": "markdown",
   "metadata": {},
   "source": [
    "Consider the class of functions of the form $f(t) = 1 - e^{-at}$ where $a$ is a free parameter.\n",
    " * Find the value of $a$ that minimizes the $L_2$ norm between $g(t)$ and $f(t)$ over the interval $[0, 2]$\n",
    " * Computer the residual mean squared error\n",
    " * Explain how you obtained $a$"
   ]
  },
  {
   "cell_type": "markdown",
   "metadata": {
    "collapsed": true
   },
   "source": [
    "## solution\n",
    "(1)"
   ]
  },
  {
   "cell_type": "code",
   "execution_count": 8,
   "metadata": {},
   "outputs": [
    {
     "name": "stdout",
     "output_type": "stream",
     "text": [
      "The value of a is  4.603\n",
      "The value of L2 norm between f(t) and g(t)  1.50453872768\n",
      "The value of residual mean squared error is 0.00752269363841\n"
     ]
    },
    {
     "data": {
      "image/png": "[encoded data removed]",
      "text/plain": [
       "<matplotlib.figure.Figure at 0x82c0588>"
      ]
     },
     "metadata": {},
     "output_type": "display_data"
    }
   ],
   "source": [
    "import numpy as np\n",
    "import matplotlib.pyplot as plt\n",
    "\n",
    "##design g(t) and f(t)\n",
    "def g(t):\n",
    "    return 1 - (np.exp(-2*t) * np.cos(np.pi*t))\n",
    "def f(t,a):\n",
    "    return 1-(np.exp(-a*t))\n",
    "\n",
    "##define values\n",
    "t1 = np.arange(0.0, 2.0, 0.01)\n",
    "a1=np.arange(0.0,10.0,0.001)\n",
    "minL2=float('inf')\n",
    "amin=0\n",
    "mse=0\n",
    "\n",
    "##use loop to complete\n",
    "for a in a1:\n",
    "    L2=(sum((abs(f(t1,a)-g(t1)))**2))**0.5\n",
    "    if L2<minL2:   #save values\n",
    "        minL2=L2\n",
    "        amin=a\n",
    "        mse=L2/len(t1)\n",
    "\n",
    "#print the result and the picture of functions\n",
    "print(\"The value of a is \",amin)\n",
    "print(\"The value of L2 norm between f(t) and g(t) \",minL2)\n",
    "print(\"The value of residual mean squared error is\",mse)\n",
    "plt.figure(1)\n",
    "plot1=plt.plot(t1, g(t1), 'r',label='g(t)')\n",
    "plot2=plt.plot(t1, f(t1,amin), 'b',label='f(t)')\n",
    "plt.legend(loc='best')\n",
    "plt.title('challenge 1')\n",
    "plt.xlabel('x axis')\n",
    "plt.ylabel('y axis')\n",
    "plt.show()\n"
   ]
  },
  {
   "cell_type": "markdown",
   "metadata": {},
   "source": [
    "The value of $a$ that minimizes the $L2$ norm between $g(t)$ and $f(t)$ over the interval $[0,2]$ is 4.603\n",
    "When $a=4.603$, the value of $L2$ is 1.50453872768\n",
    "\n",
    "(2)The residual mean squared error is 0.00752269363841\n",
    "\n",
    "(3)First, I define $f(t)$ and $g(t)$ functions and other values in this program such as the minimum of $L2$. And then, I compare the functional images and decide the range of $a$. I use a loop to find the value of $a$ when the $L2$ is the minimum. As the difination of norm, I can get the value of $L2$ with this eqution L2=(sum((abs(f(t1,a)-g(t1)))^2))^0.5. If $L2$ is smaller than the former one, the amin will be replaced by $a$ and the $L2$ will be saved for next comparison.  Finally, I print out the result and print the functional image. \n"
   ]
  }
 ],
 "metadata": {
  "kernelspec": {
   "display_name": "Python 3",
   "language": "python",
   "name": "python3"
  },
  "language_info": {
   "codemirror_mode": {
    "name": "ipython",
    "version": 3
   },
   "file_extension": ".py",
   "mimetype": "text/x-python",
   "name": "python",
   "nbconvert_exporter": "python",
   "pygments_lexer": "ipython3",
   "version": "3.6.1"
  }
 },
 "nbformat": 4,
 "nbformat_minor": 2
}
