{
 "cells": [
  {
   "cell_type": "markdown",
   "metadata": {},
   "source": [
    "# Challenge 2\n",
    "An important aspect of pragmatic vector space methods is the ability to handle vectors and matrices.\n",
    "A large collection of linear algebra functions is available in [SciPy.linalg](https://docs.scipy.org/doc/scipy/reference/linalg.html).\n",
    "These functions can be employed in conjunction with the tools available in [NumPy](http://www.numpy.org/).\n",
    "We note that the main object in NumPy is the homogeneous multidimensional array."
   ]
  },
  {
   "cell_type": "markdown",
   "metadata": {},
   "source": [
    "## Matrix\n",
    "We begin by creating a simple matrix.\n",
    "One possible approach to complete this task is to use ```scipy.linalg.circulant(c)```."
   ]
  },
  {
   "cell_type": "code",
   "execution_count": 4,
   "metadata": {},
   "outputs": [
    {
     "name": "stdout",
     "output_type": "stream",
     "text": [
      "[[1 3 2]\n",
      " [2 1 3]\n",
      " [3 2 1]]\n"
     ]
    }
   ],
   "source": [
    "from scipy.linalg import circulant\n",
    "my_circ_matrix = circulant([1, 2, 3])\n",
    "print(my_circ_matrix)"
   ]
  },
  {
   "cell_type": "markdown",
   "metadata": {},
   "source": [
    "Alternatively, you can construct the familiar discrete Fourier transform matrix with ```scipy.linalg.dft(n)```."
   ]
  },
  {
   "cell_type": "code",
   "execution_count": 5,
   "metadata": {},
   "outputs": [
    {
     "name": "stdout",
     "output_type": "stream",
     "text": [
      "[[ 1.0+0.j         1.0+0.j         1.0+0.j       ]\n",
      " [ 1.0+0.j        -0.5-0.8660254j -0.5+0.8660254j]\n",
      " [ 1.0+0.j        -0.5+0.8660254j -0.5-0.8660254j]]\n"
     ]
    }
   ],
   "source": [
    "from scipy.linalg import dft\n",
    "my_dft_matrix = dft(3)\n",
    "print(my_dft_matrix)"
   ]
  },
  {
   "cell_type": "markdown",
   "metadata": {},
   "source": [
    "The inverse of a matrix can be computed using ```scipy.linalg.inv(a)```."
   ]
  },
  {
   "cell_type": "code",
   "execution_count": 6,
   "metadata": {},
   "outputs": [
    {
     "name": "stdout",
     "output_type": "stream",
     "text": [
      "[[ 0.33333333 +2.77555756e-17j  0.33333333 +2.77555756e-17j\n",
      "   0.33333333 -5.55111512e-17j]\n",
      " [ 0.33333333 +5.55111512e-17j -0.16666667 +2.88675135e-01j\n",
      "  -0.16666667 -2.88675135e-01j]\n",
      " [ 0.33333333 -1.11022302e-16j -0.16666667 -2.88675135e-01j\n",
      "  -0.16666667 +2.88675135e-01j]]\n"
     ]
    }
   ],
   "source": [
    "from scipy.linalg import inv\n",
    "my_idft_matrix = inv(my_dft_matrix)\n",
    "print(my_idft_matrix)"
   ]
  },
  {
   "cell_type": "markdown",
   "metadata": {},
   "source": [
    "The operation ```numpy.dot(a, b)``` computes the dot product of two arrays.\n",
    "For 2-D arrays it is equivalent to matrix multiplication, and for 1-D arrays to inner product of vectors (without complex conjugation)."
   ]
  },
  {
   "cell_type": "code",
   "execution_count": 7,
   "metadata": {},
   "outputs": [
    {
     "name": "stdout",
     "output_type": "stream",
     "text": [
      "[[ 6.0-0.j         0.0+0.j        -0.0+0.j       ]\n",
      " [-0.0-0.j        -1.5+0.8660254j -0.0-0.j       ]\n",
      " [ 0.0-0.j         0.0-0.j        -1.5-0.8660254j]]\n"
     ]
    }
   ],
   "source": [
    "import numpy as np\n",
    "matrix_prod1 = np.dot(my_dft_matrix, my_circ_matrix)\n",
    "matrix_prod2 = np.dot(matrix_prod1, my_idft_matrix)\n",
    "\n",
    "np.set_printoptions(suppress=True)\n",
    "print(matrix_prod2)"
   ]
  },
  {
   "cell_type": "markdown",
   "metadata": {},
   "source": [
    "### Questions\n",
    "These steps and their solutions immediately bring up three questions.\n",
    " * Are circulant matrices always diagonalized by the discrete Fourier transform matrix and its inverse?\n",
    " * Are product of circulant matrices (of a same size) always circulant matrices?\n",
    " * Do all pairs of circulant matrices commute under matrix multiplication?"
   ]
  },
  {
   "cell_type": "markdown",
   "metadata": {},
   "source": [
    "### Answers\n",
    "1. Yes. $X=F*diag(x)*F^H$. It is the property of circulant matrices.\n",
    "2. Yes. If we assume $C=A*B$ and $A B$ are circulant matrices, we can know $C = [A0B1,……,A0Bn]$ and $A0$ is the vector of the sum of every element in colunm. Because $A$ is a circulant matrix, we can assume $A0$ is equal to a constant $k$. And then, $C=[kB0,...,kBN]=kB$. Bacause $B$ is a circulant matrix, $C$ is also a circulant matrix.  \n",
    "3. Yes. It is known that there is a matrix $T$ whose columns are $v1,…,vnv1,…,vn$ such that $T-1AT=DAT-1AT=DA$ and $T-1BT=DBT-1BT=DB$ are diagonal matrices. Since $DA$ and $DB$ trivially commute (explicit calculation shows this), we have $AB=TDAT-1TDBT-1=TDADBT-1=TDBDAT-1=TDBT-1TDAT-1=BA.$\n"
   ]
  },
  {
   "cell_type": "markdown",
   "metadata": {},
   "source": [
    "## Determinant\n",
    "The determinant of a square matrix is a value derived arithmetically from the coefficients of the matrix, and it summarizes a multivariable phenomenon with a signle number.\n",
    "It can be computed with ```scipy.linalg.det(a)```."
   ]
  },
  {
   "cell_type": "code",
   "execution_count": 8,
   "metadata": {},
   "outputs": [
    {
     "data": {
      "text/plain": [
       "18.0"
      ]
     },
     "execution_count": 8,
     "metadata": {},
     "output_type": "execute_result"
    }
   ],
   "source": [
    "from scipy.linalg import det\n",
    "det(my_circ_matrix)"
   ]
  },
  {
   "cell_type": "markdown",
   "metadata": {},
   "source": [
    "The code below demonstrates how to create a function in Python, how to vectorize a function so that it can be applied to the elements of a matrix, and how to use ```random```."
   ]
  },
  {
   "cell_type": "code",
   "execution_count": 9,
   "metadata": {},
   "outputs": [
    {
     "name": "stdout",
     "output_type": "stream",
     "text": [
      "18.05118\n"
     ]
    }
   ],
   "source": [
    "import math\n",
    "from numpy import random\n",
    "import numpy as np\n",
    "\n",
    "def my_log(x):\n",
    "    return math.log(x)\n",
    "\n",
    "my_vec_log = np.vectorize(my_log)\n",
    "\n",
    "A_step1 = my_vec_log(my_circ_matrix) # Numpy already offers a vectorized natural logarithm.\n",
    "# A_step1 = np.log(matrix_prod2)\n",
    "\n",
    "max_index = 100000\n",
    "my_identity = np.identity(len(A_step1))\n",
    "current_value = 0.0\n",
    "for my_index in range(0, max_index):\n",
    "    permutation_matrix = random.permutation(my_identity)\n",
    "    sign_permuation = det(permutation_matrix)\n",
    "    current_value += sign_permuation*(np.exp(np.trace(np.dot(A_step1, permutation_matrix))))\n",
    "a_step2 = math.factorial(len(A_step1)) * current_value / max_index\n",
    "print(a_step2)"
   ]
  },
  {
   "cell_type": "markdown",
   "metadata": {},
   "source": [
    "#### Questions\n",
    "It appears that the output of the loop above is close to the determinant of the circulant matrix ```my_circ_matrix```.\n",
    " * Go through the code and provide a compelling explain explanation of why these numbers are close.\n",
    " * Is this a property of circulant matrices, or would this finding extend to arbitrary matrices over the real numbers?"
   ]
  },
  {
   "cell_type": "markdown",
   "metadata": {},
   "source": [
    "#### Answers\n",
    "1. It is because of different way to calculate det(A). For $n*n$ matrix, the result that every eigenvalue multiply together is equal to the valur of determinant of the matrix. First, the program uses $log$ to transform \"multiply\" to \"plus\". Sencond, because circulant matrix is being calculated, we can know that trace(A) is approximately equal to eigenvalue. $sign_permuation*(np.exp(np.trace(np.dot(A_step1, permutation_matrix))))$ is used to calculate the sum of transformed eignevalue and transform the \"plus\" to \"multiply\". If we want to get more precise value, we need to make the loop bigger. Finally, the program gains the average of the result.\n",
    "2. It is specific way to calculate the determinant of circulant matrix, because circulant matrix's eigenvalue can be gained by other ways. However, it can be only used in 2-D matrix. The function $np.trace$ will return the diagonal but, for other dimensions, it will return the arrary of diagonals. Bacause we don't know the property of larger dimensions matrix, we cannot calculate the eigenvalue. So we cannot get the determinant of matrix."
   ]
  },
  {
   "cell_type": "markdown",
   "metadata": {},
   "source": [
    "### Tasks\n",
    " * Build code to explore the fact that the determinant function is multiplicative: $\\mathrm{det}(AB) = \\mathrm{det}(A) \\mathrm{det}(B)$."
   ]
  },
  {
   "cell_type": "code",
   "execution_count": 2,
   "metadata": {},
   "outputs": [
    {
     "name": "stdout",
     "output_type": "stream",
     "text": [
      "matrix size is  4 * 4\n",
      "matrix A is :\n",
      "[[ 7 65 88 71]\n",
      " [81 14 26 20]\n",
      " [ 3 23 32 85]\n",
      " [82 51 50 79]]\n",
      "matrix B is :\n",
      "[[87 77  4  9]\n",
      " [57 29 47 99]\n",
      " [32 50 31 58]\n",
      " [33 44 81 24]]\n",
      "matrix AB is:\n",
      "[[ 9473  9948 11562 13306]\n",
      " [ 9337  8823  3408  4103]\n",
      " [ 5401  6238  8970  6200]\n",
      " [14248 13769 10674 10583]]\n",
      "det(AB) = -151600345847135.94\n",
      "det(A)*det(B)= -151600345847135.97\n",
      "the distance is 0.03125\n"
     ]
    }
   ],
   "source": [
    "from numpy import random\n",
    "from scipy.linalg import det\n",
    "import numpy as np\n",
    "##determine the size of matrix\n",
    "n=random.randint(2,8)\n",
    "print('matrix size is ',n,'*',n)\n",
    "##print metrix A B\n",
    "a=random.randint(1,100,size=(n,n))\n",
    "print('matrix A is :')\n",
    "print(a)\n",
    "b=random.randint(1,100,size=(n,n))\n",
    "print('matrix B is :')\n",
    "print(b)\n",
    "##calculate det(A) det(B) det(AB) and distance between two results\n",
    "ab=np.dot(a,b)\n",
    "print('matrix AB is:')\n",
    "print(ab)\n",
    "det_a=det(a)\n",
    "det_b=det(b)\n",
    "det_ab=det(ab)\n",
    "print('det(AB) =',det_ab)\n",
    "print('det(A)*det(B)=',det_a*det_b)\n",
    "print('the distance is',abs(det_ab-det_a*det_b))\n"
   ]
  },
  {
   "cell_type": "markdown",
   "metadata": {},
   "source": [
    "### Conclusion\n",
    "Comparing with two results, the distance is too small. So the determinant function is multiplicative."
   ]
  },
  {
   "cell_type": "code",
   "execution_count": null,
   "metadata": {
    "collapsed": true
   },
   "outputs": [],
   "source": []
  }
 ],
 "metadata": {
  "kernelspec": {
   "display_name": "Python 3",
   "language": "python",
   "name": "python3"
  },
  "language_info": {
   "codemirror_mode": {
    "name": "ipython",
    "version": 3
   },
   "file_extension": ".py",
   "mimetype": "text/x-python",
   "name": "python",
   "nbconvert_exporter": "python",
   "pygments_lexer": "ipython3",
   "version": "3.6.1"
  }
 },
 "nbformat": 4,
 "nbformat_minor": 2
}
