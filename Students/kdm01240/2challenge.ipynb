{
 "cells": [
  {
   "cell_type": "markdown",
   "metadata": {},
   "source": [
    "# Challenge 2\n",
    "An important aspect of pragmatic vector space methods is the ability to handle vectors and matrices.\n",
    "A large collection of linear algebra functions is available in [SciPy.linalg](https://docs.scipy.org/doc/scipy/reference/linalg.html).\n",
    "These functions can be employed in conjunction with the tools available in [NumPy](http://www.numpy.org/).\n",
    "We note that the main object in NumPy is the homogeneous multidimensional array."
   ]
  },
  {
   "cell_type": "markdown",
   "metadata": {},
   "source": [
    "## Matrix\n",
    "We begin by creating a simple matrix.\n",
    "One possible approach to complete this task is to use ```scipy.linalg.circulant(c)```."
   ]
  },
  {
   "cell_type": "code",
   "execution_count": 7,
   "metadata": {},
   "outputs": [
    {
     "name": "stdout",
     "output_type": "stream",
     "text": [
      "[[1 3 2]\n",
      " [2 1 3]\n",
      " [3 2 1]]\n"
     ]
    }
   ],
   "source": [
    "from scipy.linalg import circulant\n",
    "my_circ_matrix = circulant([1, 2, 3])\n",
    "print(my_circ_matrix)"
   ]
  },
  {
   "cell_type": "markdown",
   "metadata": {},
   "source": [
    "Alternatively, you can construct the familiar discrete Fourier transform matrix with ```scipy.linalg.dft(n)```."
   ]
  },
  {
   "cell_type": "code",
   "execution_count": 8,
   "metadata": {},
   "outputs": [
    {
     "name": "stdout",
     "output_type": "stream",
     "text": [
      "[[ 1.0+0.j         1.0+0.j         1.0+0.j       ]\n",
      " [ 1.0+0.j        -0.5-0.8660254j -0.5+0.8660254j]\n",
      " [ 1.0+0.j        -0.5+0.8660254j -0.5-0.8660254j]]\n"
     ]
    }
   ],
   "source": [
    "from scipy.linalg import dft\n",
    "my_dft_matrix = dft(3)\n",
    "print(my_dft_matrix)"
   ]
  },
  {
   "cell_type": "markdown",
   "metadata": {},
   "source": [
    "The inverse of a matrix can be computed using ```scipy.linalg.inv(a)```."
   ]
  },
  {
   "cell_type": "code",
   "execution_count": 9,
   "metadata": {},
   "outputs": [
    {
     "name": "stdout",
     "output_type": "stream",
     "text": [
      "[[ 0.33333333+0.j          0.33333333-0.j          0.33333333-0.j        ]\n",
      " [ 0.33333333+0.j         -0.16666667+0.28867513j -0.16666667-0.28867513j]\n",
      " [ 0.33333333-0.j         -0.16666667-0.28867513j -0.16666667+0.28867513j]]\n"
     ]
    }
   ],
   "source": [
    "from scipy.linalg import inv\n",
    "my_idft_matrix = inv(my_dft_matrix)\n",
    "print(my_idft_matrix)"
   ]
  },
  {
   "cell_type": "markdown",
   "metadata": {},
   "source": [
    "The operation ```numpy.dot(a, b)``` computes the dot product of two arrays.\n",
    "For 2-D arrays it is equivalent to matrix multiplication, and for 1-D arrays to inner product of vectors (without complex conjugation)."
   ]
  },
  {
   "cell_type": "code",
   "execution_count": 10,
   "metadata": {},
   "outputs": [
    {
     "name": "stdout",
     "output_type": "stream",
     "text": [
      "[[ 6.0+0.j        -0.0+0.j         0.0+0.j       ]\n",
      " [-0.0-0.j        -1.5+0.8660254j -0.0-0.j       ]\n",
      " [ 0.0-0.j         0.0-0.j        -1.5-0.8660254j]]\n",
      "[[13 10 13]\n",
      " [13 13 10]\n",
      " [10 13 13]]\n"
     ]
    }
   ],
   "source": [
    "import numpy as np\n",
    "matrix_prod1 = np.dot(my_dft_matrix, my_circ_matrix)\n",
    "matrix_prod2 = np.dot(matrix_prod1, my_idft_matrix)\n",
    "matrix_prod3 = np.dot(my_circ_matrix, my_circ_matrix)\n",
    "\n",
    "\n",
    "np.set_printoptions(suppress=True)\n",
    "\n",
    "print(matrix_prod2)\n",
    "print(matrix_prod3)"
   ]
  },
  {
   "cell_type": "markdown",
   "metadata": {},
   "source": [
    "### Questions\n",
    "These steps and their solutions immediately bring up three questions.\n",
    " * Are circulant matrices always diagonalized by the discrete Fourier transform matrix and its inverse?\n",
    " * Are product of circulant matrices (of a same size) always circulant matrices?\n",
    " * Do all pairs of circulant matrices commute under matrix multiplication?"
   ]
  },
  {
   "cell_type": "markdown",
   "metadata": {},
   "source": [
    "________________________________________________________________________________________________________________________________\n",
    "\n",
    "##### (1) Are circulant matrices always diagonalized by the discrete Fourier transform matrix and its inverse?\n",
    "\n",
    "________________________________________________________________________________________________________________________________\n",
    "\n",
    "  Yes, circulant matrices are always diagonalized by the discrete Fourier transform matrix and its inverse.\n",
    "  Reference(https://en.wikipedia.org/wiki/Circulant_matrix). \n",
    "  \n",
    "  Circulant Matrices has the following property.\n",
    "  \n",
    "  $C = F_{m}^{-1}(D)F_{m}$\n",
    "  \n",
    "  $C$ is the circulant matrix and $F_{m}$ is the DFT transform matrix.\n",
    "  where $(D)$ is defined to be\n",
    "  \n",
    "  $(D) = diag(F_{m}c)$       \n",
    "  \n",
    "  This is the diagonal matrix containing eigenvalues c(fisrt columns of C), where C(Circulant Matrix), F(DFT matrix) is define to be the following:\n",
    "    \n",
    "$C=\\left[ \\begin{array}{cccc}\n",
    "C_{0} & C_{M-1} & \\ldots & C_{1} \\\\\n",
    "C_{1} & C_{0} & \\ldots & C_{2} \\\\\n",
    "\\vdots & \\vdots &        & \\vdots \\\\\n",
    "C_{M-1} & C_{M-2} & \\ldots & C_{0} \\\\ \\end{array} \\right]$         $F=\\left[ \\begin{array}{cccc}\n",
    "1 & 1 & 1 & 1 \\\\\n",
    "1 & w^{1} & \\ldots & w^{(M-1)} \\\\\n",
    "1 & w^{2} & \\ldots & w^{2(M-1)} \\\\\n",
    "\\vdots & \\vdots &        & \\vdots \\\\\n",
    "1 & w^{M-1} & \\ldots & w^{2(M-1)} \\\\ \\end{array} \\right]$ \n",
    "\n",
    "and $w = e^{2\\pi(i)/m}$, $i=\\sqrt{-1}$\n",
    "\n",
    "  This property shows that the Circulant Matrix is a function of Diagonal matrix with its eugenvalues and DFT matrices inverse and itself.\n",
    "\n"
   ]
  },
  {
   "cell_type": "markdown",
   "metadata": {},
   "source": [
    "________________________________________________________________________________________________________________________________\n",
    "\n",
    "##### (2) Are product of circulant matrices (of a same size) always circulant matrices?\n",
    "________________________________________________________________________________________________________________________________\n",
    "\n",
    "Yes, product of circulant matrices are always circulant matrices. This is due to the fact that every circulant matrices has eigenvectors which contains eigenvalues. And product of two circulant matrices preserves its eigenvalues in thier matrices. This means that the eigenvetors are preserved as well.\n",
    "\n"
   ]
  },
  {
   "cell_type": "markdown",
   "metadata": {},
   "source": [
    "________________________________________________________________________________________________________________________________\n",
    "\n",
    "##### (3) Do all pairs of circulant matrices commute under matrix multiplication?\n",
    "________________________________________________________________________________________________________________________________\n",
    "\n",
    "Yes, All pairs of circulant matrices commute under matrix muptiplicaiton. Eigenvalues are defined as: $eigenvalues = (e^{-2\\pi(j)(k)(i)/n})$, and this is contained in eigenvectors. The communting the matrices still contains diagonal matrices with these eigenvalues.\n",
    "\n",
    "When A and B are both circulant matrices. The following equation defines them as mentioned in 2nd part of the question.\n",
    "\n",
    "  $A = F_{m}^{-1}(D_{1})F_{m}$\n",
    "  \n",
    "  $B = F_{m}^{-1}(D_{2})F_{m}$\n",
    "  \n",
    "We can see that \n",
    "\n",
    "  $AB = F_{m}^{-1}(D_{1})(D_{2})F_{m} = BA$\n",
    "\n",
    "and $(D_{1})(D_{2})$ are diagonal matrix with eigenvetors containging $eigenvalues = (e^{-2\\pi(j)(k)(i)/n})$. This implies that $AB$ and $BA$ are commutative and it is circulant.\n",
    "\n",
    "\n",
    "\n"
   ]
  },
  {
   "cell_type": "markdown",
   "metadata": {},
   "source": [
    "## Determinant\n",
    "The determinant of a square matrix is a value derived arithmetically from the coefficients of the matrix, and it summarizes a multivariable phenomenon with a signle number.\n",
    "It can be computed with ```scipy.linalg.det(a)```."
   ]
  },
  {
   "cell_type": "code",
   "execution_count": 11,
   "metadata": {},
   "outputs": [
    {
     "data": {
      "text/plain": [
       "18.0"
      ]
     },
     "execution_count": 11,
     "metadata": {},
     "output_type": "execute_result"
    }
   ],
   "source": [
    "from scipy.linalg import det\n",
    "det(my_circ_matrix)"
   ]
  },
  {
   "cell_type": "markdown",
   "metadata": {},
   "source": [
    "The code below demonstrates how to create a function in Python, how to vectorize a function so that it can be applied to the elements of a matrix, and how to use ```random```."
   ]
  },
  {
   "cell_type": "code",
   "execution_count": 22,
   "metadata": {},
   "outputs": [
    {
     "name": "stdout",
     "output_type": "stream",
     "text": [
      "[[ 0.          1.09861229  0.69314718]\n",
      " [ 0.69314718  0.          1.09861229]\n",
      " [ 1.09861229  0.69314718  0.        ]]\n",
      "[[ 1.  0.  0.]\n",
      " [ 0.  1.  0.]\n",
      " [ 0.  0.  1.]]\n",
      "296109.0\n",
      "17.76654\n"
     ]
    }
   ],
   "source": [
    "import math\n",
    "from numpy import random\n",
    "\n",
    "def my_log(x):\n",
    "    return math.log(x)\n",
    "\n",
    "my_vec_log = np.vectorize(my_log)\n",
    "\n",
    "A_step1 = my_vec_log(my_circ_matrix) # Numpy already offers a vectorized natural logarithm.\n",
    "# A_step1 = np.log(matrix_prod2)\n",
    "\n",
    "print(A_step1)\n",
    "\n",
    "max_index = 100000\n",
    "my_identity = np.identity(len(A_step1))\n",
    "print(my_identity)\n",
    "\n",
    "current_value = 0.0\n",
    "for my_index in range(0, max_index):\n",
    "    permutation_matrix = random.permutation(my_identity)\n",
    "    sign_permuation = det(permutation_matrix)\n",
    "    current_value += sign_permuation*(np.exp(np.trace(np.dot(A_step1, permutation_matrix))))\n",
    "a_step2 = math.factorial(len(A_step1)) * current_value / max_index\n",
    "print(current_value)\n",
    "print(a_step2)"
   ]
  },
  {
   "cell_type": "markdown",
   "metadata": {},
   "source": [
    "#### Questions\n",
    "It appears that the output of the loop above is close to the determinant of the circulant matrix ```my_circ_matrix```.\n",
    " * Go through the code and provide a compelling explanation of why these numbers are close.\n",
    " * Is this a property of circulant matrices, or would this finding extend to arbitrary matrices over the real numbers?"
   ]
  },
  {
   "cell_type": "markdown",
   "metadata": {},
   "source": [
    "##### (1) Go through the code and provide a compelling explanation of why these numbers are close."
   ]
  },
  {
   "cell_type": "markdown",
   "metadata": {},
   "source": [
    "The code above is computing the determinant of the matrix, utilizing the linearity of the matrix. In other words, the code is utilizing the fact that the matrix can be expressed in terms of finite linear combination of diffrent matrices. \n",
    "\n",
    "For example,\n",
    "$C=\\left[ \\begin{array}{cccc}\n",
    "C_{11} & C_{12} & \\ldots & C_{1n} \\\\\n",
    "C_{12} & C_{22} & \\ldots & C_{2n} \\\\\n",
    "\\vdots & \\vdots &        & \\vdots \\\\\n",
    "C_{m1} & C_{m2} & \\ldots & C_{mn} \\\\ \\end{array} \\right]$\n",
    "\n",
    "can be expressed in terms of linear combination as follows\n",
    "\n",
    "$C_{11}*\\left[ \\begin{array}{cccc}\n",
    "1 & 0 & \\ldots & 0 \\\\\n",
    "C_{12} & C_{22} & \\ldots & C_{2n} \\\\\n",
    "\\vdots & \\vdots &        & \\vdots \\\\\n",
    "C_{m1} & C_{m2} & \\ldots & C_{mn} \\\\ \\end{array} \\right] + C_{12}*\\left[ \\begin{array}{cccc}\n",
    "0 & 1 & \\ldots & 0 \\\\\n",
    "C_{12} & C_{22} & \\ldots & C_{2n} \\\\\n",
    "\\vdots & \\vdots &        & \\vdots \\\\\n",
    "C_{m1} & C_{m2} & \\ldots & C_{mn} \\\\ \\end{array} \\right] + ... + C_{1n}*\\left[ \\begin{array}{cccc}\n",
    "0 & 0 & \\ldots & 1 \\\\\n",
    "C_{12} & C_{22} & \\ldots & C_{2n} \\\\\n",
    "\\vdots & \\vdots &        & \\vdots \\\\\n",
    "C_{m1} & C_{m2} & \\ldots & C_{mn} \\\\ \\end{array} \\right]$\n",
    "\n",
    "Each row can be composed of linear comibation of different matrices. These different component matrix also could be expressed in terms of permutation matrix as well. And these permutation matrices either has the determinant of 1,-1. \n",
    "\n",
    "Example of the $(3 x 3)$ permutation matrix is as follows.\n",
    "\n",
    "$P=\\left[ \\begin{array}{cccc}\n",
    "1 & 0 & 0 \\\\\n",
    "0 & 0 & 1 \\\\\n",
    "0 & 1 & 0 \\\\ \n",
    " \\end{array} \\right]P=\\left[ \\begin{array}{cccc}\n",
    "1 & 0 & 0 \\\\\n",
    "0 & 1 & 0 \\\\\n",
    "0 & 0 & 1 \\\\ \n",
    " \\end{array} \\right]P=\\left[ \\begin{array}{cccc}\n",
    "0 & 0 & 1 \\\\\n",
    "0 & 1 & 0 \\\\\n",
    "1 & 0 & 0 \\\\ \n",
    " \\end{array} \\right]P=\\left[\\begin{array}{cccc}\n",
    "0 & 1 & 0 \\\\\n",
    "0 & 0 & 1 \\\\\n",
    "1 & 0 & 0 \\\\ \n",
    " \\end{array} \\right]P=\\left[\\begin{array}{cccc}\n",
    "0 & 1 & 0 \\\\\n",
    "1 & 0 & 0 \\\\\n",
    "0 & 0 & 1 \\\\ \n",
    " \\end{array} \\right]$\n",
    "\n",
    "And Summation of these series of permutation multiplied with computed sign will result is the determinant of the matrix.\n",
    "The code is computing its determinants by summing all possible permutation and sign taken over its matrix.\n",
    "\n"
   ]
  },
  {
   "cell_type": "markdown",
   "metadata": {},
   "source": [
    "##### (2) Is this a property of circulant matrices, or would this finding extend to arbitrary matrices over the real numbers?"
   ]
  },
  {
   "cell_type": "markdown",
   "metadata": {},
   "source": [
    "This finding could be extend to arbitrary matrices over the real numbers. because determinants are computed with product of elements in the matrix and there are n! ways of selecting the element out of each row and columns. And this applies to all arbitrary matrices. These element selections are determined by the permutation of the matrix."
   ]
  },
  {
   "cell_type": "markdown",
   "metadata": {},
   "source": [
    "### Tasks\n",
    " * Build code to explore the fact that the determinant function is multiplicative: $\\mathrm{det}(AB) = \\mathrm{det}(A) \\mathrm{det}(B)$."
   ]
  },
  {
   "cell_type": "code",
   "execution_count": 1,
   "metadata": {},
   "outputs": [
    {
     "name": "stdout",
     "output_type": "stream",
     "text": [
      "[[16 27 23]\n",
      " [11 23 19]\n",
      " [14 21 14]]\n",
      "-301.0\n",
      "-301.0\n"
     ]
    }
   ],
   "source": [
    "import numpy as np\n",
    "from scipy.linalg import det\n",
    "\n",
    "a = np.matrix('2 2 5; 3 1 3; 2 5 1')\n",
    "b = np.matrix('1 4 3; 2 2 1; 2 3 3')\n",
    "\n",
    "\n",
    "AB=a*b\n",
    "print(AB)\n",
    "\n",
    "Det_AB=det(AB)\n",
    "print(Det_AB)\n",
    "\n",
    "Det_A=det(a)\n",
    "Det_B=det(b)\n",
    "print(Det_A*Det_B)"
   ]
  },
  {
   "cell_type": "code",
   "execution_count": null,
   "metadata": {
    "collapsed": true
   },
   "outputs": [],
   "source": []
  }
 ],
 "metadata": {
  "kernelspec": {
   "display_name": "Python 3",
   "language": "python",
   "name": "python3"
  },
  "language_info": {
   "codemirror_mode": {
    "name": "ipython",
    "version": 3
   },
   "file_extension": ".py",
   "mimetype": "text/x-python",
   "name": "python",
   "nbconvert_exporter": "python",
   "pygments_lexer": "ipython3",
   "version": "3.6.1"
  }
 },
 "nbformat": 4,
 "nbformat_minor": 2
}
