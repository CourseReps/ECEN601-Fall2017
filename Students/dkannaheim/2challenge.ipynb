{
 "cells": [
  {
   "cell_type": "markdown",
   "metadata": {},
   "source": [
    "# Challenge 2\n",
    "An important aspect of pragmatic vector space methods is the ability to handle vectors and matrices.\n",
    "A large collection of linear algebra functions is available in [SciPy.linalg](https://docs.scipy.org/doc/scipy/reference/linalg.html).\n",
    "These functions can be employed in conjunction with the tools available in [NumPy](http://www.numpy.org/).\n",
    "We note that the main object in NumPy is the homogeneous multidimensional array."
   ]
  },
  {
   "cell_type": "markdown",
   "metadata": {},
   "source": [
    "## Matrix\n",
    "We begin by creating a simple matrix.\n",
    "One possible approach to complete this task is to use ```scipy.linalg.circulant(c)```."
   ]
  },
  {
   "cell_type": "code",
   "execution_count": 1,
   "metadata": {
    "collapsed": true
   },
   "outputs": [],
   "source": [
    "from scipy.linalg import circulant\n",
    "my_circ_matrix = circulant([1, 2, 3])"
   ]
  },
  {
   "cell_type": "markdown",
   "metadata": {},
   "source": [
    "Alternatively, you can construct the familiar discrete Fourier transform matrix with ```scipy.linalg.dft(n)```."
   ]
  },
  {
   "cell_type": "code",
   "execution_count": 2,
   "metadata": {
    "collapsed": true
   },
   "outputs": [],
   "source": [
    "from scipy.linalg import dft\n",
    "my_dft_matrix = dft(3)"
   ]
  },
  {
   "cell_type": "markdown",
   "metadata": {},
   "source": [
    "The inverse of a matrix can be computed using ```scipy.linalg.inv(a)```."
   ]
  },
  {
   "cell_type": "code",
   "execution_count": 3,
   "metadata": {
    "collapsed": true
   },
   "outputs": [],
   "source": [
    "from scipy.linalg import inv\n",
    "my_idft_matrix = inv(my_dft_matrix)"
   ]
  },
  {
   "cell_type": "markdown",
   "metadata": {},
   "source": [
    "The operation ```numpy.dot(a, b)``` computes the dot product of two arrays.\n",
    "For 2-D arrays it is equivalent to matrix multiplication, and for 1-D arrays to inner product of vectors (without complex conjugation)."
   ]
  },
  {
   "cell_type": "code",
   "execution_count": 4,
   "metadata": {},
   "outputs": [
    {
     "name": "stdout",
     "output_type": "stream",
     "text": [
      "[[ 6.0-0.j        -0.0+0.j         0.0+0.j       ]\n",
      " [-0.0-0.j        -1.5+0.8660254j -0.0+0.j       ]\n",
      " [ 0.0-0.j         0.0-0.j        -1.5-0.8660254j]]\n"
     ]
    }
   ],
   "source": [
    "import numpy as np\n",
    "matrix_prod1 = np.dot(my_dft_matrix, my_circ_matrix)\n",
    "matrix_prod2 = np.dot(matrix_prod1, my_idft_matrix)\n",
    "\n",
    "np.set_printoptions(suppress=True)\n",
    "print(matrix_prod2)"
   ]
  },
  {
   "cell_type": "markdown",
   "metadata": {},
   "source": [
    "### Questions\n",
    "These steps and their solutions immediately bring up three questions.\n",
    " * Are circulant matrices always diagonalized by the discrete Fourier transform matrix and its inverse?\n",
    " * Are product of circulant matrices (of a same size) always circulant matrices?\n",
    " * Do all pairs of circulant matrices commute under matrix multiplication?"
   ]
  },
  {
   "cell_type": "markdown",
   "metadata": {},
   "source": [
    "Answer:\n",
    "1. Yes. Circulant matrices are equal to the multiply of a discrete Fourier transform matrix and a diagonal matrix and the inverse of Fourier matrix.$$ X=C(x)=F⋅diag(x̂)⋅F^H. $$\n",
    "\n",
    "2. Yes. A circulant matrix multiply another circulant matrix is circulant matrix.\n",
    "\n",
    "3. It is easy to prove that two diagonal matrices commute under matrix multiplication since $$ \\alpha \\beta=\\sum_{i=1}^n \\alpha_{ii}\\times \\beta_{ii} = \\sum_{i=1}^n \\alpha_{ii}\\times \\alpha_{ii} =\\beta \\alpha $$ we can conclude that $$ CB = U\\alpha U^* \\times U\\beta U^* = U\\alpha \\beta U^* =U\\alpha \\beta U^*=BC $$"
   ]
  },
  {
   "cell_type": "markdown",
   "metadata": {},
   "source": [
    "## Determinant\n",
    "The determinant of a square matrix is a value derived arithmetically from the coefficients of the matrix, and it summarizes a multivariable phenomenon with a signle number.\n",
    "It can be computed with ```scipy.linalg.det(a)```."
   ]
  },
  {
   "cell_type": "code",
   "execution_count": null,
   "metadata": {
    "collapsed": true
   },
   "outputs": [],
   "source": [
    "from scipy.linalg import det\n",
    "det(my_circ_matrix)"
   ]
  },
  {
   "cell_type": "markdown",
   "metadata": {},
   "source": [
    "The code below demonstrates how to create a function in Python, how to vectorize a function so that it can be applied to the elements of a matrix, and how to use ```random```."
   ]
  },
  {
   "cell_type": "code",
   "execution_count": 1,
   "metadata": {},
   "outputs": [
    {
     "ename": "NameError",
     "evalue": "name 'np' is not defined",
     "traceback": [
      "\u001b[0;31m---------------------------------------------------------------------------\u001b[0m",
      "\u001b[0;31mNameError\u001b[0m                                 Traceback (most recent call last)",
      "\u001b[0;32m<ipython-input-1-544107efc198>\u001b[0m in \u001b[0;36m<module>\u001b[0;34m()\u001b[0m\n\u001b[1;32m      5\u001b[0m     \u001b[0;32mreturn\u001b[0m \u001b[0mmath\u001b[0m\u001b[0;34m.\u001b[0m\u001b[0mlog\u001b[0m\u001b[0;34m(\u001b[0m\u001b[0mx\u001b[0m\u001b[0;34m)\u001b[0m\u001b[0;34m\u001b[0m\u001b[0m\n\u001b[1;32m      6\u001b[0m \u001b[0;34m\u001b[0m\u001b[0m\n\u001b[0;32m----> 7\u001b[0;31m \u001b[0mmy_vec_log\u001b[0m \u001b[0;34m=\u001b[0m \u001b[0mnp\u001b[0m\u001b[0;34m.\u001b[0m\u001b[0mvectorize\u001b[0m\u001b[0;34m(\u001b[0m\u001b[0mmy_log\u001b[0m\u001b[0;34m)\u001b[0m\u001b[0;34m\u001b[0m\u001b[0m\n\u001b[0m\u001b[1;32m      8\u001b[0m \u001b[0;34m\u001b[0m\u001b[0m\n\u001b[1;32m      9\u001b[0m \u001b[0mA_step1\u001b[0m \u001b[0;34m=\u001b[0m \u001b[0mmy_vec_log\u001b[0m\u001b[0;34m(\u001b[0m\u001b[0mmy_circ_matrix\u001b[0m\u001b[0;34m)\u001b[0m \u001b[0;31m# Numpy already offers a vectorized natural logarithm.\u001b[0m\u001b[0;34m\u001b[0m\u001b[0m\n",
      "\u001b[0;31mNameError\u001b[0m: name 'np' is not defined"
     ],
     "output_type": "error"
    }
   ],
   "source": [
    "import math\n",
    "from numpy import random\n",
    "\n",
    "def my_log(x):\n",
    "    return math.log(x)\n",
    "\n",
    "my_vec_log = np.vectorize(my_log)\n",
    "\n",
    "A_step1 = my_vec_log(my_circ_matrix) # Numpy already offers a vectorized natural logarithm.\n",
    "# A_step1 = np.log(matrix_prod2)\n",
    "\n",
    "max_index = 100000\n",
    "my_identity = np.identity(len(A_step1))\n",
    "current_value = 0.0\n",
    "for my_index in range(0, max_index):\n",
    "    permutation_matrix = random.permutation(my_identity)\n",
    "    sign_permuation = det(permutation_matrix)\n",
    "    current_value += sign_permuation*(np.exp(np.trace(np.dot(A_step1, permutation_matrix))))\n",
    "a_step2 = math.factorial(len(A_step1)) * current_value / max_index\n",
    "print(a_step2)"
   ]
  },
  {
   "cell_type": "markdown",
   "metadata": {},
   "source": [
    "#### Questions\n",
    "It appears that the output of the loop above is close to the determinant of the circulant matrix ```my_circ_matrix```.\n",
    " * Go through the code and provide a compelling explain explanation of why these numbers are close.\n",
    " * Is this a property of circulant matrices, or would this finding extend to arbitrary matrices over the real numbers?"
   ]
  },
  {
   "cell_type": "markdown",
   "metadata": {},
   "source": [
    "Answer:\n",
    "1. We can calculate a determinant by the follwing:\n",
    "$$\n",
    "    |A|=\n",
    "    \\left[ \n",
    "    \\begin{array}{ccc}\n",
    "    a & b & c \\\\\n",
    "    d & e & f \\\\\n",
    "    g & h & i \\end {array}\n",
    "    \\right]\n",
    "    =a\n",
    "    \\left[ \n",
    "    \\begin{array}{ccc}\n",
    "    e & f \\\\\n",
    "    h & i \\end {array}\n",
    "    \\right]\n",
    "    -b\n",
    "    \\left[ \n",
    "    \\begin{array}{ccc}\n",
    "    d & f \\\\\n",
    "    g & i \\end {array}\n",
    "    \\right]\n",
    "    +c\n",
    "    \\left[ \n",
    "    \\begin{array}{ccc}\n",
    "    d & e \\\\\n",
    "    g & h \\end {array}\n",
    "    \\right] \\\\\n",
    "    \\\\\n",
    "    =aei+bfg+cdh-ceg-bdi-afh\n",
    "    $$  \n",
    "    But this programme uses another method:\n",
    "  $$ |A|=\\alpha_1 \\alpha_2 \\cdots \\alpha_n $$ \n",
    "  Since  \n",
    "  $$ \\sum_{i=1}^{n} \\alpha_i= tr(A) =\\sum_{i=1}^n a_{ii}$$\n",
    "  We can use $$ log(x)e^x$$ to transform the trace to \n",
    "  $\\prod_{i=1}^n \\alpha_i = exp( \\sum_{i=1}^n log(a_{ii}))$\n",
    "  We can easily find that permutation_matrix is a n×n matrix which exchange different rows or columns for one time. But this exchange is not going to change the trace of a matrix. And as a result of the line 18 ///np.exp(np.trace(np.dot(A_step1, permutation_matrix)/// we get an approximation of $\\alpha_1 \\times \\alpha_2 \\times \\alpha_3$ By multipling the sign_permuation, we can get the result of $det(A)$.\n",
    "    \n",
    "2. This can be extend to arbitary matrices over the real numbers. The permutation matrix is the combination of some element of a matrix. From the determinant formula, when the times is large enough, the result of this programme is nearly the same to the determinant."
   ]
  },
  {
   "cell_type": "markdown",
   "metadata": {},
   "source": [
    "### Tasks\n",
    " * Build code to explore the fact that the determinant function is multiplicative: $\\mathrm{det}(AB) = \\mathrm{det}(A) \\mathrm{det}(B)$."
   ]
  },
  {
   "cell_type": "code",
   "execution_count": 13,
   "metadata": {},
   "outputs": [
    {
     "name": "stdout",
     "output_type": "stream",
     "text": [
      "det(AB)= 1401909571046.415\n",
      "det(A)*def(B)= 1401909571046.398\n",
      "K= 1.2190403791339963e-14\n",
      "det(AB)=det(A)det(B)\n"
     ]
    }
   ],
   "source": [
    "\n",
    "import numpy as np\n",
    "from scipy.linalg import det\n",
    "for my_div in range(1, 10): # to test statement in the case of dimension from 1 to 10\n",
    "    sum=0.0\n",
    "    for my_index in range(1,10):  # for each dimension we implement for 10 times and calculate the the average\n",
    "        A=np.random.randint(10, size=(my_div,my_div))\n",
    "        B=np.random.randint(10, size=(my_div,my_div))\n",
    "        P=det(np.dot(A,B))\n",
    "        Q=det(A)*det(B)\n",
    "        M=P/10\n",
    "        N=Q/10\n",
    "        K=(M-N)/M\n",
    "        if(K<0.0001):\n",
    "          break\n",
    "print(\"det(AB)=\",M)\n",
    "print(\"det(A)*def(B)=\",N)\n",
    "print(\"K=\",K)\n",
    "print(\"det(AB)=det(A)det(B)\")"
   ]
  }
 ],
 "metadata": {
  "kernelspec": {
   "display_name": "Python 3",
   "language": "python",
   "name": "python3"
  },
  "language_info": {
   "codemirror_mode": {
    "name": "ipython",
    "version": 3
   },
   "file_extension": ".py",
   "mimetype": "text/x-python",
   "name": "python",
   "nbconvert_exporter": "python",
   "pygments_lexer": "ipython3",
   "version": "3.6.1"
  }
 },
 "nbformat": 4,
 "nbformat_minor": 2
}
