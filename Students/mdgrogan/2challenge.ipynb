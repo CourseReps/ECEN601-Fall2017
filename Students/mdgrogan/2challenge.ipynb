{
 "cells": [
  {
   "cell_type": "markdown",
   "metadata": {},
   "source": [
    "# Challenge 2\n",
    "An important aspect of pragmatic vector space methods is the ability to handle vectors and matrices.\n",
    "A large collection of linear algebra functions is available in [SciPy.linalg](https://docs.scipy.org/doc/scipy/reference/linalg.html).\n",
    "These functions can be employed in conjunction with the tools available in [NumPy](http://www.numpy.org/).\n",
    "We note that the main object in NumPy is the homogeneous multidimensional array."
   ]
  },
  {
   "cell_type": "markdown",
   "metadata": {},
   "source": [
    "## Matrix\n",
    "We begin by creating a simple matrix.\n",
    "One possible approach to complete this task is to use ```scipy.linalg.circulant(c)```."
   ]
  },
  {
   "cell_type": "code",
   "execution_count": 44,
   "metadata": {
    "collapsed": true
   },
   "outputs": [],
   "source": [
    "from scipy.linalg import circulant\n",
    "my_circ_matrix = circulant([1, 2, 3])"
   ]
  },
  {
   "cell_type": "markdown",
   "metadata": {},
   "source": [
    "Alternatively, you can construct the familiar discrete Fourier transform matrix with ```scipy.linalg.dft(n)```."
   ]
  },
  {
   "cell_type": "code",
   "execution_count": 45,
   "metadata": {
    "collapsed": true
   },
   "outputs": [],
   "source": [
    "from scipy.linalg import dft\n",
    "my_dft_matrix = dft(3)"
   ]
  },
  {
   "cell_type": "markdown",
   "metadata": {},
   "source": [
    "The inverse of a matrix can be computed using ```scipy.linalg.inv(a)```."
   ]
  },
  {
   "cell_type": "code",
   "execution_count": 46,
   "metadata": {
    "collapsed": true
   },
   "outputs": [],
   "source": [
    "from scipy.linalg import inv\n",
    "my_idft_matrix = inv(my_dft_matrix)"
   ]
  },
  {
   "cell_type": "markdown",
   "metadata": {},
   "source": [
    "The operation ```numpy.dot(a, b)``` computes the dot product of two arrays.\n",
    "For 2-D arrays it is equivalent to matrix multiplication, and for 1-D arrays to inner product of vectors (without complex conjugation)."
   ]
  },
  {
   "cell_type": "code",
   "execution_count": 47,
   "metadata": {},
   "outputs": [
    {
     "name": "stdout",
     "output_type": "stream",
     "text": [
      "[[ 10.+0.j   0.+0.j   0.+0.j   0.-0.j]\n",
      " [ -0.-0.j  -2.+2.j   0.-0.j   0.+0.j]\n",
      " [ -0.-0.j   0.+0.j  -2.+0.j   0.-0.j]\n",
      " [  0.-0.j   0.+0.j   0.+0.j  -2.-2.j]]\n"
     ]
    }
   ],
   "source": [
    "import numpy as np\n",
    "matrix_prod1 = np.dot(my_dft_matrix, my_circ_matrix)\n",
    "matrix_prod2 = np.dot(matrix_prod1, my_idft_matrix)\n",
    "\n",
    "np.set_printoptions(suppress=True)\n",
    "print(matrix_prod2)"
   ]
  },
  {
   "cell_type": "markdown",
   "metadata": {},
   "source": [
    "### Questions\n",
    "These steps and their solutions immediately bring up three questions.\n",
    " * Are circulant matrices always diagonalized by the discrete Fourier transform matrix and its inverse?\n",
    " * Are product of circulant matrices (of a same size) always circulant matrices?\n",
    " * Do all pairs of circulant matrices commute under matrix multiplication?"
   ]
  },
  {
   "cell_type": "markdown",
   "metadata": {},
   "source": [
    "## Determinant\n",
    "The determinant of a square matrix is a value derived arithmetically from the coefficients of the matrix, and it summarizes a multivariable phenomenon with a single number.\n",
    "It can be computed with ```scipy.linalg.det(a)```."
   ]
  },
  {
   "cell_type": "code",
   "execution_count": 72,
   "metadata": {},
   "outputs": [
    {
     "data": {
      "text/plain": [
       "-160.0"
      ]
     },
     "execution_count": 72,
     "metadata": {},
     "output_type": "execute_result"
    }
   ],
   "source": [
    "from scipy.linalg import det\n",
    "det(my_circ_matrix)"
   ]
  },
  {
   "cell_type": "markdown",
   "metadata": {},
   "source": [
    "The code below demonstrates how to create a function in Python, how to vectorize a function so that it can be applied to the elements of a matrix, and how to use ```random```."
   ]
  },
  {
   "cell_type": "code",
   "execution_count": 73,
   "metadata": {},
   "outputs": [
    {
     "name": "stdout",
     "output_type": "stream",
     "text": [
      "-161.9232\n"
     ]
    }
   ],
   "source": [
    "import math\n",
    "from numpy import random\n",
    "\n",
    "def my_log(x):\n",
    "    return math.log(x)\n",
    "\n",
    "my_vec_log = np.vectorize(my_log)\n",
    "\n",
    "A_step1 = my_vec_log(my_circ_matrix) # Numpy already offers a vectorized natural logarithm.\n",
    "#A_step1 = np.log()\n",
    "\n",
    "max_index = 10000\n",
    "my_identity = np.identity(len(A_step1))\n",
    "current_value = 0.0\n",
    "for my_index in range(0, max_index):\n",
    "    permutation_matrix = random.permutation(my_identity)\n",
    "    sign_permuation = det(permutation_matrix)  \n",
    "    current_value += sign_permuation*(np.exp(np.trace(np.dot(A_step1, permutation_matrix))))\n",
    "a_step2 = math.factorial(len(A_step1)) * current_value / max_index\n",
    "print(a_step2)"
   ]
  },
  {
   "cell_type": "markdown",
   "metadata": {},
   "source": [
    "### Questions\n",
    "It appears that the output of the loop above is close to the determinant of the circulant matrix ```my_circ_matrix```.\n",
    " * Go through the code and provide a compelling explain explanation of why these numbers are close.\n",
    " * Is this a property of circulant matrices, or would this finding extend to arbitrary matrices over the real numbers?"
   ]
  },
  {
   "cell_type": "markdown",
   "metadata": {},
   "source": [
    "### Tasks\n",
    " * Build code to explore the fact that the determinant function is multiplicative: $\\mathrm{det}(AB) = \\mathrm{det}(A) \\mathrm{det}(B)$."
   ]
  },
  {
   "cell_type": "markdown",
   "metadata": {
    "collapsed": true
   },
   "source": [
    "## Solution! "
   ]
  },
  {
   "cell_type": "markdown",
   "metadata": {},
   "source": [
    "### Matrix Questions\n",
    "* Circulant matrices are always diagonalized by the DFT matrix and its inverse. Without getting too deep, solving for the eigenvalues of some circulant matrix $C$ gives the DFT of the top row of $C$ and a matrix $U$ composed of eigenvectors (which also happens to be the unitary DFT matrix). This is true for any $C$. So we have something like \n",
    "$$C = U(I\\lambda)U^*$$ and \n",
    "$$(I\\lambda) = U^*CU$$"
   ]
  },
  {
   "cell_type": "code",
   "execution_count": 33,
   "metadata": {},
   "outputs": [
    {
     "name": "stdout",
     "output_type": "stream",
     "text": [
      "[[ 6.0-0.j         0.0+0.j         0.0+0.j       ]\n",
      " [-0.0-0.j        -1.5+0.8660254j -0.0-0.j       ]\n",
      " [ 0.0-0.j         0.0-0.j        -1.5-0.8660254j]]\n",
      "[[ 1.-0.j  3.-0.j  2.+0.j]\n",
      " [ 2.+0.j  1.+0.j  3.-0.j]\n",
      " [ 3.-0.j  2.-0.j  1.-0.j]]\n"
     ]
    }
   ],
   "source": [
    "from scipy.linalg import circulant\n",
    "from scipy.linalg import dft\n",
    "from scipy.linalg import inv\n",
    "import numpy as np\n",
    "\n",
    "#n = 3\n",
    "C = circulant([1,2,3])\n",
    "\n",
    "F = dft(3)\n",
    "Ucc = (3**-0.5)*F\n",
    "\n",
    "Finv  = inv(F)\n",
    "U = (3**0.5)*Finv\n",
    "\n",
    "p1 = np.dot(Ucc, C)\n",
    "p1 = np.dot(p1, U)\n",
    "\n",
    "p2 = np.dot(U, p1)\n",
    "p2 = np.dot(p2, Ucc)\n",
    "\n",
    "np.set_printoptions(suppress=True)\n",
    "print(p1)\n",
    "print(p2)"
   ]
  },
  {
   "cell_type": "markdown",
   "metadata": {},
   "source": [
    "No proof asked for so:\n",
    "* Products of circulant matrices (of a same size) are always circulant matrices.\n",
    "* All pairs of circulant matrices do commute under matrix multiplication."
   ]
  },
  {
   "cell_type": "markdown",
   "metadata": {},
   "source": [
    "### Determinant Questions"
   ]
  },
  {
   "cell_type": "markdown",
   "metadata": {},
   "source": [
    "* Whats happening: We have something like\n",
    "$$\\frac{n!}{MAX} \\sum_{i=1}^{MAX} \\mathrm{det}(P_i)\\cdot e^{tr(ln(C)\\cdot P_i))}$$<br><br> (sum is displaying incorrectly on my browser...) where P is a random permutation. Compare this to the formulation of the determinant (the determinant can be expressed as a sum of products of entries of the matrix where each product has [MAX] terms and the coefficient of each product is −1 or 1... via Wikipedia). We take the log of each value in C, then multiply by P so we get randomized values on the diagonal. Sum those values and put that above e. Multiply e by a coefficiant of det(P) which will be either -1 or 1. The natural log business is because $ln(x+y) = ln(x)ln(y)$ allowing us to take the trace instead of multiplying, putting it back above e undoes the damage. Do this a huge number of times, average that, and then multiply by n! which is the number of terms to be summed when taking the determinant. A sort of random determinant that becomes more accurate with more iterations. \n",
    "* This should work for any matrix that doesn't have zero terms. ln(0) = -inf which is no good."
   ]
  },
  {
   "cell_type": "markdown",
   "metadata": {},
   "source": [
    "### Task"
   ]
  },
  {
   "cell_type": "code",
   "execution_count": 85,
   "metadata": {},
   "outputs": [
    {
     "name": "stdout",
     "output_type": "stream",
     "text": [
      "det(A): -100.00000000000001\n",
      "det(B): 4.999999999999997\n",
      "det(AB): -499.9999999999984\n",
      "det(BA): -500.0000000000029\n",
      "det(C): 1565.0\n",
      "det(D): 41.00000000000001\n",
      "det(CD): 64165.00000000014\n",
      "det(DC): 64164.999999999476\n"
     ]
    }
   ],
   "source": [
    "from scipy.linalg import det \n",
    "import numpy as np\n",
    "\n",
    "A = [[1,2,3],[4,10,6],[9,8,7]]\n",
    "B = [[5,2,3],[7,5,11],[4,1,1]]\n",
    "C = [[1,2,3,4],[3,4,10,5],[2,9,8,7],[14,5,5,1]]\n",
    "D = [[7,5,11,4],[4,3,12,1],[4,1,1,3],[12,7,6,10]]\n",
    "\n",
    "\n",
    "print(\"det(A): \" + repr(det(A)))\n",
    "print(\"det(B): \" + repr(det(B)))\n",
    "print(\"det(AB): \" + repr(det(np.dot(A,B))))\n",
    "print(\"det(BA): \" + repr(det(np.dot(B,A))))\n",
    "print(\"det(C): \" + repr(det(C)))\n",
    "print(\"det(D): \" + repr(det(D)))\n",
    "print(\"det(CD): \" + repr(det(np.dot(C,D))))\n",
    "print(\"det(DC): \" + repr(det(np.dot(D,C))))"
   ]
  },
  {
   "cell_type": "code",
   "execution_count": null,
   "metadata": {
    "collapsed": true
   },
   "outputs": [],
   "source": []
  }
 ],
 "metadata": {
  "kernelspec": {
   "display_name": "Python 3",
   "language": "python",
   "name": "python3"
  },
  "language_info": {
   "codemirror_mode": {
    "name": "ipython",
    "version": 3
   },
   "file_extension": ".py",
   "mimetype": "text/x-python",
   "name": "python",
   "nbconvert_exporter": "python",
   "pygments_lexer": "ipython3",
   "version": "3.6.1"
  }
 },
 "nbformat": 4,
 "nbformat_minor": 2
}
