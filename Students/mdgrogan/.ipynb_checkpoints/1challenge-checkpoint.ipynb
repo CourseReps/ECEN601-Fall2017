{
 "cells": [
  {
   "cell_type": "markdown",
   "metadata": {},
   "source": [
    "# Challenge 1\n",
    "\n",
    "## SciPy Tutorial\n",
    "Pertinent information about [SciPy](https://docs.scipy.org/) and NumPy is available in the [SciPy Tutorial](https://docs.scipy.org/doc/scipy/reference/tutorial/index.html).\n",
    " * Read [Introduction](https://docs.scipy.org/doc/scipy/reference/tutorial/general.html)\n",
    " * Read [Basic functions](https://docs.scipy.org/doc/scipy/reference/tutorial/basic.html)\n",
    " * Read [Optimization](https://docs.scipy.org/doc/scipy/reference/tutorial/optimize.html)\n",
    " \n",
    "Consider the function defined below.\n",
    " * Plot the function using [matplotlib](https://matplotlib.org/)"
   ]
  },
  {
   "cell_type": "code",
   "execution_count": 1,
   "metadata": {
    "collapsed": true
   },
   "outputs": [],
   "source": [
    "import numpy as np\n",
    "import matplotlib.pyplot as plt"
   ]
  },
  {
   "cell_type": "code",
   "execution_count": 2,
   "metadata": {},
   "outputs": [
    {
     "data": {
      "image/png": "[encoded data removed]",
      "text/plain": [
       "<matplotlib.figure.Figure at 0x7fb9118954a8>"
      ]
     },
     "metadata": {},
     "output_type": "display_data"
    }
   ],
   "source": [
    "def g(t):\n",
    "    return 1 - (np.exp(-2*t) * np.cos(np.pi*t))\n",
    "\n",
    "t1 = np.arange(0.0, 2.0, 0.01)\n",
    "\n",
    "plt.figure(1)\n",
    "plt.plot(t1, g(t1), 'k')\n",
    "plt.show()"
   ]
  },
  {
   "cell_type": "markdown",
   "metadata": {},
   "source": [
    "Consider the class of functions of the form $f(t) = 1 - e^{-at}$ where $a$ is a free parameter.\n",
    " * Find the value of $a$ that minimizes the $L_2$ norm between $g(t)$ and $f(t)$ over the interval $[0, 2]$\n",
    " * Computer the residual mean squared error\n",
    " * Explain how you obtained $a$"
   ]
  }
 ],
 "metadata": {
  "kernelspec": {
   "display_name": "Python 3",
   "language": "python",
   "name": "python3"
  },
  "language_info": {
   "codemirror_mode": {
    "name": "ipython",
    "version": 3
   },
   "file_extension": ".py",
   "mimetype": "text/x-python",
   "name": "python",
   "nbconvert_exporter": "python",
   "pygments_lexer": "ipython3",
   "version": "3.6.1"
  }
 },
 "nbformat": 4,
 "nbformat_minor": 2
}
