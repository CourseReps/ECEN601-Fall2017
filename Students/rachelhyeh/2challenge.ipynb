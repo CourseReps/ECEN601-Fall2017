{
 "cells": [
  {
   "cell_type": "markdown",
   "metadata": {},
   "source": [
    "# Challenge 2\n",
    "An important aspect of pragmatic vector space methods is the ability to handle vectors and matrices.\n",
    "A large collection of linear algebra functions is available in [SciPy.linalg](https://docs.scipy.org/doc/scipy/reference/linalg.html).\n",
    "These functions can be employed in conjunction with the tools available in [NumPy](http://www.numpy.org/).\n",
    "We note that the main object in NumPy is the homogeneous multidimensional array."
   ]
  },
  {
   "cell_type": "markdown",
   "metadata": {},
   "source": [
    "## Matrix\n",
    "We begin by creating a simple matrix.\n",
    "One possible approach to complete this task is to use ```scipy.linalg.circulant(c)```."
   ]
  },
  {
   "cell_type": "code",
   "execution_count": 3,
   "metadata": {},
   "outputs": [
    {
     "name": "stdout",
     "output_type": "stream",
     "text": [
      "[[1 3 2]\n",
      " [2 1 3]\n",
      " [3 2 1]]\n"
     ]
    }
   ],
   "source": [
    "from scipy.linalg import circulant\n",
    "my_circ_matrix = circulant([1, 2, 3])\n",
    "print(my_circ_matrix)"
   ]
  },
  {
   "cell_type": "markdown",
   "metadata": {},
   "source": [
    "Alternatively, you can construct the familiar discrete Fourier transform matrix with ```scipy.linalg.dft(n)```."
   ]
  },
  {
   "cell_type": "code",
   "execution_count": 5,
   "metadata": {},
   "outputs": [
    {
     "name": "stdout",
     "output_type": "stream",
     "text": [
      "[[ 1.0+0.j         1.0+0.j         1.0+0.j       ]\n",
      " [ 1.0+0.j        -0.5-0.8660254j -0.5+0.8660254j]\n",
      " [ 1.0+0.j        -0.5+0.8660254j -0.5-0.8660254j]]\n"
     ]
    }
   ],
   "source": [
    "from scipy.linalg import dft\n",
    "my_dft_matrix = dft(3)\n",
    "print(my_dft_matrix)"
   ]
  },
  {
   "cell_type": "markdown",
   "metadata": {},
   "source": [
    "The inverse of a matrix can be computed using ```scipy.linalg.inv(a)```."
   ]
  },
  {
   "cell_type": "code",
   "execution_count": 6,
   "metadata": {},
   "outputs": [
    {
     "name": "stdout",
     "output_type": "stream",
     "text": [
      "[[ 0.33333333 +6.21949886e-17j  0.33333333 -6.68383741e-18j\n",
      "   0.33333333 -5.55111512e-17j]\n",
      " [ 0.33333333 +5.55111512e-17j -0.16666667 +2.88675135e-01j\n",
      "  -0.16666667 -2.88675135e-01j]\n",
      " [ 0.33333333 -1.11022302e-16j -0.16666667 -2.88675135e-01j\n",
      "  -0.16666667 +2.88675135e-01j]]\n"
     ]
    }
   ],
   "source": [
    "from scipy.linalg import inv\n",
    "my_idft_matrix = inv(my_dft_matrix)\n",
    "print(my_idft_matrix)"
   ]
  },
  {
   "cell_type": "markdown",
   "metadata": {},
   "source": [
    "The operation ```numpy.dot(a, b)``` computes the dot product of two arrays.\n",
    "For 2-D arrays it is equivalent to matrix multiplication, and for 1-D arrays to inner product of vectors (without complex conjugation)."
   ]
  },
  {
   "cell_type": "code",
   "execution_count": 7,
   "metadata": {},
   "outputs": [
    {
     "name": "stdout",
     "output_type": "stream",
     "text": [
      "[[ 6.0+0.j        -0.0+0.j         0.0+0.j       ]\n",
      " [-0.0-0.j        -1.5+0.8660254j -0.0-0.j       ]\n",
      " [ 0.0-0.j         0.0-0.j        -1.5-0.8660254j]]\n"
     ]
    }
   ],
   "source": [
    "import numpy as np\n",
    "matrix_prod1 = np.dot(my_dft_matrix, my_circ_matrix)\n",
    "matrix_prod2 = np.dot(matrix_prod1, my_idft_matrix)\n",
    "\n",
    "np.set_printoptions(suppress=True)\n",
    "print(matrix_prod2)"
   ]
  },
  {
   "cell_type": "markdown",
   "metadata": {},
   "source": [
    "### Questions\n",
    "These steps and their solutions immediately bring up three questions.\n",
    " * Are circulant matrices always diagonalized by the discrete Fourier transform matrix and its inverse?\n",
    " * Are product of circulant matrices (of a same size) always circulant matrices?\n",
    " * Do all pairs of circulant matrices commute under matrix multiplication?"
   ]
  },
  {
   "cell_type": "markdown",
   "metadata": {},
   "source": [
    "Answers:\n",
    "    \n",
    "1.Yes, circulant matrices are always diagonalized by the discrete Fourier transform matrix and its inverse, the above example shows the property.\n",
    "\n",
    "2.Yes, the product of same size circulant matrices are always circulant matrices. The below code shows the property that AB is the curculant matric.\n",
    "\n",
    "3.Yes, all pairs of circulant matrices commute under matric multiplication. The below code shows the property that AB=BA."
   ]
  },
  {
   "cell_type": "code",
   "execution_count": 2,
   "metadata": {},
   "outputs": [
    {
     "name": "stdout",
     "output_type": "stream",
     "text": [
      "AB = \n",
      "[[162 156 162 164]\n",
      " [164 162 156 162]\n",
      " [162 164 162 156]\n",
      " [156 162 164 162]]\n",
      "BA = \n",
      "[[162 156 162 164]\n",
      " [164 162 156 162]\n",
      " [162 164 162 156]\n",
      " [156 162 164 162]]\n"
     ]
    }
   ],
   "source": [
    "#Q2&Q3:\n",
    "import numpy as np\n",
    "from scipy.linalg import circulant\n",
    "\n",
    "a = np.random.randint(0,5)\n",
    "b = np.random.randint(10,15)\n",
    "circ_matrixA = circulant([a,a+1,a+2,a+3])\n",
    "circ_matrixB = circulant([b,b+1,b+2,b+3])\n",
    "productAB = np.dot(circ_matrixA, circ_matrixB)\n",
    "productBA = np.dot(circ_matrixB, circ_matrixA)\n",
    "\n",
    "print('AB = ')\n",
    "print(productAB)\n",
    "print('BA = ')\n",
    "print(productBA)"
   ]
  },
  {
   "cell_type": "markdown",
   "metadata": {},
   "source": [
    "## Determinant\n",
    "The determinant of a square matrix is a value derived arithmetically from the coefficients of the matrix, and it summarizes a multivariable phenomenon with a signle number.\n",
    "It can be computed with ```scipy.linalg.det(a)```."
   ]
  },
  {
   "cell_type": "code",
   "execution_count": 8,
   "metadata": {},
   "outputs": [
    {
     "data": {
      "text/plain": [
       "18.0"
      ]
     },
     "execution_count": 8,
     "metadata": {},
     "output_type": "execute_result"
    }
   ],
   "source": [
    "from scipy.linalg import det\n",
    "det(my_circ_matrix)"
   ]
  },
  {
   "cell_type": "markdown",
   "metadata": {},
   "source": [
    "The code below demonstrates how to create a function in Python, how to vectorize a function so that it can be applied to the elements of a matrix, and how to use ```random```."
   ]
  },
  {
   "cell_type": "code",
   "execution_count": 9,
   "metadata": {},
   "outputs": [
    {
     "name": "stdout",
     "output_type": "stream",
     "text": [
      "18.11688\n"
     ]
    }
   ],
   "source": [
    "import math\n",
    "from numpy import random\n",
    "\n",
    "def my_log(x):\n",
    "    return math.log(x)\n",
    "\n",
    "my_vec_log = np.vectorize(my_log)\n",
    "\n",
    "A_step1 = my_vec_log(my_circ_matrix) # Numpy already offers a vectorized natural logarithm.\n",
    "# A_step1 = np.log(matrix_prod2)\n",
    "\n",
    "max_index = 100000\n",
    "my_identity = np.identity(len(A_step1))\n",
    "current_value = 0.0\n",
    "for my_index in range(0, max_index):\n",
    "    permutation_matrix = random.permutation(my_identity)\n",
    "    sign_permuation = det(permutation_matrix)\n",
    "    current_value += sign_permuation*(np.exp(np.trace(np.dot(A_step1, permutation_matrix))))\n",
    "a_step2 = math.factorial(len(A_step1)) * current_value / max_index\n",
    "print(a_step2)"
   ]
  },
  {
   "cell_type": "markdown",
   "metadata": {},
   "source": [
    "#### Questions\n",
    "It appears that the output of the loop above is close to the determinant of the circulant matrix ```my_circ_matrix```.\n",
    " * Go through the code and provide a compelling explain explanation of why these numbers are close.\n",
    " * Is this a property of circulant matrices, or would this finding extend to arbitrary matrices over the real numbers?"
   ]
  },
  {
   "cell_type": "markdown",
   "metadata": {},
   "source": [
    "Answers\n",
    "\n",
    "1.Assume we pick the size 3 matrix, the determinant of that will be 3abc-a^3-b^3-c^3. Since the permutation matrix P is picking randomly and it has the probability of around 0.5 with 1 or -1, the sign_permution will also be 1 or -1. After we run through the code in loop we will get around 100000/factorial(3) times for our P, and our current_value is the determinant of the identity matrix. So at the end for a_step1 we get our result when we average the current_value with factorial of 3, we will get back with the value that around the determinant of identity matrix but not exactly same due to the probability of permutation matrix.  \n",
    "    \n",
    "2.Yes, this can be extend to arbitrary matrices over the real numbers."
   ]
  },
  {
   "cell_type": "markdown",
   "metadata": {},
   "source": [
    "### Tasks\n",
    " * Build code to explore the fact that the determinant function is multiplicative: $\\mathrm{det}(AB) = \\mathrm{det}(A) \\mathrm{det}(B)$."
   ]
  },
  {
   "cell_type": "code",
   "execution_count": 3,
   "metadata": {},
   "outputs": [
    {
     "name": "stdout",
     "output_type": "stream",
     "text": [
      "A is\n",
      "[[0 9 5 5 6]\n",
      " [6 1 8 3 7]\n",
      " [8 6 5 3 1]\n",
      " [0 6 1 8 1]\n",
      " [7 1 1 7 7]]\n",
      "B is\n",
      "[[4 3 3 9 2]\n",
      " [8 5 8 9 2]\n",
      " [2 9 6 5 1]\n",
      " [3 8 1 7 0]\n",
      " [1 9 3 0 2]]\n",
      "det(A)det(B) is 104250204.0\n",
      "det(AB) is 104250203.99999997\n",
      "It is the fact that det(AB)=det(A)det(B).\n"
     ]
    }
   ],
   "source": [
    "import numpy as np\n",
    "from scipy.linalg import det\n",
    "\n",
    "A = np.random.randint(10, size = (5,5))\n",
    "B = np.random.randint(10, size = (5,5))\n",
    "AB = np.dot(A, B)\n",
    "\n",
    "detA = det(A)\n",
    "detB = det(B)\n",
    "detA_detB = np.dot(detA, detB)\n",
    "det_AB = det(AB)  \n",
    "\n",
    "print('A is')\n",
    "print(A)\n",
    "print('B is')\n",
    "print(B)\n",
    "print('det(A)det(B) is', detA_detB)\n",
    "print('det(AB) is', det_AB)\n",
    "\n",
    "if round(det_AB, 3) == round(detA_detB, 3):\n",
    "    print('It is the fact that det(AB)=det(A)det(B).')\n",
    "else:\n",
    "    print('It is not the fact.')"
   ]
  },
  {
   "cell_type": "code",
   "execution_count": null,
   "metadata": {
    "collapsed": true
   },
   "outputs": [],
   "source": []
  }
 ],
 "metadata": {
  "kernelspec": {
   "display_name": "Python 3",
   "language": "python",
   "name": "python3"
  },
  "language_info": {
   "codemirror_mode": {
    "name": "ipython",
    "version": 3
   },
   "file_extension": ".py",
   "mimetype": "text/x-python",
   "name": "python",
   "nbconvert_exporter": "python",
   "pygments_lexer": "ipython3",
   "version": "3.6.1"
  }
 },
 "nbformat": 4,
 "nbformat_minor": 2
}
