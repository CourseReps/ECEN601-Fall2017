{
 "cells": [
  {
   "cell_type": "markdown",
   "metadata": {},
   "source": [
    "# Challenge 1\n",
    "\n",
    "## SciPy Tutorial\n",
    "Pertinent information about [SciPy](https://docs.scipy.org/) and NumPy is available in the [SciPy Tutorial](https://docs.scipy.org/doc/scipy/reference/tutorial/index.html).\n",
    " * Read [Introduction](https://docs.scipy.org/doc/scipy/reference/tutorial/general.html)\n",
    " * Read [Basic functions](https://docs.scipy.org/doc/scipy/reference/tutorial/basic.html)\n",
    " * Read [Optimization](https://docs.scipy.org/doc/scipy/reference/tutorial/optimize.html)\n",
    " \n",
    "Consider the function defined below.\n",
    " * Plot the function using [matplotlib](https://matplotlib.org/)"
   ]
  },
  {
   "cell_type": "code",
   "execution_count": 1,
   "metadata": {
    "collapsed": true
   },
   "outputs": [],
   "source": [
    "import numpy as np\n",
    "import matplotlib.pyplot as plt"
   ]
  },
  {
   "cell_type": "code",
   "execution_count": 2,
   "metadata": {},
   "outputs": [
    {
     "data": {
      "image/png": "[encoded data removed]",
      "text/plain": [
       "<matplotlib.figure.Figure at 0x1a914f9e2e8>"
      ]
     },
     "metadata": {},
     "output_type": "display_data"
    }
   ],
   "source": [
    "def g(t):\n",
    "    return 1 - (np.exp(-2*t) * np.cos(np.pi*t))\n",
    "\n",
    "t1 = np.arange(0.0, 2.0, 0.01)\n",
    "\n",
    "plt.figure(1)\n",
    "plt.plot(t1, g(t1), 'k')\n",
    "plt.show()"
   ]
  },
  {
   "cell_type": "markdown",
   "metadata": {},
   "source": [
    "Consider the class of functions of the form $f(t) = 1 - e^{-at}$ where $a$ is a free parameter.\n",
    " * Find the value of $a$ that minimizes the $L_2$ norm between $g(t)$ and $f(t)$ over the interval $[0, 2]$\n",
    " * Computer the residual mean squared error\n",
    " * Explain how you obtained $a$"
   ]
  },
  {
   "cell_type": "code",
   "execution_count": 2,
   "metadata": {},
   "outputs": [
    {
     "data": {
      "image/png": "[encoded data removed]",
      "text/plain": [
       "<matplotlib.figure.Figure at 0x1f757110320>"
      ]
     },
     "metadata": {},
     "output_type": "display_data"
    },
    {
     "name": "stdout",
     "output_type": "stream",
     "text": [
      "Value for a is 4.6  which the minimized L2 norm is 1.50454026637\n",
      "Residual mean squared error is 0.0113182070656\n"
     ]
    }
   ],
   "source": [
    "import numpy as np\n",
    "import matplotlib.pyplot as plt\n",
    "\n",
    "def g(t):\n",
    "    return 1 - (np.exp(-2*t) * np.cos(np.pi*t))\n",
    "def f(t, a):\n",
    "    return 1 - (np.exp(-1*a*t))\n",
    "\n",
    "t1 = np.arange(0.0, 2.0, 0.01)\n",
    "for guessA in np.arange(0.0, 10.0, 0.01):\n",
    "    l2norm = np.sqrt( sum( (g(t1)-f(t1, guessA))**2 ) )\n",
    "    dec = np.sqrt( sum( (g(t1)-f(t1, guessA-0.01))**2 ) )\n",
    "    inc = np.sqrt( sum( (g(t1)-f(t1, guessA+0.01))**2 ) )\n",
    "    if ((l2norm < dec) and (l2norm < inc)):\n",
    "        a_minL = guessA\n",
    "        \n",
    "l2norm = np.sqrt( sum( (g(t1)-f(t1, a_minL))**2 ) )\n",
    "rms = sum( (g(t1)-f(t1, a_minL))**2 ) / len(t1)\n",
    "\n",
    "t1 = np.arange(0.0, 2.0, 0.01)\n",
    "plt.figure(1)\n",
    "plt.plot(t1, g(t1), 'g--^', label = 'g(t)')\n",
    "plt.plot(t1, f(t1, a_minL), 'b-o', label = 'f(t)')\n",
    "plt.legend()\n",
    "plt.show()\n",
    "print(\"Value for a is\", a_minL, \" which the minimized L2 norm is\", l2norm)\n",
    "print(\"Residual mean squared error is\", rms)"
   ]
  },
  {
   "cell_type": "markdown",
   "metadata": {},
   "source": [
    "In order to get my value 'a' which L2 norm is minimized, I set a variable 'guassA' that is given from range 0 to 10 with steps 0.01 and put every guessA back to the L2 norm equation. The current point that put guessA into the equaion is stored in 'l2norm', 'dec' is the left point that put a step before guessA into equation, and 'inc' is the right point that put a step further of guessA into equation.\n",
    "Since the L2 norm is minimized, we know that left point of it and right point of it should be greater than the minimum point, so I compare the 'l2norm' with 'dec' and 'inc'. When l2norm is both smaller than left and right point, I find the minimum point which the current guessA is the value of 'a' we want to find."
   ]
  }
 ],
 "metadata": {
  "kernelspec": {
   "display_name": "Python 3",
   "language": "python",
   "name": "python3"
  },
  "language_info": {
   "codemirror_mode": {
    "name": "ipython",
    "version": 3
   },
   "file_extension": ".py",
   "mimetype": "text/x-python",
   "name": "python",
   "nbconvert_exporter": "python",
   "pygments_lexer": "ipython3",
   "version": "3.6.1"
  }
 },
 "nbformat": 4,
 "nbformat_minor": 2
}
