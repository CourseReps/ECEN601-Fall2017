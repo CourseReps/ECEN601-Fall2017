{
 "cells": [
  {
   "cell_type": "markdown",
   "metadata": {},
   "source": [
    "# Challenge 2\n",
    "An important aspect of pragmatic vector space methods is the ability to handle vectors and matrices.\n",
    "A large collection of linear algebra functions is available in [SciPy.linalg](https://docs.scipy.org/doc/scipy/reference/linalg.html).\n",
    "These functions can be employed in conjunction with the tools available in [NumPy](http://www.numpy.org/).\n",
    "We note that the main object in NumPy is the homogeneous multidimensional array."
   ]
  },
  {
   "cell_type": "markdown",
   "metadata": {},
   "source": [
    "## Matrix\n",
    "We begin by creating a simple matrix.\n",
    "One possible approach to complete this task is to use ```scipy.linalg.circulant(c)```."
   ]
  },
  {
   "cell_type": "code",
   "execution_count": 5,
   "metadata": {},
   "outputs": [
    {
     "name": "stdout",
     "output_type": "stream",
     "text": [
      "[[1 3 2]\n",
      " [2 1 3]\n",
      " [3 2 1]]\n"
     ]
    }
   ],
   "source": [
    "from scipy.linalg import circulant\n",
    "my_circ_matrix = circulant([1, 2, 3])\n",
    "print(my_circ_matrix)"
   ]
  },
  {
   "cell_type": "markdown",
   "metadata": {},
   "source": [
    "Alternatively, you can construct the familiar discrete Fourier transform matrix with ```scipy.linalg.dft(n)```."
   ]
  },
  {
   "cell_type": "code",
   "execution_count": 6,
   "metadata": {},
   "outputs": [
    {
     "name": "stdout",
     "output_type": "stream",
     "text": [
      "[[ 1.0+0.j         1.0+0.j         1.0+0.j       ]\n",
      " [ 1.0+0.j        -0.5-0.8660254j -0.5+0.8660254j]\n",
      " [ 1.0+0.j        -0.5+0.8660254j -0.5-0.8660254j]]\n"
     ]
    }
   ],
   "source": [
    "from scipy.linalg import dft\n",
    "my_dft_matrix = dft(3)\n",
    "print(my_dft_matrix)"
   ]
  },
  {
   "cell_type": "markdown",
   "metadata": {},
   "source": [
    "The inverse of a matrix can be computed using ```scipy.linalg.inv(a)```."
   ]
  },
  {
   "cell_type": "code",
   "execution_count": 7,
   "metadata": {},
   "outputs": [
    {
     "name": "stdout",
     "output_type": "stream",
     "text": [
      "[[ 0.33333333+0.j          0.33333333+0.j          0.33333333-0.j        ]\n",
      " [ 0.33333333+0.j         -0.16666667+0.28867513j -0.16666667-0.28867513j]\n",
      " [ 0.33333333-0.j         -0.16666667-0.28867513j -0.16666667+0.28867513j]]\n"
     ]
    }
   ],
   "source": [
    "from scipy.linalg import inv\n",
    "my_idft_matrix = inv(my_dft_matrix)\n",
    "print(my_idft_matrix)"
   ]
  },
  {
   "cell_type": "markdown",
   "metadata": {},
   "source": [
    "The operation ```numpy.dot(a, b)``` computes the dot product of two arrays.\n",
    "For 2-D arrays it is equivalent to matrix multiplication, and for 1-D arrays to inner product of vectors (without complex conjugation)."
   ]
  },
  {
   "cell_type": "code",
   "execution_count": 9,
   "metadata": {},
   "outputs": [
    {
     "name": "stdout",
     "output_type": "stream",
     "text": [
      "[[ 6.0-0.j         0.0+0.j        -0.0+0.j       ]\n",
      " [-0.0-0.j        -1.5+0.8660254j -0.0-0.j       ]\n",
      " [ 0.0-0.j         0.0-0.j        -1.5-0.8660254j]]\n"
     ]
    }
   ],
   "source": [
    "import numpy as np\n",
    "matrix_prod1 = np.dot(my_dft_matrix, my_circ_matrix)\n",
    "matrix_prod2 = np.dot(matrix_prod1, my_idft_matrix)\n",
    "\n",
    "np.set_printoptions(suppress=True)\n",
    "print(matrix_prod2)"
   ]
  },
  {
   "cell_type": "markdown",
   "metadata": {},
   "source": [
    "### Questions\n",
    "These steps and their solutions immediately bring up three questions.\n",
    " * Are circulant matrices always diagonalized by the discrete Fourier transform matrix and its inverse?\n",
    " * Are product of circulant matrices (of a same size) always circulant matrices?\n",
    " * Do all pairs of circulant matrices commute under matrix multiplication?"
   ]
  },
  {
   "cell_type": "markdown",
   "metadata": {},
   "source": [
    "### Answers\n",
    "1. Circulant matrices are always diagnolized by the discrete Fourier transform matrix and its inverse.\n",
    "\n",
    "  The normalized eigenvectors of a N dimensional circulant matrix is \n",
    "  \\begin{equation}\n",
    "  v_j=\\frac{1}{\\sqrt{N}}\\left(1,w_j,w_j^2,\\cdots ,w_j^{N-1}\\right)^T, ~~~~ j=0,1,\\cdots,N-1\n",
    "  \\end{equation}\n",
    "  where, $w_j=\\exp{\\left(\\frac{2\\pi ij}{N}\\right)}$and $i$ is the imaginary unit.\n",
    "  \n",
    "  If we form the eigenvectors as a basis and built them into a matrix $P$, then $P^{-1}CP$ will be a diagonal matrix.\n",
    "  \n",
    "  As we know. the $N\\times N$ square DFT matrix $W$ is\n",
    "  \\begin{equation}\n",
    "  W=\\frac{1}{\\sqrt{N}}\n",
    "  \\left[\\begin{array}{cccccc}\n",
    "  1 & 1 & 1 & 1 & \\cdots & 1 \\\\\n",
    "  1 & w & w^2 & w^3 & \\cdots & w^{N-1} \\\\\n",
    "  1 & w^2 & w^4 & w^6 & \\cdots & w^{2\\left(N-1\\right)} \\\\\n",
    "  1 & w^3 & w^6 & w^9 & \\cdots & w^{3\\left(N-1\\right)} \\\\\n",
    "  \\vdots & \\vdots & \\vdots & \\vdots & \\ddots & \\vdots \\\\\n",
    "  1 & w^{N-1} & w^{2\\left(N-1\\right)} & w^{3\\left(N-1\\right)} & \\cdots & w^{\\left(N-1\\right)\\left(N-1\\right)}\n",
    "  \\end{array}\\right]\n",
    "  \\end{equation}\n",
    "  where the colomn vectors are the same as the normalized eigenvectors of a N dimensional circulant matrix. \n",
    "  \n",
    "  Then, we have $P=W$ and $W^{-1}CW$ is a diagonal matrix. \n",
    "  \n",
    "  So, circulant matrices are always disgnolized by the discrete Fourier transform matrix and its inverse. \n",
    "\n",
    "2. The product of circulant matrices are always circulant matrices.\n",
    "\n",
    "3. All pairs of circulant matrics commute under matrix multiplication."
   ]
  },
  {
   "cell_type": "markdown",
   "metadata": {},
   "source": [
    "## Determinant\n",
    "The determinant of a square matrix is a value derived arithmetically from the coefficients of the matrix, and it summarizes a multivariable phenomenon with a signle number.\n",
    "It can be computed with ```scipy.linalg.det(a)```."
   ]
  },
  {
   "cell_type": "code",
   "execution_count": 12,
   "metadata": {},
   "outputs": [
    {
     "data": {
      "text/plain": [
       "18.0"
      ]
     },
     "execution_count": 12,
     "metadata": {},
     "output_type": "execute_result"
    }
   ],
   "source": [
    "from scipy.linalg import det\n",
    "det(my_circ_matrix)"
   ]
  },
  {
   "cell_type": "markdown",
   "metadata": {},
   "source": [
    "The code below demonstrates how to create a function in Python, how to vectorize a function so that it can be applied to the elements of a matrix, and how to use ```random```."
   ]
  },
  {
   "cell_type": "code",
   "execution_count": 15,
   "metadata": {},
   "outputs": [
    {
     "name": "stdout",
     "output_type": "stream",
     "text": [
      "[[1 3 2]\n",
      " [2 1 3]\n",
      " [3 2 1]]\n",
      "[[ 0.          1.09861229  0.69314718]\n",
      " [ 0.69314718  0.          1.09861229]\n",
      " [ 1.09861229  0.69314718  0.        ]]\n",
      "17.75514\n"
     ]
    }
   ],
   "source": [
    "import math\n",
    "from numpy import random\n",
    "\n",
    "def my_log(x):\n",
    "    return math.log(x)\n",
    "\n",
    "my_vec_log = np.vectorize(my_log)\n",
    "\n",
    "print(my_circ_matrix)\n",
    "A_step1 = my_vec_log(my_circ_matrix) # Numpy already offers a vectorized natural logarithm.\n",
    "print(A_step1)\n",
    "# A_step1 = np.log(matrix_prod2)\n",
    "\n",
    "max_index = 100000\n",
    "my_identity = np.identity(len(A_step1))\n",
    "current_value = 0.0\n",
    "for my_index in range(0, max_index):\n",
    "    permutation_matrix = random.permutation(my_identity)\n",
    "    sign_permuation = det(permutation_matrix)\n",
    "    current_value += sign_permuation*(np.exp(np.trace(np.dot(A_step1, permutation_matrix))))\n",
    "a_step2 = math.factorial(len(A_step1)) * current_value / max_index\n",
    "print(a_step2)"
   ]
  },
  {
   "cell_type": "markdown",
   "metadata": {},
   "source": [
    "#### Questions\n",
    "It appears that the output of the loop above is close to the determinant of the circulant matrix ```my_circ_matrix```.\n",
    " * Go through the code and provide a compelling explain explanation of why these numbers are close.\n",
    " * Is this a property of circulant matrices, or would this finding extend to arbitrary matrices over the real numbers?"
   ]
  },
  {
   "cell_type": "markdown",
   "metadata": {},
   "source": [
    "### Answers\n",
    "1. Let $C$=my_circ_matrix=$\\left[\\begin{array}{ccc}a & c & b\\\\b & a & c\\\\c & b & a\\end{array}\\right]$,then A_step1=$\\left[\\begin{array}{ccc}\\ln{a} & \\ln{c} & \\ln{b}\\\\\\ln{b} & \\ln{a} & \\ln{c}\\\\\\ln{c} & \\ln{b} & \\ln{a}\\end{array}\\right]$, $\\det{\\left(A\\right)}=\\left|\\begin{array}{ccc}a & c & b\\\\b & a & c\\\\c & b & a\\end{array}\\right|=a\\left(a^2-bc\\right)-c\\left(ab-c^2\\right)+b\\left(b^2-ac\\right)=a^2+b^2+c^2-3abc$.\n",
    "  \n",
    "  The random.permutation(my_identity) has 6 diffrents situations which are of the same probability.\n",
    "  \n",
    "  When permutation_matrix = random.permutation(my_identity) = $\\left[\\begin{array}{ccc}1 & 0 & 0\\\\0 & 1 & 0\\\\0 & 0 & 1\\end{array}\\right]$, sign_permuation = det(permutation_matrix) = 1, np.dot(A_step1, permutation_matrix) = $\\left[\\begin{array}{ccc}\\ln{a} & 0 & 0\\\\0 & \\ln{a} & 0\\\\0 & 0 & \\ln{a}\\end{array}\\right]$, np.trace(np.dot(A_step1, permutation_matrix)) = $3\\ln{a}$, np.exp(np.trace(np.dot(A_step1, permutation_matrix))) = $a^3$, current_value += $a^3$.\n",
    "  \n",
    "  The same, when permutation_matrix = $\\left[\\begin{array}{ccc}1 & 0 & 0\\\\0 & 0 & 1\\\\0 & 1 & 0\\end{array}\\right]$ or $\\left[\\begin{array}{ccc}0 & 1 & 0\\\\1 & 0 & 0\\\\0 & 0 & 1\\end{array}\\right]$ or $\\left[\\begin{array}{ccc}0 & 0 & 1\\\\0 & 1 & 0\\\\1 & 0 & 0\\end{array}\\right]$, we have current_value += $-abc$.\n",
    "  \n",
    "  When permutation_matrix = $\\left[\\begin{array}{ccc}0 & 1 & 0\\\\0 & 0 & 1\\\\1 & 0 & 0\\end{array}\\right]$, we have current_value += $b^3$.\n",
    "  \n",
    "  When permutation_matrix = $\\left[\\begin{array}{ccc}0 & 0 & 1\\\\1 & 0 & 0\\\\0 & 1 & 0\\end{array}\\right]$, we have current_value += $c^3$.\n",
    "  \n",
    "  Due to the 6 kinds of permutation_matrix appear at a probability of $\\frac{1}{6}$ of each, a_step2 = 6 * current_value / max_index is equal to $a^2+b^2+c^2-3abc$ when max_index is infinite which is equal to $\\det{\\left(A\\right)}$.\n",
    "  \n",
    "2. It can be extended to arbitrary matrices over the real numbers.\n",
    "  \n",
    "  Because np.exp(np.trace(np.dot(A_step1, permutation_matrix))) is one of the items that including in the determinant calculation and sign_permuation = det(permutation_matrix) is actually the sign of this item. \n",
    "  \n",
    "  This process randomly sums up all the items in determinant calculation and calculates the mean which is equal to the determinant when repeats infinite times.\n",
    "  "
   ]
  },
  {
   "cell_type": "markdown",
   "metadata": {},
   "source": [
    "### Tasks\n",
    " * Build code to explore the fact that the determinant function is multiplicative: $\\mathrm{det}(AB) = \\mathrm{det}(A) \\mathrm{det}(B)$."
   ]
  },
  {
   "cell_type": "code",
   "execution_count": 26,
   "metadata": {},
   "outputs": [
    {
     "name": "stdout",
     "output_type": "stream",
     "text": [
      "A= [[ 7 10  5 10  5]\n",
      " [ 4  7  9  3  6]\n",
      " [ 8  1  4  1  8]\n",
      " [ 1  3 10  4  4]\n",
      " [ 3  6  1  8  8]]\n",
      "B= [[10  2  5 10  5]\n",
      " [ 7  8  3  8  8]\n",
      " [10  4  7  1  7]\n",
      " [ 2  5  6  6  5]\n",
      " [10  7  5  7  6]]\n",
      "AB= [[260 199 185 250 230]\n",
      " [245 157 152 165 190]\n",
      " [209 101 117 154 129]\n",
      " [179 114 128  96 143]\n",
      " [178 154 128 183 158]]\n"
     ]
    }
   ],
   "source": [
    "A = random.randint(1, 10 + 1,(5,5))\n",
    "B = random.randint(1, 10 + 1,(5,5))\n",
    "AB = np.dot(A,B)\n",
    "print(\"A=\",A)\n",
    "print(\"B=\",B)\n",
    "print(\"AB=\",AB)"
   ]
  },
  {
   "cell_type": "code",
   "execution_count": 27,
   "metadata": {},
   "outputs": [
    {
     "name": "stdout",
     "output_type": "stream",
     "text": [
      "det(A)= 22365.000000000004\n",
      "det(B) -9678.000000000002\n",
      "det(A)*det(B)= -216448470.0000001\n",
      "det(AB)= -216448470.00000072\n"
     ]
    }
   ],
   "source": [
    "detA = det(A)\n",
    "detB = det(B)\n",
    "detAdetB = detA * detB\n",
    "detAB = det(AB)\n",
    "print(\"det(A)=\",detA)\n",
    "print(\"det(B)\",detB)\n",
    "print(\"det(A)*det(B)=\",detAdetB)\n",
    "print(\"det(AB)=\",detAB)"
   ]
  },
  {
   "cell_type": "code",
   "execution_count": 28,
   "metadata": {},
   "outputs": [
    {
     "name": "stdout",
     "output_type": "stream",
     "text": [
      "det(A)det(B) = det(AB)\n"
     ]
    }
   ],
   "source": [
    "if(abs(detAdetB - detAB) < 0.0001):\n",
    "    print(\"det(A)det(B) = det(AB)\")\n",
    "else:\n",
    "    print(\"det(A)det(B) is not equal to det(AB)\")"
   ]
  }
 ],
 "metadata": {
  "kernelspec": {
   "display_name": "Python 3",
   "language": "python",
   "name": "python3"
  },
  "language_info": {
   "codemirror_mode": {
    "name": "ipython",
    "version": 3
   },
   "file_extension": ".py",
   "mimetype": "text/x-python",
   "name": "python",
   "nbconvert_exporter": "python",
   "pygments_lexer": "ipython3",
   "version": "3.6.1"
  }
 },
 "nbformat": 4,
 "nbformat_minor": 2
}
