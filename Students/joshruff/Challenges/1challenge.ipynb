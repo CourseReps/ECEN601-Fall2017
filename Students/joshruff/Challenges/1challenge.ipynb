{
 "cells": [
  {
   "cell_type": "markdown",
   "metadata": {},
   "source": [
    "# Challenge 1\n",
    "\n",
    "## SciPy Tutorial\n",
    "Pertinent information about [SciPy](https://docs.scipy.org/) and NumPy is available in the [SciPy Tutorial](https://docs.scipy.org/doc/scipy/reference/tutorial/index.html).\n",
    " * Read [Introduction](https://docs.scipy.org/doc/scipy/reference/tutorial/general.html)\n",
    " * Read [Basic functions](https://docs.scipy.org/doc/scipy/reference/tutorial/basic.html)\n",
    " * Read [Optimization](https://docs.scipy.org/doc/scipy/reference/tutorial/optimize.html)\n",
    " \n",
    "Consider the function defined below.\n",
    " * Plot the function using [matplotlib](https://matplotlib.org/)"
   ]
  },
  {
   "cell_type": "code",
   "execution_count": 89,
   "metadata": {
    "collapsed": true
   },
   "outputs": [],
   "source": [
    "import numpy as np\n",
    "import scipy as sp\n",
    "import matplotlib.pyplot as plt"
   ]
  },
  {
   "cell_type": "code",
   "execution_count": 90,
   "metadata": {
    "collapsed": false
   },
   "outputs": [
    {
     "data": {
      "image/png": "[encoded data removed]",
      "text/plain": [
       "<matplotlib.figure.Figure at 0x1fbca76ed68>"
      ]
     },
     "metadata": {},
     "output_type": "display_data"
    }
   ],
   "source": [
    "def g(t):\n",
    "    return 1 - (np.exp(-2*t) * np.cos(np.pi*t))\n",
    "\n",
    "t1 = np.arange(0.0, 2.0, 0.01)\n",
    "\n",
    "plt.figure(1)\n",
    "plt.plot(t1, g(t1), 'k')\n",
    "plt.show()"
   ]
  },
  {
   "cell_type": "markdown",
   "metadata": {},
   "source": [
    "Consider the class of functions of the form $f(t) = 1 - e^{-at}$ where $a$ is a free parameter.\n",
    " * Find the value of $a$ that minimizes the $L_2$ norm between $g(t)$ and $f(t)$ over the interval $[0, 2]$\n",
    " * Computer the residual mean squared error\n",
    " * Explain how you obtained $a$"
   ]
  },
  {
   "cell_type": "code",
   "execution_count": 91,
   "metadata": {
    "collapsed": true
   },
   "outputs": [],
   "source": [
    "def f(t,a):\n",
    "    return 1 - (np.exp(-1*a*t))"
   ]
  },
  {
   "cell_type": "code",
   "execution_count": 92,
   "metadata": {
    "collapsed": false
   },
   "outputs": [
    {
     "name": "stdout",
     "output_type": "stream",
     "text": [
      "<class 'numpy.ndarray'>\n"
     ]
    }
   ],
   "source": [
    "print(type(f(t1,4)))"
   ]
  },
  {
   "cell_type": "code",
   "execution_count": 93,
   "metadata": {
    "collapsed": false
   },
   "outputs": [
    {
     "data": {
      "text/plain": [
       "1.5615646116820909"
      ]
     },
     "execution_count": 93,
     "metadata": {},
     "output_type": "execute_result"
    }
   ],
   "source": [
    "np.linalg.norm(f(t1,4)-g(t1))"
   ]
  },
  {
   "cell_type": "code",
   "execution_count": 118,
   "metadata": {
    "collapsed": false
   },
   "outputs": [],
   "source": [
    "\n",
    "def minimize_distance(seed,step,min_change):\n",
    "    distance = np.linalg.norm(f(t1,seed)-g(t1))\n",
    "    a_list.append(seed)\n",
    "    dist_list.append(distance)\n",
    "    print(\"a = \",seed,\"\\tstep = \",step,\"\\tdistance = \",distance,\"\\tconverge at step<\",min_change)\n",
    "    \n",
    "    # if step is below minimum change, assume convergance\n",
    "    # return current a value and distance\n",
    "    if(abs(step)<min_change):\n",
    "        return (seed,distance)\n",
    "    \n",
    "    # Calculate distances with up and down step\n",
    "    p_distance = np.linalg.norm(f(t1,seed+step)-g(t1))\n",
    "    n_distance = np.linalg.norm(f(t1,seed-step)-g(t1))     \n",
    "    \n",
    "    # If current distance is minimum, divide step by 2 and calculate distance again\n",
    "    if(distance <= p_distance and distance <= n_distance):\n",
    "        return minimize_distance(seed, step/2, min_change)\n",
    "    \n",
    "    # If seed value + step is minimum distance, move a to seed+step, and calculate distance again\n",
    "    elif(p_distance <= distance and p_distance <= n_distance):\n",
    "        return minimize_distance(seed+step, step, min_change)\n",
    "    \n",
    "    # If seed value + step is minimum distance, move a to seed-step, and calculate distance again\n",
    "    elif(n_distance <= distance and n_distance <= p_distance):\n",
    "        return minimize_distance(seed-step, -1*step, min_change)\n",
    "    "
   ]
  },
  {
   "cell_type": "code",
   "execution_count": 138,
   "metadata": {
    "collapsed": false
   },
   "outputs": [
    {
     "name": "stdout",
     "output_type": "stream",
     "text": [
      "a =  64 \tstep =  32 \tdistance =  3.72225915444 \tconverge at step< 0.01\n",
      "a =  32 \tstep =  -32 \tdistance =  3.43934929549 \tconverge at step< 0.01\n",
      "a =  32 \tstep =  -16.0 \tdistance =  3.43934929549 \tconverge at step< 0.01\n",
      "a =  16.0 \tstep =  -16.0 \tdistance =  2.90546912508 \tconverge at step< 0.01\n",
      "a =  16.0 \tstep =  -8.0 \tdistance =  2.90546912508 \tconverge at step< 0.01\n",
      "a =  8.0 \tstep =  -8.0 \tdistance =  2.03618118272 \tconverge at step< 0.01\n",
      "a =  8.0 \tstep =  -4.0 \tdistance =  2.03618118272 \tconverge at step< 0.01\n",
      "a =  4.0 \tstep =  -4.0 \tdistance =  1.56156461168 \tconverge at step< 0.01\n",
      "a =  4.0 \tstep =  -2.0 \tdistance =  1.56156461168 \tconverge at step< 0.01\n",
      "a =  4.0 \tstep =  -1.0 \tdistance =  1.56156461168 \tconverge at step< 0.01\n",
      "a =  5.0 \tstep =  1.0 \tdistance =  1.52252460923 \tconverge at step< 0.01\n",
      "a =  5.0 \tstep =  0.5 \tdistance =  1.52252460923 \tconverge at step< 0.01\n",
      "a =  4.5 \tstep =  -0.5 \tdistance =  1.50597915841 \tconverge at step< 0.01\n",
      "a =  4.5 \tstep =  -0.25 \tdistance =  1.50597915841 \tconverge at step< 0.01\n",
      "a =  4.5 \tstep =  -0.125 \tdistance =  1.50597915841 \tconverge at step< 0.01\n",
      "a =  4.625 \tstep =  0.125 \tdistance =  1.5045986433 \tconverge at step< 0.01\n",
      "a =  4.625 \tstep =  0.0625 \tdistance =  1.5045986433 \tconverge at step< 0.01\n",
      "a =  4.625 \tstep =  0.03125 \tdistance =  1.5045986433 \tconverge at step< 0.01\n",
      "a =  4.59375 \tstep =  -0.03125 \tdistance =  1.50455103138 \tconverge at step< 0.01\n",
      "a =  4.59375 \tstep =  -0.015625 \tdistance =  1.50455103138 \tconverge at step< 0.01\n",
      "a =  4.609375 \tstep =  0.015625 \tdistance =  1.50454323373 \tconverge at step< 0.01\n",
      "a =  4.609375 \tstep =  0.0078125 \tdistance =  1.50454323373 \tconverge at step< 0.01\n"
     ]
    }
   ],
   "source": [
    "a_list = []\n",
    "dist_list = []\n",
    "(a,distance)=minimize_distance(64,32,.01)"
   ]
  },
  {
   "cell_type": "code",
   "execution_count": 139,
   "metadata": {
    "collapsed": false
   },
   "outputs": [
    {
     "name": "stdout",
     "output_type": "stream",
     "text": [
      "[64, 32, 32, 16.0, 16.0, 8.0, 8.0, 4.0, 4.0, 4.0, 5.0, 5.0, 4.5, 4.5, 4.5, 4.625, 4.625, 4.625, 4.59375, 4.59375, 4.609375, 4.609375]\n",
      "[64, 32, 4.0, 5.0, 4.5, 4.625, 8.0, 4.59375, 4.609375, 16.0]\n"
     ]
    }
   ],
   "source": [
    "print(a_list)\n",
    "a_list = list(set(a_list))\n",
    "print(a_list)"
   ]
  },
  {
   "cell_type": "code",
   "execution_count": 140,
   "metadata": {
    "collapsed": false
   },
   "outputs": [
    {
     "data": {
      "image/png": "[encoded data removed]",
      "text/plain": [
       "<matplotlib.figure.Figure at 0x1fbc9e33a20>"
      ]
     },
     "metadata": {},
     "output_type": "display_data"
    }
   ],
   "source": [
    "plt.figure(2)\n",
    "\n",
    "plt.plot(t1,g(t1),label = 'g(t)', color = 'k')\n",
    "plt.legend()\n",
    "\n",
    "for a in a_list:\n",
    "    plt.plot(t1,f(t1,a),label='a='+str(a))\n",
    "    plt.legend()\n",
    "\n",
    "plt.show()\n",
    "\n"
   ]
  },
  {
   "cell_type": "code",
   "execution_count": null,
   "metadata": {
    "collapsed": true
   },
   "outputs": [],
   "source": []
  },
  {
   "cell_type": "code",
   "execution_count": null,
   "metadata": {
    "collapsed": true
   },
   "outputs": [],
   "source": []
  }
 ],
 "metadata": {
  "kernelspec": {
   "display_name": "Python 3",
   "language": "python",
   "name": "python3"
  },
  "language_info": {
   "codemirror_mode": {
    "name": "ipython",
    "version": 3
   },
   "file_extension": ".py",
   "mimetype": "text/x-python",
   "name": "python",
   "nbconvert_exporter": "python",
   "pygments_lexer": "ipython3",
   "version": "3.6.0"
  }
 },
 "nbformat": 4,
 "nbformat_minor": 2
}
