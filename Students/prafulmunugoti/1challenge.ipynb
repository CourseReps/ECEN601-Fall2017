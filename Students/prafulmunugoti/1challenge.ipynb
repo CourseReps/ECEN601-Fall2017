{
 "cells": [
  {
   "cell_type": "markdown",
   "metadata": {},
   "source": [
    "# Challenge 1\n",
    "\n",
    "## SciPy Tutorial\n",
    "Pertinent information about [SciPy](https://docs.scipy.org/) and NumPy is available in the [SciPy Tutorial](https://docs.scipy.org/doc/scipy/reference/tutorial/index.html).\n",
    " * Read [Introduction](https://docs.scipy.org/doc/scipy/reference/tutorial/general.html)\n",
    " * Read [Basic functions](https://docs.scipy.org/doc/scipy/reference/tutorial/basic.html)\n",
    " * Read [Optimization](https://docs.scipy.org/doc/scipy/reference/tutorial/optimize.html)\n",
    " \n",
    "Consider the function defined below.\n",
    " * Plot the function using [matplotlib](https://matplotlib.org/)"
   ]
  },
  {
   "cell_type": "code",
   "execution_count": 2,
   "metadata": {
    "collapsed": true
   },
   "outputs": [],
   "source": [
    "import numpy as np\n",
    "import matplotlib.pyplot as plt"
   ]
  },
  {
   "cell_type": "code",
   "execution_count": 3,
   "metadata": {},
   "outputs": [
    {
     "data": {
      "image/png": "[encoded data removed]",
      "text/plain": [
       "<matplotlib.figure.Figure at 0x1bf806b2d68>"
      ]
     },
     "metadata": {},
     "output_type": "display_data"
    },
    {
     "name": "stdout",
     "output_type": "stream",
     "text": [
      "\n",
      "value of a is   4.6035\n",
      "\n",
      "L2 norm between g(t) and f(t) over [0,2] is   1.50453869935\n",
      "\n",
      "The Residual Mean Square Error is   0.0113181834891\n"
     ]
    }
   ],
   "source": [
    "#### function definition of f(a,t)\n",
    "def f(a,t):\n",
    "    return 1 - (np.exp(-a*t))\n",
    "\n",
    "#### function definition of g(t)\n",
    "def g(t):\n",
    "    return 1 - (np.exp(-2*t) * np.cos(np.pi*t))\n",
    "\n",
    "#### range required to print the graph of f(a,t) and g(t)\n",
    "t1 = np.arange(0.0, 2.0, 0.01)\n",
    "arnge = np.arange(0.0,10.0,0.0001)\n",
    "\n",
    "#### initialization of a_min and l2norm, by observing the\n",
    "#### trend of the waveform it is intuitive to set a value intially\n",
    "a_min = 0\n",
    "l2norm = 9999\n",
    "\n",
    "#### loop over the range from 0 to 10 and compare the current \n",
    "#### L2Norm to minimun l2norm in previous iterations.\n",
    "\n",
    "for apow in arnge:\n",
    "    L2Norm = np.sqrt( sum((g(t1)-f(apow,t1))**2 ))\n",
    "    if L2Norm < l2norm:\n",
    "        l2norm = L2Norm\n",
    "        a_min = apow\n",
    "\n",
    "#### L2Norm Value calcuaton at the minumum value of a.\n",
    "L2_norm = np.sqrt( sum( (g(t1)-f(a_min,t1))**2 ) )\n",
    "\n",
    "#### Calculation of Residual Mean Squared Error.\n",
    "rmse = sum( (g(t1)-f(a_min,t1))**2 ) / len(t1) \n",
    "\n",
    "#### code to plot the graph of f(a,t) and g(t).\n",
    "plt.figure(1)\n",
    "plt.plot(t1, f(a_min, t1), 'r', label='f(t)')\n",
    "plt.plot(t1, g(t1), 'g', label='g(t)')\n",
    "plt.legend()\n",
    "plt.show()\n",
    "\n",
    "#### Values as requested in the question.\n",
    "print(\"\\nvalue of a is  \",a_min)\n",
    "print(\"\\nL2 norm between g(t) and f(t) over [0,2] is  \",L2_norm)\n",
    "print(\"\\nThe Residual Mean Square Error is  \",rmse)"
   ]
  },
  {
   "cell_type": "markdown",
   "metadata": {},
   "source": [
    "Consider the class of functions of the form $f(t) = 1 - e^{-at}$ where $a$ is a free parameter.\n",
    " * Find the value of $a$ that minimizes the $L_2$ norm between $g(t)$ and $f(t)$ over the interval $[0, 2]$\n",
    " * Computer the residual mean squared error\n",
    " * Explain how you obtained $a$"
   ]
  },
  {
   "cell_type": "markdown",
   "metadata": {},
   "source": [
    "1. The Value of $a$ is $4.6035$ that minimizes teh $L_2$ norm between $g(t)$ and $f(t)$ over the interval $[0, 2]$.\n",
    "2. The Residual Mean Squared Error measures the average of the squares of the errors or deviations. \n",
    "   Here the RMSE value is $0.0113181834891$\n",
    "3. According to definition, the $L_2$ norm is the square root of the sum of the absolute values squared.In the code,for    loop from 0 to 10(confirmed range via tests), and set stepsize 0.001(for more sample points to check and more          iterations. Then calculate the $L_2$ norm by $L_2=(sum((g(t)-f(t))^2))^{0.5}$, where $t$ is $[0,2]$. Every iteration    we check the $L_2$ Norm calculated with the minimum $L_2$ Norm Value till the current iteration and replace it, if    current is minimum than existing one.Once we found out the minimum value i.e When $L_2$ reaches the minimum, record    the value of $a$. This is how $a$ value can be obtained.\n"
   ]
  }
 ],
 "metadata": {
  "kernelspec": {
   "display_name": "Python 3",
   "language": "python",
   "name": "python3"
  },
  "language_info": {
   "codemirror_mode": {
    "name": "ipython",
    "version": 3
   },
   "file_extension": ".py",
   "mimetype": "text/x-python",
   "name": "python",
   "nbconvert_exporter": "python",
   "pygments_lexer": "ipython3",
   "version": "3.6.1"
  }
 },
 "nbformat": 4,
 "nbformat_minor": 2
}
