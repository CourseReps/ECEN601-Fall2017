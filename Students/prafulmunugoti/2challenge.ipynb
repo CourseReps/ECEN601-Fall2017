{
 "cells": [
  {
   "cell_type": "markdown",
   "metadata": {},
   "source": [
    "# Challenge 2\n",
    "An important aspect of pragmatic vector space methods is the ability to handle vectors and matrices.\n",
    "A large collection of linear algebra functions is available in [SciPy.linalg](https://docs.scipy.org/doc/scipy/reference/linalg.html).\n",
    "These functions can be employed in conjunction with the tools available in [NumPy](http://www.numpy.org/).\n",
    "We note that the main object in NumPy is the homogeneous multidimensional array."
   ]
  },
  {
   "cell_type": "markdown",
   "metadata": {},
   "source": [
    "## Matrix\n",
    "We begin by creating a simple matrix.\n",
    "One possible approach to complete this task is to use ```scipy.linalg.circulant(c)```."
   ]
  },
  {
   "cell_type": "code",
   "execution_count": 22,
   "metadata": {},
   "outputs": [
    {
     "name": "stdout",
     "output_type": "stream",
     "text": [
      " Circulant Matrix is \n",
      "\n",
      "[[1 3 2]\n",
      " [2 1 3]\n",
      " [3 2 1]]\n"
     ]
    }
   ],
   "source": [
    "from scipy.linalg import circulant\n",
    "my_circ_matrix = circulant([1, 2, 3])\n",
    "print(\" Circulant Matrix is \\n\")\n",
    "print(my_circ_matrix)"
   ]
  },
  {
   "cell_type": "markdown",
   "metadata": {},
   "source": [
    "Alternatively, you can construct the familiar discrete Fourier transform matrix with ```scipy.linalg.dft(n)```."
   ]
  },
  {
   "cell_type": "code",
   "execution_count": 23,
   "metadata": {},
   "outputs": [
    {
     "name": "stdout",
     "output_type": "stream",
     "text": [
      " Discrete Fourier Transform Matrix is \n",
      "\n",
      "[[ 1.0+0.j         1.0+0.j         1.0+0.j       ]\n",
      " [ 1.0+0.j        -0.5-0.8660254j -0.5+0.8660254j]\n",
      " [ 1.0+0.j        -0.5+0.8660254j -0.5-0.8660254j]]\n"
     ]
    }
   ],
   "source": [
    "from scipy.linalg import dft\n",
    "my_dft_matrix = dft(3)\n",
    "print(\" Discrete Fourier Transform Matrix is \\n\")\n",
    "print(my_dft_matrix)"
   ]
  },
  {
   "cell_type": "markdown",
   "metadata": {},
   "source": [
    "The inverse of a matrix can be computed using ```scipy.linalg.inv(a)```."
   ]
  },
  {
   "cell_type": "code",
   "execution_count": 24,
   "metadata": {},
   "outputs": [
    {
     "name": "stdout",
     "output_type": "stream",
     "text": [
      "Inverse of DFT matrix is \n",
      "\n",
      "[[ 0.33333333+0.j          0.33333333+0.j          0.33333333-0.j        ]\n",
      " [ 0.33333333+0.j         -0.16666667+0.28867513j -0.16666667-0.28867513j]\n",
      " [ 0.33333333-0.j         -0.16666667-0.28867513j -0.16666667+0.28867513j]]\n"
     ]
    }
   ],
   "source": [
    "from scipy.linalg import inv\n",
    "my_idft_matrix = inv(my_dft_matrix)\n",
    "print(\"Inverse of DFT matrix is \\n\")\n",
    "print(my_idft_matrix)"
   ]
  },
  {
   "cell_type": "markdown",
   "metadata": {},
   "source": [
    "The operation ```numpy.dot(a, b)``` computes the dot product of two arrays.\n",
    "For 2-D arrays it is equivalent to matrix multiplication, and for 1-D arrays to inner product of vectors (without complex conjugation)."
   ]
  },
  {
   "cell_type": "code",
   "execution_count": 25,
   "metadata": {},
   "outputs": [
    {
     "name": "stdout",
     "output_type": "stream",
     "text": [
      "[[ 6.0-0.j         0.0+0.j        -0.0+0.j       ]\n",
      " [-0.0-0.j        -1.5+0.8660254j -0.0-0.j       ]\n",
      " [ 0.0-0.j         0.0-0.j        -1.5-0.8660254j]]\n"
     ]
    }
   ],
   "source": [
    "import numpy as np\n",
    "matrix_prod1 = np.dot(my_dft_matrix, my_circ_matrix)\n",
    "matrix_prod2 = np.dot(matrix_prod1, my_idft_matrix)\n",
    "\n",
    "np.set_printoptions(suppress=True)\n",
    "print(matrix_prod2)"
   ]
  },
  {
   "cell_type": "markdown",
   "metadata": {},
   "source": [
    "### Questions\n",
    "These steps and their solutions immediately bring up three questions.\n",
    " * Are circulant matrices always diagonalized by the discrete Fourier transform matrix and its inverse?\n",
    " * Are product of circulant matrices (of a same size) always circulant matrices?\n",
    " * Do all pairs of circulant matrices commute under matrix multiplication?"
   ]
  },
  {
   "cell_type": "markdown",
   "metadata": {},
   "source": [
    "1. Are circulant matrices always diagonalized by the discrete Fourier transform matrix and its inverse?\n",
    "Sol:- Yes, Circulant matrices are always diagnolized by the DFT matrix and it's Inverse matrix.\n",
    "if C is circulant matrix, then C = F^-1.Δ.F,  where Δ is a Diagnol Matrix.\n",
    "    F.C = F.F^-1.Δ.F = Δ.F \n",
    " => F.C.F^-1 = Δ.F.F^-1 \n",
    " => Δ a Diagnol Matrix. and C = circulant([a,b,c])\n",
    " \n",
    " Δ = F.C.F^-1 = \n",
    " [[ f(a,b,c)   0       0    ]\n",
    "  [ 0       g(a,b,c)   0    ]\n",
    "  [ 0          0    h(a,b,c)] ]\n",
    "  \n",
    "2. Are product of circulant matrices (of a same size) always circulant matrices?\n",
    "Sol:- Yes, product of Circulant matrices(of a same size) is always a Circulant matrix.\n",
    "The sum or product of two circulant matrices is also circulant:\n",
    "if C = U.Ψ.U^-1 and  D = U.ϕ.U^-1, then C+D = U.(Ψ+ϕ).U^-1 and CD = DC = U.(Ψϕ).U^-1 .\n",
    "\n",
    "3. Do all pairs of circulant matrices commute under matrix multiplication?\n",
    "Sol:- Yes, all pairs of Circulant Matrices commute under matrix multiplication and it is same as the matrix multiplication. If A = circulant([a,b,c]) and B = circulant([a',b',c'])\n",
    "AB = \n",
    " [[ aa'+bc'+cb'  ac'+bb'+ca'  ab'+ba'+cc']\n",
    "  [ ab'+ba'+cc'  aa'+bc'+cb'  ac'+bb'+ca']\n",
    "  [ ac'+bb'+cb'  ab'+ba'+cc'  aa'+bc'+cb']  = BA.\n",
    " "
   ]
  },
  {
   "cell_type": "markdown",
   "metadata": {},
   "source": [
    "## Determinant\n",
    "The determinant of a square matrix is a value derived arithmetically from the coefficients of the matrix, and it summarizes a multivariable phenomenon with a signle number.\n",
    "It can be computed with ```scipy.linalg.det(a)```."
   ]
  },
  {
   "cell_type": "code",
   "execution_count": 30,
   "metadata": {},
   "outputs": [
    {
     "data": {
      "text/plain": [
       "18.0"
      ]
     },
     "execution_count": 30,
     "metadata": {},
     "output_type": "execute_result"
    }
   ],
   "source": [
    "from scipy.linalg import det\n",
    "det(my_circ_matrix)"
   ]
  },
  {
   "cell_type": "markdown",
   "metadata": {},
   "source": [
    "The code below demonstrates how to create a function in Python, how to vectorize a function so that it can be applied to the elements of a matrix, and how to use ```random```."
   ]
  },
  {
   "cell_type": "code",
   "execution_count": 34,
   "metadata": {},
   "outputs": [
    {
     "name": "stdout",
     "output_type": "stream",
     "text": [
      "[[ 0.          1.09861229  0.69314718]\n",
      " [ 0.69314718  0.          1.09861229]\n",
      " [ 1.09861229  0.69314718  0.        ]]\n",
      "\n",
      "a_step2 is  18.4425\n"
     ]
    }
   ],
   "source": [
    "import math\n",
    "from numpy import random\n",
    "\n",
    "def my_log(x):\n",
    "    return math.log(x)\n",
    "\n",
    "my_vec_log = np.vectorize(my_log)\n",
    "\n",
    "A_step1 = my_vec_log(my_circ_matrix) # Numpy already offers a vectorized natural logarithm.\n",
    "# A_step1 = np.log(matrix_prod2)\n",
    "print(A_step1)\n",
    "max_index = 100000\n",
    "my_identity = np.identity(len(A_step1))\n",
    "current_value = 0.0\n",
    "for my_index in range(0, max_index):\n",
    "    permutation_matrix = random.permutation(my_identity)\n",
    "    sign_permuation = det(permutation_matrix)\n",
    "    current_value += sign_permuation*(np.exp(np.trace(np.dot(A_step1, permutation_matrix))))\n",
    "a_step2 = math.factorial(len(A_step1)) * current_value / max_index\n",
    "print(\"\\na_step2 is \",a_step2)"
   ]
  },
  {
   "cell_type": "markdown",
   "metadata": {},
   "source": [
    "#### Questions\n",
    "It appears that the output of the loop above is close to the determinant of the circulant matrix ```my_circ_matrix```.\n",
    " * Go through the code and provide a compelling explanation of why these numbers are close.\n",
    " * Is this a property of circulant matrices, or would this finding extend to arbitrary matrices over the real numbers?"
   ]
  },
  {
   "cell_type": "markdown",
   "metadata": {},
   "source": [
    "1. Go through the code and provide a compelling explain explanation of why these numbers are close?\n",
    "Sol:- There are two numbers, the former number is direct calculation of determinant of the matrix.\n",
    "    If A = [[a c b];[b a c];[c b a]] then det(my_circ_matrix) = a(a.a-b.c)-c(a.b-c.c)+b(b.b-a.c)\n",
    "    => a^3+b^3+c^3 - 3.a.b.c = applying this gave the value of 18.\n",
    "    \n",
    "    The later number is caclulated by the formula \n",
    "a_step2 = (sum{det(permutation_matrix)*exp(trace(ln(my_circ_matrix))*[permutation_matrix])}) *3!)/max_index\n",
    "where permutation_matrix is randomly generated and it has 6 different permutations as below:\n",
    "[[1 0 0];[0 1 0];[0 0 1]]  [[1 0 0];[0 0 1];[0 1 0]]  [[0 1 0];[0 0 1];[1 0 0]] \n",
    "[[0 1 0];[1 0 0];[0 0 1]]  [[0 0 1];[0 1 0];[1 0 0]]  [[0 0 1];[1 0 0];[0 1 0]]\n",
    "\n",
    "In the above code, random function inside for loop, makees the permutations have equal probabilities as the max_index is large enough i.e 10000. if the max_index is simplified to 6 probability will be 3:1:1:1, then we will have each permutation of \"P\" occurs as previous. This results in the formula to get the value of a_step2 = a^3+b^3+c^3 - 3.a.b.c, which is equal to the determinant value of the circular matrix, and a_step2 = 3!*18/6 = 18.0\n",
    "\n",
    "But, probability of the 6 permutations is not exactly the same in this case, but approximately equal, hence the numbers are very close enough. \n",
    "\n",
    "\n",
    "2. Is this a property of circulant matrices, or would this finding extend to arbitrary matrices over the real numbers?\n",
    "\n",
    "Sol:- yes, This finding can be extended to arbitrary matrices over the real numbers. As the result is caclulated based on the probability of the occurence of the permutations mentioneed above and np.trace(np.dot(A_step1, permutation_matrix)) values to be the same, then the results would be closed. \n",
    "\n"
   ]
  },
  {
   "cell_type": "markdown",
   "metadata": {},
   "source": [
    "### Tasks\n",
    " * Build code to explore the fact that the determinant function is multiplicative: $\\mathrm{det}(AB) = \\mathrm{det}(A) \\mathrm{det}(B)$."
   ]
  },
  {
   "cell_type": "code",
   "execution_count": 40,
   "metadata": {},
   "outputs": [
    {
     "name": "stdout",
     "output_type": "stream",
     "text": [
      "dimension of the matrix is  6 X 6\n",
      "Matrix A is :\n",
      " [[ 0.  4.  4.  5.  5.  5.]\n",
      " [ 4.  2.  3.  4.  4.  3.]\n",
      " [ 4.  3.  1.  4.  0.  0.]\n",
      " [ 1.  4.  3.  3.  3.  1.]\n",
      " [ 5.  0.  0.  3.  0.  5.]\n",
      " [ 1.  5.  0.  4.  2.  2.]]\n",
      "\n",
      "Matrix B is :\n",
      " [[ 0.  4.  3.  2.  0.  4.]\n",
      " [ 2.  3.  1.  4.  2.  4.]\n",
      " [ 1.  2.  2.  0.  1.  5.]\n",
      " [ 1.  0.  4.  2.  0.  1.]\n",
      " [ 5.  2.  4.  0.  2.  2.]\n",
      " [ 1.  2.  3.  5.  0.  1.]]\n",
      "\n",
      "dot prodduct of AB is :\n",
      " [[ 47.  40.  67.  51.  22.  56.]\n",
      " [ 34.  42.  61.  39.  15.  54.]\n",
      " [ 11.  27.  33.  28.   7.  37.]\n",
      " [ 30.  30.  40.  29.  17.  45.]\n",
      " [  8.  30.  42.  41.   0.  28.]\n",
      " [ 26.  27.  38.  40.  14.  34.]]\n",
      "\n",
      " det(A.B) is : 719120.0000000023\n",
      "\n",
      " det(A)*det(B) is:  719119.9999999997\n",
      "\n",
      " det(AB) = det(A)*det(B)\n",
      "\n",
      "Determinant Function is Multiplicative\n"
     ]
    }
   ],
   "source": [
    "#import statements like numpy and scipy\n",
    "import numpy as np\n",
    "from scipy.linalg import det\n",
    "\n",
    "#random number to generate the dimension of the matrix.\n",
    "dimnsn = np.random.randint(3,10)\n",
    "print(\"dimension of the matrix is \",dimnsn,\"X\",dimnsn)\n",
    "\n",
    "#initialize the two matrices\n",
    "A = np.zeros((dimnsn,dimnsn))\n",
    "B = np.zeros((dimnsn,dimnsn))\n",
    "\n",
    "#Generation of the two matrices randomly\n",
    "for a in range(0,dimnsn,1):\n",
    "    for b in range(0,dimnsn,1):\n",
    "        A[a][b] = np.random.randint(0,dimnsn)\n",
    "print(\"Matrix A is :\\n\",A)\n",
    "for c in range(0,dimnsn,1):\n",
    "    for d in range(0,dimnsn,1):\n",
    "        B[c][d] = np.random.randint(0,dimnsn)\n",
    "print(\"\\nMatrix B is :\\n\",B)\n",
    "#Left Hand Side definition\n",
    "AXB = np.dot(A,B)\n",
    "print(\"\\ndot prodduct of AB is :\\n\",AXB)\n",
    "det_AB = det(AXB)\n",
    "\n",
    "#Right hand sie definition \n",
    "det_AXdet_B = det(A)*det(B)\n",
    "\n",
    "print(\"\\n det(A.B) is :\",det_AB)\n",
    "print(\"\\n det(A)*det(B) is: \",det_AXdet_B)\n",
    "\n",
    "# to check if det(AB) = det(A)*det(B).\n",
    "if (abs(det_AB-det_AXdet_B)<0.00001):\n",
    "    print(\"\\n det(AB) = det(A)*det(B)\\n\")\n",
    "    print(\"Determinant Function is Multiplicative\")\n",
    "else:\n",
    "    print(\"Determinant Function is not Multiplicative\")\n"
   ]
  }
 ],
 "metadata": {
  "celltoolbar": "Raw Cell Format",
  "kernelspec": {
   "display_name": "Python 3",
   "language": "python",
   "name": "python3"
  },
  "language_info": {
   "codemirror_mode": {
    "name": "ipython",
    "version": 3
   },
   "file_extension": ".py",
   "mimetype": "text/x-python",
   "name": "python",
   "nbconvert_exporter": "python",
   "pygments_lexer": "ipython3",
   "version": "3.6.1"
  }
 },
 "nbformat": 4,
 "nbformat_minor": 2
}
