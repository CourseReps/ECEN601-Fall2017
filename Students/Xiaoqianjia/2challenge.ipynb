{
 "cells": [
  {
   "cell_type": "markdown",
   "metadata": {},
   "source": [
    "# Challenge 2\n",
    "An important aspect of pragmatic vector space methods is the ability to handle vectors and matrices.\n",
    "A large collection of linear algebra functions is available in [SciPy.linalg](https://docs.scipy.org/doc/scipy/reference/linalg.html).\n",
    "These functions can be employed in conjunction with the tools available in [NumPy](http://www.numpy.org/).\n",
    "We note that the main object in NumPy is the homogeneous multidimensional array."
   ]
  },
  {
   "cell_type": "markdown",
   "metadata": {},
   "source": [
    "## Matrix\n",
    "We begin by creating a simple matrix.\n",
    "One possible approach to complete this task is to use ```scipy.linalg.circulant(c)```."
   ]
  },
  {
   "cell_type": "code",
   "execution_count": 12,
   "metadata": {},
   "outputs": [
    {
     "name": "stdout",
     "output_type": "stream",
     "text": [
      "[[1 3 2]\n",
      " [2 1 3]\n",
      " [3 2 1]]\n"
     ]
    }
   ],
   "source": [
    "from scipy.linalg import circulant\n",
    "my_circ_matrix = circulant([1, 2, 3])\n",
    "print(my_circ_matrix)"
   ]
  },
  {
   "cell_type": "markdown",
   "metadata": {},
   "source": [
    "Alternatively, you can construct the familiar discrete Fourier transform matrix with ```scipy.linalg.dft(n)```."
   ]
  },
  {
   "cell_type": "code",
   "execution_count": 13,
   "metadata": {},
   "outputs": [
    {
     "name": "stdout",
     "output_type": "stream",
     "text": [
      "[[ 1.0+0.j         1.0+0.j         1.0+0.j       ]\n",
      " [ 1.0+0.j        -0.5-0.8660254j -0.5+0.8660254j]\n",
      " [ 1.0+0.j        -0.5+0.8660254j -0.5-0.8660254j]]\n"
     ]
    }
   ],
   "source": [
    "from scipy.linalg import dft\n",
    "my_dft_matrix = dft(3)\n",
    "print(my_dft_matrix)"
   ]
  },
  {
   "cell_type": "markdown",
   "metadata": {},
   "source": [
    "The inverse of a matrix can be computed using ```scipy.linalg.inv(a)```."
   ]
  },
  {
   "cell_type": "code",
   "execution_count": 14,
   "metadata": {},
   "outputs": [
    {
     "name": "stdout",
     "output_type": "stream",
     "text": [
      "[[ 0.33333333+0.j          0.33333333-0.j          0.33333333-0.j        ]\n",
      " [ 0.33333333+0.j         -0.16666667+0.28867513j -0.16666667-0.28867513j]\n",
      " [ 0.33333333-0.j         -0.16666667-0.28867513j -0.16666667+0.28867513j]]\n"
     ]
    }
   ],
   "source": [
    "from scipy.linalg import inv\n",
    "my_idft_matrix = inv(my_dft_matrix)\n",
    "print(my_idft_matrix)"
   ]
  },
  {
   "cell_type": "markdown",
   "metadata": {},
   "source": [
    "The operation ```numpy.dot(a, b)``` computes the dot product of two arrays.\n",
    "For 2-D arrays it is equivalent to matrix multiplication, and for 1-D arrays to inner product of vectors (without complex conjugation)."
   ]
  },
  {
   "cell_type": "code",
   "execution_count": 15,
   "metadata": {},
   "outputs": [
    {
     "name": "stdout",
     "output_type": "stream",
     "text": [
      "[[ 6.0+0.j          6.0+0.j          6.0+0.j        ]\n",
      " [-1.5+0.8660254j   1.5+0.8660254j   0.0-1.73205081j]\n",
      " [-1.5-0.8660254j   1.5-0.8660254j  -0.0+1.73205081j]]\n",
      "[[ 6.0+0.j        -0.0+0.j         0.0+0.j       ]\n",
      " [-0.0-0.j        -1.5+0.8660254j -0.0-0.j       ]\n",
      " [ 0.0-0.j         0.0-0.j        -1.5-0.8660254j]]\n"
     ]
    }
   ],
   "source": [
    "import numpy as np\n",
    "matrix_prod1 = np.dot(my_dft_matrix, my_circ_matrix)\n",
    "matrix_prod2 = np.dot(matrix_prod1, my_idft_matrix)\n",
    "\n",
    "np.set_printoptions(suppress=True)\n",
    "print(matrix_prod1)\n",
    "print(matrix_prod2)"
   ]
  },
  {
   "cell_type": "markdown",
   "metadata": {},
   "source": [
    "### Questions\n",
    "These steps and their solutions immediately bring up three questions.\n",
    " * Are circulant matrices always diagonalized by the discrete Fourier transform matrix and its inverse?\n",
    " * Are product of circulant matrices (of a same size) always circulant matrices?\n",
    " * Do all pairs of circulant matrices commute under matrix multiplication?\n",
    " \n",
    " Answer\n",
    " 1. Yes, the circulant matrices always diagonalized by the discrete Fourier transform matrix and its inverse\n",
    " f∙c∙inc(f)=digonal metric. we can see from the programming result.\n",
    " 2. Yes, since the product of two circulant matrices (of a same size) follow the  algebraic algorithm. A B have same size, so C=AB also hse the same size of A and B matric according to algebraix algorithm.\n",
    " 3. Yes, according to the algebraic algorithm, all pairs of circulant matrices commute under matric multiplication. Like A=circulant[a,b,c] B=circulant[x,y,z] AB=[[ax+bz+cy az+by+cx ay+bx+cz][ay+bx+cz ax+bz+cy az+by+cx][ az+by+cy ay+bx+cz ax+bz+cy]]=BA"
   ]
  },
  {
   "cell_type": "markdown",
   "metadata": {},
   "source": [
    "## Determinant\n",
    "The determinant of a square matrix is a value derived arithmetically from the coefficients of the matrix, and it summarizes a multivariable phenomenon with a signle number.\n",
    "It can be computed with ```scipy.linalg.det(a)```."
   ]
  },
  {
   "cell_type": "code",
   "execution_count": 16,
   "metadata": {},
   "outputs": [
    {
     "data": {
      "text/plain": [
       "18.0"
      ]
     },
     "execution_count": 16,
     "metadata": {},
     "output_type": "execute_result"
    }
   ],
   "source": [
    "from scipy.linalg import det\n",
    "det(my_circ_matrix)"
   ]
  },
  {
   "cell_type": "markdown",
   "metadata": {},
   "source": [
    "The code below demonstrates how to create a function in Python, how to vectorize a function so that it can be applied to the elements of a matrix, and how to use ```random```."
   ]
  },
  {
   "cell_type": "code",
   "execution_count": 17,
   "metadata": {},
   "outputs": [
    {
     "name": "stdout",
     "output_type": "stream",
     "text": [
      "18.0117\n"
     ]
    }
   ],
   "source": [
    "import math\n",
    "from numpy import random\n",
    "\n",
    "def my_log(x):\n",
    "    return math.log(x)\n",
    "\n",
    "my_vec_log = np.vectorize(my_log)\n",
    "\n",
    "A_step1 = my_vec_log(my_circ_matrix) # Numpy already offers a vectorized natural logarithm.\n",
    "# A_step1 = np.log(matrix_prod2)\n",
    "\n",
    "max_index = 100000\n",
    "my_identity = np.identity(len(A_step1))\n",
    "current_value = 0.0\n",
    "for my_index in range(0, max_index):\n",
    "    permutation_matrix = random.permutation(my_identity)\n",
    "    sign_permuation = det(permutation_matrix)\n",
    "    current_value += sign_permuation*(np.exp(np.trace(np.dot(A_step1, permutation_matrix))))\n",
    "a_step2 = math.factorial(len(A_step1)) * current_value / max_index\n",
    "print(a_step2)"
   ]
  },
  {
   "cell_type": "markdown",
   "metadata": {},
   "source": [
    "#### Questions\n",
    "It appears that the output of the loop above is close to the determinant of the circulant matrix ```my_circ_matrix```.\n",
    " * Go through the code and provide a compelling explain explanation of why these numbers are close.\n",
    " * Is this a property of circulant matrices, or would this finding extend to arbitrary matrices over the real numbers?\n",
    " Answer\n",
    " 1 for the determinant of circulant matrix, it caluclate the determinand of matrix according to algebraic, which det(A)=det(circulant[1,2,3])=1^3+2^3+3^3-3*(1*2*3)=18\n",
    "   for the output of loop, result is caclulated by the function： \n",
    "   a_step2 = (sum{det(permutation_matrix)exp(trace(ln(my_circ_matrix))[permutation_matrix])}) *3!)/max_index where permutation_matrix is randomly generated and it has 6 different permutations as below: \n",
    "   [[1 0 0];[0 1 0];[0 0 1]] [[1 0 0];[0 0 1];[0 1 0]] [[0 1 0];[0 0 1];[1 0 0]] [[0 1 0];[1 0 0];[0 0 1]] [[0 0 1];[0 1 0];[1 0 0]] [[0 0 1];[1 0 0];[0 1 0] ]\n",
    "   random function inside for loop, makees the permutations have equal probabilities only the loop have enough times(like in the code index=100000). if the max_index is simplified to 6 probability will be 3:1:1:1, then we will have each permutation of \"P\" occurs as previous. This results in the formula to get the value of a_step2 = a^3+b^3+c^3 - 3.a.b.c, which is equal to the determinant value of the circular matrix, and a_step2 = 3!*18/6 = 18.0 However, probability of the 6 permutations is not exactly equal=3:1:1:1. but approximately equal, hence the numbers(index=100000) are very close enough.\n",
    "\n",
    "\n",
    " 2 Yes, it is. Because the arbitary matrices depend on the probability of occurence of when the permutations mentioned above and np.trace(np.dot(A_step1, permutation_matrix)) values to be the same. So the results will be same. "
   ]
  },
  {
   "cell_type": "markdown",
   "metadata": {},
   "source": [
    "### Tasks\n",
    " * Build code to explore the fact that the determinant function is multiplicative: $\\mathrm{det}(AB) = \\mathrm{det}(A) \\mathrm{det}(B)$."
   ]
  },
  {
   "cell_type": "code",
   "execution_count": 18,
   "metadata": {},
   "outputs": [
    {
     "name": "stdout",
     "output_type": "stream",
     "text": [
      "A=  [[ 5.  1.  2.  8.  4.  7.  8.]\n",
      " [ 3.  7.  1.  9.  9.  8.  7.]\n",
      " [ 3.  9.  6.  7.  5.  3.  8.]\n",
      " [ 9.  5.  4.  3.  2.  3.  4.]\n",
      " [ 6.  5.  7.  8.  8.  7.  9.]\n",
      " [ 4.  7.  8.  7.  9.  9.  9.]\n",
      " [ 7.  4.  1.  1.  8.  3.  2.]]\n",
      "B=  [[ 1.  4.  5.  4.  8.  2.  4.]\n",
      " [ 3.  7.  7.  1.  9.  7.  8.]\n",
      " [ 3.  2.  9.  6.  8.  4.  4.]\n",
      " [ 5.  8.  4.  2.  5.  9.  3.]\n",
      " [ 7.  6.  3.  8.  4.  9.  8.]\n",
      " [ 4.  4.  6.  7.  2.  6.  3.]\n",
      " [ 3.  3.  3.  9.  8.  3.  5.]]\n",
      "det(AB)= -4882769207.999961\n",
      "det(A)*det(B)=  -4882769207.999997\n"
     ]
    }
   ],
   "source": [
    "import numpy as np\n",
    "from scipy.linalg import det\n",
    "\n",
    "n=np.random.randint(3,10)\n",
    "\n",
    "A=np.zeros((n,n))\n",
    "B=np.zeros((n,n))\n",
    "\n",
    "for i in range(0,n,1):\n",
    "    for j in range(0,n,1):\n",
    "        A[i,j]=np.random.randint(1,10)\n",
    "        B[i,j]=np.random.randint(1,10)\n",
    "        \n",
    "AB=np.dot(A, B)\n",
    "X=det(AB)\n",
    "Y=det(A)*det(B)\n",
    "\n",
    "print(\"A= \",A)\n",
    "print(\"B= \",B)\n",
    "print(\"det(AB)=\", X)\n",
    "print(\"det(A)*det(B)= \",Y)\n",
    "\n",
    "\n"
   ]
  },
  {
   "cell_type": "code",
   "execution_count": 19,
   "metadata": {
    "collapsed": true
   },
   "outputs": [],
   "source": [
    "#### As shown in the result, the determinant function is multiplicative."
   ]
  }
 ],
 "metadata": {
  "kernelspec": {
   "display_name": "Python 3",
   "language": "python",
   "name": "python3"
  },
  "language_info": {
   "codemirror_mode": {
    "name": "ipython",
    "version": 3
   },
   "file_extension": ".py",
   "mimetype": "text/x-python",
   "name": "python",
   "nbconvert_exporter": "python",
   "pygments_lexer": "ipython3",
   "version": "3.6.1"
  }
 },
 "nbformat": 4,
 "nbformat_minor": 2
}
