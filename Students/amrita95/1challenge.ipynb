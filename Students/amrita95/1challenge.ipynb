{
 "cells": [
  {
   "cell_type": "markdown",
   "metadata": {},
   "source": [
    "SOLUTION for Challenge 1\n",
    "\n",
    "I have defined a function nor(a,t) to find the norm value of the functions f(a,t) and g(t).\n",
    "where f(a,t) is the function given the question.\n",
    "\n",
    "To find the value of a that minimises the norm value,\n",
    "   *I plotted 'a' in the range [0,100] against the norm function for different values of a.\n",
    "   *As we can see from the plot the 'a' values which minimises the norm. lies between [0,10]."
   ]
  },
  {
   "cell_type": "code",
   "execution_count": 18,
   "metadata": {
    "collapsed": true
   },
   "outputs": [],
   "source": [
    "import numpy as np\n",
    "import matplotlib.pyplot as plt\n",
    "import math "
   ]
  },
  {
   "cell_type": "code",
   "execution_count": 92,
   "metadata": {},
   "outputs": [
    {
     "data": {
      "image/png": "[encoded data removed]",
      "text/plain": [
       "<matplotlib.figure.Figure at 0x7fd698297b00>"
      ]
     },
     "metadata": {},
     "output_type": "display_data"
    }
   ],
   "source": [
    "def g(t):\n",
    "    return 1 - (np.exp(-2*t) * np.cos(np.pi*t))\n",
    "\n",
    "def f(a,t):\n",
    "    return 1 - (np.exp(-a*t))\n",
    "\n",
    "def nor(a,t):\n",
    "    y= g(t)-f(a,t)\n",
    "    return math.sqrt(sum(y**2))\n",
    "\n",
    "t1 = np.arange(0.0, 2.0, 0.01)\n",
    "a = np.arange(0.0, 100, 0.5)\n",
    "\n",
    "plt.figure(1)\n",
    "y=np.zeros(np.shape(a))\n",
    "i=0\n",
    "for a1 in a:\n",
    "    y[i]=nor(a1,t1)\n",
    "    i=i+1\n",
    "plt.plot(a,y)\n",
    "plt.show()\n"
   ]
  },
  {
   "cell_type": "markdown",
   "metadata": {},
   "source": [
    "*To Find the exact value of 'a' I magnified the region between 0 to 10.\n",
    "And used iteration to find the min value of norm.\n",
    "\n",
    "*The Residual mean square value is nothing but the Norm^2/(length of the input values t).\n",
    "\n"
   ]
  },
  {
   "cell_type": "code",
   "execution_count": 104,
   "metadata": {},
   "outputs": [
    {
     "data": {
      "image/png": "[encoded data removed]",
      "text/plain": [
       "<matplotlib.figure.Figure at 0x7fd698778128>"
      ]
     },
     "metadata": {},
     "output_type": "display_data"
    },
    {
     "name": "stdout",
     "output_type": "stream",
     "text": [
      "The value of 'a' for which the minimum is attained is 4.603\n",
      "and the value of the norm at that 'a' is 1.5045387276814288\n"
     ]
    }
   ],
   "source": [
    "mina=100000\n",
    "a = np.arange(0.0, 10, 0.001)\n",
    "\n",
    "plt.figure(2)\n",
    "y=np.zeros(np.shape(a))\n",
    "i=0\n",
    "for a1 in a:\n",
    "    y[i]=nor(a1,t1)\n",
    "    i=i+1\n",
    "plt.plot(a,y)\n",
    "plt.show()\n",
    "\n",
    "for a1 in a:\n",
    "    l2= nor(a1,t1)\n",
    "    if(l2<mina):\n",
    "        mina=l2 \n",
    "        amin=a1\n",
    "\n",
    "print(\"The value of 'a' for which the minimum is attained is\",amin)\n",
    "print(\"and the value of the norm at that 'a' is\",mina)\n",
    "print(\"The residual mean squared error is given by\",mina**2/len(t1))\n"
   ]
  }
 ],
 "metadata": {
  "kernelspec": {
   "display_name": "Python 3",
   "language": "python",
   "name": "python3"
  },
  "language_info": {
   "codemirror_mode": {
    "name": "ipython",
    "version": 3
   },
   "file_extension": ".py",
   "mimetype": "text/x-python",
   "name": "python",
   "nbconvert_exporter": "python",
   "pygments_lexer": "ipython3",
   "version": "3.6.1"
  }
 },
 "nbformat": 4,
 "nbformat_minor": 2
}
