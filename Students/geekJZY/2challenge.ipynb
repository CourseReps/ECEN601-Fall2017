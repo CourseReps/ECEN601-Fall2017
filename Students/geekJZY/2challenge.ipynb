{
 "cells": [
  {
   "cell_type": "markdown",
   "metadata": {},
   "source": [
    "# Challenge 2\n",
    "An important aspect of pragmatic vector space methods is the ability to handle vectors and matrices.\n",
    "A large collection of linear algebra functions is available in [SciPy.linalg](https://docs.scipy.org/doc/scipy/reference/linalg.html).\n",
    "These functions can be employed in conjunction with the tools available in [NumPy](http://www.numpy.org/).\n",
    "We note that the main object in NumPy is the homogeneous multidimensional array."
   ]
  },
  {
   "cell_type": "markdown",
   "metadata": {},
   "source": [
    "## Matrix\n",
    "We begin by creating a simple matrix.\n",
    "One possible approach to complete this task is to use ```scipy.linalg.circulant(c)```."
   ]
  },
  {
   "cell_type": "code",
   "execution_count": 1,
   "metadata": {
    "collapsed": false
   },
   "outputs": [
    {
     "name": "stdout",
     "output_type": "stream",
     "text": [
      "[[1 3 2]\n",
      " [2 1 3]\n",
      " [3 2 1]]\n"
     ]
    }
   ],
   "source": [
    "from scipy.linalg import circulant\n",
    "my_circ_matrix = circulant([1, 2,3])\n",
    "print(my_circ_matrix)"
   ]
  },
  {
   "cell_type": "markdown",
   "metadata": {},
   "source": [
    "Alternatively, you can construct the familiar discrete Fourier transform matrix with ```scipy.linalg.dft(n)```."
   ]
  },
  {
   "cell_type": "code",
   "execution_count": 2,
   "metadata": {
    "collapsed": false
   },
   "outputs": [
    {
     "name": "stdout",
     "output_type": "stream",
     "text": [
      "[[ 1.0+0.j         1.0+0.j         1.0+0.j       ]\n",
      " [ 1.0+0.j        -0.5-0.8660254j -0.5+0.8660254j]\n",
      " [ 1.0+0.j        -0.5+0.8660254j -0.5-0.8660254j]]\n"
     ]
    }
   ],
   "source": [
    "from scipy.linalg import dft\n",
    "my_dft_matrix = dft(3)\n",
    "print(my_dft_matrix)"
   ]
  },
  {
   "cell_type": "markdown",
   "metadata": {},
   "source": [
    "The inverse of a matrix can be computed using ```scipy.linalg.inv(a)```."
   ]
  },
  {
   "cell_type": "code",
   "execution_count": 3,
   "metadata": {
    "collapsed": false
   },
   "outputs": [
    {
     "name": "stdout",
     "output_type": "stream",
     "text": [
      "[[ 0.33333333 +2.77555756e-17j  0.33333333 +2.77555756e-17j\n",
      "   0.33333333 -5.55111512e-17j]\n",
      " [ 0.33333333 +5.55111512e-17j -0.16666667 +2.88675135e-01j\n",
      "  -0.16666667 -2.88675135e-01j]\n",
      " [ 0.33333333 -1.11022302e-16j -0.16666667 -2.88675135e-01j\n",
      "  -0.16666667 +2.88675135e-01j]]\n"
     ]
    }
   ],
   "source": [
    "from scipy.linalg import inv\n",
    "my_idft_matrix = inv(my_dft_matrix)\n",
    "print(my_idft_matrix)"
   ]
  },
  {
   "cell_type": "markdown",
   "metadata": {},
   "source": [
    "The operation ```numpy.dot(a, b)``` computes the dot product of two arrays.\n",
    "For 2-D arrays it is equivalent to matrix multiplication, and for 1-D arrays to inner product of vectors (without complex conjugation)."
   ]
  },
  {
   "cell_type": "code",
   "execution_count": 4,
   "metadata": {
    "collapsed": false
   },
   "outputs": [
    {
     "name": "stdout",
     "output_type": "stream",
     "text": [
      "[[ 6.0-0.j         0.0+0.j        -0.0+0.j       ]\n",
      " [-0.0-0.j        -1.5+0.8660254j -0.0-0.j       ]\n",
      " [ 0.0-0.j         0.0-0.j        -1.5-0.8660254j]]\n"
     ]
    }
   ],
   "source": [
    "import numpy as np\n",
    "matrix_prod1 = np.dot(my_dft_matrix, my_circ_matrix)\n",
    "matrix_prod2 = np.dot(matrix_prod1, my_idft_matrix)\n",
    "\n",
    "np.set_printoptions(suppress=True)\n",
    "print(matrix_prod2)"
   ]
  },
  {
   "cell_type": "markdown",
   "metadata": {},
   "source": [
    "### Questions\n",
    "These steps and their solutions immediately bring up three questions.\n",
    " * Are circulant matrices always diagonalized by the discrete Fourier transform matrix and its inverse?\n",
    " * Are product of circulant matrices (of a same size) always circulant matrices?\n",
    " * Do all pairs of circulant matrices commute under matrix multiplication?"
   ]
  },
  {
   "cell_type": "markdown",
   "metadata": {},
   "source": [
    "### Solution\n",
    "* Yes, Suppose the circulant matrix is \n",
    "\\begin{equation}\n",
    "S=\n",
    "\\left(                 \n",
    "  \\begin{array}{ccc}   \n",
    "    a & c & b\\\\  \n",
    "    b & a & c\\\\\n",
    "    c & b & a\\\\\n",
    "  \\end{array}\n",
    "\\right)                 \n",
    "\\end{equation}\n",
    "and $\\omega = e^{\\frac{2\\pi j}{3}}$, so the fourier transform matrix is\n",
    "\\begin{equation}      \n",
    "F=\n",
    "\\left(                 \n",
    "  \\begin{array}{ccc}   \n",
    "    1 & 1 & 1\\\\  \n",
    "    1 & \\omega & \\omega ^2\\\\\n",
    "    1 & \\omega ^2 & \\omega ^4\\\\\n",
    "  \\end{array}\n",
    "\\right)                 \n",
    "\\end{equation}\n",
    "So we can get\n",
    "\\begin{equation}      \n",
    "FS=\n",
    "\\left(                 \n",
    "  \\begin{array}{ccc}   \n",
    "    a+b+c & a+b+c & a+b+c\\\\  \n",
    "    a+b\\omega +c\\omega ^2 & c+a\\omega +b\\omega ^2 & b+c\\omega +a\\omega ^2\\\\\n",
    "    a+b\\omega ^2 +c\\omega ^4 & c+a\\omega ^2 +b\\omega ^4 & b+c\\omega ^2 +a\\omega ^4\\\\\n",
    "  \\end{array}\n",
    "\\right)                 \n",
    "\\end{equation}\n",
    "Suppose $A= a+b+c, B=a+b\\omega +c\\omega ^2, C=a+b\\omega ^2 +c\\omega ^4$, we can get\n",
    "\\begin{equation}      \n",
    "FS=\n",
    "\\left(                 \n",
    "  \\begin{array}{ccc}   \n",
    "    A & A\\omega ^0 & A\\omega ^0\\\\  \n",
    "    B & B\\omega ^1 & B\\omega ^2\\\\\n",
    "    C & C\\omega ^2 & C\\omega ^4\\\\\n",
    "  \\end{array}\n",
    "\\right)\n",
    "=\n",
    "\\left(                 \n",
    "  \\begin{array}{ccc}   \n",
    "    A & B & C\\\\\n",
    "  \\end{array}\n",
    "\\right)\n",
    "\\times\n",
    "\\left(                 \n",
    "  \\begin{array}{ccc}   \n",
    "    1 & 1 & 1\\\\  \n",
    "    1 & \\omega ^1 & \\omega ^2\\\\\n",
    "    1 & \\omega ^2 &\\omega ^4\\\\\n",
    "  \\end{array}\n",
    "\\right)\n",
    "=\n",
    "\\left(                 \n",
    "  \\begin{array}{ccc}   \n",
    "    A & B & C\\\\\n",
    "  \\end{array}\n",
    "\\right)\n",
    "\\times\n",
    "F\n",
    "\\end{equation}\n",
    "So\n",
    "\\begin{equation}      \n",
    "FSF^{-1}=\n",
    "SFF^{-1}=\n",
    "SI=\n",
    "\\left(                 \n",
    "  \\begin{array}{ccc}   \n",
    "    A & 0 & 0\\\\\n",
    "    0 & B & 0\\\\\n",
    "    0 & 0 & C\\\\\n",
    "  \\end{array}\n",
    "\\right)\n",
    "\\end{equation}\n",
    "Actually, this can be applied to any circulant matrices, because the time shift property of fourier transform.\n",
    "* Suppose $A$ is a $n\\times n$ circulant matrix. It obvious to know that $A$ have three properties as follows.  \n",
    "First, $A_{ij}=A_{(i+1)(j+1)},(i<n,j<n)$  \n",
    "Second, $A_{nj}=A_{1(j+1)},(j<n)$  \n",
    "Third, $A_{in}=A_{(i+1)1},(i<n)$  \n",
    "And any $n\\times n$ matrix have these three properties is a circulant matrix.  \n",
    "Suppose $A$ and $B$ is two $n\\times n$ circulant matrices, so  \n",
    "$$(AB)_{ij}=\\sum_{q=1}^{n} A_{iq}B_{qj}$$\n",
    "$$(AB)_{(i+1)(j+1)}=\\sum_{q=1}^{n} A_{(i+1)q}B_{q(j+1)}=\\sum_{q=2}^{n} A_{i(q-1)}B_{(q-1)j}+A_{in}B_{nj}=\\sum_{q=1}^{n} A_{iq}B_{qj}=(AB)_{ij}$$\n",
    "Follow similar sequence, we can prove other two properties of circulant matrix in $AB$. So $AB$ is a circulant matrix and product of circulant matrices (of a same size) are always circulant matrices\n",
    "* Suppose $A$ and $B$ is two $n\\times n$ circulant matrices. We already get\n",
    "$$(AB)_{ij}=\\sum_{q=1}^{n} A_{iq}B_{qj}$$\n",
    "$$(BA)_{ij}=\\sum_{q=1}^{n} B_{iq}A_{qj}$$\n",
    "Because $AB$ and $BA$ are circulant matrices, so, if $(BA)_{1j}=(AB)_{1j}$, then $AB=BA$\n",
    "\\begin{equation}\n",
    "\\begin{aligned}\n",
    "(BA)_{1j}&=\\sum_{q=1}^{n} B_{1q}A_{qj}\\\\\n",
    "&=\\sum_{q=2}^{j} A_{1(j-q+1)}B_{(n+2-q)1}+A_{1j}B_{11}+\\sum_{q=j+1}^{n} A_{1(n+j-q+1)}B_{(n+2-q)1}\\\\\n",
    "&=\\sum_{q=1}^{j-1} A_{1q}B_{(n+1-j+q)1}+A_{1j}B_{11}+\\sum_{q=j+1}^{n} A_{1q}B_{(1-j+q)1}\\\\\n",
    "&=\\sum_{q=1}^{j-1} A_{1q}B_{qj}+A_{1j}B_{jj}+\\sum_{q=j+1}^{n} A_{1q}B_{qj}\\\\\n",
    "&=\\sum_{q=1}^{n} A_{1q}B_{qj}\\\\\n",
    "&=(AB)_{1j}\n",
    "\\end{aligned}\n",
    "\\end{equation}\n",
    "So we can conclude $AB=BA$ and all pairs of circulant matrices commute under matrix multiplication"
   ]
  },
  {
   "cell_type": "markdown",
   "metadata": {},
   "source": [
    "## Determinant\n",
    "The determinant of a square matrix is a value derived arithmetically from the coefficients of the matrix, and it summarizes a multivariable phenomenon with a signle number.\n",
    "It can be computed with ```scipy.linalg.det(a)```."
   ]
  },
  {
   "cell_type": "code",
   "execution_count": 5,
   "metadata": {
    "collapsed": false
   },
   "outputs": [
    {
     "data": {
      "text/plain": [
       "-93.99999999999999"
      ]
     },
     "execution_count": 5,
     "metadata": {},
     "output_type": "execute_result"
    }
   ],
   "source": [
    "from scipy.linalg import det\n",
    "from numpy import random\n",
    "my_circ_matrix = random.randint(1,10, size = (3,3))\n",
    "det(my_circ_matrix)"
   ]
  },
  {
   "cell_type": "markdown",
   "metadata": {},
   "source": [
    "The code below demonstrates how to create a function in Python, how to vectorize a function so that it can be applied to the elements of a matrix, and how to use ```random```."
   ]
  },
  {
   "cell_type": "code",
   "execution_count": 6,
   "metadata": {
    "collapsed": false,
    "scrolled": true
   },
   "outputs": [
    {
     "name": "stdout",
     "output_type": "stream",
     "text": [
      "[[ 0.          1.09861229  0.        ]\n",
      " [ 2.19722458  0.          1.60943791]\n",
      " [ 1.94591015  1.38629436  2.07944154]]\n",
      "-93.717738\n"
     ]
    }
   ],
   "source": [
    "import math\n",
    "\n",
    "def my_log(x):\n",
    "    return math.log(x)\n",
    "\n",
    "my_vec_log = np.vectorize(my_log)\n",
    "\n",
    "A_step1 = my_vec_log(my_circ_matrix) # Numpy already offers a vectorized natural logarithm.\n",
    "\n",
    "print(A_step1)\n",
    "# A_step1 = np.log(matrix_prod2)\n",
    "\n",
    "max_index = 1000000\n",
    "my_identity = np.identity(len(A_step1))\n",
    "current_value = 0.0\n",
    "for my_index in range(0, max_index):\n",
    "    permutation_matrix = random.permutation(my_identity)\n",
    "    sign_permuation = det(permutation_matrix)\n",
    "    current_value += sign_permuation*(np.exp(np.trace(np.dot(A_step1, permutation_matrix))))\n",
    "a_step2 = math.factorial(len(A_step1)) * current_value / max_index\n",
    "print(a_step2)"
   ]
  },
  {
   "cell_type": "code",
   "execution_count": 7,
   "metadata": {
    "collapsed": false,
    "scrolled": true
   },
   "outputs": [
    {
     "name": "stdout",
     "output_type": "stream",
     "text": [
      "[[ 1.  0.  0.]\n",
      " [ 0.  1.  0.]\n",
      " [ 0.  0.  1.]]\n",
      "[[ 0.  1.  0.]\n",
      " [ 0.  0.  1.]\n",
      " [ 1.  0.  0.]]\n",
      "1.0\n"
     ]
    }
   ],
   "source": [
    "tryIdentity = np.identity(3)\n",
    "tryRandom = random.permutation(tryIdentity)\n",
    "print(tryIdentity)\n",
    "print(tryRandom)\n",
    "print(det(tryRandom))"
   ]
  },
  {
   "cell_type": "code",
   "execution_count": 8,
   "metadata": {
    "collapsed": false,
    "scrolled": true
   },
   "outputs": [
    {
     "name": "stdout",
     "output_type": "stream",
     "text": [
      "[[ 0.          0.          1.09861229]\n",
      " [ 1.60943791  2.19722458  0.        ]\n",
      " [ 2.07944154  1.94591015  1.38629436]]\n"
     ]
    }
   ],
   "source": [
    "dotTemp = np.dot(A_step1, tryRandom)\n",
    "print(dotTemp)"
   ]
  },
  {
   "cell_type": "markdown",
   "metadata": {},
   "source": [
    "#### Questions\n",
    "It appears that the output of the loop above is close to the determinant of the circulant matrix ```my_circ_matrix```.\n",
    " * Go through the code and provide a compelling explain explanation of why these numbers are close.\n",
    " * Is this a property of circulant matrices, or would this finding extend to arbitrary matrices over the real numbers?"
   ]
  },
  {
   "cell_type": "markdown",
   "metadata": {},
   "source": [
    "#### Solution\n",
    "* Because the determinant of matrix is caculated by\n",
    "$$\\det (A)=\\sum_{\\sigma \\in S_n} \\text{sgn} (\\sigma)\\prod_{i=1}^{n} a_{i,\\sigma (i)}$$\n",
    "And the random process actually produce term of this equation and the produce probility of each term is equal. So it would end up with a value which is very close with $\\det (A)$."
   ]
  },
  {
   "cell_type": "markdown",
   "metadata": {},
   "source": [
    "### Tasks\n",
    " * Build code to explore the fact that the determinant function is multiplicative: $\\mathrm{det}(AB) = \\mathrm{det}(A) \\mathrm{det}(B)$."
   ]
  },
  {
   "cell_type": "code",
   "execution_count": 9,
   "metadata": {
    "collapsed": false
   },
   "outputs": [
    {
     "name": "stdout",
     "output_type": "stream",
     "text": [
      "accuracy rate is 1.000000\n"
     ]
    }
   ],
   "source": [
    "maxCheckTime = 10000\n",
    "trueTime = 0\n",
    "for myIndex in range(maxCheckTime):\n",
    "    sizeMatrix = random.randint(1,3)  #size is ramdom within 3\n",
    "    matrixA = random.randint(100, size = (sizeMatrix, sizeMatrix))\n",
    "    matrixB = random.randint(100, size = (sizeMatrix, sizeMatrix)) #produce random Matrix\n",
    "#     print(matrixA)\n",
    "#     print(matrixB)\n",
    "#     print(det(np.dot(matrixA,matrixB)))\n",
    "#     print(det(matrixA)*det(matrixB))\n",
    "    if (np.absolute(det(np.dot(matrixA,matrixB))-det(matrixA)*det(matrixB)) < 1e-6): #check if det(AB)=det(Adet(B)\n",
    "        trueTime += 1\n",
    "print(\"accuracy rate is %f\" % (trueTime/maxCheckTime))"
   ]
  },
  {
   "cell_type": "markdown",
   "metadata": {},
   "source": [
    "So according to the simulate result above, we can conclude $\\mathrm{det}(AB) = \\mathrm{det}(A) \\mathrm{det}(B)$"
   ]
  },
  {
   "cell_type": "code",
   "execution_count": null,
   "metadata": {
    "collapsed": true
   },
   "outputs": [],
   "source": []
  }
 ],
 "metadata": {
  "anaconda-cloud": {},
  "kernelspec": {
   "display_name": "Python [conda env:py36]",
   "language": "python",
   "name": "conda-env-py36-py"
  },
  "language_info": {
   "codemirror_mode": {
    "name": "ipython",
    "version": 3
   },
   "file_extension": ".py",
   "mimetype": "text/x-python",
   "name": "python",
   "nbconvert_exporter": "python",
   "pygments_lexer": "ipython3",
   "version": "3.6.1"
  }
 },
 "nbformat": 4,
 "nbformat_minor": 2
}
