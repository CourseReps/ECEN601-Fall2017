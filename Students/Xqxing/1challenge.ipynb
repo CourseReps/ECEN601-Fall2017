{
 "cells": [
  {
   "cell_type": "markdown",
   "metadata": {},
   "source": [
    "# Challenge 1\n",
    "\n",
    "## SciPy Tutorial\n",
    "Pertinent information about [SciPy](https://docs.scipy.org/) and NumPy is available in the [SciPy Tutorial](https://docs.scipy.org/doc/scipy/reference/tutorial/index.html).\n",
    " * Read [Introduction](https://docs.scipy.org/doc/scipy/reference/tutorial/general.html)\n",
    " * Read [Basic functions](https://docs.scipy.org/doc/scipy/reference/tutorial/basic.html)\n",
    " * Read [Optimization](https://docs.scipy.org/doc/scipy/reference/tutorial/optimize.html)\n",
    " \n",
    "Consider the function defined below.\n",
    " * Plot the function using [matplotlib](https://matplotlib.org/)"
   ]
  },
  {
   "cell_type": "code",
   "execution_count": 3,
   "metadata": {
    "collapsed": true
   },
   "outputs": [],
   "source": [
    "import numpy as np\n",
    "import matplotlib.pyplot as plt"
   ]
  },
  {
   "cell_type": "code",
   "execution_count": 4,
   "metadata": {},
   "outputs": [
    {
     "data": {
      "image/png": "[encoded data removed]",
      "text/plain": [
       "<matplotlib.figure.Figure at 0x267695ef208>"
      ]
     },
     "metadata": {},
     "output_type": "display_data"
    }
   ],
   "source": [
    "def g(t):\n",
    "    return 1 - (np.exp(-2*t) * np.cos(np.pi*t))\n",
    "\n",
    "t1 = np.arange(0.0, 2.0, 0.01)\n",
    "\n",
    "plt.figure(1)\n",
    "plt.plot(t1, g(t1), 'k')\n",
    "plt.show()"
   ]
  },
  {
   "cell_type": "markdown",
   "metadata": {},
   "source": [
    "Consider the class of functions of the form $f(t) = 1 - e^{-at}$ where $a$ is a free parameter.\n",
    " * Find the value of $a$ that minimizes the $L_2$ norm between $g(t)$ and $f(t)$ over the interval $[0, 2]$\n",
    " * Computer the residual mean squared error\n",
    " * Explain how you obtained $a$"
   ]
  },
  {
   "cell_type": "markdown",
   "metadata": {
    "collapsed": true
   },
   "source": [
    "# Solution"
   ]
  },
  {
   "cell_type": "code",
   "execution_count": 9,
   "metadata": {},
   "outputs": [
    {
     "name": "stdout",
     "output_type": "stream",
     "text": [
      "Value of a:  4.603\n",
      "Minimum value of L2 norm:  1.50453872768\n",
      "Value of residual mean squared error:  0.0113181839155\n"
     ]
    },
    {
     "data": {
      "image/png": "[encoded data removed]",
      "text/plain": [
       "<matplotlib.figure.Figure at 0x267696e1400>"
      ]
     },
     "metadata": {},
     "output_type": "display_data"
    }
   ],
   "source": [
    "import numpy as np\n",
    "import matplotlib.pyplot as plt\n",
    "\n",
    "def g(t):\n",
    "    return 1 - (np.exp(-2*t) * np.cos(np.pi*t))\n",
    "def f(t,a):\n",
    "    return 1-np.exp(-a*t)\n",
    "def min(x,y):\n",
    "    if x<y:\n",
    "        return x\n",
    "    else:\n",
    "        return y\n",
    "\n",
    "am=0\n",
    "L2=1000000\n",
    "t1 = np.arange(0.0, 2.0, 0.01)\n",
    "a1 = np.arange(0.0, 10.0, 0.001)\n",
    "\n",
    "for a in a1:\n",
    "    sum=np.sum((f(t1,a)-g(t1))**2)\n",
    "    sum1=sum**0.5\n",
    "    if sum1<L2:\n",
    "        am=a\n",
    "    L2=min(L2,sum1)\n",
    "\n",
    "amin=am\n",
    "Lmin=L2\n",
    "Mse=(L2**2)/len(t1)\n",
    "\n",
    "print(\"Value of a: \",amin)\n",
    "print(\"Minimum value of L2 norm: \",Lmin)\n",
    "print(\"Value of residual mean squared error: \",Mse)\n",
    "\n",
    "plt.figure(1)\n",
    "plt.plot(t1, g(t1), 'k',label='g(t)')\n",
    "plt.plot(t1, f(t1,amin), 'b',label='f(t,a)')\n",
    "plt.title('Challenge1')\n",
    "plt.legend(loc='best')\n",
    "plt.show()"
   ]
  },
  {
   "cell_type": "markdown",
   "metadata": {},
   "source": [
    "(1) As shown in the result, The value of a that minimizes the L2 norm between g(t) and f(t) over the interval [0,2] is 4.603, and the minimum value of L2 norm is 1.50453872768.\n",
    "\n",
    "(2) As shown in the result, value of residual mean squared error is 0.0113181839155.\n",
    "\n",
    "(3) The L2 norm is defined as the root of sum of square of the difference between f(t,a) and g(t), so we can use a loop (if present value is smaller than former one, then replace the former value) to find a minimum value of ((f(t,a)-g(t))2)0.5. This result points to a value(record as value a) which is what we want to obtain.\n"
   ]
  }
 ],
 "metadata": {
  "kernelspec": {
   "display_name": "Python 3",
   "language": "python",
   "name": "python3"
  },
  "language_info": {
   "codemirror_mode": {
    "name": "ipython",
    "version": 3
   },
   "file_extension": ".py",
   "mimetype": "text/x-python",
   "name": "python",
   "nbconvert_exporter": "python",
   "pygments_lexer": "ipython3",
   "version": "3.6.1"
  }
 },
 "nbformat": 4,
 "nbformat_minor": 2
}
