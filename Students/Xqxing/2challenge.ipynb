{
 "cells": [
  {
   "cell_type": "markdown",
   "metadata": {},
   "source": [
    "# Challenge 2\n",
    "An important aspect of pragmatic vector space methods is the ability to handle vectors and matrices.\n",
    "A large collection of linear algebra functions is available in [SciPy.linalg](https://docs.scipy.org/doc/scipy/reference/linalg.html).\n",
    "These functions can be employed in conjunction with the tools available in [NumPy](http://www.numpy.org/).\n",
    "We note that the main object in NumPy is the homogeneous multidimensional array."
   ]
  },
  {
   "cell_type": "markdown",
   "metadata": {},
   "source": [
    "## Matrix\n",
    "We begin by creating a simple matrix.\n",
    "One possible approach to complete this task is to use ```scipy.linalg.circulant(c)```."
   ]
  },
  {
   "cell_type": "code",
   "execution_count": 9,
   "metadata": {},
   "outputs": [
    {
     "name": "stdout",
     "output_type": "stream",
     "text": [
      "[[1 3 2]\n",
      " [2 1 3]\n",
      " [3 2 1]]\n"
     ]
    }
   ],
   "source": [
    "from scipy.linalg import circulant\n",
    "my_circ_matrix = circulant([1, 2, 3])\n",
    "print(my_circ_matrix)"
   ]
  },
  {
   "cell_type": "markdown",
   "metadata": {},
   "source": [
    "Alternatively, you can construct the familiar discrete Fourier transform matrix with ```scipy.linalg.dft(n)```."
   ]
  },
  {
   "cell_type": "code",
   "execution_count": 10,
   "metadata": {},
   "outputs": [
    {
     "name": "stdout",
     "output_type": "stream",
     "text": [
      "[[ 1.0+0.j         1.0+0.j         1.0+0.j       ]\n",
      " [ 1.0+0.j        -0.5-0.8660254j -0.5+0.8660254j]\n",
      " [ 1.0+0.j        -0.5+0.8660254j -0.5-0.8660254j]]\n"
     ]
    }
   ],
   "source": [
    "from scipy.linalg import dft\n",
    "my_dft_matrix = dft(3)\n",
    "print(my_dft_matrix)"
   ]
  },
  {
   "cell_type": "markdown",
   "metadata": {},
   "source": [
    "The inverse of a matrix can be computed using ```scipy.linalg.inv(a)```."
   ]
  },
  {
   "cell_type": "code",
   "execution_count": 13,
   "metadata": {},
   "outputs": [
    {
     "name": "stdout",
     "output_type": "stream",
     "text": [
      "[[ 0.33333333+0.j          0.33333333+0.j          0.33333333-0.j        ]\n",
      " [ 0.33333333+0.j         -0.16666667+0.28867513j -0.16666667-0.28867513j]\n",
      " [ 0.33333333-0.j         -0.16666667-0.28867513j -0.16666667+0.28867513j]]\n"
     ]
    }
   ],
   "source": [
    "from scipy.linalg import inv\n",
    "my_idft_matrix = inv(my_dft_matrix)\n",
    "print(my_idft_matrix)"
   ]
  },
  {
   "cell_type": "markdown",
   "metadata": {},
   "source": [
    "The operation ```numpy.dot(a, b)``` computes the dot product of two arrays.\n",
    "For 2-D arrays it is equivalent to matrix multiplication, and for 1-D arrays to inner product of vectors (without complex conjugation)."
   ]
  },
  {
   "cell_type": "code",
   "execution_count": 12,
   "metadata": {},
   "outputs": [
    {
     "name": "stdout",
     "output_type": "stream",
     "text": [
      "[[ 6.0-0.j        -0.0+0.j         0.0+0.j       ]\n",
      " [-0.0-0.j        -1.5+0.8660254j -0.0+0.j       ]\n",
      " [ 0.0-0.j         0.0-0.j        -1.5-0.8660254j]]\n"
     ]
    }
   ],
   "source": [
    "import numpy as np\n",
    "matrix_prod1 = np.dot(my_dft_matrix, my_circ_matrix)\n",
    "matrix_prod2 = np.dot(matrix_prod1, my_idft_matrix)\n",
    "# matrix_prod3 = np.dot(my_dft_matrix, my_idft_matrix)\n",
    "\n",
    "np.set_printoptions(suppress=True)\n",
    "# print(matrix_prod1)\n",
    "print(matrix_prod2)"
   ]
  },
  {
   "cell_type": "markdown",
   "metadata": {},
   "source": [
    "### Questions\n",
    "These steps and their solutions immediately bring up three questions.\n",
    " * Are circulant matrices always diagonalized by the discrete Fourier transform matrix and its inverse?\n",
    " * Are product of circulant matrices (of a same size) always circulant matrices?\n",
    " * Do all pairs of circulant matrices commute under matrix multiplication?"
   ]
  },
  {
   "cell_type": "markdown",
   "metadata": {},
   "source": [
    "## Answer"
   ]
  },
  {
   "cell_type": "markdown",
   "metadata": {},
   "source": [
    "1.Yes,circulant matrices always diagonalized by the discrete Fourier transform matrix and its inverse. Since for all A=circulant([a, b, c]) matrices, $F\\cdot A\\cdot F^{-1}$=$\n",
    "\\left[\n",
    "\\begin{matrix}\n",
    "f(a,b,c) ; 0         ; 0  \\\\\n",
    "0        ; g(a,b,c)  ; 0 \\\\\n",
    "0        ; 0         ; h(a,b,c)\\\\ \n",
    "\\end{matrix}\n",
    "\\right] $\n"
   ]
  },
  {
   "cell_type": "markdown",
   "metadata": {},
   "source": [
    "2.Yes, product of circulant matrices (of a same size) always circulant matrices. Since the circulant matrix follows the algebraic algorithm. For both circulant matrices A and B(the same size), A + B is also a circulant matrix. AB is also a circular matrix, and AB = BA."
   ]
  },
  {
   "cell_type": "markdown",
   "metadata": {},
   "source": [
    "3.Yes, all pairs of circulant matrices commute under matrix multiplication for them follow the algebraic algorithm. Take A=circulant([a, b, c]) and B=circulant([a', b', c']) as an example. AB=BA=$\n",
    "\\left[\n",
    "\\begin{matrix}\n",
    "aa' + bc' + cb' ; ac' + bb' + ca' ; ab' + ba' + cc' \\\\\n",
    "ab' + ba' + cc' ; aa' + bc' + cb' ; ac' + bb' + ca' \\\\\n",
    "ac' + bb' + cb' ; ab' + ba' + cc' ; aa' + bc' + cb'\n",
    "\\end{matrix} \n",
    "\\right] $ ,"
   ]
  },
  {
   "cell_type": "markdown",
   "metadata": {},
   "source": [
    "## Determinant\n",
    "The determinant of a square matrix is a value derived arithmetically from the coefficients of the matrix, and it summarizes a multivariable phenomenon with a signle number.\n",
    "It can be computed with ```scipy.linalg.det(a)```."
   ]
  },
  {
   "cell_type": "code",
   "execution_count": 14,
   "metadata": {},
   "outputs": [
    {
     "data": {
      "text/plain": [
       "18.0"
      ]
     },
     "execution_count": 14,
     "metadata": {},
     "output_type": "execute_result"
    }
   ],
   "source": [
    "from scipy.linalg import det\n",
    "det(my_circ_matrix)"
   ]
  },
  {
   "cell_type": "markdown",
   "metadata": {},
   "source": [
    "The code below demonstrates how to create a function in Python, how to vectorize a function so that it can be applied to the elements of a matrix, and how to use ```random```."
   ]
  },
  {
   "cell_type": "code",
   "execution_count": 22,
   "metadata": {},
   "outputs": [
    {
     "name": "stdout",
     "output_type": "stream",
     "text": [
      "17.97936\n"
     ]
    }
   ],
   "source": [
    "import math\n",
    "from numpy import random\n",
    "\n",
    "def my_log(x):\n",
    "    return math.log(x)\n",
    "\n",
    "my_vec_log = np.vectorize(my_log)\n",
    "\n",
    "A_step1 = my_vec_log(my_circ_matrix) # Numpy already offers a vectorized natural logarithm.\n",
    "# A_step1 = np.log(matrix_prod2)\n",
    "\n",
    "max_index = 100000\n",
    "my_identity = np.identity(len(A_step1))\n",
    "current_value = 0.0\n",
    "for my_index in range(0, max_index):\n",
    "    permutation_matrix = random.permutation(my_identity)\n",
    "    sign_permuation = det(permutation_matrix)\n",
    "    current_value += sign_permuation*(np.exp(np.trace(np.dot(A_step1, permutation_matrix))))\n",
    "a_step2 = math.factorial(len(A_step1)) * current_value / max_index\n",
    "print(a_step2)\n",
    "# print(A_step1)"
   ]
  },
  {
   "cell_type": "markdown",
   "metadata": {},
   "source": [
    "#### Questions\n",
    "It appears that the output of the loop above is close to the determinant of the circulant matrix ```my_circ_matrix```.\n",
    " * Go through the code and provide a compelling explain explanation of why these numbers are close.\n",
    " * Is this a property of circulant matrices, or would this finding extend to arbitrary matrices over the real numbers?"
   ]
  },
  {
   "cell_type": "markdown",
   "metadata": {},
   "source": [
    "#### Answer"
   ]
  },
  {
   "cell_type": "markdown",
   "metadata": {},
   "source": [
    "1.\n",
    "\n",
    "In the example, my_circ_matrix = circulant([1, 2, 3]),so my_circ_matrix=$\n",
    "\\left[\n",
    "\\begin{matrix}\n",
    "1 ,3 ,2\\\\\n",
    "2 ,1 ,3\\\\\n",
    "3 ,2 ,1\n",
    "\\end{matrix}\n",
    "\\right]\n",
    "$\n",
    "and det(my_circ_matrix)=$1^3+2^3+3^3-3*1*2*3=18.0$ \n",
    "\n",
    "Since np.identity(len(A_step1))=np.indentity(3)=$\n",
    "\\left[\n",
    "\\begin{matrix}\n",
    "1 ,0 ,0\\\\\n",
    "0 ,1 ,0\\\\\n",
    "0 ,0 ,1\n",
    "\\end{matrix}\n",
    "\\right]\n",
    "$\n",
    "permutation_matrix has six different types, and the probability of each occurrence is almost the same(because max_index is big enough). Thus, the probability of sign_permutation to be +1 or -1 is the same too. Meanwhile, A_step1=$\n",
    "\\left[\n",
    "\\begin{matrix}\n",
    "0           ,   1.09861229  ,   0.69314718\\\\\n",
    "0.69314718  ,   0           ,   1.09861229\\\\\n",
    "1.09861229  ,   0.69314718  ,   0        \n",
    "\\end{matrix}\n",
    "\\right]\n",
    "$\n",
    "\n",
    "that's to say np.trace(np.dot(A_step1, permutation_matrix)) can only be four values: 1.79175946923,   0.0,  3.295836866,  2.07944154168.\n",
    "Amoung these values, 1.79175946923 has 1/2 probability to occurrence, other three has 1/6 probability to occurrence. Those four values show that np.exp(np.trace(np.dot(A_step1, permutation_matrix)))= -6 ,1 ,27 ,8 respectively.We can assume max_index=6 and the probability is 3:1:1:1. Thus, a_step2 = math.factorial(len(A_step1)) * current_value / max_index= 3!*current_value/max_index = 3!*18/6=18.0.\n",
    "\n",
    "This result equals to det(my_circ_matrix). Because of the probability to occurrence will not be so rigorous, the two results will be closed."
   ]
  },
  {
   "cell_type": "markdown",
   "metadata": {},
   "source": [
    "2.\n",
    "\n",
    "This finding can be extended to arbitrary matrices over the real numbers! Since the result is decided by the probability of occurence, if the probability of sign_permutation and np.trace(np.dot(A_step1, permutation_matrix)) values to be the same, then the results would be closed! \n",
    "\n",
    "In another words, if the max_index is big enough, then the two results would be closed!"
   ]
  },
  {
   "cell_type": "markdown",
   "metadata": {},
   "source": [
    "### Tasks\n",
    " * Build code to explore the fact that the determinant function is multiplicative: $\\mathrm{det}(AB) = \\mathrm{det}(A) \\mathrm{det}(B)$."
   ]
  },
  {
   "cell_type": "code",
   "execution_count": 70,
   "metadata": {},
   "outputs": [
    {
     "name": "stdout",
     "output_type": "stream",
     "text": [
      "n is 7\n",
      "A is \n",
      " [[ 7.  3.  5.  6.  2.  9.  9.]\n",
      " [ 5.  7.  7.  5.  8.  7.  1.]\n",
      " [ 8.  3.  1.  6.  1.  5.  5.]\n",
      " [ 5.  4.  1.  2.  6.  5.  1.]\n",
      " [ 2.  7.  3.  4.  6.  8.  1.]\n",
      " [ 7.  5.  2.  9.  5.  2.  8.]\n",
      " [ 4.  1.  9.  8.  8.  5.  9.]]\n",
      "B is \n",
      " [[ 7.  4.  7.  7.  7.  8.  1.]\n",
      " [ 1.  9.  7.  5.  4.  5.  9.]\n",
      " [ 2.  7.  6.  7.  1.  2.  9.]\n",
      " [ 1.  2.  4.  3.  9.  1.  8.]\n",
      " [ 5.  2.  5.  3.  7.  6.  4.]\n",
      " [ 9.  7.  6.  9.  8.  3.  1.]\n",
      " [ 7.  7.  1.  1.  6.  5.  3.]]\n",
      "AB is \n",
      " [[ 222.  232.  197.  213.  260.  171.  171.]\n",
      " [ 171.  214.  229.  222.  233.  168.  213.]\n",
      " [ 152.  150.  147.  149.  200.  133.  116.]\n",
      " [ 125.  121.  138.  132.  158.  120.   98.]\n",
      " [ 140.  175.  176.  173.  193.  126.  159.]\n",
      " [ 166.  185.  177.  156.  251.  170.  188.]\n",
      " [ 203.  218.  200.  198.  263.  171.  222.]]\n",
      "det(A)*det(B) is -47836100000.000015\n",
      "det(AB) is -47836099999.999985\n"
     ]
    }
   ],
   "source": [
    "import numpy as np\n",
    "from scipy.linalg import det\n",
    "\n",
    "n=np.random.randint(2,10)\n",
    "print(\"n is\",n)\n",
    "\n",
    "A=np.zeros((n,n))\n",
    "B=np.zeros((n,n))\n",
    "\n",
    "for i in range(0,n,1):\n",
    "    for j in range(0,n,1):\n",
    "     A[i][j]=np.random.randint(1,10)\n",
    "for i in range(0,n,1):\n",
    "    for j in range(0,n,1):\n",
    "     B[i][j]=np.random.randint(1,10)\n",
    "    \n",
    "AB=np.dot(A,B)\n",
    "det1=det(B)*det(A)\n",
    "det2=det(AB)\n",
    "\n",
    "print(\"A is\",'\\n',A)\n",
    "print(\"B is\",'\\n',B)\n",
    "print(\"AB is\",'\\n',AB)\n",
    "print(\"det(A)*det(B) is\",det1)\n",
    "print(\"det(AB) is\",det2)\n"
   ]
  },
  {
   "cell_type": "markdown",
   "metadata": {},
   "source": [
    "As shown in the result, the determinant function is multiplicative."
   ]
  }
 ],
 "metadata": {
  "kernelspec": {
   "display_name": "Python 3",
   "language": "python",
   "name": "python3"
  },
  "language_info": {
   "codemirror_mode": {
    "name": "ipython",
    "version": 3
   },
   "file_extension": ".py",
   "mimetype": "text/x-python",
   "name": "python",
   "nbconvert_exporter": "python",
   "pygments_lexer": "ipython3",
   "version": "3.6.1"
  }
 },
 "nbformat": 4,
 "nbformat_minor": 2
}
