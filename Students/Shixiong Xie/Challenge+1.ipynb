{
 "cells": [
  {
   "cell_type": "code",
   "execution_count": 46,
   "metadata": {},
   "outputs": [
    {
     "data": {
      "image/png": "[encoded data removed]",
      "text/plain": [
       "<matplotlib.figure.Figure at 0x19e39d1fd30>"
      ]
     },
     "metadata": {},
     "output_type": "display_data"
    },
    {
     "name": "stdout",
     "output_type": "stream",
     "text": [
      "The values of Mina is 4.6035\n",
      "The values of L2 is 1.50453869935\n",
      "The values of MSE is 0.0113181834891\n"
     ]
    }
   ],
   "source": [
    "import numpy as np\n",
    "import matplotlib.pyplot as plt\n",
    "\n",
    "##define g(t) and f(t)\n",
    "def g(t):\n",
    "    return 1 - (np.exp(-2*t) * np.cos(np.pi*t))\n",
    "def f(t,a):\n",
    "    return 1 - (np.exp(-a*t))\n",
    "\n",
    "##define values\n",
    "t1 = np.arange(0.0, 2.00, 0.01)\n",
    "a1 = np.arange(0.0, 20.00, 0.0001)\n",
    "Minl = float ('inf')\n",
    "Mina = 0\n",
    "MSE  = 0\n",
    "##loop\n",
    "for a in a1:\n",
    "       L=(sum((abs(f(t1,a)-g(t2)))**2))**0.5\n",
    "       if L<Minl:\n",
    "        Minl = L\n",
    "        Mina = a\n",
    "        \n",
    "MSE=(Minl*Minl)/len(t1)\n",
    "\n",
    "#show the result\n",
    "plt.figure(1)\n",
    "plot1=plt.plot(t1, g(t1), 'k',label='g(t)')\n",
    "plot2=plt.plot(t1, f(t1,Mina),'r',label='f(t)')\n",
    "plt.title('challenge1')\n",
    "plt.show()\n",
    "print(\"The values of Mina is\", Mina)\n",
    "print(\"The values of L2 is\", Minl)\n",
    "print(\"The values of MSE is\", MSE)"
   ]
  },
  {
   "cell_type": "code",
   "execution_count": null,
   "metadata": {},
   "outputs": [],
   "source": [
    "Firstly, define the functions and vaules. And then, according to the defination of norm, using a loop to find the value of a when L2 is minimum. At last plot the result. "
   ]
  },
  {
   "cell_type": "code",
   "execution_count": null,
   "metadata": {},
   "outputs": [],
   "source": []
  },
  {
   "cell_type": "code",
   "execution_count": null,
   "metadata": {},
   "outputs": [],
   "source": []
  },
  {
   "cell_type": "code",
   "execution_count": null,
   "metadata": {},
   "outputs": [],
   "source": []
  }
 ],
 "metadata": {
  "kernelspec": {
   "display_name": "Python 3",
   "language": "python",
   "name": "python3"
  },
  "language_info": {
   "codemirror_mode": {
    "name": "ipython",
    "version": 3
   },
   "file_extension": ".py",
   "mimetype": "text/x-python",
   "name": "python",
   "nbconvert_exporter": "python",
   "pygments_lexer": "ipython3",
   "version": "3.6.1"
  }
 },
 "nbformat": 4,
 "nbformat_minor": 1
}
