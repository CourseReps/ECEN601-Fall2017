{
 "cells": [
  {
   "cell_type": "markdown",
   "metadata": {},
   "source": [
    "# Challenge 2\n",
    "An important aspect of pragmatic vector space methods is the ability to handle vectors and matrices.\n",
    "A large collection of linear algebra functions is available in [SciPy.linalg](https://docs.scipy.org/doc/scipy/reference/linalg.html).\n",
    "These functions can be employed in conjunction with the tools available in [NumPy](http://www.numpy.org/).\n",
    "We note that the main object in NumPy is the homogeneous multidimensional array."
   ]
  },
  {
   "cell_type": "markdown",
   "metadata": {},
   "source": [
    "## Matrix\n",
    "We begin by creating a simple matrix.\n",
    "One possible approach to complete this task is to use ```scipy.linalg.circulant(c)```."
   ]
  },
  {
   "cell_type": "code",
   "execution_count": 20,
   "metadata": {
    "collapsed": true
   },
   "outputs": [],
   "source": [
    "from scipy.linalg import circulant\n",
    "my_circ_matrix = circulant([1, 2, 3])"
   ]
  },
  {
   "cell_type": "markdown",
   "metadata": {},
   "source": [
    "Alternatively, you can construct the familiar discrete Fourier transform matrix with ```scipy.linalg.dft(n)```."
   ]
  },
  {
   "cell_type": "code",
   "execution_count": 21,
   "metadata": {
    "collapsed": true
   },
   "outputs": [],
   "source": [
    "from scipy.linalg import dft\n",
    "my_dft_matrix = dft(3)"
   ]
  },
  {
   "cell_type": "markdown",
   "metadata": {},
   "source": [
    "The inverse of a matrix can be computed using ```scipy.linalg.inv(a)```."
   ]
  },
  {
   "cell_type": "code",
   "execution_count": 22,
   "metadata": {
    "collapsed": true
   },
   "outputs": [],
   "source": [
    "from scipy.linalg import inv\n",
    "my_idft_matrix = inv(my_dft_matrix)"
   ]
  },
  {
   "cell_type": "markdown",
   "metadata": {},
   "source": [
    "The operation ```numpy.dot(a, b)``` computes the dot product of two arrays.\n",
    "For 2-D arrays it is equivalent to matrix multiplication, and for 1-D arrays to inner product of vectors (without complex conjugation)."
   ]
  },
  {
   "cell_type": "code",
   "execution_count": 23,
   "metadata": {},
   "outputs": [
    {
     "name": "stdout",
     "output_type": "stream",
     "text": [
      "[[ 6.0-0.j         0.0+0.j        -0.0+0.j       ]\n",
      " [-0.0-0.j        -1.5+0.8660254j -0.0-0.j       ]\n",
      " [ 0.0-0.j         0.0-0.j        -1.5-0.8660254j]]\n"
     ]
    }
   ],
   "source": [
    "import numpy as np\n",
    "matrix_prod1 = np.dot(my_dft_matrix, my_circ_matrix)\n",
    "matrix_prod2 = np.dot(matrix_prod1, my_idft_matrix)\n",
    "\n",
    "np.set_printoptions(suppress=True)\n",
    "print(matrix_prod2)"
   ]
  },
  {
   "cell_type": "markdown",
   "metadata": {},
   "source": [
    "### Questions\n",
    "These steps and their solutions immediately bring up three questions.\n",
    " * Are circulant matrices always diagonalized by the discrete Fourier transform matrix and its inverse?\n",
    " * Are product of circulant matrices (of a same size) always circulant matrices?\n",
    " * Do all pairs of circulant matrices commute under matrix multiplication?\n",
    " \n",
    "### Solutions\n",
    " * Yes. Since the DFT matrix is a unitray matrix ($FF^H=F^HF=I$), so $F^{-1}=F^H$. According to the definition, all circulant matrices are made diagonal by the DFT, regardless of the generating vector $x$. $F^HXF=diag(\\hat x)$ ($\\hat x$ is the DFT of generating vector $x$), thus $F^{-1}XF=diag(\\hat x)$.\n",
    " * Yes. Assume that $A,B$ are curculant matrices.\n",
    " \\begin{align}\n",
    " AB&=F\\cdot diag(\\hat a)\\cdot F^H\\cdot F\\cdot diag(\\hat b)\\cdot F^H\\\\\n",
    " &=F\\cdot diag(\\hat a)\\cdot diag(\\hat b)\\cdot F^H\\\\\n",
    " &=F\\cdot diag(\\hat a\\odot \\hat b)\\cdot F^H\\\\\n",
    " &=C(\\mathcal F^{-1}(\\hat a\\odot \\hat b))\n",
    " \\end{align}\n",
    " $\\odot$ is Hadamard product of vectors. Product of circulant matrices always circulant matrices whose generating vectors are the Hadamard product of the DFT of the old generating vectors.\n",
    " * Yes. According to the equation above, $BA=C(\\mathcal F^{-1}(\\hat b\\odot \\hat a))=C(\\mathcal F^{-1}(\\hat a\\odot \\hat b))=AB$."
   ]
  },
  {
   "cell_type": "markdown",
   "metadata": {},
   "source": [
    "## Determinant\n",
    "The determinant of a square matrix is a value derived arithmetically from the coefficients of the matrix, and it summarizes a multivariable phenomenon with a signle number.\n",
    "It can be computed with ```scipy.linalg.det(a)```."
   ]
  },
  {
   "cell_type": "code",
   "execution_count": 24,
   "metadata": {},
   "outputs": [
    {
     "data": {
      "text/plain": [
       "18.0"
      ]
     },
     "execution_count": 24,
     "metadata": {},
     "output_type": "execute_result"
    }
   ],
   "source": [
    "from scipy.linalg import det\n",
    "det(my_circ_matrix)"
   ]
  },
  {
   "cell_type": "markdown",
   "metadata": {},
   "source": [
    "The code below demonstrates how to create a function in Python, how to vectorize a function so that it can be applied to the elements of a matrix, and how to use ```random```."
   ]
  },
  {
   "cell_type": "code",
   "execution_count": 25,
   "metadata": {},
   "outputs": [
    {
     "name": "stdout",
     "output_type": "stream",
     "text": [
      "17.87166\n"
     ]
    }
   ],
   "source": [
    "import math\n",
    "from numpy import random\n",
    "\n",
    "def my_log(x):\n",
    "    return math.log(x)\n",
    "\n",
    "my_vec_log = np.vectorize(my_log)\n",
    "\n",
    "A_step1 = my_vec_log(my_circ_matrix) # Numpy already offers a vectorized natural logarithm.\n",
    "# A_step1 = np.log(matrix_prod2)\n",
    "\n",
    "max_index = 100000\n",
    "my_identity = np.identity(len(A_step1))\n",
    "current_value = 0.0\n",
    "for my_index in range(0, max_index):\n",
    "    permutation_matrix = random.permutation(my_identity)\n",
    "    sign_permuation = det(permutation_matrix)\n",
    "    current_value += sign_permuation*(np.exp(np.trace(np.dot(A_step1, permutation_matrix))))\n",
    "a_step2 = math.factorial(len(A_step1)) * current_value / max_index\n",
    "print(a_step2)"
   ]
  },
  {
   "cell_type": "markdown",
   "metadata": {},
   "source": [
    "#### Questions\n",
    "It appears that the output of the loop above is close to the determinant of the circulant matrix ```my_circ_matrix```.\n",
    " * Go through the code and provide a compelling explain explanation of why these numbers are close.\n",
    " * Is this a property of circulant matrices, or would this finding extend to arbitrary matrices over the real numbers?\n",
    " \n",
    "#### Solutions\n",
    " * 1. Take the natural logarithm of each element in the circulant matrix to get the corresponding logarithmic matrix.\n",
    "2. Randomly generate a permutation matrix with the same order of the logarithmic matrix.\n",
    "3. Multiply the logarithmic matrix with the permutation matrix to obtain a new logarithmic matrix.\n",
    "4. Finding the trace of new logarithmic matrix, that is, finding the sum of the main diagonal elements. Take the exponential operation to the sum to obtain the product of the three elements in the different rows and columns in the circulant matrix. The sign of these products are determined by the determinant of the permutation matrix.\n",
    "5. Repeat steps 2-4 for a number of times (100,000 in the code) and find the average of 100,000 products. The matrix in the code is 3-order, we know that the 3-order permutation matrix has a total of six, so we can get 6 kinds of products. When the number of random generation is large enough, we can approximately think that six products occur same times. So the average can be considered the average of six different products, and then multiply by 6 to get the sum of six different products. This result conforms to the definition of the determinant, so the result is very similar to the determinant.\n",
    " * Theoretically, this finding extends to arbitrary square matrices, as long as the number of random generation is large enough, the result is relatively reliable. Taking into account the actual situation, $n$-order matrix will have $n!$ different products, if $n$ is relatively large, then the number of random generation will be particularly large, the calculation will take a very long time."
   ]
  },
  {
   "cell_type": "markdown",
   "metadata": {},
   "source": [
    "### Tasks\n",
    " * Build code to explore the fact that the determinant function is multiplicative: $\\mathrm{det}(AB) = \\mathrm{det}(A) \\mathrm{det}(B)$."
   ]
  },
  {
   "cell_type": "code",
   "execution_count": 26,
   "metadata": {},
   "outputs": [
    {
     "name": "stdout",
     "output_type": "stream",
     "text": [
      "the determinant function is multiplicative: det(AB)=det(A)det(B)= 8391880.0\n"
     ]
    }
   ],
   "source": [
    "import numpy as np\n",
    "from numpy import random\n",
    "from scipy.linalg import det\n",
    "\n",
    "n = random.randint(2,8)\n",
    "matA = random.randint(1, 10, (n, n))\n",
    "matB = random.randint(1, 10, (n, n))\n",
    "x = np.round(det(np.dot(matA, matB)))\n",
    "y = np.round(det(matA)*det(matB))\n",
    "if(x == y):\n",
    "    print(\"the determinant function is multiplicative: det(AB)=det(A)det(B)=\",x)\n",
    "else:\n",
    "    print(\"det(AB)=\", x, \"det(A)det(B)=\", y)"
   ]
  }
 ],
 "metadata": {
  "kernelspec": {
   "display_name": "Python 3",
   "language": "python",
   "name": "python3"
  },
  "language_info": {
   "codemirror_mode": {
    "name": "ipython",
    "version": 3
   },
   "file_extension": ".py",
   "mimetype": "text/x-python",
   "name": "python",
   "nbconvert_exporter": "python",
   "pygments_lexer": "ipython3",
   "version": "3.6.1"
  }
 },
 "nbformat": 4,
 "nbformat_minor": 2
}
