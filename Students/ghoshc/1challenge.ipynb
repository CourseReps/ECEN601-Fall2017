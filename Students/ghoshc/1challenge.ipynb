{
 "cells": [
  {
   "cell_type": "markdown",
   "metadata": {},
   "source": [
    "# Challenge 1\n",
    "\n",
    "## SciPy Tutorial\n",
    "Pertinent information about [SciPy](https://docs.scipy.org/) and NumPy is available in the [SciPy Tutorial](https://docs.scipy.org/doc/scipy/reference/tutorial/index.html).\n",
    " * Read [Introduction](https://docs.scipy.org/doc/scipy/reference/tutorial/general.html)\n",
    " * Read [Basic functions](https://docs.scipy.org/doc/scipy/reference/tutorial/basic.html)\n",
    " * Read [Optimization](https://docs.scipy.org/doc/scipy/reference/tutorial/optimize.html)\n",
    " \n",
    "Consider the function defined below.\n",
    " * Plot the function using [matplotlib](https://matplotlib.org/)"
   ]
  },
  {
   "cell_type": "code",
   "execution_count": null,
   "metadata": {
    "collapsed": true
   },
   "outputs": [],
   "source": [
    "import numpy as np\n",
    "import matplotlib.pyplot as plt\n"
   ]
  },
  {
   "cell_type": "code",
   "execution_count": null,
   "metadata": {
    "collapsed": true
   },
   "outputs": [],
   "source": [
    "def g(t):\n",
    "    return 1 - (np.exp(-2*t) * np.cos(np.pi*t))\n",
    "\n",
    "t1 = np.arange(0.0, 2.0, 0.01)\n",
    "\n",
    "plt.figure(1)\n",
    "plt.plot(t1, g(t1), 'k')\n",
    "plt.show()"
   ]
  },
  {
   "cell_type": "markdown",
   "metadata": {},
   "source": [
    "Consider the class of functions of the form $f(t) = 1 - e^{-at}$ where $a$ is a free parameter.\n",
    " * Find the value of $a$ that minimizes the $L_2$ norm between $g(t)$ and $f(t)$ over the interval $[0, 2]$\n",
    " * Computer the residual mean squared error\n",
    " * Explain how you obtained $a$\n",
    " \n",
    " \n",
    " \n",
    " SOLUTION:\n",
    " "
   ]
  },
  {
   "cell_type": "code",
   "execution_count": 1,
   "metadata": {},
   "outputs": [
    {
     "name": "stdout",
     "output_type": "stream",
     "text": [
      "The value of a that minimizes the L2 norm is:  4.603\n",
      "The minimum value of the L2 norm is:  1.50453872768\n",
      "The residual mean squared error is:  0.0113181839155\n"
     ]
    },
    {
     "data": {
      "image/png": "[encoded data removed]",
      "text/plain": [
       "<matplotlib.figure.Figure at 0x8548cf8>"
      ]
     },
     "metadata": {},
     "output_type": "display_data"
    }
   ],
   "source": [
    "import numpy as np\n",
    "import matplotlib.pyplot as plt\n",
    "import math\n",
    "\n",
    "def g(t):                                    # Define given function\n",
    "    return 1 - (np.exp(-2*t) * np.cos(np.pi*t))\n",
    "\n",
    "def f(a,t):                                  # Define given function\n",
    "    return 1 - (np.exp(-a*t))\n",
    "\n",
    "def L2_norm(a,t):                            # Define L2 norm function\n",
    "    d = g(t) - f(a,t)\n",
    "    return math.sqrt(sum(abs(d)**2))\n",
    "\n",
    "def res_mean_sq_err(L2_norm,len_ti):         # Define RMSE function\n",
    "    return (math.pow(L2_norm,2))/len_ti\n",
    "\n",
    "\n",
    "ti = np.arange(0.0, 2.0, 0.01)\n",
    "a  = np.arange(0.0, 10.0, 0.001)\n",
    "\n",
    "min_L2 = float ('inf')\n",
    "L2norm = np.zeros(np.shape(a))\n",
    "i=0\n",
    "\n",
    "\n",
    "for ai in a:\n",
    "    last_itr_min_L2 = min_L2\n",
    "    L2norm[i] = L2_norm(ai,ti)\n",
    "    min_L2 = min(min_L2,L2norm[i])\n",
    "    if L2norm[i] < last_itr_min_L2:\n",
    "        a_min = ai\n",
    "    i = i + 1\n",
    "\n",
    "RMSE = res_mean_sq_err(min_L2,len(ti))\n",
    "\n",
    "print \"The value of a that minimizes the L2 norm is: \", a_min\n",
    "print \"The minimum value of the L2 norm is: \", min_L2\n",
    "print \"The residual mean squared error is: \", RMSE\n",
    "\n",
    "# Plot\n",
    "plt.figure(1)\n",
    "plt.plot(a,L2norm,'b')\n",
    "plt.xlabel('a values')\n",
    "plt.ylabel('L2 Norm')\n",
    "plt.show()"
   ]
  },
  {
   "cell_type": "markdown",
   "metadata": {},
   "source": [
    "1. The value of 'a' that minimizes the L2 norm between g(t) and f(a,t) in the interval [0,2] is 4.603.\n",
    "\n",
    "2. The residual mean squared error is calculated as 0.0113181839155\n",
    "\n",
    "3. I created a function L2_norm (a,t) that takes a and t as parameters and returns the L2 Norm between the two given functions g(t) and f(a,t). After iterating and finding the range of a which would give the minimum L2 norm, I create a vector that stores the L2 Norm with a ranging from [0,10] at steps of 0.001. The minimum values was obtained by iterating over the L2 Norm vector and using the min() function. The value of a that results in the L2 Norm minima is hence captured and plotted."
   ]
  }
 ],
 "metadata": {
  "kernelspec": {
   "display_name": "Python 2",
   "language": "python",
   "name": "python2"
  },
  "language_info": {
   "codemirror_mode": {
    "name": "ipython",
    "version": 2
   },
   "file_extension": ".py",
   "mimetype": "text/x-python",
   "name": "python",
   "nbconvert_exporter": "python",
   "pygments_lexer": "ipython2",
   "version": "2.7.13"
  }
 },
 "nbformat": 4,
 "nbformat_minor": 2
}
