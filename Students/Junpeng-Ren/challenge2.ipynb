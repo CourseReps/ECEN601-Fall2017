{
 "cells": [
  {
   "cell_type": "markdown",
   "metadata": {},
   "source": [
    "# Challenge 2\n",
    "An important aspect of pragmatic vector space methods is the ability to handle vectors and matrices.\n",
    "A large collection of linear algebra functions is available in [SciPy.linalg](https://docs.scipy.org/doc/scipy/reference/linalg.html).\n",
    "These functions can be employed in conjunction with the tools available in [NumPy](http://www.numpy.org/).\n",
    "We note that the main object in NumPy is the homogeneous multidimensional array."
   ]
  },
  {
   "cell_type": "markdown",
   "metadata": {},
   "source": [
    "## Matrix\n",
    "We begin by creating a simple matrix.\n",
    "One possible approach to complete this task is to use ```scipy.linalg.circulant(c)```."
   ]
  },
  {
   "cell_type": "code",
   "execution_count": 1,
   "metadata": {
    "collapsed": true
   },
   "outputs": [],
   "source": [
    "from scipy.linalg import circulant\n",
    "my_circ_matrix = circulant([1, 2, 3])"
   ]
  },
  {
   "cell_type": "markdown",
   "metadata": {},
   "source": [
    "Alternatively, you can construct the familiar discrete Fourier transform matrix with ```scipy.linalg.dft(n)```."
   ]
  },
  {
   "cell_type": "code",
   "execution_count": 2,
   "metadata": {
    "collapsed": true
   },
   "outputs": [],
   "source": [
    "from scipy.linalg import dft\n",
    "my_dft_matrix = dft(3)"
   ]
  },
  {
   "cell_type": "markdown",
   "metadata": {},
   "source": [
    "The inverse of a matrix can be computed using ```scipy.linalg.inv(a)```."
   ]
  },
  {
   "cell_type": "code",
   "execution_count": 3,
   "metadata": {
    "collapsed": true
   },
   "outputs": [],
   "source": [
    "from scipy.linalg import inv\n",
    "my_idft_matrix = inv(my_dft_matrix)"
   ]
  },
  {
   "cell_type": "markdown",
   "metadata": {},
   "source": [
    "The operation ```numpy.dot(a, b)``` computes the dot product of two arrays.\n",
    "For 2-D arrays it is equivalent to matrix multiplication, and for 1-D arrays to inner product of vectors (without complex conjugation)."
   ]
  },
  {
   "cell_type": "code",
   "execution_count": 4,
   "metadata": {
    "collapsed": true
   },
   "outputs": [
    {
     "name": "stdout",
     "output_type": "stream",
     "text": [
      "[[ 6.0-0.j        -0.0+0.j         0.0+0.j       ]\n",
      " [-0.0-0.j        -1.5+0.8660254j -0.0+0.j       ]\n",
      " [ 0.0-0.j         0.0-0.j        -1.5-0.8660254j]]\n"
     ]
    }
   ],
   "source": [
    "import numpy as np\n",
    "matrix_prod1 = np.dot(my_dft_matrix, my_circ_matrix)\n",
    "matrix_prod2 = np.dot(matrix_prod1, my_idft_matrix)\n",
    "\n",
    "np.set_printoptions(suppress=True)\n",
    "print(matrix_prod2)"
   ]
  },
  {
   "cell_type": "markdown",
   "metadata": {},
   "source": [
    "### Questions\n",
    "These steps and their solutions immediately bring up three questions.\n",
    " * Are circulant matrices always diagonalized by the discrete Fourier transform matrix and its inverse?\n",
    " * Are product of circulant matrices (of a same size) always circulant matrices?\n",
    " * Do all pairs of circulant matrices commute under matrix multiplication?"
   ]
  },
  {
   "cell_type": "markdown",
   "metadata": {},
   "source": [
    "### Question1\n",
    "circulant matrices are always diagonalized by the discrete Fourier transform matrix and its inverse\n",
    "### Proof:\n",
    "suppose a circulant matrices S :\n",
    "$$\n",
    "\\left\\{\n",
    "\\begin{array}{ccc}\n",
    "s_0 & s_1 & s_2 & \\cdots & s_n \\\\\n",
    "s_n & s_0 & s_1 & \\cdots & s_{n-1} \\\\\n",
    "\\cdots \\\\\n",
    "\\cdots \\\\\n",
    "s_2 & s_3 & s_4 & \\cdots & s_1 \\end{array}\n",
    "\\right\\}\n",
    "$$\n",
    "\n",
    "\n",
    "If S can be diagonalized, we should find a U such that $S=US^`U^-1$ where the columns of U are desired basis. Hence, we should calculate the eigenvalues and eigenvector of S.\n",
    "\n",
    "According to the definition of eigenvector, we konw that: \n",
    "For v to be an eigenvector, $Sv=(\\lambda)v$\n",
    "Let's try to find out v for matrices(n=3) \n",
    "$$\n",
    "S=\n",
    "\\left\\{\n",
    "\\begin{array}{ccc}\n",
    "s_0 & s_2 & s_2\\\\\n",
    "s_1 & s_0 & s_2\\\\\n",
    "s_2 & s_1 & s_0\\end{array} \n",
    "\\right\\}\n",
    "$$\n",
    "let $v=[w_0,w_1,w_2]$,\n",
    "then we have:\n",
    "$$\n",
    "Sv=\n",
    "\\left\\{\n",
    "\\begin{array}{ccc}\n",
    "(s_0)\\times(w_0)+(s_1)\\times(w_2)+(s_2)\\times(w_1) \\\\\n",
    "(s_0)\\times(w_1)+(s_1)\\times(w_0)+(s_2)\\times(w_0) \\\\\n",
    "(s_0)\\times(w_2)+(s_1)\\times(w_1)+(s_2)\\times(w_0)\\end{array} \n",
    "\\right\\}\n",
    "$$\n",
    "\n",
    "if $w_i$ has the properties like:\n",
    "1. $w_{i}w_{j}=w_{i+j (mod n)}$\n",
    "2. $w_{0}=1$\n",
    "Then we can rewrite the eigenvalue:\n",
    "\n",
    "$$\n",
    "Sv=\n",
    "\\left\\{\n",
    "\\begin{array}{ccc}\n",
    "(s_0)\\times(w_0)+(s_1)\\times(w_2)+(s_2)\\times(w_2))w_0 w_0 \\\\\n",
    "(s_0)\\times(w_1)+(s_1)\\times(w_0)+(s_2)\\times(w_2))w_2 w_1 \\\\\n",
    "(s_0)\\times(w_2)+(s_1)\\times(w_1)+(s_2)\\times(w_0))w_1 w_2 \\end{array} \n",
    "\\right\\}\n",
    "$$\n",
    "\n",
    "$$\n",
    "=\n",
    "\\left\\{\n",
    "\\begin{array}{ccc}\n",
    "(s_0)\\times(w_0)+(s_1)\\times(w_2)+(s_2)\\times(w_1)w_0 \\\\\n",
    "(s_0)\\times(w_0)+(s_1)\\times(w_2)+(s_2)\\times(w_1)w_1 \\\\\n",
    "(s_0)\\times(w_0)+(s_1\\times)(w_2)+(s_2\\times)(w_1)w_2 \\end{array} \n",
    "\\right\\}\n",
    "$$\n",
    "\n",
    "$$\n",
    "=\n",
    "\\begin{array}{ccc}\n",
    "(s_0)\\times(w_0)+(s_1)\\times(w_2)+(s_2)\\times(w_1) [w_0 w_1 w_2]^T \\end{array}\n",
    "$$\n",
    "\n",
    "We can conclude that v is an eigenvector with $s_0\\times w_0+s_1\\times w_2+s_2\\times w_1$\n",
    "Now, we have to find the specific eigenvectors with the properties above. Complex exponentials of the form $w_k=e^{(i2\\pi/n)k}$ is the n-th root of unity due to Euler's identity $e^{i\\theta}=cos(\\theta)+isin(\\theta)$ \n",
    "\n",
    "Generalizing, if there is a n-dimensional signals, $ v_l=[w^{l0} ,w^{l1},...,W^{l(n-1)}]^T$\n",
    "where $w=e^{2i\\pi/n}$. Then we have $u^i=\\frac{1}{\\sqrt{n}}\\times v $ to normalize this.\n",
    "Therefore we can get U like:\n",
    "$$\n",
    "U= \n",
    "\\begin{array}{ccc}\n",
    "[u_0 & u_1 & u_2 \\cdots u_{n-1}] \\end{array} \n",
    "$$\n",
    "\n",
    "$$\n",
    "=\\frac{1}{\\sqrt{n}}\\times v \n",
    "\\left\\{\n",
    "\\begin{array}{ccc}\n",
    "1 & 1 \\cdots 1 & 1 \\\\\n",
    "1 & w \\cdots w^{n-2} & w{n-1} \\\\\n",
    "\\cdots \\\\\n",
    "1 & w^{n-2} \\cdots w^{(n-2)(n-2)} & w^{(n-1)(n-2)} \\\\\n",
    "1 & w^{n-1} \\cdots w^{(n-2)(n-1)} & w^{(n-1)(n-1)} \\end{array} \n",
    "\\right\\}\n",
    "$$\n",
    "\n",
    "And U as a linear transform is discrete Fourier transform"
   ]
  },
  {
   "cell_type": "markdown",
   "metadata": {},
   "source": [
    "### Question2\n",
    "Product of circulant matrices (of a same size) are always circulant matrices.\n",
    "### Proof\n",
    "Suppose We have $C=U\\Psi U^*$ and $B=U\\Phi U^*$ where $\\Psi= diag(\\psi_m)$ and $\\Phi=diag(\\phi_m)$\n",
    "since $CB = U\\Psi U^* \\times U\\Phi U^* = U\\Psi \\Phi U^*$ which $\\Psi \\Phi $is diagonal, we can conclude that product of circulant are always circulant matrices matrices."
   ]
  },
  {
   "cell_type": "markdown",
   "metadata": {},
   "source": [
    "### Question3\n",
    "All pairs of circulant matrices commute under matrix multiplication.\n",
    "### Proof\n",
    "We can easily prove that two diagonal matrices $\\Psi$ and $\\Phi$ commute under matrix multiplication since\n",
    "$$ \\Psi \\Phi=\\sum_{i=1}^n \\psi_{ii}\\times \\phi_{ii} = \\sum_{i=1}^n \\phi_{ii}\\times \\psi_{ii} =\\Phi \\Psi$$\n",
    "we can conclude that $CB = U\\Psi U^* \\times U\\Phi U^* = U\\Psi \\Phi U^* =U\\Phi \\Psi U^*=BC$"
   ]
  },
  {
   "cell_type": "markdown",
   "metadata": {},
   "source": [
    "## Determinant\n",
    "The determinant of a square matrix is a value derived arithmetically from the coefficients of the matrix, and it summarizes a multivariable phenomenon with a signle number.\n",
    "It can be computed with ```scipy.linalg.det(a)```."
   ]
  },
  {
   "cell_type": "code",
   "execution_count": null,
   "metadata": {
    "collapsed": true
   },
   "outputs": [],
   "source": [
    "from scipy.linalg import det\n",
    "det(my_circ_matrix)"
   ]
  },
  {
   "cell_type": "markdown",
   "metadata": {},
   "source": [
    "The code below demonstrates how to create a function in Python, how to vectorize a function so that it can be applied to the elements of a matrix, and how to use ```random```."
   ]
  },
  {
   "cell_type": "code",
   "execution_count": 4,
   "metadata": {
    "collapsed": true
   },
   "outputs": [
    {
     "ename": "NameError",
     "evalue": "name 'my_circ_matrix' is not defined",
     "output_type": "error",
     "traceback": [
      "\u001b[1;31m---------------------------------------------------------------------------\u001b[0m",
      "\u001b[1;31mNameError\u001b[0m                                 Traceback (most recent call last)",
      "\u001b[1;32m<ipython-input-4-544107efc198>\u001b[0m in \u001b[0;36m<module>\u001b[1;34m()\u001b[0m\n\u001b[0;32m      7\u001b[0m \u001b[0mmy_vec_log\u001b[0m \u001b[1;33m=\u001b[0m \u001b[0mnp\u001b[0m\u001b[1;33m.\u001b[0m\u001b[0mvectorize\u001b[0m\u001b[1;33m(\u001b[0m\u001b[0mmy_log\u001b[0m\u001b[1;33m)\u001b[0m\u001b[1;33m\u001b[0m\u001b[0m\n\u001b[0;32m      8\u001b[0m \u001b[1;33m\u001b[0m\u001b[0m\n\u001b[1;32m----> 9\u001b[1;33m \u001b[0mA_step1\u001b[0m \u001b[1;33m=\u001b[0m \u001b[0mmy_vec_log\u001b[0m\u001b[1;33m(\u001b[0m\u001b[0mmy_circ_matrix\u001b[0m\u001b[1;33m)\u001b[0m \u001b[1;31m# Numpy already offers a vectorized natural logarithm.\u001b[0m\u001b[1;33m\u001b[0m\u001b[0m\n\u001b[0m\u001b[0;32m     10\u001b[0m \u001b[1;31m# A_step1 = np.log(matrix_prod2)\u001b[0m\u001b[1;33m\u001b[0m\u001b[1;33m\u001b[0m\u001b[0m\n\u001b[0;32m     11\u001b[0m \u001b[1;33m\u001b[0m\u001b[0m\n",
      "\u001b[1;31mNameError\u001b[0m: name 'my_circ_matrix' is not defined"
     ]
    }
   ],
   "source": [
    "import math\n",
    "from numpy import random\n",
    "\n",
    "def my_log(x):\n",
    "    return math.log(x)\n",
    "\n",
    "my_vec_log = np.vectorize(my_log)\n",
    "\n",
    "A_step1 = my_vec_log(my_circ_matrix) # Numpy already offers a vectorized natural logarithm.\n",
    "# A_step1 = np.log(matrix_prod2)\n",
    "\n",
    "max_index = 100000\n",
    "my_identity = np.identity(len(A_step1))\n",
    "current_value = 0.0\n",
    "for my_index in range(0, max_index):\n",
    "    permutation_matrix = random.permutation(my_identity)\n",
    "    sign_permuation = det(permutation_matrix)\n",
    "    current_value += sign_permuation*(np.exp(np.trace(np.dot(A_step1, permutation_matrix))))\n",
    "a_step2 = math.factorial(len(A_step1)) * current_value / max_index\n",
    "print(a_step2)"
   ]
  },
  {
   "cell_type": "markdown",
   "metadata": {},
   "source": [
    "#### Questions\n",
    "It appears that the output of the loop above is close to the determinant of the circulant matrix ```my_circ_matrix```.\n",
    " * Go through the code and provide a compelling explain explanation of why these numbers are close.\n",
    " * Is this a property of circulant matrices, or would this finding extend to arbitrary matrices over the real numbers?"
   ]
  },
  {
   "cell_type": "markdown",
   "metadata": {},
   "source": [
    "### compelling explanation\n",
    "* Compared with the standard formula to calculate det|A|:\n",
    "    $$\n",
    "    |A|=\n",
    "    \\left[ \n",
    "    \\begin{array}{ccc}\n",
    "    a & b & c \\\\\n",
    "    d & e & f \\\\\n",
    "    g & h & i \\end {array}\n",
    "    \\right]\n",
    "    =a\n",
    "    \\left[ \n",
    "    \\begin{array}{ccc}\n",
    "    e & f \\\\\n",
    "    h & i \\end {array}\n",
    "    \\right]\n",
    "    -b\n",
    "    \\left[ \n",
    "    \\begin{array}{ccc}\n",
    "    d & f \\\\\n",
    "    g & i \\end {array}\n",
    "    \\right]\n",
    "    +c\n",
    "    \\left[ \n",
    "    \\begin{array}{ccc}\n",
    "    d & e \\\\\n",
    "    g & h \\end {array}\n",
    "    \\right] \\\\\n",
    "    \\\\\n",
    "    =aei+bfg+cdh-ceg-bdi-afh\n",
    "    $$\n",
    "    \n",
    "    This programme use a nother method: $$|A|=\\lambda_1 \\lambda_2 \\cdots \\lambda_n $$\n",
    "    \n",
    "    Since $$ \\sum_{i=1}^{n} \\lambda_i= tr(A) =\\sum_{i=1}^n a_{ii}$$\n",
    "    We can use $log(x) e^x$ to transform the trace to $\\prod_{i=1}^n \\lambda_i = exp( \\sum_{i=1}^n log(a_{ii}))$\n",
    "    \n",
    "    We can see that permutation_matrix is an n×n identity matrix which have exchange different rows or columns for only one time. And that will not change the trace of a matrix, thus by implementing np.exp(np.trace(np.dot(A_step1, permutation_matrix) we get an approximation of $\\lambda_1 \\times \\lambda_2 \\times \\lambda_3$ After multiplying an sign_permuation, we get the approximation of $det(A)$.\n",
    "    \n",
    "    \n",
    "* This property will hold for arbitary matrix.\n",
    "\n",
    "The permutation_matrix will combine several product of the element of a matrix. By compared with with the determinant formula, we will find that when the times of iteration is large enough, the result of the programme is closed to the determinant. \n",
    "    \n",
    "    \n",
    "    "
   ]
  },
  {
   "cell_type": "markdown",
   "metadata": {},
   "source": [
    "### Tasks\n",
    " * Build code to explore the fact that the determinant function is multiplicative: $\\mathrm{det}(AB) = \\mathrm{det}(A) \\mathrm{det}(B)$."
   ]
  },
  {
   "cell_type": "code",
   "execution_count": 2,
   "metadata": {},
   "outputs": [
    {
     "name": "stdout",
     "output_type": "stream",
     "text": [
      "det(AB)=det(A)det(B) is True\n"
     ]
    }
   ],
   "source": [
    "## Basically，this programme is to verify det(AB)=det(A)det(B) with two matrices A and B which are from 1*1 to 10*10\n",
    "\n",
    "import numpy as np\n",
    "from scipy.linalg import det\n",
    "flag=True\n",
    "for my_div in range(1, 10):       # to test statement in the case of dimension from 1 to 10\n",
    "    sum=0.0\n",
    "    for my_index in range(1,10):  # for each dimension we implement for 10 times and calculate the the average\n",
    "        A=np.random.randint(10, size=(my_div,my_div))\n",
    "        B=np.random.randint(10, size=(my_div,my_div))\n",
    "        D1=det(np.dot(A,B))\n",
    "        D2=det(A)*det(B)\n",
    "        sum+=(D1-D2)\n",
    "        diff=sum/50\n",
    "    if(diff>0.1):\n",
    "        flag=False\n",
    "        print(sum)\n",
    "        break\n",
    "print(\"det(AB)=det(A)det(B) is\",flag)"
   ]
  }
 ],
 "metadata": {
  "kernelspec": {
   "display_name": "Python 3",
   "language": "python",
   "name": "python3"
  },
  "language_info": {
   "codemirror_mode": {
    "name": "ipython",
    "version": 3
   },
   "file_extension": ".py",
   "mimetype": "text/x-python",
   "name": "python",
   "nbconvert_exporter": "python",
   "pygments_lexer": "ipython3",
   "version": "3.6.1"
  }
 },
 "nbformat": 4,
 "nbformat_minor": 2
}
