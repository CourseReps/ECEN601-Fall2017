{
 "cells": [
  {
   "cell_type": "markdown",
   "metadata": {},
   "source": [
    "# Challenge 1\n",
    "\n",
    "## SciPy Tutorial\n",
    "Pertinent information about [SciPy](https://docs.scipy.org/) and NumPy is available in the [SciPy Tutorial](https://docs.scipy.org/doc/scipy/reference/tutorial/index.html).\n",
    " * Read [Introduction](https://docs.scipy.org/doc/scipy/reference/tutorial/general.html)\n",
    " * Read [Basic functions](https://docs.scipy.org/doc/scipy/reference/tutorial/basic.html)\n",
    " * Read [Optimization](https://docs.scipy.org/doc/scipy/reference/tutorial/optimize.html)\n",
    " \n",
    "Consider the function defined below.\n",
    " * Plot the function using [matplotlib](https://matplotlib.org/)"
   ]
  },
  {
   "cell_type": "code",
   "execution_count": 5,
   "metadata": {
    "collapsed": true
   },
   "outputs": [],
   "source": [
    "import numpy as np\n",
    "import matplotlib.pyplot as plt"
   ]
  },
  {
   "cell_type": "code",
   "execution_count": 9,
   "metadata": {},
   "outputs": [
    {
     "name": "stdout",
     "output_type": "stream",
     "text": [
      "image1\n"
     ]
    },
    {
     "data": {
      "image/png": "[encoded data removed]",
      "text/plain": [
       "<matplotlib.figure.Figure at 0x2b56cb62ba8>"
      ]
     },
     "metadata": {},
     "output_type": "display_data"
    },
    {
     "name": "stdout",
     "output_type": "stream",
     "text": [
      "when t = 0.82 , g(t)max = 1.1637827667\n",
      "when t = 2 , g(t) = 0.981684361111\n"
     ]
    }
   ],
   "source": [
    "def g(t):\n",
    "    return 1 - (np.exp(-2*t) * np.cos(np.pi*t))\n",
    "\n",
    "t1 = np.arange(0.0, 2.0, 0.01)\n",
    "G_m = 0\n",
    "t0 = 0\n",
    "\n",
    "for t in t1:\n",
    "    if (g(t)> G_m):\n",
    "        G_m = g(t)\n",
    "        t0 = t\n",
  
    "plt.figure(1)\n",
    "plt.plot(t1, g(t1), 'k')\n",
    "plt.show()\n",
    "\n",
    "print (\"when t =\",t0,\", g(t)max =\", G_m)\n",
    "print (\"when t =\",2,\", g(t) =\", g(2))"
   ]
  },
  {
   "cell_type": "markdown",
   "metadata": {},
   "source": [
    "Consider the class of functions of the form $f(t) = 1 - e^{-at}$ where $a$ is a free parameter.\n",
    " * Find the value of $a$ that minimizes the $L_2$ norm between $g(t)$ and $f(t)$ over the interval $[0, 2]$\n",
    " * Computer the residual mean squared error\n",
    " * Explain how you obtained $a$"
   ]
  },
  {
   "cell_type": "markdown",
   "metadata": {},
   "source": [
    "# Solution:\n"
   ]
  },
  {
   "cell_type": "code",
   "execution_count": 11,
   "metadata": {},
   "outputs": [
    {
     "data": {
      "image/png": "[encoded data removed]",
      "text/plain": [
       "<matplotlib.figure.Figure at 0x2b56a860278>"
      ]
     },
     "metadata": {},
     "output_type": "display_data"
    },
    {
     "name": "stdout",
     "output_type": "stream",
     "text": [
      "\n",
      "(1)When a= 4.6 , minimum of L2 norm = 1.50454026637\n",
      "\n",
      "(2)The residual mean squared error = 0.0113182070656\n"
     ]
    }
   ],
   "source": [
    "import numpy as np\n",
    "import matplotlib.pyplot as plt\n",
    "\n",
    "def f(a, t) :\n",
    "    return 1 - np.exp(-a*t)\n",
    "def g(t):\n",
    "    return 1 - (np.exp(-2*t) * np.cos(np.pi*t))\n",
    "\n",
    "\n",
    "t1 = np.arange(0.0, 2.0, 0.01)\n",
    "n = len(t1)\n",
    "\n",
    "q = 20\n",
    "a1 = 0\n",
    "\n",
    "for a in np.arange (0, 20.0, 0.01):\n",
    "    p = np.sum(np.square(f(a, t1) - g(t1)))\n",
    "    if (q > p):\n",
    "        q = p\n",
    "        a1 = a\n",
    "\n",
    "L2_Norm = np.sqrt(q)\n",
    "MSE = q/n\n",
    "\n",
    "plt.figure(1)\n",
    "plt.plot(t1, f(a1, t1), 'r')\n",
    "plt.plot(t1, g(t1), 'g')\n",
    "plt.show()\n",
    "\n",
    "print(\"\\n(1)When a=\", a1, \", minimum of L2 norm =\", L2_Norm )\n",
    "print(\"\\n(2)The residual mean squared error =\", MSE)"
   ]
  },
  {
   "cell_type": "markdown",
   "metadata": {
    "collapsed": true
   },
   "source": [
    "(3) First, if $a<0$, then $f(t)<=0$ over the interval [0,2], which will definitely make the $L2$ norm between $g(t)$ and $f(t)$ become larger.    \n",
    "\n",
    "   Then, if $a>=0$, then $f(t)$ is increase over the interval [0,2], when $a$ is large enough(such as 20) the $L2$ norm between $g(t)$ and $f(t)$ become larger.    \n",
    "  \n",
    "   So I create the loop parameter a range from 0 to 20, with stepsize 0.01, and according to the definition of $L2$ norm, we can calculate $L2=sqrt [ sum((g(t)-f(t))^2) ] $  \n",
    "   the minimum of L2 norm can be found along with a."
   ]
  }
 ],
 "metadata": {
  "kernelspec": {
   "display_name": "Python 3",
   "language": "python",
   "name": "python3"
  },
  "language_info": {
   "codemirror_mode": {
    "name": "ipython",
    "version": 3
   },
   "file_extension": ".py",
   "mimetype": "text/x-python",
   "name": "python",
   "nbconvert_exporter": "python",
   "pygments_lexer": "ipython3",
   "version": "3.6.1"
  }
 },
 "nbformat": 4,
 "nbformat_minor": 2
}
