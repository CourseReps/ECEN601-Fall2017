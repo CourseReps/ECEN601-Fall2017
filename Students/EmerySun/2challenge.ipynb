{
 "cells": [
  {
   "cell_type": "markdown",
   "metadata": {},
   "source": [
    "# Challenge 2\n",
    "An important aspect of pragmatic vector space methods is the ability to handle vectors and matrices.\n",
    "A large collection of linear algebra functions is available in [SciPy.linalg](https://docs.scipy.org/doc/scipy/reference/linalg.html).\n",
    "These functions can be employed in conjunction with the tools available in [NumPy](http://www.numpy.org/).\n",
    "We note that the main object in NumPy is the homogeneous multidimensional array."
   ]
  },
  {
   "cell_type": "markdown",
   "metadata": {},
   "source": [
    "## Matrix\n",
    "We begin by creating a simple matrix.\n",
    "One possible approach to complete this task is to use ```scipy.linalg.circulant(c)```."
   ]
  },
  {
   "cell_type": "code",
   "execution_count": 2,
   "metadata": {},
   "outputs": [
    {
     "name": "stdout",
     "output_type": "stream",
     "text": [
      "[[1 3 2]\n",
      " [2 1 3]\n",
      " [3 2 1]]\n"
     ]
    }
   ],
   "source": [
    "from scipy.linalg import circulant\n",
    "my_circ_matrix = circulant([ 1, 2, 3])\n",
    "print (my_circ_matrix)"
   ]
  },
  {
   "cell_type": "markdown",
   "metadata": {},
   "source": [
    "Alternatively, you can construct the familiar discrete Fourier transform matrix with ```scipy.linalg.dft(n)```."
   ]
  },
  {
   "cell_type": "code",
   "execution_count": 3,
   "metadata": {},
   "outputs": [
    {
     "name": "stdout",
     "output_type": "stream",
     "text": [
      "[[ 1.0+0.j         1.0+0.j         1.0+0.j       ]\n",
      " [ 1.0+0.j        -0.5-0.8660254j -0.5+0.8660254j]\n",
      " [ 1.0+0.j        -0.5+0.8660254j -0.5-0.8660254j]]\n"
     ]
    }
   ],
   "source": [
    "from scipy.linalg import dft\n",
    "my_dft_matrix = dft(3)\n",
    "print (my_dft_matrix)"
   ]
  },
  {
   "cell_type": "markdown",
   "metadata": {},
   "source": [
    "The inverse of a matrix can be computed using ```scipy.linalg.inv(a)```."
   ]
  },
  {
   "cell_type": "code",
   "execution_count": 4,
   "metadata": {},
   "outputs": [
    {
     "name": "stdout",
     "output_type": "stream",
     "text": [
      "[[ 0.33333333 +6.21949886e-17j  0.33333333 -6.68383741e-18j\n",
      "   0.33333333 -5.55111512e-17j]\n",
      " [ 0.33333333 +5.55111512e-17j -0.16666667 +2.88675135e-01j\n",
      "  -0.16666667 -2.88675135e-01j]\n",
      " [ 0.33333333 -1.11022302e-16j -0.16666667 -2.88675135e-01j\n",
      "  -0.16666667 +2.88675135e-01j]]\n"
     ]
    }
   ],
   "source": [
    "from scipy.linalg import inv\n",
    "my_idft_matrix = inv(my_dft_matrix)\n",
    "print (my_idft_matrix)"
   ]
  },
  {
   "cell_type": "markdown",
   "metadata": {},
   "source": [
    "The operation ```numpy.dot(a, b)``` computes the dot product of two arrays.\n",
    "For 2-D arrays it is equivalent to matrix multiplication, and for 1-D arrays to inner product of vectors (without complex conjugation)."
   ]
  },
  {
   "cell_type": "code",
   "execution_count": 5,
   "metadata": {},
   "outputs": [
    {
     "name": "stdout",
     "output_type": "stream",
     "text": [
      "[[ 6.0+0.j          6.0+0.j          6.0+0.j        ]\n",
      " [-1.5+0.8660254j   1.5+0.8660254j   0.0-1.73205081j]\n",
      " [-1.5-0.8660254j   1.5-0.8660254j  -0.0+1.73205081j]]\n",
      "\n",
      "\n",
      "[[ 6.0+0.j        -0.0+0.j         0.0+0.j       ]\n",
      " [-0.0-0.j        -1.5+0.8660254j -0.0-0.j       ]\n",
      " [ 0.0-0.j         0.0-0.j        -1.5-0.8660254j]]\n"
     ]
    }
   ],
   "source": [
    "import numpy as np\n",
    "matrix_prod1 = np.dot(my_dft_matrix, my_circ_matrix)\n",
    "matrix_prod2 = np.dot(matrix_prod1, my_idft_matrix)\n",
    "\n",
    "np.set_printoptions(suppress=True)\n",
    "print(matrix_prod1)\n",
    "print('\\n')\n",
    "print(matrix_prod2)"
   ]
  },
  {
   "cell_type": "markdown",
   "metadata": {},
   "source": [
    "### Questions\n",
    "These steps and their solutions immediately bring up three questions.\n",
    " * Are circulant matrices always diagonalized by the discrete Fourier transform matrix and its inverse?\n",
    " * Are product of circulant matrices (of a same size) always circulant matrices?\n",
    " * Do all pairs of circulant matrices commute under matrix multiplication?"
   ]
  },
  {
   "cell_type": "markdown",
   "metadata": {},
   "source": [
    "### Answers\n",
    "\n",
    " * Circulant matrices are always diagonalized by the discrete Fourier transform matrix and its inverse.  \n",
    " We want to prove $ P \\cdot C \\cdot P^{-1} $ equal to a diagonal matrix , $ P$ is DFT matrix.  \n",
    " That is to prove each column vector of $ P$ is a eigenvector of a circulant matrix $ C$.  \n",
    " Let $ C$ be a circulant matrix and the columns of $ C$ denoted by $ \\underline{c_1,...c_n}$, if $ p =(p_1,p_2,...p_n)$is a column vector of $ P$.  \n",
    " because $ C$ is a circulant matrix, is easy to find that the sum of each column is a constant $ k$, which means $$ C \\cdot p = \\Sigma_{i=1}^n \\cdot p_i \\cdot \\underline{c_i} = k \\cdot p$$\n",
    " which is the definiton of eigenvector, $ k$ is a eigenvalue.\n",
    " Hence, $ P \\cdot C \\cdot P^{-1} $ equal to a diagonal matrix.\n",
    " \n",
    " * Product of circulant matrices(of a same size) are always a circulant matrices. According to answer1:    \n",
    " if  $ C = U \\cdot \\Psi \\cdot U^{-1} and D = U \\cdot \\Phi \\cdot U^{-1} $  $\\Psi$ and $\\Phi$ are diagonal matrix, (U = P^{-1})  \n",
    " then    \n",
    "    >$ CD = (U \\cdot \\Psi \\cdot U^{-1}) \\cdot (U \\cdot \\Phi \\cdot U^{-1}) $   \n",
    "    $ = U \\cdot \\Psi \\cdot (U^{-1} \\cdot U) \\cdot \\Phi \\cdot U^{-1} $  \n",
    "    $ = U \\cdot (\\Psi \\cdot \\Phi ) \\cdot U^{-1} $.  \n",
    " \n",
    " * All pairs of circulant matrices commute under matrix multiplication. According to answer2:  \n",
    " if  $ C = U \\cdot \\Psi \\cdot U^{-1} and D = U \\cdot \\Phi \\cdot U^{-1} $  $\\Psi$ and $\\Phi$ are diagonal matrix, then    \n",
    "    $ CD = U \\cdot (\\Psi \\cdot \\Phi ) \\cdot U^{-1} $  \n",
    "    $ DC = U \\cdot (\\Phi \\cdot \\Psi ) \\cdot U^{-1} $    \n",
    " because $\\Psi$ and $\\Phi$ are diagonal matrix, which can easily prove that $ \\Psi \\cdot \\Phi = \\Phi \\cdot \\Psi $   \n",
    " Hence, $　CD = DC $."
   ]
  },
  {
   "cell_type": "markdown",
   "metadata": {},
   "source": [
    "## Determinant\n",
    "The determinant of a square matrix is a value derived arithmetically from the coefficients of the matrix, and it summarizes a multivariable phenomenon with a signle number.\n",
    "It can be computed with ```scipy.linalg.det(a)```."
   ]
  },
  {
   "cell_type": "code",
   "execution_count": 6,
   "metadata": {},
   "outputs": [
    {
     "data": {
      "text/plain": [
       "18.0"
      ]
     },
     "execution_count": 6,
     "metadata": {},
     "output_type": "execute_result"
    }
   ],
   "source": [
    "from scipy.linalg import det\n",
    "det(my_circ_matrix)"
   ]
  },
  {
   "cell_type": "markdown",
   "metadata": {},
   "source": [
    "The code below demonstrates how to create a function in Python, how to vectorize a function so that it can be applied to the elements of a matrix, and how to use ```random```."
   ]
  },
  {
   "cell_type": "code",
   "execution_count": 35,
   "metadata": {},
   "outputs": [
    {
     "name": "stdout",
     "output_type": "stream",
     "text": [
      "17.85474\n",
      "18.0\n"
     ]
    }
   ],
   "source": [
    "import math\n",
    "from numpy import random\n",
    "\n",
    "def my_log(x):\n",
    "    return math.log(x)\n",
    "\n",
    "my_vec_log = np.vectorize(my_log)\n",
    "\n",
    "A_step1 = my_vec_log(my_circ_matrix) # Numpy already offers a vectorized natural logarithm.\n",
    "# A_step1 = np.log(matrix_prod2)\n",
    "\n",
    "max_index = 100000\n",
    "my_identity = np.identity(len(A_step1))\n",
    "current_value = 0.0\n",
    "\n",
    "for my_index in range(0, max_index):\n",
    "    permutation_matrix = random.permutation(my_identity)\n",
    "    sign_permutation = det(permutation_matrix)\n",
    "    current_value += sign_permutation*(np.exp(np.trace(np.dot(A_step1, permutation_matrix))))\n",
    "a_step2 = math.factorial(len(A_step1)) * current_value / max_index\n",
    "print(a_step2)\n",
    "print(det(my_circ_matrix))"
   ]
  },
  {
   "cell_type": "markdown",
   "metadata": {},
   "source": [
    "### Questions\n",
    "It appears that the output of the loop above is close to the determinant of the circulant matrix ```my_circ_matrix```.\n",
    " * Go through the code and provide a compelling explain explanation of why these numbers are close.\n",
    " * Is this a property of circulant matrices, or would this finding extend to arbitrary matrices over the real numbers?"
   ]
  },
  {
   "cell_type": "markdown",
   "metadata": {},
   "source": [
    "### Answers\n",
    "\n",
    " * the current_value = \n",
    " $ \\sum_{i=1}^{max} \\mathrm{det}(P_i) \\cdot e^{tr(ln(C) \\cdot P_i))}$   \n",
    " the a_step2 = \n",
    " $ \\frac{n!}{max}\\cdot$ current_value   \n",
    "If the number of the loop max is large enough, the permutation metrics made by random function will appear in equal probabilities, and the value of a_step2 will equal to the value of det(my_circ_matrix).\n",
    " \n",
    " * Yes, this property can extend to arbitrary matrices over real numbers."
   ]
  },
  {
   "cell_type": "markdown",
   "metadata": {},
   "source": [
    "### Tasks\n",
    " * Build code to explore the fact that the determinant function is multiplicative: $\\mathrm{det}(AB) = \\mathrm{det}(A) \\mathrm{det}(B)$."
   ]
  },
  {
   "cell_type": "code",
   "execution_count": 30,
   "metadata": {},
   "outputs": [
    {
     "name": "stdout",
     "output_type": "stream",
     "text": [
      "let A be a 5 x 5 metrix:\n",
      "[[5 6 8 5 4]\n",
      " [3 5 4 8 9]\n",
      " [4 8 7 4 1]\n",
      " [9 1 2 4 9]\n",
      " [6 9 1 9 4]] \n",
      "\n",
      "let B be a 5 x 5 metrix:\n",
      "[[5 4 3 9 2]\n",
      " [3 3 7 1 2]\n",
      " [8 7 3 6 9]\n",
      " [6 6 6 9 9]\n",
      " [7 9 2 8 7]] \n",
      "\n",
      "matrix AB is:\n",
      "[[165 160 119 176 167]\n",
      " [173 184 122 200 187]\n",
      " [131 122 115 130 130]\n",
      " [151 158  82 202 137]\n",
      " [147 148 146 182 148]] \n",
      "\n",
      "det(A) = 5556.000000000002\n",
      "det(B) = 5000.999999999996\n",
      "det(AB) = 27785555.999999873\n",
      "det(A) * det(B) = 27785555.99999999 \n",
      "\n",
      "det(AB) = det(A)*det(B)\n",
      "Hence, determinant Function is Multiplicative.\n"
     ]
    }
   ],
   "source": [
    "from numpy import random\n",
    "from scipy.linalg import det\n",
    "import numpy as np\n",
    "\n",
    "n = random.randint(2,6)\n",
    "\n",
    "print('let A be a', n,'x', n, 'metrix:')\n",
    "A = random.randint(1, 10, size=(n, n))   \n",
    "print(A, '\\n')\n",
    "\n",
    "print('let B be a', n,'x', n, 'metrix:')\n",
    "B = random.randint(1, 10, size=(n, n))\n",
    "print(B, '\\n')\n",
    "\n",
    "AB = np.dot(A,B)                       \n",
    "print('matrix AB is:')\n",
    "print(AB, '\\n')\n",
    "\n",
    "Det_A = det(A)\n",
    "Det_B = det(B)\n",
    "Det_AB = det(AB)\n",
    "\n",
    "print('det(A) =',Det_A)\n",
    "print('det(B) =',Det_B)\n",
    "print('det(AB) =',Det_AB)\n",
    "print('det(A) * det(B) =',Det_A*Det_B, '\\n')\n",
    "\n",
    "if (abs(Det_AB - Det_A*Det_B)<0.00001):\n",
    "    print('det(AB) = det(A)*det(B)')\n",
    "    print('Hence, determinant Function is Multiplicative.')"
   ]
  },
  {
   "cell_type": "code",
   "execution_count": null,
   "metadata": {
    "collapsed": true
   },
   "outputs": [],
   "source": []
  }
 ],
 "metadata": {
  "kernelspec": {
   "display_name": "Python 3",
   "language": "python",
   "name": "python3"
  },
  "language_info": {
   "codemirror_mode": {
    "name": "ipython",
    "version": 3
   },
   "file_extension": ".py",
   "mimetype": "text/x-python",
   "name": "python",
   "nbconvert_exporter": "python",
   "pygments_lexer": "ipython3",
   "version": "3.6.1"
  }
 },
 "nbformat": 4,
 "nbformat_minor": 2
}
