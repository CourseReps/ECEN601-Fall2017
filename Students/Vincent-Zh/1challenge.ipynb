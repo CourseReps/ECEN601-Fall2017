{
 "cells": [
  {
   "cell_type": "markdown",
   "metadata": {},
   "source": [
    "# Challenge 1\n",
    "\n",
    "## SciPy Tutorial\n",
    "Pertinent information about [SciPy](https://docs.scipy.org/) and NumPy is available in the [SciPy Tutorial](https://docs.scipy.org/doc/scipy/reference/tutorial/index.html).\n",
    " * Read [Introduction](https://docs.scipy.org/doc/scipy/reference/tutorial/general.html)\n",
    " * Read [Basic functions](https://docs.scipy.org/doc/scipy/reference/tutorial/basic.html)\n",
    " * Read [Optimization](https://docs.scipy.org/doc/scipy/reference/tutorial/optimize.html)\n",
    " \n",
    "Consider the function defined below.\n",
    " * Plot the function using [matplotlib](https://matplotlib.org/)"
   ]
  },
  {
   "cell_type": "code",
   "execution_count": null,
   "metadata": {
    "collapsed": true
   },
   "outputs": [],
   "source": [
    "import numpy as np\n",
    "import matplotlib.pyplot as plt"
   ]
  },
  {
   "cell_type": "code",
   "execution_count": null,
   "metadata": {
    "collapsed": true
   },
   "outputs": [],
   "source": [
    "def g(t):\n",
    "    return 1 - (np.exp(-2*t) * np.cos(np.pi*t))\n",
    "\n",
    "t1 = np.arange(0.0, 2.0, 0.01)\n",
    "\n",
    "plt.figure(1)\n",
    "plt.plot(t1, g(t1), 'k')\n",
    "plt.show()"
   ]
  },
  {
   "cell_type": "markdown",
   "metadata": {},
   "source": [
    "Consider the class of functions of the form $f(t) = 1 - e^{-at}$ where $a$ is a free parameter.\n",
    " * Find the value of $a$ that minimizes the $L_2$ norm between $g(t)$ and $f(t)$ over the interval $[0, 2]$\n",
    " * Computer the residual mean squared error\n",
    " * Explain how you obtained $a$"
   ]
  },
  {
   "cell_type": "code",
   "execution_count": null,
   "metadata": {
    "collapsed": true
   },
   "outputs": [],
   "source": [
    "import numpy as np\n",
    "import matplotlib.pyplot as plt\n",
    "\n",
    "def g(t):\n",
    "    return 1-(np.exp(-2*t) * np.cos(np.pi*t))\n",
    "\n",
    "def f(t,a):\n",
    "    return 1-(np.exp(-a*t))\n",
    "\n",
    "t2 = np.arange(0.0,2.01,0.01)\n",
    "a2 = np.arange(0.0,10.0,0.001)\n",
    "\n",
    "sum=100000000\n",
    "for a in a2:\n",
    "    sum_temp=0.\n",
    "    for t in t2:\n",
    "         sum_temp=sum_temp+(g(t)-f(t,a))**2\n",
    "    if (sum_temp<sum):\n",
    "              sum=sum_temp\n",
    "              a_min=a\n",
    "    \n",
    "print('When a=',a_min,',the minimum of L2 norm is',np.sqrt(sum),',Residual MSE =',sum/len(t2))\n",
    "plt.figure(2)\n",
    "plt.plot(t2, g(t2), 'k',label='$g(t)$')\n",
    "plt.plot(t2,f(t2,a_min),'r',label='$f(t)$')\n",
    "plt.xlabel('t')\n",
    "plt.show()"
   ]
  },
  {
   "cell_type": "markdown",
   "metadata": {},
   "source": [
    "Answer:\n",
    "* When $a = 4.603$, the $L_2$ norm between $g(t)$ and $f(t)$ over the interval $[0, 2]$ is minimum.\n",
    "* The residual mean squared error is 0.0112635252574.\n",
    "* First, absolutely the value of a should be greater than 0. We know the value cos() is between [-1,1]. So if we want $L_2$ norm to be least, the value of $a$ should be approximate to $2$. Then I give it a large scale $[0,10]$ with accuracy of $0.001$. Second, program and solve this problem."
   ]
  }
 ],
 "metadata": {
  "kernelspec": {
   "display_name": "Python 3",
   "language": "python",
   "name": "python3"
  },
  "language_info": {
   "codemirror_mode": {
    "name": "ipython",
    "version": 3
   },
   "file_extension": ".py",
   "mimetype": "text/x-python",
   "name": "python",
   "nbconvert_exporter": "python",
   "pygments_lexer": "ipython3",
   "version": "3.6.1"
  }
 },
 "nbformat": 4,
 "nbformat_minor": 2
}
