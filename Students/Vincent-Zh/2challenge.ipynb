{
 "cells": [
  {
   "cell_type": "markdown",
   "metadata": {},
   "source": [
    "# Challenge 2\n",
    "An important aspect of pragmatic vector space methods is the ability to handle vectors and matrices.\n",
    "A large collection of linear algebra functions is available in [SciPy.linalg](https://docs.scipy.org/doc/scipy/reference/linalg.html).\n",
    "These functions can be employed in conjunction with the tools available in [NumPy](http://www.numpy.org/).\n",
    "We note that the main object in NumPy is the homogeneous multidimensional array."
   ]
  },
  {
   "cell_type": "markdown",
   "metadata": {},
   "source": [
    "## Matrix\n",
    "We begin by creating a simple matrix.\n",
    "One possible approach to complete this task is to use ```scipy.linalg.circulant(c)```."
   ]
  },
  {
   "cell_type": "code",
   "execution_count": 2,
   "metadata": {
    "collapsed": true
   },
   "outputs": [],
   "source": [
    "from scipy.linalg import circulant\n",
    "my_circ_matrix = circulant([1, 2, 3])"
   ]
  },
  {
   "cell_type": "markdown",
   "metadata": {},
   "source": [
    "Alternatively, you can construct the familiar discrete Fourier transform matrix with ```scipy.linalg.dft(n)```."
   ]
  },
  {
   "cell_type": "code",
   "execution_count": 3,
   "metadata": {
    "collapsed": true
   },
   "outputs": [],
   "source": [
    "from scipy.linalg import dft\n",
    "my_dft_matrix = dft(3)"
   ]
  },
  {
   "cell_type": "markdown",
   "metadata": {},
   "source": [
    "The inverse of a matrix can be computed using ```scipy.linalg.inv(a)```."
   ]
  },
  {
   "cell_type": "code",
   "execution_count": 4,
   "metadata": {
    "collapsed": true
   },
   "outputs": [],
   "source": [
    "from scipy.linalg import inv\n",
    "my_idft_matrix = inv(my_dft_matrix)"
   ]
  },
  {
   "cell_type": "markdown",
   "metadata": {},
   "source": [
    "The operation ```numpy.dot(a, b)``` computes the dot product of two arrays.\n",
    "For 2-D arrays it is equivalent to matrix multiplication, and for 1-D arrays to inner product of vectors (without complex conjugation)."
   ]
  },
  {
   "cell_type": "code",
   "execution_count": 5,
   "metadata": {},
   "outputs": [
    {
     "name": "stdout",
     "output_type": "stream",
     "text": [
      "[[ 6.0+0.j        -0.0+0.j         0.0+0.j       ]\n",
      " [-0.0-0.j        -1.5+0.8660254j -0.0-0.j       ]\n",
      " [ 0.0-0.j         0.0-0.j        -1.5-0.8660254j]]\n"
     ]
    }
   ],
   "source": [
    "import numpy as np\n",
    "matrix_prod1 = np.dot(my_dft_matrix, my_circ_matrix)\n",
    "matrix_prod2 = np.dot(matrix_prod1, my_idft_matrix)\n",
    "\n",
    "np.set_printoptions(suppress=True)\n",
    "print(matrix_prod2)"
   ]
  },
  {
   "cell_type": "markdown",
   "metadata": {},
   "source": [
    "### Questions\n",
    "These steps and their solutions immediately bring up three questions.\n",
    " * Are circulant matrices always diagonalized by the discrete Fourier transform matrix and its inverse?\n",
    " * Are product of circulant matrices (of a same size) always circulant matrices?\n",
    " * Do all pairs of circulant matrices commute under matrix multiplication?"
   ]
  },
  {
   "cell_type": "markdown",
   "metadata": {},
   "source": [
    "### Answers\n",
    " * Let A =  $\n",
    " \\left[\n",
    " \\begin{matrix}\n",
    "   a & c & b \\\\\n",
    "   b & a & c \\\\\n",
    "   c & b & a\n",
    "  \\end{matrix}\n",
    "  \\right] $ . \n",
    "  \n",
    "  When $n=3$, the discrete Fourier transform matrix $F$ =  $\n",
    " \\left[\n",
    " \\begin{matrix}\n",
    "     1.0+0.j    &     1.0+0.j        & 1.0+0.j          \\\\\n",
    "     1.0+0.j    &    -0.5-0.8660254j & -0.5+0.8660254j  \\\\\n",
    "     1.0+0.j    &    -0.5+0.8660254j & -0.5-0.8660254j\n",
    "  \\end{matrix}\n",
    "  \\right] $ , \n",
    "  \n",
    "  and its inverse matrix $F^{-1}$ = $\n",
    " \\left[\n",
    " \\begin{matrix}\n",
    "     0.33333333+0.j     &     0.33333333+0.j          &  0.33333333-0.j                  \\\\\n",
    "     0.33333333+0.j     &    -0.16666667+0.28867513j  &  -0.16666667-0.28867513j         \\\\\n",
    "     0.33333333-0.j     &    -0.16666667-0.28867513j  &  -0.16666667+0.28867513j\n",
    "  \\end{matrix}\n",
    "  \\right] $ .\n",
    " \n",
    " Then $F\\cdot A\\cdot F^{-1}$ = $\n",
    " \\left[\n",
    " \\begin{matrix}\n",
    "   a+b+c & 0 & 0                                     \\\\\n",
    "   0 & a+(-0.5-0.86602540j)b+(-0.5+0.86602540j)c & 0 \\\\\n",
    "   0 & 0 & a+(-0.5+0.86602540j)b+(-0.5-0.86602540j)c \n",
    "  \\end{matrix}\n",
    "  \\right] $ \n",
    "  \n",
    "  , is a diagonalizable matrix.\n",
    "  \n",
    "  So, circulant matrices always diagonalized by the discrete Fourier transform matrix and its inverse.\n",
    " \n",
    " \n",
    " * Let A =  $\n",
    " \\left[\n",
    " \\begin{matrix}\n",
    "   a & c & b \\\\\n",
    "   b & a & c \\\\\n",
    "   c & b & a\n",
    "  \\end{matrix}\n",
    "  \\right] $ . Then the product of $A\\cdot A$ = $\n",
    " \\left[\n",
    " \\begin{matrix}\n",
    "   a^2+2*b*c & b^2+2*a*c & c^2+2*a*b \\\\\n",
    "   c^2+2*a*b & a^2+2*b*c & b^2+2*a*c\\\\\n",
    "   b^2+2*a*c & c^2+2*a*b & a^2+2*b*c\n",
    "  \\end{matrix}\n",
    "  \\right] $ \n",
    "  \n",
    "  Absolutely, it is a circulant matrix. Then we can derive that the product of circulant matrices (of a same size) always circulant matrices.\n",
    "\n",
    " \n",
    " * Let A =  $\n",
    " \\left[\n",
    " \\begin{matrix}\n",
    "   a & c & b \\\\\n",
    "   b & a & c \\\\\n",
    "   c & b & a\n",
    "  \\end{matrix} \n",
    "  \\right] $ , B = $\n",
    " \\left[\n",
    " \\begin{matrix}\n",
    "   d & f & e \\\\\n",
    "   e & d & f \\\\\n",
    "   f & e & d\n",
    "  \\end{matrix} \n",
    "  \\right] $\n",
    "  \n",
    "  Then $A\\cdot B$ = $\n",
    "  \\left[\n",
    " \\begin{matrix}\n",
    "   a*d + b*f + c*e & a*f + b*e + c*d & a*e + b*d + c*f \\\\\n",
    "   a*e + b*d + c*f & a*d + b*f + c*e & a*f + b*e + c*d \\\\\n",
    "   a*f + b*e + c*d & a*e + b*d + c*f & a*d + b*f + c*e\n",
    "  \\end{matrix} \n",
    "  \\right] $ , \n",
    "  \n",
    "  $B\\cdot A$ = $\n",
    "  \\left[\n",
    " \\begin{matrix}\n",
    "   a*d + b*f + c*e & a*f + b*e + c*d & a*e + b*d + c*f \\\\\n",
    "   a*e + b*d + c*f & a*d + b*f + c*e & a*f + b*e + c*d \\\\\n",
    "   a*f + b*e + c*d & a*e + b*d + c*f & a*d + b*f + c*e\n",
    "  \\end{matrix} \n",
    "  \\right] $\n",
    "  \n",
    "  So, $B\\cdot A$ = $A\\cdot B$, we can derive that all pairs of circulant matrices are commutative under matrix multiplication."
   ]
  },
  {
   "cell_type": "markdown",
   "metadata": {},
   "source": [
    "## Determinant\n",
    "The determinant of a square matrix is a value derived arithmetically from the coefficients of the matrix, and it summarizes a multivariable phenomenon with a signle number.\n",
    "It can be computed with ```scipy.linalg.det(a)```."
   ]
  },
  {
   "cell_type": "code",
   "execution_count": 6,
   "metadata": {},
   "outputs": [
    {
     "data": {
      "text/plain": [
       "18.0"
      ]
     },
     "execution_count": 6,
     "metadata": {},
     "output_type": "execute_result"
    }
   ],
   "source": [
    "from scipy.linalg import det\n",
    "det(my_circ_matrix)"
   ]
  },
  {
   "cell_type": "markdown",
   "metadata": {},
   "source": [
    "The code below demonstrates how to create a function in Python, how to vectorize a function so that it can be applied to the elements of a matrix, and how to use ```random```."
   ]
  },
  {
   "cell_type": "code",
   "execution_count": 7,
   "metadata": {},
   "outputs": [
    {
     "name": "stdout",
     "output_type": "stream",
     "text": [
      "18.29838\n"
     ]
    }
   ],
   "source": [
    "import math\n",
    "from numpy import random\n",
    "\n",
    "def my_log(x):\n",
    "    return math.log(x)\n",
    "\n",
    "my_vec_log = np.vectorize(my_log)\n",
    "\n",
    "A_step1 = my_vec_log(my_circ_matrix) # Numpy already offers a vectorized natural logarithm.\n",
    "# A_step1 = np.log(matrix_prod2)\n",
    "\n",
    "max_index = 100000\n",
    "my_identity = np.identity(len(A_step1))\n",
    "current_value = 0.0\n",
    "for my_index in range(0, max_index):\n",
    "    permutation_matrix = random.permutation(my_identity)\n",
    "    sign_permuation = det(permutation_matrix)\n",
    "    current_value += sign_permuation*(np.exp(np.trace(np.dot(A_step1, permutation_matrix))))\n",
    "a_step2 = math.factorial(len(A_step1)) * current_value / max_index\n",
    "print(a_step2)"
   ]
  },
  {
   "cell_type": "markdown",
   "metadata": {},
   "source": [
    "#### Questions\n",
    "It appears that the output of the loop above is close to the determinant of the circulant matrix ```my_circ_matrix```.\n",
    " * Go through the code and provide a compelling explain explanation of why these numbers are close.\n",
    " * Is this a property of circulant matrices, or would this finding extend to arbitrary matrices over the real numbers?"
   ]
  },
  {
   "cell_type": "markdown",
   "metadata": {},
   "source": [
    "#### Answers\n",
    " * Let ```my_circ_matrix``` = \n",
    "$\n",
    "  \\left[\n",
    " \\begin{matrix}\n",
    "   a & c & b \\\\\n",
    "   b & a & c \\\\\n",
    "   c & b & a\n",
    "  \\end{matrix}\n",
    "  \\right]\n",
    "$\n",
    "\n",
    "Then ```det(my_circ_matrix)``` = $3*a*b*c-a^3-b^3-c^3$\n",
    "\n",
    "```a_step2``` = \n",
    "$\n",
    "\\frac{\n",
    "{\\sum{\n",
    "  \\begin{vmatrix}\n",
    "   P\n",
    "  \\end{vmatrix}\n",
    "  *exp\\left(trace\\left(ln\\left(\n",
    "  \\left[\n",
    " \\begin{matrix}\n",
    "   a & c & b \\\\\n",
    "   b & a & c \\\\\n",
    "   c & b & a\n",
    "  \\end{matrix}\n",
    "  \\right]\\right)*\n",
    "  \\left[\n",
    "  \\begin{matrix}\n",
    "   P\n",
    "  \\end{matrix}\\right]\n",
    "  \\right)\n",
    "  \\right)\n",
    "}\n",
    "}}{N}*3!\n",
    "$ ,\n",
    "\n",
    "\n",
    "where $P$ donates random permutation matrix. Then $P$ has six forms:  \n",
    "$\n",
    " \\left[\n",
    " \\begin{matrix}\n",
    "   1 & 0 & 0 \\\\\n",
    "   0 & 1 & 0 \\\\\n",
    "   0 & 0 & 1\n",
    "  \\end{matrix}\n",
    "  \\right]\n",
    "$,\n",
    "$\n",
    " \\left[\n",
    " \\begin{matrix}\n",
    "   1 & 0 & 0 \\\\\n",
    "   0 & 0 & 1 \\\\\n",
    "   0 & 1 & 0\n",
    "  \\end{matrix}\n",
    "  \\right]\n",
    "$,\n",
    "$\n",
    " \\left[\n",
    " \\begin{matrix}\n",
    "   0 & 1 & 0 \\\\\n",
    "   1 & 0 & 0 \\\\\n",
    "   0 & 0 & 1\n",
    "  \\end{matrix}\n",
    "  \\right]\n",
    "$,\n",
    "$\n",
    " \\left[\n",
    " \\begin{matrix}\n",
    "   0 & 1 & 0 \\\\\n",
    "   0 & 0 & 1 \\\\\n",
    "   1 & 0 & 0\n",
    "  \\end{matrix}\n",
    "  \\right]\n",
    "$,\n",
    "$\n",
    " \\left[\n",
    " \\begin{matrix}\n",
    "   0 & 0 & 1 \\\\\n",
    "   1 & 0 & 0 \\\\\n",
    "   0 & 1 & 0\n",
    "  \\end{matrix}\n",
    "  \\right]\n",
    "$,\n",
    "$\n",
    " \\left[\n",
    " \\begin{matrix}\n",
    "   0 & 0 & 1 \\\\\n",
    "   0 & 1 & 0 \\\\\n",
    "   1 & 0 & 0\n",
    "  \\end{matrix}\n",
    "  \\right]\n",
    "$.\n",
    "\n",
    "In this program, random function make these forms have equal probabilities if the number of the loop is large enough. Then we simplify this loop, each form of $P$ occuring only one time. Thus we can easily get the value of ```a_step2``` = $3*a*b*c-a^3-b^3-c^3$, which equals to the value of ```det(my_circ_matrix)```. In the real loop, the probability of each $P$ form should not be identical, but fully approxinate. So these two numbers are close.\n",
    "\n",
    "* Yes! The proof is just the same.\n",
    " Let ```A``` = \n",
    "$\n",
    "  \\left[\n",
    " \\begin{matrix}\n",
    "   a & b & c \\\\\n",
    "   d & e & f \\\\\n",
    "   g & h & i\n",
    "  \\end{matrix}\n",
    "  \\right]\n",
    "$\n",
    "\n",
    "```det(A)``` = ```a_step2``` = $a*e*i+b*f*g+c*d*h-a*f*h-b*d*i-c*e*g$, when each form of $P$ has equal probability. In reality, the output of ```a_step2``` should approximately equal to  ```det(A)```.\n"
   ]
  },
  {
   "cell_type": "markdown",
   "metadata": {},
   "source": [
    "### Tasks\n",
    " * Build code to explore the fact that the determinant function is multiplicative: $\\mathrm{det}(AB) = \\mathrm{det}(A) \\mathrm{det}(B)$."
   ]
  },
  {
   "cell_type": "code",
   "execution_count": 2,
   "metadata": {},
   "outputs": [
    {
     "name": "stdout",
     "output_type": "stream",
     "text": [
      "This equation is correct.  \n",
      "det(AB)=det(A)det(B) \n",
      "So the determinant function is multiplicative.\n"
     ]
    }
   ],
   "source": [
    "import numpy as np\n",
    "from scipy.linalg import det\n",
    "num=10000\n",
    "m=0\n",
    "for n in range(0,num):\n",
    "    a=np.random.randint(1, 10 + 1,size=(18))\n",
    "    A=[[a[0],a[1],a[2]],\n",
    "       [a[3],a[4],a[5]],\n",
    "      [a[6],a[7],a[8]]]\n",
    "    #print(A)\n",
    "    B=[[a[9],a[11],a[12]],\n",
    "       [a[13],a[14],a[15]],\n",
    "      [a[16],a[17],a[10]]]\n",
    "    #print(B)\n",
    "\n",
    "    D1=det(np.dot(A,B))\n",
    "    D2=det(A)*det(B)\n",
    "    #print(m,D1,D2)\n",
    "    if(abs(D1-D2)<0.01):\n",
    "        m+=1\n",
    "if(m==num):\n",
    "    print('This equation is correct.  \\ndet(AB)=det(A)det(B) \\nSo the determinant function is multiplicative.')\n",
    "else:\n",
    "    print('Not hold!')"
   ]
  }
 ],
 "metadata": {
  "kernelspec": {
   "display_name": "Python 3",
   "language": "python",
   "name": "python3"
  },
  "language_info": {
   "codemirror_mode": {
    "name": "ipython",
    "version": 3
   },
   "file_extension": ".py",
   "mimetype": "text/x-python",
   "name": "python",
   "nbconvert_exporter": "python",
   "pygments_lexer": "ipython3",
   "version": "3.6.1"
  }
 },
 "nbformat": 4,
 "nbformat_minor": 2
}
