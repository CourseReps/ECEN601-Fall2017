{
 "cells": [
  {
   "cell_type": "markdown",
   "metadata": {},
   "source": [
    "# Challenge 2\n",
    "An important aspect of pragmatic vector space methods is the ability to handle vectors and matrices.\n",
    "A large collection of linear algebra functions is available in [SciPy.linalg](https://docs.scipy.org/doc/scipy/reference/linalg.html).\n",
    "These functions can be employed in conjunction with the tools available in [NumPy](http://www.numpy.org/).\n",
    "We note that the main object in NumPy is the homogeneous multidimensional array."
   ]
  },
  {
   "cell_type": "markdown",
   "metadata": {},
   "source": [
    "## Matrix\n",
    "We begin by creating a simple matrix.\n",
    "One possible approach to complete this task is to use ```scipy.linalg.circulant(c)```."
   ]
  },
  {
   "cell_type": "code",
   "execution_count": 1,
   "metadata": {
    "collapsed": true
   },
   "outputs": [],
   "source": [
    "from scipy.linalg import circulant\n",
    "my_circ_matrix = circulant([1, 2, 3])"
   ]
  },
  {
   "cell_type": "markdown",
   "metadata": {},
   "source": [
    "Alternatively, you can construct the familiar discrete Fourier transform matrix with ```scipy.linalg.dft(n)```."
   ]
  },
  {
   "cell_type": "code",
   "execution_count": 2,
   "metadata": {
    "collapsed": true
   },
   "outputs": [],
   "source": [
    "from scipy.linalg import dft\n",
    "my_dft_matrix = dft(3)"
   ]
  },
  {
   "cell_type": "markdown",
   "metadata": {},
   "source": [
    "The inverse of a matrix can be computed using ```scipy.linalg.inv(a)```."
   ]
  },
  {
   "cell_type": "code",
   "execution_count": 3,
   "metadata": {
    "collapsed": true
   },
   "outputs": [],
   "source": [
    "from scipy.linalg import inv\n",
    "my_idft_matrix = inv(my_dft_matrix)"
   ]
  },
  {
   "cell_type": "markdown",
   "metadata": {},
   "source": [
    "The operation ```numpy.dot(a, b)``` computes the dot product of two arrays.\n",
    "For 2-D arrays it is equivalent to matrix multiplication, and for 1-D arrays to inner product of vectors (without complex conjugation)."
   ]
  },
  {
   "cell_type": "code",
   "execution_count": 4,
   "metadata": {},
   "outputs": [
    {
     "name": "stdout",
     "output_type": "stream",
     "text": [
      "[[ 6.0+0.j        -0.0+0.j         0.0+0.j       ]\n",
      " [-0.0-0.j        -1.5+0.8660254j -0.0-0.j       ]\n",
      " [ 0.0-0.j         0.0-0.j        -1.5-0.8660254j]]\n"
     ]
    }
   ],
   "source": [
    "import numpy as np\n",
    "matrix_prod1 = np.dot(my_dft_matrix, my_circ_matrix)\n",
    "matrix_prod2 = np.dot(matrix_prod1, my_idft_matrix)\n",
    "\n",
    "np.set_printoptions(suppress=True)\n",
    "print(matrix_prod2)"
   ]
  },
  {
   "cell_type": "markdown",
   "metadata": {},
   "source": [
    "### Questions\n",
    "These steps and their solutions immediately bring up three questions.\n",
    " * Are circulant matrices always diagonalized by the discrete Fourier transform matrix and its inverse?\n",
    " * Are product of circulant matrices (of a same size) always circulant matrices?\n",
    " * Do all pairs of circulant matrices commute under matrix multiplication?"
   ]
  },
  {
   "cell_type": "markdown",
   "metadata": {},
   "source": [
    "### Answers\n",
    "* Yes, the circulant matrices can always be diagonalized by the discrete Fourier Transform Matrix and its inverse. \n",
    "<br>\n",
    "If the circulant matrix A = $ \n",
    "\\left[\n",
    "\\begin{matrix}\n",
    "    a & c & b \\\\\n",
    "    b & a & c \\\\\n",
    "    c & b & a\n",
    "    \\end{matrix}\n",
    "    \\right] $\n",
    "<br>\n",
    "then the final diagonalizable matrix will be in the form  $\n",
    "\\left[\n",
    "\\begin{matrix}\n",
    "    a+b+c & 0 & 0 \\\\\n",
    "    0 & a+(-0.5-0.8660254j)b+(-0.5+0.8660254j)c & 0 \\\\\n",
    "    0 & 0 & a+(-0.5+0.86602540j)b+(-0.5-0.86602540j)c\n",
    "    \\end{matrix}\n",
    "    \\right] $.\n",
    "* Yes, the product of circulant matrices of the same size will always be circulant matrices.\n",
    "<br>\n",
    "If the circulant matrix A = $\n",
    "\\left[\n",
    "\\begin{matrix}\n",
    "    a & c & b \\\\\n",
    "    b & a & c \\\\\n",
    "    c & b & a\n",
    "    \\end{matrix}\n",
    "    \\right] $\n",
    "<br>\n",
    "and the circulant matrix B = $\n",
    "\\left[\n",
    "\\begin{matrix}\n",
    "    d & f & e \\\\\n",
    "    e & d & f \\\\\n",
    "    f & e & d\n",
    "    \\end{matrix}\n",
    "    \\right] $ .\n",
    "<br>\n",
    "Then A$\\cdot$B = $\n",
    "\\left[\n",
    "\\begin{matrix}\n",
    "    a*d + b*f + c*e & a*f + b*e + c*d & a*e + b*d + c*f \\\\\n",
    "    a*e + b*d + c*f & a*d + b*f + c*e & a*f + b*e + c*d \\\\\n",
    "    a*f + b*e + c*d & a*e + b*d + c*f & a*d + b*f + c*e\n",
    "    \\end{matrix}\n",
    "    \\right] $,  \n",
    "<br>\n",
    "and by definition, this is a circulant matrix.\n",
    "* Yes, all pairs of circulant matrices commute under matrix multiplicaiton.\n",
    "<br>\n",
    "From the previous answer, we can see that \n",
    "<br>\n",
    "A$\\cdot$B = $\n",
    "\\left[\n",
    "\\begin{matrix}\n",
    "    a*d + b*f + c*e & a*f + b*e + c*d & a*e + b*d + c*f \\\\\n",
    "    a*e + b*d + c*f & a*d + b*f + c*e & a*f + b*e + c*d \\\\\n",
    "    a*f + b*e + c*d & a*e + b*d + c*f & a*d + b*f + c*e\n",
    "    \\end{matrix}\n",
    "    \\right] $,  \n",
    "<br>\n",
    "if we use the same A and B matrix, the\n",
    "<br>\n",
    "B$\\cdot$A = $\n",
    "\\left[\n",
    "\\begin{matrix}\n",
    "    a*d + b*f + c*e & a*f + b*e + c*d & a*e + b*d + c*f \\\\\n",
    "    a*e + b*d + c*f & a*d + b*f + c*e & a*f + b*e + c*d \\\\\n",
    "    a*f + b*e + c*d & a*e + b*d + c*f & a*d + b*f + c*e\n",
    "    \\end{matrix}\n",
    "    \\right] $ = A$\\cdot$B\n",
    "<br>\n",
    "which proves that circulant matrices commute under matrix multiplication."
   ]
  },
  {
   "cell_type": "markdown",
   "metadata": {},
   "source": [
    "## Determinant\n",
    "The determinant of a square matrix is a value derived arithmetically from the coefficients of the matrix, and it summarizes a multivariable phenomenon with a signle number.\n",
    "It can be computed with ```scipy.linalg.det(a)```."
   ]
  },
  {
   "cell_type": "code",
   "execution_count": 5,
   "metadata": {},
   "outputs": [
    {
     "data": {
      "text/plain": [
       "18.0"
      ]
     },
     "execution_count": 5,
     "metadata": {},
     "output_type": "execute_result"
    }
   ],
   "source": [
    "from scipy.linalg import det\n",
    "det(my_circ_matrix)"
   ]
  },
  {
   "cell_type": "markdown",
   "metadata": {},
   "source": [
    "The code below demonstrates how to create a function in Python, how to vectorize a function so that it can be applied to the elements of a matrix, and how to use ```random```."
   ]
  },
  {
   "cell_type": "code",
   "execution_count": 6,
   "metadata": {},
   "outputs": [
    {
     "name": "stdout",
     "output_type": "stream",
     "text": [
      "17.86698\n"
     ]
    }
   ],
   "source": [
    "import math\n",
    "from numpy import random\n",
    "\n",
    "def my_log(x):\n",
    "    return math.log(x)\n",
    "\n",
    "my_vec_log = np.vectorize(my_log)\n",
    "\n",
    "A_step1 = my_vec_log(my_circ_matrix) # Numpy already offers a vectorized natural logarithm.\n",
    "# A_step1 = np.log(matrix_prod2)\n",
    "\n",
    "max_index = 100000\n",
    "my_identity = np.identity(len(A_step1))\n",
    "current_value = 0.0\n",
    "for my_index in range(0, max_index):\n",
    "    permutation_matrix = random.permutation(my_identity)\n",
    "    sign_permuation = det(permutation_matrix)\n",
    "    current_value += sign_permuation*(np.exp(np.trace(np.dot(A_step1, permutation_matrix))))\n",
    "a_step2 = math.factorial(len(A_step1)) * current_value / max_index\n",
    "print(a_step2)"
   ]
  },
  {
   "cell_type": "markdown",
   "metadata": {},
   "source": [
    "#### Questions\n",
    "It appears that the output of the loop above is close to the determinant of the circulant matrix ```my_circ_matrix```.\n",
    " * Go through the code and provide a compelling explain explanation of why these numbers are close.\n",
    " * Is this a property of circulant matrices, or would this finding extend to arbitrary matrices over the real numbers?"
   ]
  },
  {
   "cell_type": "markdown",
   "metadata": {},
   "source": [
    "#### Answers\n",
    "* The determinant of the cirulant matrix can be simplied into $a^3+b^3+c^3-3*a*b*c$, which equals to 18 in the case of the given circulant matrix.\n",
    " <br>\n",
    "The calculation in the loop in the code can also be simplified into the same formula, $a^3+b^3+c^3-3*a*b*c$ because there are 6 different matrix that can be formed in the function call random.permutation. and since we are doing 100000 trials, each of the 6 matrix might not have the exact same number of appearances, so when the calculation is simplified, it'll be a really close approximation to the formula above.\n",
    "* This would be a property for arbitrary matrices over the real numbers. Because given enough sample size, the result will be very close to the determinant."
   ]
  },
  {
   "cell_type": "markdown",
   "metadata": {},
   "source": [
    "### Tasks\n",
    " * Build code to explore the fact that the determinant function is multiplicative: $\\mathrm{det}(AB) = \\mathrm{det}(A) \\mathrm{det}(B)$."
   ]
  },
  {
   "cell_type": "code",
   "execution_count": 7,
   "metadata": {},
   "outputs": [
    {
     "name": "stdout",
     "output_type": "stream",
     "text": [
      "the determinant function is multiplicative for 3 by 3 matrices.\n",
      "the determinant function is multiplicative for 4 by 4 matrices.\n",
      "the determinant function is multiplicative for 5 by 5 matrices.\n",
      "the determinant function is multiplicative for 6 by 6 matrices.\n",
      "the determinant function is multiplicative for 7 by 7 matrices.\n"
     ]
    }
   ],
   "source": [
    "import numpy as np\n",
    "from scipy.linalg import det\n",
    "\n",
    "for n in range(3, 8):\n",
    "    A = np.zeros((n, n))\n",
    "    B = np.zeros((n, n))\n",
    "    for i in range (0, n):\n",
    "        for j in range(0, n):\n",
    "            A[i, j] = np.random.randint(0, 10)\n",
    "            B[i, j] = np.random.randint(0, 10)\n",
    "    detA = det(A)\n",
    "    detB = det(B)\n",
    "    AB = np.dot(A, B)\n",
    "    detAB = det(AB)\n",
    "    if(abs(detAB - detA*detB)< 0.1):\n",
    "        print('the determinant function is multiplicative for ' + str(n) +' by ' + str(n) + ' matrices.')\n"
   ]
  },
  {
   "cell_type": "markdown",
   "metadata": {},
   "source": [
    "Due to the computing errors, the determinant of A$*$B is not exactly like the determinant of A multiplied by the determinant of B, but as shown in the code above, it is very close. However, the determinant will be the same if done by the definition of determinant and matrix multiplication."
   ]
  }
 ],
 "metadata": {
  "kernelspec": {
   "display_name": "Python 3",
   "language": "python",
   "name": "python3"
  },
  "language_info": {
   "codemirror_mode": {
    "name": "ipython",
    "version": 3
   },
   "file_extension": ".py",
   "mimetype": "text/x-python",
   "name": "python",
   "nbconvert_exporter": "python",
   "pygments_lexer": "ipython3",
   "version": "3.6.1"
  }
 },
 "nbformat": 4,
 "nbformat_minor": 2
}
