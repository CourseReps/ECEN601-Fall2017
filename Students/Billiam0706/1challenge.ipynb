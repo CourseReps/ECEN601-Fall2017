{
 "cells": [
  {
   "cell_type": "markdown",
   "metadata": {},
   "source": [
    "# Challenge 1\n",
    "\n",
    "## SciPy Tutorial\n",
    "Pertinent information about [SciPy](https://docs.scipy.org/) and NumPy is available in the [SciPy Tutorial](https://docs.scipy.org/doc/scipy/reference/tutorial/index.html).\n",
    " * Read [Introduction](https://docs.scipy.org/doc/scipy/reference/tutorial/general.html)\n",
    " * Read [Basic functions](https://docs.scipy.org/doc/scipy/reference/tutorial/basic.html)\n",
    " * Read [Optimization](https://docs.scipy.org/doc/scipy/reference/tutorial/optimize.html)\n",
    " \n",
    "Consider the function defined below.\n",
    " * Plot the function using [matplotlib](https://matplotlib.org/)"
   ]
  },
  {
   "cell_type": "code",
   "execution_count": 2,
   "metadata": {
    "collapsed": true
   },
   "outputs": [],
   "source": [
    "import numpy as np\n",
    "import matplotlib.pyplot as plt"
   ]
  },
  {
   "cell_type": "code",
   "execution_count": 3,
   "metadata": {},
   "outputs": [
    {
     "data": {
      "image/png": "[encoded data removed]",
      "text/plain": [
       "<matplotlib.figure.Figure at 0x2bc39b75668>"
      ]
     },
     "metadata": {},
     "output_type": "display_data"
    }
   ],
   "source": [
    "def g(t):\n",
    "    return 1 - (np.exp(-2*t) * np.cos(np.pi*t))\n",
    "\n",
    "t1 = np.arange(0.0, 2.0, 0.01)\n",
    "\n",
    "plt.figure(1)\n",
    "plt.plot(t1, g(t1), 'k')\n",
    "plt.show()"
   ]
  },
  {
   "cell_type": "markdown",
   "metadata": {},
   "source": [
    "Consider the class of functions of the form $f(t) = 1 - e^{-at}$ where $a$ is a free parameter.\n",
    " * Find the value of $a$ that minimizes the $L_2$ norm between $g(t)$ and $f(t)$ over the interval $[0, 2]$\n",
    " * Computer the residual mean squared error\n",
    " * Explain how you obtained $a$"
   ]
  },
  {
   "cell_type": "code",
   "execution_count": 1,
   "metadata": {},
   "outputs": [
    {
     "name": "stdout",
     "output_type": "stream",
     "text": [
      "The value of 'a' that minimizes the L2 norm is [ 4.6035781]\n",
      "The residual mean squared error is 0.011375058805\n"
     ]
    },
    {
     "data": {
      "image/png": "[encoded data removed]",
      "text/plain": [
       "<matplotlib.figure.Figure at 0x17af5f2fe80>"
      ]
     },
     "metadata": {},
     "output_type": "display_data"
    }
   ],
   "source": [
    "import numpy as np\n",
    "import matplotlib.pyplot as plt\n",
    "from scipy.optimize import curve_fit\n",
    "\n",
    "\n",
    "#define g(t) and f(t)\n",
    "def f(t, a): #f is defined as a function of a because \n",
    "             #curve_fit needs the fit parameter\n",
    "    return 1-(np.exp(-a*t))\n",
    "def g(t):\n",
    "    return 1 - (np.exp(-2*t) * np.cos(np.pi*t))\n",
    "\n",
    "#define t from 0 to 2 with a increment of 0.01\n",
    "t_values = np.arange(0.0, 2.0, 0.01)\n",
    "\n",
    "#using the curve_fit function to find the 'a' value that minimizes the L2 norm\n",
    "a, pcov = curve_fit(f, t_values, g(t_values))\n",
    "print(\"The value of 'a' that minimizes the L2 norm is\", a)\n",
    "\n",
    "#define arrays f and g to represent the corrresponding values\n",
    "f = f(t_values, a)\n",
    "g = g(t_values)\n",
    "\n",
    "#find the residual mean squared error\n",
    "RMSE = 0\n",
    "sum = 0\n",
    "for n in range(t_values.size):\n",
    "    sum += (f[n]-g[n])**2\n",
    "RMSE = sum/n\n",
    "print(\"The residual mean squared error is\", RMSE)\n",
    "\n",
    "#plot the function with line color, label, and legend\n",
    "plt.xlabel('t')\n",
    "plt.plot(t_values, g, color = 'red', label = \"g(t)\")\n",
    "plt.plot(t_values, f, color = 'blue', label = \"f(t)\")\n",
    "plt.legend()\n",
    "plt.show()"
   ]
  },
  {
   "cell_type": "markdown",
   "metadata": {},
   "source": [
    "1. The value of $a$ that minimzies the $L_2$ norm between $g(t)$ and $f(t)$ over the interval $[0, 2]$ is 4.6035781\n",
    "2. The residual mean squared error is 0.011375058805\n",
    "3. The **curve_ fit** function is given in the Optimization help page, and it returns the two variables, the first one being the \"optimal value for the parameters so that the sum of the squared residuals is minimized, which is exactly what $a$ was asked to be."
   ]
  }
 ],
 "metadata": {
  "kernelspec": {
   "display_name": "Python 3",
   "language": "python",
   "name": "python3"
  },
  "language_info": {
   "codemirror_mode": {
    "name": "ipython",
    "version": 3
   },
   "file_extension": ".py",
   "mimetype": "text/x-python",
   "name": "python",
   "nbconvert_exporter": "python",
   "pygments_lexer": "ipython3",
   "version": "3.6.1"
  }
 },
 "nbformat": 4,
 "nbformat_minor": 2
}
