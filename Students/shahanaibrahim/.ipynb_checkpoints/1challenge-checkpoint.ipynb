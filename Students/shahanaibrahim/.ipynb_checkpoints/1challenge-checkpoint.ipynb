{
 "cells": [
  {
   "cell_type": "markdown",
   "metadata": {},
   "source": [
    "# Challenge 1\n",
    "\n",
    "## SciPy Tutorial\n",
    "Pertinent information about [SciPy](https://docs.scipy.org/) and NumPy is available in the [SciPy Tutorial](https://docs.scipy.org/doc/scipy/reference/tutorial/index.html).\n",
    " * Read [Introduction](https://docs.scipy.org/doc/scipy/reference/tutorial/general.html)\n",
    " * Read [Basic functions](https://docs.scipy.org/doc/scipy/reference/tutorial/basic.html)\n",
    " * Read [Optimization](https://docs.scipy.org/doc/scipy/reference/tutorial/optimize.html)\n",
    " \n",
    "Consider the function defined below.\n",
    " * Plot the function using [matplotlib](https://matplotlib.org/)"
   ]
  },
  {
   "cell_type": "code",
   "execution_count": 21,
   "metadata": {
    "collapsed": true
   },
   "outputs": [],
   "source": [
    "import numpy as np\n",
    "import matplotlib.pyplot as plt"
   ]
  },
  {
   "cell_type": "code",
   "execution_count": 22,
   "metadata": {},
   "outputs": [
    {
     "data": {
      "image/png": "[encoded data removed]",
      "text/plain": [
       "<matplotlib.figure.Figure at 0x1a1cfd31208>"
      ]
     },
     "metadata": {},
     "output_type": "display_data"
    }
   ],
   "source": [
    "def g(t):\n",
    "    return 1 - (np.exp(-2*t) * np.cos(np.pi*t))\n",
    "\n",
    "t1 = np.arange(0.0, 2.0, 0.01)\n",
    "\n",
    "plt.figure(1)\n",
    "plt.plot(t1, g(t1), 'k')\n",
    "plt.show()"
   ]
  },
  {
   "cell_type": "markdown",
   "metadata": {},
   "source": [
    "Consider the class of functions of the form $f(t) = 1 - e^{-at}$ where $a$ is a free parameter.\n",
    " * Find the value of $a$ that minimizes the $L_2$ norm between $g(t)$ and $f(t)$ over the interval $[0, 2]$\n",
    " * Computer the residual mean squared error\n",
    " * Explain how you obtained $a$"
   ]
  },
  {
   "cell_type": "markdown",
   "metadata": {},
   "source": [
    "## Solution\n",
    "* The value of $a$ that mimimizes the $L_2$ norm between $g(t)$ and $f(t)$ over the interval $[0, 2]$ is $-0.53$\n",
    "* The residual mean squared error plot is given below in Figure $4$. The minimum residual mean squared error is $2.46909$\n",
    "* $L_{2}norm(a)$ = $||f-g||$ = $\\sqrt(\\int_0^2 ((f(t,a)-g(t))^2\\,dt)$ , where $a$ is a free parameter. By plotting $L_{2}norm$ versus $a$, we got the minimum value of $L_2$ norm and the corresponding $a$. The value of $a$ that minimizes $L_2$ norm is found to be $-0.53$ according to Figure $3$"
   ]
  },
  {
   "cell_type": "code",
   "execution_count": null,
   "metadata": {},
   "outputs": [
    {
     "data": {
      "image/png": "[encoded data removed]",
      "text/plain": [
       "<matplotlib.figure.Figure at 0x1a1dffdf6a0>"
      ]
     },
     "metadata": {},
     "output_type": "display_data"
    }
   ],
   "source": [
    "def f(t,a):\n",
    "    return 1-np.exp(-1*a*t)\n",
    "t2 = np.arange(0.0,2.0,0.1)\n",
    "\n",
    "plt.figure(2)\n",
    "plt.plot(t2, f(t2,3.78), 'k')\n",
    "plt.show()\n"
   ]
  },
  {
   "cell_type": "code",
   "execution_count": null,
   "metadata": {},
   "outputs": [],
   "source": [
    "from scipy.integrate import quad\n",
    "import math\n",
    "\n",
    "#Definition of integrant for L2 norm calculation\n",
    "def modOfFunc(t,a):\n",
    "    integrand = ((abs(f(t,a)-g(t)))**2)\n",
    "    return integrand\n",
    "\n",
    "\n",
    "#L2 norm plot\n",
    "start=-5\n",
    "stop=5\n",
    "inter=0.001\n",
    "a=np.arange(start,stop,inter)\n",
    "L2_norm_integrate=np.arange((stop-start)/inter)\n",
    "for i,val in enumerate(a):\n",
    "    L2_norm_integrate[i] = math.sqrt((quad(modOfFunc,0,2,args=(val)))[0])\n",
    "\n",
    "#Plotting L2 norm Vs Time\n",
    "fig3=plt.figure(3)\n",
    "plt.plot(a, L2_norm_integrate, 'k')\n",
    "fig3.suptitle(\"Figure 3 : L2 Norm Plot\")\n",
    "plt.xlabel(\"value of a\")\n",
    "plt.ylabel(\"L2 norm\")\n",
    "plt.show()\n",
    "\n",
    "#Value of a corresponding to Minimum L2 norm\n",
    "norm_min = a[np.argmin(L2_norm_integrate)]\n",
    "print(\"The value of a that minimizes L2 norm = \"+str(norm_min))\n",
    "\n",
    "#Residual Mean Square Error (RMS)\n",
    "rms=np.arange((stop-start)/inter)\n",
    "for i,val in enumerate(a):\n",
    "    rms[i] = math.sqrt(((quad(modOfFunc,0,2,args=(val)))[0])/2)\n",
    "\n",
    "#RMS plot\n",
    "fig4=plt.figure(4)\n",
    "plt.plot(a, rms, 'k')\n",
    "fig4.suptitle(\"Figure 4 : RMS error Plot\")\n",
    "plt.xlabel(\"value of a\")\n",
    "plt.ylabel(\"RMS error\")\n",
    "plt.show()\n",
    "\n",
    "#Minimum RMS error\n",
    "rms_min = rms[np.argmin(rms)]\n",
    "print(\"minimum RMS error = \"+str(rms_min))\n"
   ]
  },
  {
   "cell_type": "code",
   "execution_count": null,
   "metadata": {
    "collapsed": true
   },
   "outputs": [],
   "source": []
  },
  {
   "cell_type": "code",
   "execution_count": null,
   "metadata": {
    "collapsed": true
   },
   "outputs": [],
   "source": []
  },
  {
   "cell_type": "code",
   "execution_count": null,
   "metadata": {
    "collapsed": true
   },
   "outputs": [],
   "source": []
  }
 ],
 "metadata": {
  "kernelspec": {
   "display_name": "Python 3",
   "language": "python",
   "name": "python3"
  },
  "language_info": {
   "codemirror_mode": {
    "name": "ipython",
    "version": 3
   },
   "file_extension": ".py",
   "mimetype": "text/x-python",
   "name": "python",
   "nbconvert_exporter": "python",
   "pygments_lexer": "ipython3",
   "version": "3.6.1"
  }
 },
 "nbformat": 4,
 "nbformat_minor": 2
}
