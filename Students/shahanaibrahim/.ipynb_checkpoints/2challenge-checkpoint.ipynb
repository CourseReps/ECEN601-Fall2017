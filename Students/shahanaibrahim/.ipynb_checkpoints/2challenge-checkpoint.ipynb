{
 "cells": [
  {
   "cell_type": "markdown",
   "metadata": {},
   "source": [
    "# Challenge 2\n",
    "An important aspect of pragmatic vector space methods is the ability to handle vectors and matrices.\n",
    "A large collection of linear algebra functions is available in [SciPy.linalg](https://docs.scipy.org/doc/scipy/reference/linalg.html).\n",
    "These functions can be employed in conjunction with the tools available in [NumPy](http://www.numpy.org/).\n",
    "We note that the main object in NumPy is the homogeneous multidimensional array."
   ]
  },
  {
   "cell_type": "markdown",
   "metadata": {},
   "source": [
    "## Matrix\n",
    "We begin by creating a simple matrix.\n",
    "One possible approach to complete this task is to use ```scipy.linalg.circulant(c)```."
   ]
  },
  {
   "cell_type": "code",
   "execution_count": 3,
   "metadata": {
    "collapsed": true
   },
   "outputs": [],
   "source": [
    "from scipy.linalg import circulant\n",
    "my_circ_matrix = circulant([1, 2, 3])"
   ]
  },
  {
   "cell_type": "markdown",
   "metadata": {},
   "source": [
    "Alternatively, you can construct the familiar discrete Fourier transform matrix with ```scipy.linalg.dft(n)```."
   ]
  },
  {
   "cell_type": "code",
   "execution_count": 4,
   "metadata": {
    "collapsed": true
   },
   "outputs": [],
   "source": [
    "from scipy.linalg import dft\n",
    "my_dft_matrix = dft(3)"
   ]
  },
  {
   "cell_type": "markdown",
   "metadata": {},
   "source": [
    "The inverse of a matrix can be computed using ```scipy.linalg.inv(a)```."
   ]
  },
  {
   "cell_type": "code",
   "execution_count": 5,
   "metadata": {
    "collapsed": true
   },
   "outputs": [],
   "source": [
    "from scipy.linalg import inv\n",
    "my_idft_matrix = inv(my_dft_matrix)"
   ]
  },
  {
   "cell_type": "markdown",
   "metadata": {},
   "source": [
    "The operation ```numpy.dot(a, b)``` computes the dot product of two arrays.\n",
    "For 2-D arrays it is equivalent to matrix multiplication, and for 1-D arrays to inner product of vectors (without complex conjugation)."
   ]
  },
  {
   "cell_type": "code",
   "execution_count": 6,
   "metadata": {},
   "outputs": [
    {
     "name": "stdout",
     "output_type": "stream",
     "text": [
      "[[ 6.0+0.j        -0.0+0.j         0.0+0.j       ]\n",
      " [-0.0-0.j        -1.5+0.8660254j -0.0-0.j       ]\n",
      " [ 0.0-0.j         0.0-0.j        -1.5-0.8660254j]]\n"
     ]
    }
   ],
   "source": [
    "import numpy as np\n",
    "matrix_prod1 = np.dot(my_dft_matrix, my_circ_matrix)\n",
    "matrix_prod2 = np.dot(matrix_prod1, my_idft_matrix)\n",
    "\n",
    "np.set_printoptions(suppress=True)\n",
    "print(matrix_prod2)"
   ]
  },
  {
   "cell_type": "markdown",
   "metadata": {},
   "source": [
    "### Questions\n",
    "These steps and their solutions immediately bring up three questions.\n",
    " * Are circulant matrices always diagonalized by the discrete Fourier transform matrix and its inverse?\n",
    " * Are product of circulant matrices (of a same size) always circulant matrices?\n",
    " * Do all pairs of circulant matrices commute under matrix multiplication?"
   ]
  },
  {
   "cell_type": "markdown",
   "metadata": {},
   "source": [
    "## Determinant\n",
    "The determinant of a square matrix is a value derived arithmetically from the coefficients of the matrix, and it summarizes a multivariable phenomenon with a signle number.\n",
    "It can be computed with ```scipy.linalg.det(a)```."
   ]
  },
  {
   "cell_type": "code",
   "execution_count": 7,
   "metadata": {},
   "outputs": [
    {
     "data": {
      "text/plain": [
       "18.0"
      ]
     },
     "execution_count": 7,
     "metadata": {},
     "output_type": "execute_result"
    }
   ],
   "source": [
    "from scipy.linalg import det\n",
    "det(my_circ_matrix)"
   ]
  },
  {
   "cell_type": "markdown",
   "metadata": {},
   "source": [
    "The code below demonstrates how to create a function in Python, how to vectorize a function so that it can be applied to the elements of a matrix, and how to use ```random```."
   ]
  },
  {
   "cell_type": "code",
   "execution_count": 8,
   "metadata": {},
   "outputs": [
    {
     "name": "stdout",
     "output_type": "stream",
     "text": [
      "19.062\n"
     ]
    }
   ],
   "source": [
    "import math\n",
    "from numpy import random\n",
    "\n",
    "def my_log(x):\n",
    "    return math.log(x)\n",
    "\n",
    "my_vec_log = np.vectorize(my_log)\n",
    "\n",
    "A_step1 = my_vec_log(my_circ_matrix) # Numpy already offers a vectorized natural logarithm.\n",
    "# A_step1 = np.log(matrix_prod2)\n",
    "\n",
    "max_index = 1000\n",
    "my_identity = np.identity(len(A_step1))\n",
    "current_value = 0.0\n",
    "for my_index in range(0, max_index):\n",
    "    permutation_matrix = random.permutation(my_identity)\n",
    "    sign_permuation = det(permutation_matrix)\n",
    "    current_value += sign_permuation*(np.exp(np.trace(np.dot(A_step1, permutation_matrix))))\n",
    "a_step2 = math.factorial(len(A_step1)) * current_value / max_index\n",
    "print(a_step2)"
   ]
  },
  {
   "cell_type": "markdown",
   "metadata": {},
   "source": [
    "#### Questions\n",
    "It appears that the output of the loop above is close to the determinant of the circulant matrix ```my_circ_matrix```.\n",
    " * Go through the code and provide a compelling explain explanation of why these numbers are close.\n",
    " * Is this a property of circulant matrices, or would this finding extend to arbitrary matrices over the real numbers?"
   ]
  },
  {
   "cell_type": "markdown",
   "metadata": {},
   "source": [
    "### Tasks\n",
    " * Build code to explore the fact that the determinant function is multiplicative: $\\mathrm{det}(AB) = \\mathrm{det}(A) \\mathrm{det}(B)$."
   ]
  },
  {
   "cell_type": "code",
   "execution_count": 9,
   "metadata": {},
   "outputs": [
    {
     "name": "stdout",
     "output_type": "stream",
     "text": [
      "[[ 204. -0.j   -0. +0.j    0. -0.j   -0. +0.j]\n",
      " [  -0. -0.j  -26.+38.j    0. +0.j   -0. -0.j]\n",
      " [   0. -0.j   -0. -0.j  -64. -0.j   -0. +0.j]\n",
      " [   0. -0.j    0. +0.j    0. -0.j  -26.-38.j]]\n"
     ]
    }
   ],
   "source": [
    "#Are circulant matrices always diagonilized\n",
    "#The below sample code illustrates some examples of circulant matrices of sixe 4x4 which \n",
    "#is getting diagonalized by the DFT and its inverse\n",
    "import numpy as np\n",
    "from scipy.linalg import circulant\n",
    "from scipy.linalg import dft\n",
    "from scipy.linalg import inv\n",
    "my_circ_matrix2 = circulant([np.array(np.random.uniform(1,100,4),dtype=int)])\n",
    "#my_circ_matrix2 = circulant([1, 2 , 3, 4])\n",
    "my_dft_matrix2 = dft(4)\n",
    "my_idft_matrix2 = inv(my_dft_matrix2)\n",
    "matrix_prod3 = np.dot(my_dft_matrix2, my_circ_matrix2)\n",
    "matrix_prod4 = np.dot(matrix_prod3, my_idft_matrix2)\n",
    "\n",
    "\n",
    "np.set_printoptions(suppress=True)\n",
    "print(matrix_prod4)"
   ]
  },
  {
   "cell_type": "code",
   "execution_count": 10,
   "metadata": {},
   "outputs": [
    {
     "name": "stdout",
     "output_type": "stream",
     "text": [
      "[[6791 9363 6358 7804]\n",
      " [7804 6791 9363 6358]\n",
      " [6358 7804 6791 9363]\n",
      " [9363 6358 7804 6791]]\n"
     ]
    }
   ],
   "source": [
    "#Are product of circulant matrices (of a same size) always circulant matrices?\n",
    "#The below sample code illustrates an example of two circulant matrix multiplication\n",
    "import numpy as np\n",
    "from scipy.linalg import circulant\n",
    "from scipy.linalg import dft\n",
    "from scipy.linalg import inv\n",
    "my_circ_matrix3 = circulant([np.array(np.random.uniform(1,100,4),dtype=int)])\n",
    "my_circ_matrix4 = circulant([np.array(np.random.uniform(1,100,4),dtype=int)])\n",
    "\n",
    "matrix_prod5 = np.dot(my_circ_matrix3, my_circ_matrix4)\n",
    "\n",
    "\n",
    "\n",
    "np.set_printoptions(suppress=True)\n",
    "print(matrix_prod5)"
   ]
  },
  {
   "cell_type": "code",
   "execution_count": 11,
   "metadata": {},
   "outputs": [
    {
     "name": "stdout",
     "output_type": "stream",
     "text": [
      "[[10527 15338 12195  8224]\n",
      " [ 8224 10527 15338 12195]\n",
      " [12195  8224 10527 15338]\n",
      " [15338 12195  8224 10527]]\n",
      "[[10527 15338 12195  8224]\n",
      " [ 8224 10527 15338 12195]\n",
      " [12195  8224 10527 15338]\n",
      " [15338 12195  8224 10527]]\n"
     ]
    }
   ],
   "source": [
    "#Do all pairs of circulant matrices commute under matrix multiplication?\n",
    "#The below sample code illustrates that the matrix multiplication of two circulant matrices are commutative\n",
    "import numpy as np\n",
    "from scipy.linalg import circulant\n",
    "from scipy.linalg import dft\n",
    "from scipy.linalg import inv\n",
    "my_circ_matrix5 = circulant([np.array(np.random.uniform(1,100,4),dtype=int)])\n",
    "my_circ_matrix6 = circulant([np.array(np.random.uniform(1,100,4),dtype=int)])\n",
    "\n",
    "matrix_prod6 = np.dot(my_circ_matrix5, my_circ_matrix6)\n",
    "matrix_prod7 = np.dot(my_circ_matrix6, my_circ_matrix5)\n",
    "\n",
    "\n",
    "np.set_printoptions(suppress=True)\n",
    "print(matrix_prod6)\n",
    "\n",
    "np.set_printoptions(suppress=True)\n",
    "print(matrix_prod7)"
   ]
  },
  {
   "cell_type": "markdown",
   "metadata": {
    "collapsed": true
   },
   "source": [
    "### Solutions\n",
    "* Are circulant matrices always diagonalized by the discrete Fourier transform matrix and its inverse?\n",
    " + Yes the circulant matrices are always diagonalized by the discrete Fourier transform matrix and its inverse\n",
    "* Are product of circulant matrices (of a same size) always circulant matrices?\n",
    " + Yes. The product of circulant matrices are always circulant matrices\n",
    "* Do all pairs of circulant matrices commute under matrix multiplication?\n",
    " + Yes, All pairs of circulant matrices commute under matrix multiplication"
   ]
  },
  {
   "cell_type": "markdown",
   "metadata": {},
   "source": [
    "### Solutions\n",
    " * Go through the code and provide a compelling explain explanation of why these numbers are close.\n",
    "    + Let the circulant matrix $A$ of size 3 be\n",
    "$$\\mathbf{A} = \\left[\\begin{array}\n",
    "{rrr}\n",
    "1 & 3 & 2 \\\\\n",
    "2 & 1 & 3 \\\\\n",
    "3 & 2 & 1\n",
    "\\end{array}\\right]\n",
    "$$\n",
    "\n",
    "    + $\\begin{aligned}\n",
    "det(A) &= 1\\times (1\\times 1-3\\times 2) -3\\times (2\\times 1-3\\times 3) + 2\\times (2\\times 2-1\\times 3) \\\\\n",
    " &= 1^3 + 2^3 + 3^3 - 3\\times (1\\times 2\\times 3)\n",
    "\\end{aligned}$   \n",
    "\n",
    "    + The code is performing the following\n",
    " $$\\mathbf{logA} = \\left[\\begin{array}\n",
    "{rrr}\n",
    "\\log(1) & log(3) & log(2) \\\\\n",
    "log(2) & log(1) & log(3) \\\\\n",
    "log(3) & log(2) & log(1)\n",
    "\\end{array}\\right]\n",
    "$$\n",
    "    + A permutation matrix $A_p$ is a matrix obtained by permuting the rows of an $n\\times n$ identity matrix according to some permutation of the numbers $1$ to $n$. \n",
    "    + So, $logA\\times A_p$ is the matrix obtained by permuting the rows of $logA$\n",
    "    + There are therefore $n!$ permutation matrices of size $n$, where $n!$ is a factorial.\n",
    "    + So In 1000 iteration, each permutaion matrix is getting generated approximately $1000/n!$ times. \n",
    "    + Trace of matrix is the sum of the diagonal elements of the matrix\n",
    "    + According to the code, $trace\\_mod = e^{trace(logA\\times A_p)} $\n",
    "    + A permutation matrix is nonsingular, and the determinant $det(A_p)$ is always $\\pm 1$ with probability $0.5$\n",
    "    + If $det(A_p) = 1$ , then $trace\\_mod = 1^3 or\\ 2^3 or\\ 3^3$ and $sign\\_permutaion =1$ .\n",
    "    + If $det(A_p) = -1$, then $trace\\_mod = 1\\times 2\\times 3$ and $sign\\_permutaion =-1$ \n",
    "    + Therefore, \n",
    "        + $\\begin{aligned} \n",
    "current\\_value \\approx 1000/n!(1^3)+1000/n!(1^3)+1000/n!(1^3)-3\\times 1000/n!(1\\times 2\\times 3)\\\\\n",
    "current\\_value \\approx 1000/n!(1^3 + 2^3 + 3^3 - 3\\times (1\\times 2\\times 3)) \n",
    "\\end{aligned}$\n",
    "    \n",
    "    + $a\\_step2 = current\\_value\\times n! / 1000 $\n",
    "\n",
    " * Is this a property of circulant matrices, or would this finding extend to arbitrary matrices over the real numbers?\n",
    "      + Yes. This is the property can be extended to other matrices also"
   ]
  },
  {
   "cell_type": "code",
   "execution_count": 12,
   "metadata": {},
   "outputs": [
    {
     "name": "stdout",
     "output_type": "stream",
     "text": [
      "determinant function is multiplicative:  det(AB)= det(A)det(B) = -264\n"
     ]
    }
   ],
   "source": [
    "#Build code to explore the fact that the determinant function is multiplicative:  det(AB)=det(A)det(B) .\n",
    "from scipy.linalg import det\n",
    "from numpy import random\n",
    "import numpy as np\n",
    "my_matrixA = np.random.randint(1,5,(4,4))\n",
    "my_matrixB = np.random.randint(1,5,(4,4))\n",
    "matrix_prodAB = np.dot(my_matrixA, my_matrixB)\n",
    "detA = det(my_matrixA)\n",
    "detB = det(my_matrixB)\n",
    "detAB = round(detA*detB)\n",
    "det_prodAB =round(det(matrix_prodAB))\n",
    "\n",
    "\n",
    "if(det_prodAB==detAB):\n",
    "    print(\"determinant function is multiplicative:  det(AB)= det(A)det(B) = \"+str(det_prodAB))\n",
    "else:\n",
    "    print(\"determinant function is NOT multiplicative:  det(AB) = \"+str(det_prodAB)+\", det(A)*det(B) = \"+str(detAB))\n"
   ]
  },
  {
   "cell_type": "code",
   "execution_count": 13,
   "metadata": {},
   "outputs": [
    {
     "name": "stdout",
     "output_type": "stream",
     "text": [
      "[[ 0.  0.  1.]\n",
      " [ 1.  0.  0.]\n",
      " [ 0.  1.  0.]]\n",
      "1.0\n",
      "27.0\n",
      "3\n",
      "162.0\n"
     ]
    }
   ],
   "source": [
    "import math\n",
    "from numpy import random\n",
    "\n",
    "def my_log(x):\n",
    "    return math.log(x)\n",
    "\n",
    "my_vec_log = np.vectorize(my_log)\n",
    "\n",
    "A_step1 = my_vec_log(my_circ_matrix) # Numpy already offers a vectorized natural logarithm.\n",
    "# A_step1 = np.log(matrix_prod2)\n",
    "\n",
    "max_index = 1\n",
    "my_identity = np.identity(len(A_step1))\n",
    "current_value = 0.0\n",
    "for my_index in range(0, max_index):\n",
    "    permutation_matrix = random.permutation(my_identity)\n",
    "    np.set_printoptions(suppress=True)\n",
    "    print(permutation_matrix)\n",
    "    sign_permuation = det(permutation_matrix)\n",
    "    print(sign_permuation)\n",
    "    current_value += sign_permuation*(np.exp(np.trace(np.dot(A_step1, permutation_matrix))))\n",
    "    print(current_value)\n",
    "length=len(A_step1)\n",
    "a_step2 = math.factorial(len(A_step1)) * current_value / max_index\n",
    "print(length)\n",
    "print(a_step2)"
   ]
  },
  {
   "cell_type": "code",
   "execution_count": 19,
   "metadata": {},
   "outputs": [
    {
     "name": "stdout",
     "output_type": "stream",
     "text": [
      "-6.252\n"
     ]
    }
   ],
   "source": [
    "import math\n",
    "from numpy import random\n",
    "\n",
    "def my_log(x):\n",
    "    return math.log(x)\n",
    "\n",
    "my_vec_log = np.vectorize(my_log)\n",
    "my_matrixC = np.random.randint(1,5,(3,3))\n",
    "A_step1 = my_vec_log(my_matrixA) # Numpy already offers a vectorized natural logarithm.\n",
    "# A_step1 = np.log(matrix_prod2)\n",
    "\n",
    "max_index = 1000\n",
    "my_identity = np.identity(len(A_step1))\n",
    "current_value = 0.0\n",
    "for my_index in range(0, max_index):\n",
    "    permutation_matrix = random.permutation(my_identity)\n",
    "    sign_permuation = det(permutation_matrix)\n",
    "    current_value += sign_permuation*(np.exp(np.trace(np.dot(A_step1, permutation_matrix))))\n",
    "a_step2 = math.factorial(len(A_step1)) * current_value / max_index\n",
    "print(a_step2)"
   ]
  },
  {
   "cell_type": "code",
   "execution_count": 20,
   "metadata": {},
   "outputs": [
    {
     "data": {
      "text/plain": [
       "3.999999999999999"
      ]
     },
     "execution_count": 20,
     "metadata": {},
     "output_type": "execute_result"
    }
   ],
   "source": [
    "from scipy.linalg import det\n",
    "det(my_matrixC)"
   ]
  },
  {
   "cell_type": "code",
   "execution_count": null,
   "metadata": {
    "collapsed": true
   },
   "outputs": [],
   "source": []
  }
 ],
 "metadata": {
  "kernelspec": {
   "display_name": "Python 3",
   "language": "python",
   "name": "python3"
  },
  "language_info": {
   "codemirror_mode": {
    "name": "ipython",
    "version": 3
   },
   "file_extension": ".py",
   "mimetype": "text/x-python",
   "name": "python",
   "nbconvert_exporter": "python",
   "pygments_lexer": "ipython3",
   "version": "3.6.1"
  }
 },
 "nbformat": 4,
 "nbformat_minor": 2
}
