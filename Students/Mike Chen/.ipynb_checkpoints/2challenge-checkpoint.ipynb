{
 "cells": [
  {
   "cell_type": "markdown",
   "metadata": {},
   "source": [
    "# Challenge 2\n",
    "An important aspect of pragmatic vector space methods is the ability to handle vectors and matrices.\n",
    "A large collection of linear algebra functions is available in [SciPy.linalg](https://docs.scipy.org/doc/scipy/reference/linalg.html).\n",
    "These functions can be employed in conjunction with the tools available in [NumPy](http://www.numpy.org/).\n",
    "We note that the main object in NumPy is the homogeneous multidimensional array."
   ]
  },
  {
   "cell_type": "markdown",
   "metadata": {},
   "source": [
    "## Matrix\n",
    "Qusetion 1 : Are circulant matrices always diagonalized by the discrete Fourier transform matrix and its inverse?\n",
    "\n",
    "A : Yes , I will show that by giving some examples that doing the operation as (Z) dot (circulant matrix) dot (Z^(-1))."
   ]
  },
  {
   "cell_type": "code",
   "execution_count": 8,
   "metadata": {},
   "outputs": [
    {
     "name": "stdout",
     "output_type": "stream",
     "text": [
      "******************************\n",
      "Original circulant Matrix :\n",
      "[[1 5 3 2]\n",
      " [2 1 5 3]\n",
      " [3 2 1 5]\n",
      " [5 3 2 1]]\n",
      "******************************\n",
      "Operate by Z * circulant matrix * Z^(-1):\n",
      "[[ 11.-0.j  -0.+0.j   0.-0.j  -0.+0.j]\n",
      " [ -0.-0.j  -2.+3.j   0.+0.j  -0.-0.j]\n",
      " [  0.-0.j  -0.-0.j  -3.-0.j  -0.+0.j]\n",
      " [  0.-0.j   0.+0.j   0.-0.j  -2.-3.j]]\n",
      "******************************\n"
     ]
    }
   ],
   "source": [
    "from scipy.linalg import circulant , dft , inv\n",
    "from numpy import dot , set_printoptions\n",
    "set_printoptions(suppress=True)\n",
    "Matrix_dft = dft(4)\n",
    "Matrix_invDft = inv(Matrix_dft)\n",
    "Matrix_circulant = circulant([1 , 2 , 3 , 5])\n",
    "Matrix_ZCiZ = dot(Matrix_dft,Matrix_circulant)\n",
    "Matrix_ZCiZ = dot(Matrix_ZCiZ,Matrix_invDft)\n",
    "print '******************************'\n",
    "print 'Original circulant Matrix :'\n",
    "print Matrix_circulant\n",
    "print '******************************'\n",
    "print 'Operate by Z * circulant matrix * Z^(-1):'\n",
    "print Matrix_ZCiZ\n",
    "print '******************************'"
   ]
  },
  {
   "cell_type": "markdown",
   "metadata": {},
   "source": [
    "\n",
    "Question 2 : Are product of circulant matrices (of a same size) always circulant matrices?\n",
    "\n",
    "A : Yes , I will also giving some example to illustrate that."
   ]
  },
  {
   "cell_type": "code",
   "execution_count": 9,
   "metadata": {},
   "outputs": [
    {
     "name": "stdout",
     "output_type": "stream",
     "text": [
      "******************************\n",
      "Dot the circulant matrix twice.\n",
      "[[140  88 120 136]\n",
      " [136 140  88 120]\n",
      " [120 136 140  88]\n",
      " [ 88 120 136 140]]\n",
      "******************************\n",
      "Dot the circulant matrix twice again.\n",
      "[[57936 57280 59840 59200]\n",
      " [59200 57936 57280 59840]\n",
      " [59840 59200 57936 57280]\n",
      " [57280 59840 59200 57936]]\n",
      "******************************\n"
     ]
    }
   ],
   "source": [
    "from scipy.linalg import circulant \n",
    "from numpy import dot\n",
    "Matrix_circulant = circulant([1 , 5 , 7 , 9])\n",
    "Matrix_circulant_s2 = dot(Matrix_circulant,Matrix_circulant)\n",
    "Matrix_circulant_s4 = dot(Matrix_circulant_s2,Matrix_circulant_s2)\n",
    "print '******************************'\n",
    "print 'Dot the circulant matrix twice.'\n",
    "print Matrix_circulant_s2\n",
    "print '******************************'\n",
    "print 'Dot the circulant matrix twice again.'\n",
    "print Matrix_circulant_s4\n",
    "print '******************************'"
   ]
  },
  {
   "cell_type": "markdown",
   "metadata": {},
   "source": [
    "Question 3 : Do all pairs of circulant matrices commute under matrix multiplication?\n",
    "\n",
    "A : We can prrof by showing that A dot B = B dot A"
   ]
  },
  {
   "cell_type": "code",
   "execution_count": 10,
   "metadata": {},
   "outputs": [
    {
     "name": "stdout",
     "output_type": "stream",
     "text": [
      "******************************\n",
      "Matrix_A dot Matrix_B\n",
      "[[120  91  60  89]\n",
      " [ 89 120  91  60]\n",
      " [ 60  89 120  91]\n",
      " [ 91  60  89 120]]\n",
      "******************************\n",
      "Matrix_B dot Matrix_A\n",
      "[[120  91  60  89]\n",
      " [ 89 120  91  60]\n",
      " [ 60  89 120  91]\n",
      " [ 91  60  89 120]]\n",
      "******************************\n"
     ]
    }
   ],
   "source": [
    "from scipy.linalg import circulant \n",
    "from numpy import dot\n",
    "Matrix_A = circulant([1 , 2 , 3 , 9 ])\n",
    "Matrix_B = circulant([5 , 10 , 7 , 2 ])\n",
    "AB = dot(Matrix_A,Matrix_B)\n",
    "BA = dot(Matrix_B,Matrix_A)\n",
    "print '******************************'\n",
    "print 'Matrix_A dot Matrix_B'\n",
    "print AB\n",
    "print '******************************'\n",
    "print 'Matrix_B dot Matrix_A'\n",
    "print BA\n",
    "print '******************************'"
   ]
  },
  {
   "cell_type": "markdown",
   "metadata": {},
   "source": [
    "## Determine"
   ]
  },
  {
   "cell_type": "code",
   "execution_count": 9,
   "metadata": {},
   "outputs": [
    {
     "name": "stdout",
     "output_type": "stream",
     "text": [
      "Estimate value : 18.253800\n",
      "Determine value : 18.000000\n"
     ]
    }
   ],
   "source": [
    "import math\n",
    "import numpy as np\n",
    "from numpy import random\n",
    "\n",
    "def my_log(x):\n",
    "    return math.log(x)\n",
    "my_vec_log = np.vectorize(my_log)\n",
    "A_step1 = my_vec_log(my_circ_matrix) # Numpy already offers a vectorized natural logarithm.\n",
    "# A_step1 = np.log(matrix_prod2)\n",
    "max_index = 100000\n",
    "my_identity = np.identity(len(A_step1))\n",
    "current_value = 0.0\n",
    "for my_index in range(0, max_index):\n",
    "    permutation_matrix = random.permutation(my_identity)\n",
    "    sign_permuation = det(permutation_matrix)\n",
    "    current_value += sign_permuation*(np.exp(np.trace(np.dot(A_step1, permutation_matrix))))\n",
    "a_step2 = math.factorial(len(A_step1)) * current_value / max_index\n",
    "print ('Estimate value : %f' %a_step2)\n",
    "print ('Determine value : %f' %det(circulant([1,2,3])))"
   ]
  },
  {
   "cell_type": "markdown",
   "metadata": {},
   "source": [
    "Question 1 : Go through the code and provide a compelling explain explanation of why these numbers are close."
   ]
  },
  {
   "cell_type": "markdown",
   "metadata": {},
   "source": [
    "Purpose of the program : Getting the approxiamte value of det(Matrix) by probability.\n",
    "\n",
    "Step 1 : Let every elements of the matrix operate by log, this step wants to change the matrix multiplication into addition.\n",
    "\n",
    "Step 2 : Shuffle the Identity matrix which has the same dimension with the original matrix and use the matrix that we get            from Step one to dot with the shuffled Identity matrix, This step use to help us prepare to let this method has the          same function as determination.\n",
    "\n",
    "Step 3 : Next we do trace and exp to the matrix ,this step wants to get elements whitch are equal to the dimension of the            orginal matrix and each of them has to be distinct, so it can has the same function as we do determine, and also            turn it property form addition back to mutiplication by doing exp to the elements.\n",
    "\n",
    "Step 4 : By C(n,1)*C(n-1,1)...*C(1,1) we can know that, we have this more comination of the elements and each of them appear          under the same probability so we have to divide them by C(n,1)*C(n-1,1)...*C(1,1) \n",
    "\n",
    "Step 5 : Multiply the result by C(n,1)*C(n-1,1)...*C(1,1) and divided the times that we do this method to it. "
   ]
  },
  {
   "cell_type": "markdown",
   "metadata": {},
   "source": [
    "Question 2 : Is this a property of circulant matrices, or would this finding extend to arbitrary matrices over the real numbers?"
   ]
  },
  {
   "cell_type": "markdown",
   "metadata": {},
   "source": [
    "A : It's not the property of circulant matrices, it can extend to arbitrary matrices over the real numbers , because by shuffleing the indentity matrix with dim(original matrix), we will get all the possible combination of the elements which has the same effect as we do determination to a matrix"
   ]
  },
  {
   "cell_type": "markdown",
   "metadata": {},
   "source": [
    "### Tasks\n",
    " * Build code to explore the fact that the determinant function is multiplicative: $\\mathrm{det}(AB) = \\mathrm{det}(A) \\mathrm{det}(B)$."
   ]
  },
  {
   "cell_type": "code",
   "execution_count": 10,
   "metadata": {},
   "outputs": [
    {
     "name": "stdout",
     "output_type": "stream",
     "text": [
      "*****************************************************\n",
      "Random dimension of the matrix : 3\n",
      "*****************************************************\n",
      "Random Matrix A :\n",
      "[[ 0.60364867  0.70920838  0.53951521]\n",
      " [ 0.68493291  0.98837767  0.08599065]\n",
      " [ 0.18745009  0.19025136  0.40338544]]\n",
      "Random Matrix B :\n",
      "[[ 0.80277941  0.74601589  0.87393502]\n",
      " [ 0.89619474  0.11328833  0.56809312]\n",
      " [ 0.06785863  0.83054872  0.30633491]]\n",
      "*****************************************************\n",
      "Determin of Matrix A : 0.016628\n",
      "Determin of Matrix A : 0.116817\n",
      "Det(AB) : 0.001942\n",
      "Det(A) * Det(B) : 0.001942\n"
     ]
    }
   ],
   "source": [
    "from scipy.linalg import det \n",
    "from numpy import random ,dot\n",
    "\n",
    "dim = random.randint(3,5)\n",
    "Matrix_A = random.rand(dim,dim)\n",
    "Matrix_B = random.rand(dim,dim)\n",
    "det_Matrix_A = det(Matrix_A)\n",
    "det_Matrix_B = det(Matrix_B)\n",
    "det_Matrix_AB = det_Matrix_A * det_Matrix_B\n",
    "det_Matrix_A_dot_B = det(dot(Matrix_A,Matrix_B)) \n",
    "print '*****************************************************'\n",
    "print ('Random dimension of the matrix : %d'  %dim)\n",
    "print '*****************************************************'\n",
    "print 'Random Matrix A :'\n",
    "print Matrix_A\n",
    "print 'Random Matrix B :'\n",
    "print Matrix_B\n",
    "print '*****************************************************'\n",
    "print ('Determin of Matrix A : %f' %det_Matrix_A)\n",
    "print ('Determin of Matrix A : %f' %det_Matrix_B)\n",
    "print ('Det(AB) : %f' %det_Matrix_A_dot_B)\n",
    "print ('Det(A) * Det(B) : %f' %det_Matrix_AB)"
   ]
  }
 ],
 "metadata": {
  "kernelspec": {
   "display_name": "Python 2",
   "language": "python",
   "name": "python2"
  },
  "language_info": {
   "codemirror_mode": {
    "name": "ipython",
    "version": 2
   },
   "file_extension": ".py",
   "mimetype": "text/x-python",
   "name": "python",
   "nbconvert_exporter": "python",
   "pygments_lexer": "ipython2",
   "version": "2.7.13"
  }
 },
 "nbformat": 4,
 "nbformat_minor": 2
}
