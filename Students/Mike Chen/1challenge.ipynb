{
 "cells": [
  {
   "cell_type": "markdown",
   "metadata": {},
   "source": [
    "# Challenge 1\n",
    "\n",
    "## SciPy Tutorial\n",
    "Pertinent information about [SciPy](https://docs.scipy.org/) and NumPy is available in the [SciPy Tutorial](https://docs.scipy.org/doc/scipy/reference/tutorial/index.html).\n",
    " * Read [Introduction](https://docs.scipy.org/doc/scipy/reference/tutorial/general.html)\n",
    " * Read [Basic functions](https://docs.scipy.org/doc/scipy/reference/tutorial/basic.html)\n",
    " * Read [Optimization](https://docs.scipy.org/doc/scipy/reference/tutorial/optimize.html)\n",
    " \n",
    "Consider the function defined below.\n",
    " * Plot the function using [matplotlib](https://matplotlib.org/)"
   ]
  },
  {
   "cell_type": "code",
   "execution_count": null,
   "metadata": {
    "collapsed": true
   },
   "outputs": [],
   "source": [
    "import numpy as np\n",
    "import matplotlib.pyplot as plt"
   ]
  },
  {
   "cell_type": "code",
   "execution_count": null,
   "metadata": {
    "collapsed": true
   },
   "outputs": [],
   "source": [
    "def g(t):\n",
    "    return 1 - (np.exp(-2*t) * np.cos(np.pi*t))\n",
    "\n",
    "t1 = np.arange(0.0, 2.0, 0.01)\n",
    "\n",
    "plt.figure(1)\n",
    "plt.plot(t1, g(t1), 'k')\n",
    "plt.show()"
   ]
  },
  {
   "cell_type": "markdown",
   "metadata": {},
   "source": [
    "Consider the class of functions of the form $f(t) = 1 - e^{-at}$ where $a$ is a free parameter.\n",
    " * Find the value of $a$ that minimizes the $L_2$ norm between $g(t)$ and $f(t)$ over the interval $[0, 2]$\n",
    " * Computer the residual mean squared error\n",
    " * Explain how you obtained $a$"
   ]
  },
  {
   "cell_type": "code",
   "execution_count": 3,
   "metadata": {
    "scrolled": true
   },
   "outputs": [
    {
     "name": "stdout",
     "output_type": "stream",
     "text": [
      "When a = 4.603000, L2 norm has the minimun value 0.150459 and the RMSE is : 0.011319\n"
     ]
    },
    {
     "data": {
      "image/png": "[encoded data removed]",
      "text/plain": [
       "<matplotlib.figure.Figure at 0x69bc1d0>"
      ]
     },
     "metadata": {},
     "output_type": "display_data"
    },
    {
     "data": {
      "image/png": "[encoded data removed]",
      "text/plain": [
       "<matplotlib.figure.Figure at 0x7de3320>"
      ]
     },
     "metadata": {},
     "output_type": "display_data"
    }
   ],
   "source": [
    "import numpy as np\n",
    "import matplotlib.pyplot as plt\n",
    "\n",
    "#*****************set variable*********************\n",
    "a_range = np.arange(0.0, 10.0, 0.001) \n",
    "X_range = np.arange(0.0, 2.0, 0.001)\n",
    "minx = 1000\n",
    "x_bar = 0\n",
    "#*****************def function*********************\n",
    "def g(t) :\n",
    "    return 1 - (np.exp(-2*t) * np.cos(np.pi*t))\n",
    "def f(t,a) :\n",
    "    return 1 - np.exp(-a*t)\n",
    "#*****************def integrate********************\n",
    "def integrate(a) :\n",
    "    value = 0\n",
    "    for dx in X_range :\n",
    "        value = value + (g(dx)-f(dx,a))**2*0.001\n",
    "    return value**0.5\n",
    "#*****************Main Function********************\n",
    "for a_index in a_range :\n",
    "    if minx > integrate(a_index) :\n",
    "        minx = integrate(a_index)\n",
    "        a_final = a_index\n",
    "for x in X_range :\n",
    "        x_bar = x_bar + (g(x) - f(x,a_final))**2\n",
    "MSRE = x_bar/len(X_range)\n",
    "#*****************LOG******************************\n",
    "print (\"When a = %f, L2 norm has the minimun value %f and the RMSE is : %f\" % (a_final,minx,MSRE))\n",
    "plt.figure(1)\n",
    "plt.xlabel('time')\n",
    "plt.ylabel('value of function')\n",
    "plt.plot(X_range, g(X_range), 'b')\n",
    "plt.plot(X_range, f(X_range,a_final), 'b')\n",
    "plt.figure(2)\n",
    "plt.xlabel('a')\n",
    "plt.ylabel('value of L2 norm')\n",
    "plt.plot(a_range, integrate(a_range), 'b')\n",
    "plt.show()"
   ]
  },
  {
   "cell_type": "markdown",
   "metadata": {},
   "source": [
    "Steps for finding a :\n",
    "1. Test a in a finite value and bring it into L2 norm\n",
    "2. Find the minimun of L2 norm and it's corresponding a"
   ]
  },
  {
   "cell_type": "code",
   "execution_count": null,
   "metadata": {
    "collapsed": true
   },
   "outputs": [],
   "source": []
  }
 ],
 "metadata": {
  "kernelspec": {
   "display_name": "Python 2",
   "language": "python",
   "name": "python2"
  },
  "language_info": {
   "codemirror_mode": {
    "name": "ipython",
    "version": 2
   },
   "file_extension": ".py",
   "mimetype": "text/x-python",
   "name": "python",
   "nbconvert_exporter": "python",
   "pygments_lexer": "ipython2",
   "version": "2.7.13"
  }
 },
 "nbformat": 4,
 "nbformat_minor": 2
}
