{
 "cells": [
  {
   "cell_type": "markdown",
   "metadata": {},
   "source": [
    "# Challenge 1\n",
    "\n",
    "## SciPy Tutorial\n",
    "Pertinent information about [SciPy](https://docs.scipy.org/) and NumPy is available in the [SciPy Tutorial](https://docs.scipy.org/doc/scipy/reference/tutorial/index.html).\n",
    " * Read [Introduction](https://docs.scipy.org/doc/scipy/reference/tutorial/general.html)\n",
    " * Read [Basic functions](https://docs.scipy.org/doc/scipy/reference/tutorial/basic.html)\n",
    " * Read [Optimization](https://docs.scipy.org/doc/scipy/reference/tutorial/optimize.html)\n",
    " \n",
    "Consider the function defined below.\n",
    " * Plot the function using [matplotlib](https://matplotlib.org/)"
   ]
  },
  {
   "cell_type": "code",
   "execution_count": null,
   "metadata": {
    "collapsed": true
   },
   "outputs": [],
   "source": [
    "import numpy as np\n",
    "import matplotlib.pyplot as plt"
   ]
  },
  {
   "cell_type": "code",
   "execution_count": null,
   "metadata": {
    "collapsed": true
   },
   "outputs": [],
   "source": [
    "def g(t):\n",
    "    return 1 - (np.exp(-2*t) * np.cos(np.pi*t))\n",
    "\n",
    "t1 = np.arange(0.0, 2.0, 0.01)\n",
    "\n",
    "plt.figure(1)\n",
    "plt.plot(t1, g(t1), 'k')\n",
    "plt.show()"
   ]
  },
  {
   "cell_type": "markdown",
   "metadata": {},
   "source": [
    "Consider the class of functions of the form $f(t) = 1 - e^{-at}$ where $a$ is a free parameter.\n",
    " * Find the value of $a$ that minimizes the $L_2$ norm between $g(t)$ and $f(t)$ over the interval $[0, 2]$\n",
    " * Computer the residual mean squared error\n",
    " * Explain how you obtained $a$"
   ]
  },
  {
   "cell_type": "code",
   "execution_count": 1,
   "metadata": {
    "scrolled": true
   },
   "outputs": [
    {
     "name": "stdout",
     "output_type": "stream",
     "text": [
      "When a = 4.600, L2 norm has the minimun value 21.277 and the RMSE is : 0.011\n"
    },
    {
     "data": {
      "image/png": "iVBORw0KGgoAAAANSUhEUgAAAYUAAAEKCAYAAAD9xUlFAAAABHNCSVQICAgIfAhkiAAAAAlwSFlz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\nrkJggg==\n",
      "text/plain": [
       "<matplotlib.figure.Figure at 0x5efdd68>"
      ]
     },
     "metadata": {},
     "output_type": "display_data"
    },
    {
     "data": {
      "image/png": "iVBORw0KGgoAAAANSUhEUgAAAYgAAAEKCAYAAAAIO8L1AAAABHNCSVQICAgIfAhkiAAAAAlwSFlz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\nrgAAAABJRU5ErkJggg==\n",
      "text/plain": [
       "<matplotlib.figure.Figure at 0x26ce240>"
      ]
     },
     "metadata": {},
     "output_type": "display_data"
    }
   ],
   "source": [
    "import numpy as np\n",
    "import matplotlib.pyplot as plt\n",
    "\n",
    "#*****************set variable*********************\n",
    "a_range = np.arange(0.0, 20.0, 0.01) \n",
    "X_range = np.arange(0.0, 2.0, 0.01)\n",
    "minx = 1000\n",
    "x_bar = 0\n",
    "\n",
    "#*****************def function*********************\n",
    "def g(t) :\n",
    "    return 1 - (np.exp(-2*t) * np.cos(np.pi*t))\n",
    "def f(t,a) :\n",
    "    return 1 - np.exp(-a*t)\n",
    "#*****************def integrate********************\n",
    "def integrate(a) :\n",
    "    value = 0\n",
    "    for dx in X_range :\n",
    "        value = value + (g(dx)-f(dx,a))**2*len(X_range)\n",
    "    return value**0.5\n",
    "#*****************Main Function********************\n",
    "for a_index in a_range :\n",
    "    if minx > integrate(a_index) :\n",
    "        minx = integrate(a_index)\n",
    "        a_final = a_index\n",
    "for x in X_range :\n",
    "        x_bar = x_bar + (g(x) - f(x,a_final))**2\n",
    "MSRE = x_bar/len(X_range)\n",
    "#*****************LOG******************************\n",
    "print (\"When a = %.3f, L2 norm has the minimun value %.3f and the RMSE is : %.3f\" % (a_final,minx,MSRE))\n",
    "plt.figure(1)\n",
    "plt.xlabel('time')\n",
    "plt.ylabel('value of function')\n",
    "plt.plot(X_range, g(X_range), 'b')\n",
    "plt.plot(X_range, f(X_range,a_final), 'b')\n",
    "plt.figure(2)\n",
    "plt.xlabel('a')\n",
    "plt.ylabel('value of L2 norm')\n",
    "plt.plot(a_range, integrate(a_range), 'b')\n",
    "plt.show()"
   ]
  },
  {
   "cell_type": "markdown",
   "metadata": {},
   "source": [
    "Steps for finding a :\n",
    "1. Test a in a finite value and bring it into L2 norm\n",
    "2. Find the minimun of L2 norm and it's corresponding a"
   ]
  },
  {
   "cell_type": "code",
   "execution_count": null,
   "metadata": {
    "collapsed": true
   },
   "outputs": [],
   "source": []
  }
 ],
 "metadata": {
  "kernelspec": {
   "display_name": "Python 2",
   "language": "python",
   "name": "python2"
  },
  "language_info": {
   "codemirror_mode": {
    "name": "ipython",
    "version": 2
   },
   "file_extension": ".py",
   "mimetype": "text/x-python",
   "name": "python",
   "nbconvert_exporter": "python",
   "pygments_lexer": "ipython2",
   "version": "2.7.13"
  }
 },
 "nbformat": 4,
 "nbformat_minor": 2
}
