{
 "cells": [
  {
   "cell_type": "markdown",
   "metadata": {},
   "source": [
    "# Challenge 1\n",
    "\n",
    "## SciPy Tutorial\n",
    "Pertinent information about [SciPy](https://docs.scipy.org/) and NumPy is available in the [SciPy Tutorial](https://docs.scipy.org/doc/scipy/reference/tutorial/index.html).\n",
    " * Read [Introduction](https://docs.scipy.org/doc/scipy/reference/tutorial/general.html)\n",
    " * Read [Basic functions](https://docs.scipy.org/doc/scipy/reference/tutorial/basic.html)\n",
    " * Read [Optimization](https://docs.scipy.org/doc/scipy/reference/tutorial/optimize.html)\n",
    " \n",
    "Consider the function defined below.\n",
    " * Plot the function using [matplotlib](https://matplotlib.org/)"
   ]
  },
  {
   "cell_type": "code",
   "execution_count": 89,
   "metadata": {
    "scrolled": true
   },
   "outputs": [
    {
     "name": "stdout",
     "output_type": "stream",
     "text": [
      "4.6034675781\n",
      "[  1.50459439e-01   7.55017756e-05]\n"
     ]
    },
    {
     "data": {
      "image/png": "[encoded data removed]",
      "text/plain": [
       "<matplotlib.figure.Figure at 0x23181dc3668>"
      ]
     },
     "metadata": {},
     "output_type": "display_data"
    }
   ],
   "source": [
    "import numpy as np\n",
    "import matplotlib.pyplot as plt\n",
    "from scipy.integrate import quad\n",
    "from scipy.optimize import minimize_scalar\n",
    "\n",
    "def g(t): #Function g(t), which is given.\n",
    "    return 1 - (np.exp(-2*t) * np.cos(np.pi*t))\n",
    "\n",
    "def f(a,t): #Function f(a,t), which is a family in a, to be optimized with respect to L2 norm from g(t)\n",
    "    return 1 - (np.exp(-1*a*t))\n",
    "\n",
    "t1 = np.arange(0.0, 2.0, 0.01) #Time variable to compute integration, and to draw the plots.\n",
    "\n",
    "def integrand(a):  #This function computes the L2 norm between f and g in [0,2] for an argument a.\n",
    " ## Unable to call this from minimize_scalar, so computing integral manually:   quad((f(a,t)-g(t))**2,0,2)\n",
    "    sum=0\n",
    "    for t in (t1):\n",
    "        y = (f(a,t)-g(t))**2\n",
    "        sum = sum + y*0.01\n",
    "    sum = np.sqrt(sum)\n",
    "    return sum\n",
    "    ##return quad(lambda t: f(a,t)-g(t))**2,0,2)\n",
    "\n",
    "\n",
    "optResult = minimize_scalar(integrand)   ## a that minimizes the L2 norm between f and g\n",
    "amin = optResult.x\n",
    "print (amin)\n",
    "\n",
    "## The residual mean squared error (RMS) between [0,2]\n",
    "RMS = np.sqrt(quad(lambda t: (f(amin,t)-g(t))**2,0,2))\n",
    "print (RMS)\n",
    "\n",
    "fig = plt.figure(1)\n",
    "plt.plot(t1, g(t1), 'r')\n",
    "plt.plot(t1,f(amin,t1),'g')\n",
    "plt.xlabel('t')\n",
    "plt.ylabel('functions')\n",
    "plt.show()"
   ]
  },
  {
   "cell_type": "markdown",
   "metadata": {},
   "source": [
    "Consider the class of functions of the form $f(t) = 1 - e^{-at}$ where $a$ is a free parameter.\n",
    " * Find the value of $a$ that minimizes the $L_2$ norm between $g(t)$ and $f(t)$ over the interval $[0, 2]$\n",
    " * Computer the residual mean squared error\n",
    " * Explain how you obtained $a$"
   ]
  },
  {
   "cell_type": "code",
   "execution_count": null,
   "metadata": {
    "collapsed": true
   },
   "outputs": [],
   "source": [
    "The Solution is as follows: The L2 norm between f and g in [0,2] is given as sqrt(\\int_{0}^{2} (f(a,t)-g(t))^2 dt). I minimized this using the minimize_scalar function in scipy. The minminizer $a$ is obtained as the return value from the function. With this, the residual mean squared error is computed."
   ]
  },
  {
   "cell_type": "code",
   "execution_count": null,
   "metadata": {
    "collapsed": true
   },
   "outputs": [],
   "source": [
    "The solutions are: The min a = 4.6034675781, and the RMS is 1.50459439e-01."
   ]
  }
 ],
 "metadata": {
  "kernelspec": {
   "display_name": "Python 3",
   "language": "python",
   "name": "python3"
  },
  "language_info": {
   "codemirror_mode": {
    "name": "ipython",
    "version": 3
   },
   "file_extension": ".py",
   "mimetype": "text/x-python",
   "name": "python",
   "nbconvert_exporter": "python",
   "pygments_lexer": "ipython3",
   "version": "3.6.1"
  }
 },
 "nbformat": 4,
 "nbformat_minor": 2
}
