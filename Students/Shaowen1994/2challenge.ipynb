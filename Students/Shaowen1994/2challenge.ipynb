{
 "cells": [
  {
   "cell_type": "markdown",
   "metadata": {},
   "source": [
    "# Challenge 2\n",
    "An important aspect of pragmatic vector space methods is the ability to handle vectors and matrices.\n",
    "A large collection of linear algebra functions is available in [SciPy.linalg](https://docs.scipy.org/doc/scipy/reference/linalg.html).\n",
    "These functions can be employed in conjunction with the tools available in [NumPy](http://www.numpy.org/).\n",
    "We note that the main object in NumPy is the homogeneous multidimensional array."
   ]
  },
  {
   "cell_type": "markdown",
   "metadata": {},
   "source": [
    "## Matrix\n",
    "We begin by creating a simple matrix.\n",
    "One possible approach to complete this task is to use ```scipy.linalg.circulant(c)```."
   ]
  },
  {
   "cell_type": "code",
   "execution_count": 1,
   "metadata": {},
   "outputs": [
    {
     "name": "stdout",
     "output_type": "stream",
     "text": [
      "[[1 3 2]\n",
      " [2 1 3]\n",
      " [3 2 1]]\n"
     ]
    }
   ],
   "source": [
    "from scipy.linalg import circulant\n",
    "my_circ_matrix = circulant([1, 2, 3])\n",
    "print(my_circ_matrix)"
   ]
  },
  {
   "cell_type": "markdown",
   "metadata": {},
   "source": [
    "Alternatively, you can construct the familiar discrete Fourier transform matrix with ```scipy.linalg.dft(n)```."
   ]
  },
  {
   "cell_type": "code",
   "execution_count": 3,
   "metadata": {},
   "outputs": [
    {
     "name": "stdout",
     "output_type": "stream",
     "text": [
      "[[ 1.0+0.j         1.0+0.j         1.0+0.j       ]\n",
      " [ 1.0+0.j        -0.5-0.8660254j -0.5+0.8660254j]\n",
      " [ 1.0+0.j        -0.5+0.8660254j -0.5-0.8660254j]]\n"
     ]
    }
   ],
   "source": [
    "from scipy.linalg import dft\n",
    "my_dft_matrix = dft(3)\n",
    "print(my_dft_matrix)"
   ]
  },
  {
   "cell_type": "markdown",
   "metadata": {},
   "source": [
    "The inverse of a matrix can be computed using ```scipy.linalg.inv(a)```."
   ]
  },
  {
   "cell_type": "code",
   "execution_count": 4,
   "metadata": {},
   "outputs": [
    {
     "name": "stdout",
     "output_type": "stream",
     "text": [
      "[[ 0.33333333 +6.21949886e-17j  0.33333333 -6.68383741e-18j\n",
      "   0.33333333 -5.55111512e-17j]\n",
      " [ 0.33333333 +5.55111512e-17j -0.16666667 +2.88675135e-01j\n",
      "  -0.16666667 -2.88675135e-01j]\n",
      " [ 0.33333333 -1.11022302e-16j -0.16666667 -2.88675135e-01j\n",
      "  -0.16666667 +2.88675135e-01j]]\n"
     ]
    }
   ],
   "source": [
    "from scipy.linalg import inv\n",
    "my_idft_matrix = inv(my_dft_matrix)\n",
    "print(my_idft_matrix)"
   ]
  },
  {
   "cell_type": "markdown",
   "metadata": {},
   "source": [
    "The operation ```numpy.dot(a, b)``` computes the dot product of two arrays.\n",
    "For 2-D arrays it is equivalent to matrix multiplication, and for 1-D arrays to inner product of vectors (without complex conjugation)."
   ]
  },
  {
   "cell_type": "code",
   "execution_count": 6,
   "metadata": {},
   "outputs": [
    {
     "name": "stdout",
     "output_type": "stream",
     "text": [
      "[[ 6.0+0.j        -0.0+0.j         0.0+0.j       ]\n",
      " [-0.0-0.j        -1.5+0.8660254j -0.0-0.j       ]\n",
      " [ 0.0-0.j         0.0-0.j        -1.5-0.8660254j]]\n"
     ]
    }
   ],
   "source": [
    "import numpy as np\n",
    "matrix_prod1 = np.dot(my_dft_matrix, my_circ_matrix)\n",
    "matrix_prod2 = np.dot(matrix_prod1, my_idft_matrix)\n",
    "\n",
    "np.set_printoptions(suppress=True)\n",
    "print(matrix_prod2)"
   ]
  },
  {
   "cell_type": "markdown",
   "metadata": {},
   "source": [
    "### Questions\n",
    "These steps and their solutions immediately bring up three questions.\n",
    " * Are circulant matrices always diagonalized by the discrete Fourier transform matrix and its inverse?\n",
    " * Are product of circulant matrices (of a same size) always circulant matrices?\n",
    " * Do all pairs of circulant matrices commute under matrix multiplication?"
   ]
  },
  {
   "cell_type": "markdown",
   "metadata": {},
   "source": [
    "### Answers\n",
    "1.Circulant matrices are always diagonalized by the discrete Fourier transform matrix and its inverse.\n",
    "* As for a circulant matrix, its determinant is not equal to zero, so there exists at least a matrix and its inverse that can diagonalize the circulant matrix. Note the matrix as V, then $D=V^{-1}CV$, and D is a diagonalized matrix, C is the circulant matrix. V can be constructed by the eigenvectors of C, which means the columns of V are the eigenvectors of C. For a nⅹn circulant matrix, its normalized eigenvectors can be set as $v_j= \\frac{1}{\\sqrt{n}}[1,W^{-j},W^{-2j},…,W^{-(n-1)j}]^T$, where $W = e^{-j\\frac{2π}{n}}$. We can assign $V = [v_1,v_2,…,v_n]$, then C can be diagonalized by $D=V^{-1}CV$, and the element of $V^{-1}$ is $v^{-1}_{ij} = W^{(i-1)(j-1)}$, i, j = 1,2,…,n, so $V^{-1}$ is a discrete Fourier transform matrix. As a result, a circulant matrix can always be diagonalized by the discrete Fourier transform matrix and its inverse.\n",
    "\n",
    "2.Product of circulant matrices of a same size are always circulant matrices.\n",
    "* Let A and B be nⅹn circulant matrices, and C = AB, then $c_{ij}= \\sum_{r=1}^{n}a_{ir} b_{rj}$, $a_{ij}=a_{(i+1)(j-1)}$, $b_{ij}=b_{(i+1)(j-1)}$ for i ≤ n-1, j ≥ 2, $a_{i1}=a_{(i+1)n}$, $b_{i1}=b_{(i+1)n}$, therefore $c_{(i+1)(j-1)}= \\sum_{r=1}^{n}a_{(i+1)r} b_{r(j-1)} = c_{ij}$, $c_(i+1n)= \\sum_{r=1}^{n}a_{(i+1)r} b_{rn}= c_{i1}$, so C is also a circulant matrix.\n",
    "\n",
    "3.All pairs of circulant matrices commute under matrix multiplication.\n",
    "* Let A and B be nⅹn circulant matrices, and C = AB, D = BA, then $c_{ij}= \\sum_{r=1}^{n}a_{ir}b_{rj}$, $d_{ij}= \\sum_{r=1}^{n}b_{ir}a_{rj} = \\sum_{r=1}^{n}b_{ri}a_{jr} = c_{ij}$ , so C = D, which means all pairs of circulant matrices commute.\n",
    "\n",
    "  \n",
    "  \n"
   ]
  },
  {
   "cell_type": "markdown",
   "metadata": {},
   "source": [
    "## Determinant\n",
    "The determinant of a square matrix is a value derived arithmetically from the coefficients of the matrix, and it summarizes a multivariable phenomenon with a signle number.\n",
    "It can be computed with ```scipy.linalg.det(a)```."
   ]
  },
  {
   "cell_type": "code",
   "execution_count": 7,
   "metadata": {},
   "outputs": [
    {
     "name": "stdout",
     "output_type": "stream",
     "text": [
      "18.0\n"
     ]
    }
   ],
   "source": [
    "from scipy.linalg import det\n",
    "det(my_circ_matrix)\n",
    "print(det(my_circ_matrix))"
   ]
  },
  {
   "cell_type": "markdown",
   "metadata": {},
   "source": [
    "The code below demonstrates how to create a function in Python, how to vectorize a function so that it can be applied to the elements of a matrix, and how to use ```random```."
   ]
  },
  {
   "cell_type": "code",
   "execution_count": 8,
   "metadata": {},
   "outputs": [
    {
     "name": "stdout",
     "output_type": "stream",
     "text": [
      "18.28986\n"
     ]
    }
   ],
   "source": [
    "import math\n",
    "from numpy import random\n",
    "\n",
    "def my_log(x):\n",
    "    return math.log(x)\n",
    "\n",
    "my_vec_log = np.vectorize(my_log)\n",
    "\n",
    "A_step1 = my_vec_log(my_circ_matrix) # Numpy already offers a vectorized natural logarithm.\n",
    "# A_step1 = np.log(matrix_prod2)\n",
    "\n",
    "max_index = 100000\n",
    "my_identity = np.identity(len(A_step1))\n",
    "current_value = 0.0\n",
    "for my_index in range(0, max_index):\n",
    "    permutation_matrix = random.permutation(my_identity)\n",
    "    sign_permuation = det(permutation_matrix)\n",
    "    current_value += sign_permuation*(np.exp(np.trace(np.dot(A_step1, permutation_matrix))))\n",
    "a_step2 = math.factorial(len(A_step1)) * current_value / max_index\n",
    "print(a_step2)"
   ]
  },
  {
   "cell_type": "markdown",
   "metadata": {},
   "source": [
    "#### Questions\n",
    "It appears that the output of the loop above is close to the determinant of the circulant matrix ```my_circ_matrix```.\n",
    " * Go through the code and provide a compelling explain explanation of why these numbers are close.\n",
    " * Is this a property of circulant matrices, or would this finding extend to arbitrary matrices over the real numbers?"
   ]
  },
  {
   "cell_type": "markdown",
   "metadata": {},
   "source": [
    "#### Answers\n",
    "1.Explanation:\n",
    "* In the code above, my_identity(denoted M) is a permutation matrix with the same size of A_step1(denoted A), and A is derived by taking the natural logarithm of every element of the circulant matrix themy_circ_matrix(denoted C). Therefore, M can be regarded as an identity matrix which has been permuted the columns or the rows, so \"np.dot(A_step1, permutation_matrix)\", which means AM can be regarded as permuting the columns of A. The trace of AM is the sum of the diagonal elements, and with the exponential function we can get the product of n（for this example, n = 3) elements of C, and from each row and each column of C there is only one element chosen. Regard the product as an element, according to the definition of determination, the determination of a nxn matrix is the sum of several distinct such elements with the quantity of the factorial of n. If we repeat this procedure several times, multiply every result with the factorial of n and then get the average number as the final result, because the permutation is random and the number of repeated times is very large(the max_index is 10,000), the final result can be very closely to the determination of C. Therefore, these numbers are close.\n",
    "\n",
    "2.This property can be extended to arbitrary matrices.\n",
    "* According to the explaination above, it is not necessary for C to be a circulant matrix, and this  property can be extended to arbitrary matices.\n"
   ]
  },
  {
   "cell_type": "markdown",
   "metadata": {},
   "source": [
    "### Tasks\n",
    " * Build code to explore the fact that the determinant function is multiplicative: $\\mathrm{det}(AB) = \\mathrm{det}(A) \\mathrm{det}(B)$."
   ]
  },
  {
   "cell_type": "code",
   "execution_count": 26,
   "metadata": {},
   "outputs": [
    {
     "name": "stdout",
     "output_type": "stream",
     "text": [
      "The size of A and B is 8 X 8\n",
      "A =  [[ 0.18386521  0.76624046  0.77199193  0.17568613  0.30310039  0.17570214\n",
      "   0.92317376  0.47427603]\n",
      " [ 0.31575717  0.56972932  0.50663145  0.32353328  0.19909258  0.28567419\n",
      "   0.90595443  0.10227745]\n",
      " [ 0.61839228  0.78558443  0.42565611  0.10680854  0.25009443  0.47366\n",
      "   0.70395728  0.63770361]\n",
      " [ 0.37574369  0.68260691  0.39005426  0.4704932   0.50465834  0.8394134\n",
      "   0.31390929  0.47699566]\n",
      " [ 0.09537893  0.70439919  0.70575168  0.91433706  0.88066887  0.41911174\n",
      "   0.03365695  0.04813303]\n",
      " [ 0.26594519  0.93991277  0.85557035  0.21664333  0.01414939  0.32132738\n",
      "   0.89925518  0.9882489 ]\n",
      " [ 0.9139292   0.87671152  0.98172094  0.629992    0.3145409   0.34560787\n",
      "   0.00373325  0.62705233]\n",
      " [ 0.67449755  0.63617259  0.17377227  0.05669343  0.8062748   0.01336837\n",
      "   0.40615239  0.04615037]]\n",
      "B =  [[ 0.2697076   0.08176978  0.39240548  0.77803146  0.83108296  0.83182049\n",
      "   0.89208127  0.2371994 ]\n",
      " [ 0.20768298  0.69379041  0.47446736  0.30022244  0.96729634  0.66203174\n",
      "   0.28181393  0.76501453]\n",
      " [ 0.41220104  0.86570288  0.19667467  0.05961494  0.2528137   0.35018183\n",
      "   0.5917208   0.88020984]\n",
      " [ 0.84317314  0.87862535  0.82658305  0.12540513  0.44378151  0.88410471\n",
      "   0.11460054  0.56716171]\n",
      " [ 0.1440694   0.64099445  0.90935024  0.96100351  0.0353042   0.94719384\n",
      "   0.54831259  0.65533202]\n",
      " [ 0.88617568  0.81960761  0.51146952  0.02060824  0.40163933  0.72848253\n",
      "   0.69713997  0.60687929]\n",
      " [ 0.62434015  0.03610608  0.32430109  0.15547091  0.02105992  0.89840834\n",
      "   0.35224695  0.415579  ]\n",
      " [ 0.53972755  0.22964082  0.9851315   0.95076128  0.68081747  0.3207792\n",
      "   0.60143795  0.93467212]]\n",
      "det(AB) =  7.486040104641278e-05\n",
      "det(A)det(B) =  7.486040104640915e-05\n"
     ]
    }
   ],
   "source": [
    "import numpy as np\n",
    "from numpy import random\n",
    "from scipy.linalg import det\n",
    "\n",
    "#******** Set the random matrices A and B of random size**********\n",
    "n = np.random.randint(2,10) #set the size of the matrices\n",
    "A = np.random.rand(n,n)  \n",
    "B = np.random.rand(n,n) \n",
    "#************************** get det(AB)***************************\n",
    "AB =  np.dot(A, B)\n",
    "det_AB = det(AB)\n",
    "#*********************** get det(A)det(B)*************************\n",
    "det_A = det(A)\n",
    "det_B = det(B)\n",
    "detA_detB = det_A * det_B\n",
    "#****************** ***** show the result*************************\n",
    "print(\"The size of A and B is\",n,\"X\",n)\n",
    "print(\"A = \",A)\n",
    "print(\"B = \",B)\n",
    "print(\"det(AB) = \",det_AB)\n",
    "print(\"det(A)det(B) = \",detA_detB)"
   ]
  },
  {
   "cell_type": "markdown",
   "metadata": {},
   "source": [
    "By running this code several times, I can verify that the determinant function is multiplicative, which means $\\mathrm{det}(AB) = \\mathrm{det}(A) \\mathrm{det}(B)$."
   ]
  }
 ],
 "metadata": {
  "kernelspec": {
   "display_name": "Python 3",
   "language": "python",
   "name": "python3"
  },
  "language_info": {
   "codemirror_mode": {
    "name": "ipython",
    "version": 3
   },
   "file_extension": ".py",
   "mimetype": "text/x-python",
   "name": "python",
   "nbconvert_exporter": "python",
   "pygments_lexer": "ipython3",
   "version": "3.6.1"
  }
 },
 "nbformat": 4,
 "nbformat_minor": 2
}
