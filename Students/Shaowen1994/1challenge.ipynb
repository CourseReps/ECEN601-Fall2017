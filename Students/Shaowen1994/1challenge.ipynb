{
 "cells": [
  {
   "cell_type": "markdown",
   "metadata": {},
   "source": [
    "# Challenge 1\n",
    "\n",
    "## SciPy Tutorial\n",
    "Pertinent information about [SciPy](https://docs.scipy.org/) and NumPy is available in the [SciPy Tutorial](https://docs.scipy.org/doc/scipy/reference/tutorial/index.html).\n",
    " * Read [Introduction](https://docs.scipy.org/doc/scipy/reference/tutorial/general.html)\n",
    " * Read [Basic functions](https://docs.scipy.org/doc/scipy/reference/tutorial/basic.html)\n",
    " * Read [Optimization](https://docs.scipy.org/doc/scipy/reference/tutorial/optimize.html)\n",
    " \n",
    "Consider the function defined below.\n",
    " * Plot the function using [matplotlib](https://matplotlib.org/)"
   ]
  },
  {
   "cell_type": "code",
   "execution_count": null,
   "metadata": {
    "collapsed": true
   },
   "outputs": [],
   "source": [
    "import numpy as np\n",
    "import matplotlib.pyplot as plt"
   ]
  },
  {
   "cell_type": "code",
   "execution_count": 1,
   "metadata": {},
   "outputs": [
    {
     "data": {
      "image/png": "[encoded data removed]",
      "text/plain": [
       "<matplotlib.figure.Figure at 0x187df9e9160>"
      ]
     },
     "metadata": {},
     "output_type": "display_data"
    }
   ],
   "source": [
    "import numpy as np\n",
    "import matplotlib.pyplot as plt\n",
    "def g(t):\n",
    "    return 1 - (np.exp(-2*t) * np.cos(np.pi*t))\n",
    "\n",
    "t1 = np.arange(0.0, 2.0, 0.01)\n",
    "\n",
    "plt.figure(1)\n",
    "plt.plot(t1, g(t1), 'k')\n",
    "plt.show()"
   ]
  },
  {
   "cell_type": "markdown",
   "metadata": {},
   "source": [
    "Consider the class of functions of the form $f(t) = 1 - e^{-at}$ where $a$ is a free parameter.\n",
    " * Find the value of $a$ that minimizes the $L_2$ norm between $g(t)$ and $f(t)$ over the interval $[0, 2]$\n",
    " * Computer the residual mean squared error\n",
    " * Explain how you obtained $a$"
   ]
  },
  {
   "cell_type": "code",
   "execution_count": 4,
   "metadata": {},
   "outputs": [
    {
     "data": {
      "image/png": "[encoded data removed]",
      "text/plain": [
       "<matplotlib.figure.Figure at 0x187e1dfe400>"
      ]
     },
     "metadata": {},
     "output_type": "display_data"
    },
    {
     "name": "stdout",
     "output_type": "stream",
     "text": [
      "When a = 4.60, the L2 norm between g(t) and f(t) over the interval [0,2] get the minmum 0.1505.\n",
      "The residual mean squared error is 0.0113.\n"
     ]
    }
   ],
   "source": [
    "import numpy as np\n",
    "import matplotlib.pyplot as plt\n",
    "\n",
    "Lmin = 100\n",
    "#**************************** g(t) & f(t) ***********************************\n",
    "def f(a,t):\n",
    "    return 1 - np.exp(-a*t)\n",
    "def g(t):\n",
    "    return 1 - (np.exp(-2*t) * np.cos(np.pi*t))\n",
    "#**************************** L2 norm ***************************************\n",
    "def norm(a):\n",
    "    t1 = 0.0\n",
    "    t2 = 2.0\n",
    "    dt = 0.001\n",
    "    y1 = 0.0\n",
    "    for t in np.arange(t1,t2,dt):\n",
    "        y1 = y1 + np.square(g(t)-f(a,t))*dt\n",
    "        L2 = np.sqrt(y1)\n",
    "    return  L2\n",
    "#**************************** get the minimum *******************************\n",
    "a1 = 0.0\n",
    "a2 = 10.0\n",
    "da = 0.01\n",
    "for b in np.arange(a1, a2, da):\n",
    "    if Lmin > norm(b):\n",
    "        Lmin = norm(b)\n",
    "        mina = b\n",
    "#**************** computer the residual mean squared error ******************\n",
    "t1 = 0.0\n",
    "t2 = 2.0\n",
    "dt = 0.001\n",
    "y = 0.0\n",
    "for t in np.arange(t1,t2,dt):\n",
    "    y =  y + np.square(np.exp(-mina*t)-np.exp(-2*t)*np.cos(np.pi*t))*dt\n",
    "    rmse = 1/(t2 - t1)*y\n",
    "#************************** show the result *********************************\n",
    "a = np.arange(a1, a2, da)\n",
    "\n",
    "plt.figure(2)\n",
    "plt.xlabel('a')\n",
    "plt.ylabel('L2 norm between f(t) and g(t)')\n",
    "plt.plot(a,norm(a), 'b')\n",
    "plt.show()\n",
    "print (\"When a = %.2f, the L2 norm between g(t) and f(t) over the interval [0,2] get the minmum %.4f.\"%(mina,Lmin))\n",
    "print (\"The residual mean squared error is %.4f.\"%rmse)"
   ]
  },
  {
   "cell_type": "markdown",
   "metadata": {
    "collapsed": true
   },
   "source": [
    "Method of obtaining a:\n",
    "* draw the graph of the $L_2$ norm between $g(t)$ and $f(t)$ over the interval $[0, 2]$\n",
    "* get a rough interval where the minimum locates\n",
    "* let a be the variable and scan it over the interval \n",
    "* get the minimum of the $L_2$ norm between $g(t)$ and $f(t)$ and the a that leads to this value"
   ]
  }
 ],
 "metadata": {
  "kernelspec": {
   "display_name": "Python 3",
   "language": "python",
   "name": "python3"
  },
  "language_info": {
   "codemirror_mode": {
    "name": "ipython",
    "version": 3
   },
   "file_extension": ".py",
   "mimetype": "text/x-python",
   "name": "python",
   "nbconvert_exporter": "python",
   "pygments_lexer": "ipython3",
   "version": "3.6.1"
  }
 },
 "nbformat": 4,
 "nbformat_minor": 2
}
