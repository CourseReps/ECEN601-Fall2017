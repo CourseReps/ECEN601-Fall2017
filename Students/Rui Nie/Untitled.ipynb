{
 "cells": [
  {
   "cell_type": "markdown",
   "metadata": {},
   "source": [
    "## Answer 1\n",
    "    \n",
    "    1.Yes.For any circulant matrix N,can be factored as N=F*diag(n)F^-1. And diag(n)=F^-1*N*F. So circulant matrices are always diagonalized by the discrete Fourier transform matrix and its inverse.\n",
    "    \n",
    "    2.Yes.The property of circulant matrix is, if A,B are circulant matrix, then A+B, AB also circulant matrix.\n",
    "    \n",
    "    3.Yes.   "
   ]
  },
  {
   "cell_type": "markdown",
   "metadata": {},
   "source": [
    "## Answer 2\n",
    "    \n",
    "    1. The program achieves the aprroximation of det() by several steps. \n",
    "\tFor example, if we have circulant matrix[a,b,d],the det(C)=a^3+b^3+c^3-3abc\n",
    "\t(1) log_C=circulant metrix [log(a), log(b), log(c)]\n",
    "\t\n",
    "    (2) randomly pick permutation[3] from [1 0 0;0 1 0;0 0 1],[1 0 0;0 1 0;0 0 1],[0 1 0;0 1 0;0 0 1],[0 1 0;0 1 0;0 0 1],[0 0 1;0 1 0;0 0 1],[0 0 1;0 1 0;0 0 1].\n",
    "\t\n",
    "    (3)det(P)*trace(C*P)=1*(a^3) , -1*(abc) , 1*(b^3) , -1*(abc) , 1*(c^3) or -1*(abc); which adds up to a^3+b^3+c^3-3abc\n",
    "\t\n",
    "    (4) So if we pick a huge number of permutation[3], we can get a^3+b^3+c^3-3abc, because the probability of get each permutation is the same. If we just pick 10000 for random permutation, the probability of get each permutation will not be the same. So the result will be slightly different with the det(C)\n",
    "\n",
    "\t2.No, it's not a property for circulant matrics. And it's can extend to arbitrary matrices over the real numbers.\n"
   ]
  },
  {
   "cell_type": "code",
   "execution_count": 22,
   "metadata": {},
   "outputs": [],
   "source": [
    "from scipy.linalg import det\n",
    "import numpy as np\n",
    "import math\n",
    "from numpy import random\n",
    "from scipy.linalg import circulant"
   ]
  },
  {
   "cell_type": "code",
   "execution_count": 36,
   "metadata": {
    "scrolled": true
   },
   "outputs": [
    {
     "name": "stdout",
     "output_type": "stream",
     "text": [
      "[[ 0.45370732  0.1504118   0.61832752  0.85624155  0.87475554]\n",
      " [ 0.58025508  0.16594611  0.44629943  0.6125551   0.38464764]\n",
      " [ 0.25537641  0.74195776  0.83913623  0.34086617  0.44446172]\n",
      " [ 0.81076875  0.34984378  0.18110441  0.33834333  0.06949757]\n",
      " [ 0.74835675  0.63310014  0.09065502  0.72392562  0.70520967]]\n",
      "__________________________\n",
      "[[ 0.36507429  0.21028635  0.1670532   0.29320711  0.7324028 ]\n",
      " [ 0.61329058  0.24070702  0.96043855  0.83640956  0.95127304]\n",
      " [ 0.90765491  0.8172333   0.25953454  0.47520527  0.28365124]\n",
      " [ 0.47025707  0.41545417  0.10752908  0.86617847  0.8531929 ]\n",
      " [ 0.60677129  0.31437735  0.72719886  0.96233158  0.32923492]]\n",
      "__________________________\n",
      "det(A)*det(B)= -0.0008486768686524063\n",
      "det(A*B)= -0.0008486768686522944\n",
      "The distance betweew det(A)*det(B) and det(A*B)= 1.1188966420050406e-16\n"
     ]
    }
   ],
   "source": [
    "import math\n",
    "from numpy import random\n",
    "\n",
    "n=random.randint(0,10)\n",
    "\n",
    "a=np.random.random((n,n))\n",
    "b=np.random.random((n,n))\n",
    "\n",
    "det_A=det(a)\n",
    "det_B=det(b)\n",
    "ab=np.dot(a,b)\n",
    "det_AB=det(ab)\n",
    "distance=det_AB-det_A*det_B\n",
    "print(a)\n",
    "print('__________________________')\n",
    "print(b)\n",
    "print('__________________________')\n",
    "\n",
    "print('det(A)*det(B)=',det_A*det_B)\n",
    "print('det(A*B)=',det_AB)\n",
    "print('The distance betweew det(A)*det(B) and det(A*B)=',distance)"
   ]
  },
  {
   "cell_type": "code",
   "execution_count": null,
   "metadata": {
    "collapsed": true
   },
   "outputs": [],
   "source": []
  },
  {
   "cell_type": "code",
   "execution_count": null,
   "metadata": {
    "collapsed": true
   },
   "outputs": [],
   "source": []
  }
 ],
 "metadata": {
  "kernelspec": {
   "display_name": "Python 3",
   "language": "python",
   "name": "python3"
  },
  "language_info": {
   "codemirror_mode": {
    "name": "ipython",
    "version": 3
   },
   "file_extension": ".py",
   "mimetype": "text/x-python",
   "name": "python",
   "nbconvert_exporter": "python",
   "pygments_lexer": "ipython3",
   "version": "3.6.1"
  }
 },
 "nbformat": 4,
 "nbformat_minor": 2
}
