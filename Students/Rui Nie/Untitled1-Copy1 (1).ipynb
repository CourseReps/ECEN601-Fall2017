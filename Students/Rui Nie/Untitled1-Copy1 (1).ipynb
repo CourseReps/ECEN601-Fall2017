{
 "cells": [
  {
   "cell_type": "markdown",
   "metadata": {},
   "source": [
    "#  Solution:"
   ]
  },
  {
   "cell_type": "markdown",
   "metadata": {},
   "source": [
    "g(t)-f(t)=exp(-2*t)*(exp(-(a-2)*t)-cos(pi*t))\n";
    "let b=a-2\n";
    "we have h(t,b)=exp(-2*t)*(exp(-b*t)-cos(pi*t))";
   ]
  },
  {
   "cell_type": "code",
   "execution_count": 18,
   "metadata": {},
   "outputs": [
    {
     "data": {
      "image/png": "iVBORw0KGgoAAAANSUhEUgAAAXcAAAD8CAYAAACMwORRAAAABHNCSVQICAgIfAhkiAAAAAlwSFlz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\nu1JKpSFN7koplYY0uSulVBr6f04a66I6ekE0AAAAAElFTkSuQmCC\n",
      "text/plain": [
       "<matplotlib.figure.Figure at 0x7fdb0dcc5b70>"
      ]
     },
     "execution_count": 18,
     "metadata": {},
     "output_type": "execute_result"
    }
   ],
   "source": [
    "import numpy as np\n",
    "import matplotlib.pyplot as plt\n",
    "\n",
    "def h(b,t):\n",
    "    return (np.exp(-2*t)*(np.exp(-b*t)-np.cos(np.pi*t)))**2\n",
    "\n",
    "t1=np.arange(0.0,2.0,0.01)\n",
    "\n",
    "b1=-1\n",
    "plt.plot(t1,h(b1,ti),'k')\n",
    "\n",
    "b1=0\n",
    "plt.plot(t1,h(b1,ti),'r')\n",
    "\n",
    "b1=1\n",
    "plt.plot(t1,h(b1,ti),'b')\n",
    "\n",
    "b1=10\n",
    "plt.plot(t1,h(b1,ti),'p')\n",
    "\n",
    "b1=100\n",
    "plt.plot(t1,h(b1,ti),'y')\n",
    "\n",
    "plt.figure(2)"
   ]
  },

   "cell_type": "markdown",
   "metadata": {},
   "source": [
    "![download.png](attachment:download.png)\n",
    "We can find that the range of b muat be [0,10] for the minimum L-2 norm between g(t) and f(t)."
   ]
  },
  {
   "cell_type": "code",
   "execution_count": 20,
   "metadata": {},
   "outputs": [
    {
     "name": "stdout",
     "output_type": "stream",
     "text": [
      "The value of a is 4.6\n",
      "The minimum L2 norm between g(t) and f(t) is 1.50454026637\n",
      "The value of residual mean squared error is 0.0113182070656\n"
     ]
    }
   ],
   "source": [
    "import numpy as np\n",
    "import matplotlib.pyplot as plt\n",
    "\n",
    "def h(b,t):\n",
    "    return (np.exp(-2*t)*(np.exp(-b*t)-np.cos(np.pi*t)))**2\n",
    "\n",
    "t2=np.arange(0.0,2.0,0.01)\n",
    "n = len(t2)\n",
    "b1=np.arange(0.0,10.0,0.01)\n",
    "\n",
    "L2min=1000\n",
    "bmin=0\n",
    "\n",
    "for b in b1:\n",
    "    L2=(np.sum(h(b,t2)))**0.5\n",
    "    if(L2<L2min):\n",
    "        L2min=L2\n",
    "        bmin=b\n",
    "\n",
    "MSE=(L2min)**2/n\n",
    "amin=bmin+2    \n",
    "print(\"The value of a is\",amin )\n",
    "print(\"The minimum L2 norm between g(t) and f(t) is\",L2min)\n",
    "print(\"The value of residual mean squared error is\", MSE)\n",
    "\n"
   ]
  },
  {
   "cell_type": "markdown",
   "metadata": {},
   "source": [
    "The value of a is 4.6\n",
    "The minimum L2 norm between g(t) and f(t) is 1.50454026637\n",
    "The value of residual mean squared error is 0.0113182070656\n",
    "\n",
    "(1) Simplify the function of g(t)-f(t)=h(t,a)\n",
    "\n",
    "(2) Find a appropriate range of 'a' by ploting the figure of h(t,a) with different value of a.  \n",
    "\n",
    "(3) Creat a loop to find the minimum L2 norm and a."
   ]
  }
 ],
 "metadata": {
  "kernelspec": {
   "display_name": "Python 3",
   "language": "python",
   "name": "python3"
  },
  "language_info": {
   "codemirror_mode": {
    "name": "ipython",
    "version": 3
   },
   "file_extension": ".py",
   "mimetype": "text/x-python",
   "name": "python",
   "nbconvert_exporter": "python",
   "pygments_lexer": "ipython3",
   "version": "3.6.1"
  }
 },
 "nbformat": 4,
 "nbformat_minor": 2
}
