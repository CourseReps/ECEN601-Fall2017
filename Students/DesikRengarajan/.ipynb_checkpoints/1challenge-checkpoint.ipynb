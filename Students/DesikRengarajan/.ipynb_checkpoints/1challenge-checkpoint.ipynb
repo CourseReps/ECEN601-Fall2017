{
 "cells": [
  {
   "cell_type": "markdown",
   "metadata": {},
   "source": [
    "# Challenge 1\n",
    "\n",
    "## SciPy Tutorial\n",
    "Pertinent information about [SciPy](https://docs.scipy.org/) and NumPy is available in the [SciPy Tutorial](https://docs.scipy.org/doc/scipy/reference/tutorial/index.html).\n",
    " * Read [Introduction](https://docs.scipy.org/doc/scipy/reference/tutorial/general.html)\n",
    " * Read [Basic functions](https://docs.scipy.org/doc/scipy/reference/tutorial/basic.html)\n",
    " * Read [Optimization](https://docs.scipy.org/doc/scipy/reference/tutorial/optimize.html)\n",
    " \n",
    "Consider the function defined below.\n",
    " * Plot the function using [matplotlib](https://matplotlib.org/)"
   ]
  },
  {
   "cell_type": "code",
   "execution_count": null,
   "metadata": {
    "collapsed": false
   },
   "outputs": [
    {
     "name": "stdout",
     "output_type": "stream",
     "text": [
      "The Value of a that minimizes is  4.60346764485\n",
      "The mean square error is 0.0113181834871\n"
     ]
    }
   ],
   "source": [
    "import numpy as np\n",
    "import matplotlib.pyplot as plt\n",
    "from scipy.optimize import minimize_scalar\n",
    "\n",
    "def g(t):   ##Defining the function g(t)\n",
    "    return 1 - (np.exp(-2*t) * np.cos(np.pi*t)) \n",
    "\n",
    "def f(a,t): ## defining the function f(a,t)\n",
    "    return 1- (np.exp(-1*a*t))\n",
    "\n",
    "t1 = np.arange(0.0, 2.0, 0.01)  \n",
    "\n",
    "def objective(a):  ## finding the L2 norm between g(t) and f(a,t) for a paticular a\n",
    "\tsu=0\n",
    "\tfor t in (t1):\n",
    "\t\tsu=su + np.square(g(t)-f(a,t))\n",
    "    \n",
    "\treturn su\n",
    "\n",
    "\n",
    "sol=minimize_scalar(objective)  ## solving the scalar objective function\n",
    "print \"The Value of a that minimizes is \", sol.x\n",
    "a=sol.x\n",
    "length=len(t1)\n",
    "print \"The mean square error is\", objective(sol.x)/length\n",
    "plt.figure(1)\n",
    "plt.plot(t1,g(t1),'r')\n",
    "plt.plot(t1,f(a,t1),'b')\n",
    "plt.show()\n",
    "\n",
    "\n",
    "\n"
   ]
  },
  {
   "cell_type": "code",
   "execution_count": null,
   "metadata": {
    "collapsed": false
   },
   "outputs": [],
   "source": [
    "\n"
   ]
  },
  {
   "cell_type": "markdown",
   "metadata": {},
   "source": [
    "Consider the class of functions of the form $f(t) = 1 - e^{-at}$ where $a$ is a free parameter.\n",
    " * Find the value of $a$ that minimizes the $L_2$ norm between $g(t)$ and $f(t)$ over the interval $[0, 2]$\n",
    " * Computer the residual mean squared error\n",
    " * Explain how you obtained $a$\n",
    "    \n",
    "    * The value of $a$ that minimizes the $L_2$ norm between $g(t)$ and $f(t)$ over the interval $[0, 2]$ is $4.60346764628$.\n",
    "    * The residual mean squared error is $0.0113181834871$\n",
    "    * The value of $a$ was calculated by performing a scalar minimization over all the values of $t$ in the interval $[0,2]$\n",
    "    * The function minimize_scalar from the scipy library was used for this operation \n",
    " \n",
    " "
   ]
  },
  {
   "cell_type": "code",
   "execution_count": null,
   "metadata": {
    "collapsed": true
   },
   "outputs": [],
   "source": []
  }
 ],
 "metadata": {
  "kernelspec": {
   "display_name": "Python 2",
   "language": "python",
   "name": "python2"
  },
  "language_info": {
   "codemirror_mode": {
    "name": "ipython",
    "version": 2
   },
   "file_extension": ".py",
   "mimetype": "text/x-python",
   "name": "python",
   "nbconvert_exporter": "python",
   "pygments_lexer": "ipython2",
   "version": "2.7.11"
  }
 },
 "nbformat": 4,
 "nbformat_minor": 2
}
