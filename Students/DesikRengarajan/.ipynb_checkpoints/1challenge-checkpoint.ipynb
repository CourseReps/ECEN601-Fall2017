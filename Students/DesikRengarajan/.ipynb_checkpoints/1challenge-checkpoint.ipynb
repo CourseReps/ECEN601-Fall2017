{
 "cells": [
  {
   "cell_type": "markdown",
   "metadata": {},
   "source": [
    "# Challenge 1\n",
    "\n",
    "## SciPy Tutorial\n",
    "Pertinent information about [SciPy](https://docs.scipy.org/) and NumPy is available in the [SciPy Tutorial](https://docs.scipy.org/doc/scipy/reference/tutorial/index.html).\n",
    " * Read [Introduction](https://docs.scipy.org/doc/scipy/reference/tutorial/general.html)\n",
    " * Read [Basic functions](https://docs.scipy.org/doc/scipy/reference/tutorial/basic.html)\n",
    " * Read [Optimization](https://docs.scipy.org/doc/scipy/reference/tutorial/optimize.html)\n",
    " \n",
    "Consider the function defined below.\n",
    " * Plot the function using [matplotlib](https://matplotlib.org/)"
   ]
  },
  {
   "cell_type": "code",
   "execution_count": 30,
   "metadata": {
    "collapsed": false
   },
   "outputs": [
    {
     "name": "stdout",
     "output_type": "stream",
     "text": [
      "My initial guess is 0.0111089965382\n",
      "My residual mean square error is 4.61247846365e-07\n",
      "The values of a and t are  [ 1.9906462   1.98225201]\n"
     ]
    }
   ],
   "source": [
    "import numpy as np\n",
    "import matplotlib.pyplot as plt\n",
    "from scipy.optimize import minimize\n",
    "def g(t):\n",
    "    return 1-(np.exp(-2*t)*np.cos(np.pi*t))\n",
    "def f(a,t):\n",
    "    return 1-(np.exp(-1*a*t))\n",
    "\n",
    "def objective(x):   ## I am writing the objective as a function of my variables\n",
    "\tt=x[0]        \n",
    "\ta=x[1]\n",
    "\treturn (g(t)-f(a,t))*(g(t)-f(a,t))\n",
    "\n",
    "x0=[1.5,1.5]\n",
    "print  \"My initial guess is\" ,objective(x0)\n",
    "b=(0,2) ## this my bound on t\n",
    "c=(-5,500) ## this is my bound on a \n",
    "bnds=(b,c)\n",
    "sol=minimize(objective,x0,method='SLSQP' ,bounds=bnds)\n",
    "print \"My residual mean square error is\" ,sol.fun\n",
    "print \"The values of a and t are \",sol.x\n",
    "\n"
   ]
  },
  {
   "cell_type": "code",
   "execution_count": null,
   "metadata": {
    "collapsed": false
   },
   "outputs": [],
   "source": []
  },
  {
   "cell_type": "markdown",
   "metadata": {},
   "source": [
    "Consider the class of functions of the form $f(t) = 1 - e^{-at}$ where $a$ is a free parameter.\n",
    " * Find the value of $a$ that minimizes the $L_2$ norm between $g(t)$ and $f(t)$ over the interval $[0, 2]$\n",
    " * Computer the residual mean squared error\n",
    " * Explain how you obtained $a$\n",
    " \n",
    " The Value of $a$ that minimizes the $L_2$ norm between $g(t)$ and $f(t)$ is $1.98225201$ and the mean square error is $4.61247846365e-07$. I obtained the value of $a$ using the minimize function in scipy. I initially guessed the values of $a$ and $t$ to be $1.5$ and $1.5$. \n",
    " "
   ]
  },
  {
   "cell_type": "code",
   "execution_count": null,
   "metadata": {
    "collapsed": true
   },
   "outputs": [],
   "source": []
  }
 ],
 "metadata": {
  "kernelspec": {
   "display_name": "Python 2",
   "language": "python",
   "name": "python2"
  },
  "language_info": {
   "codemirror_mode": {
    "name": "ipython",
    "version": 2
   },
   "file_extension": ".py",
   "mimetype": "text/x-python",
   "name": "python",
   "nbconvert_exporter": "python",
   "pygments_lexer": "ipython2",
   "version": "2.7.11"
  }
 },
 "nbformat": 4,
 "nbformat_minor": 2
}
