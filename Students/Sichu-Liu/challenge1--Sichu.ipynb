{
 "cells": [
  {
   "cell_type": "code",
   "execution_count": 13,
   "metadata": {},
   "outputs": [
    {
     "name": "stdout",
     "output_type": "stream",
     "text": [
      "Here is my solution\n"
     ]
    }
   ],
   "source": [
    "print('Here is my solution')"
   ]
  },
  {
   "cell_type": "code",
   "execution_count": 20,
   "metadata": {
    "collapsed": true
   },
   "outputs": [],
   "source": [
    "import numpy as np\n",
    "from scipy.optimize import minimize_scalar"
   ]
  },
  {
   "cell_type": "code",
   "execution_count": 30,
   "metadata": {},
   "outputs": [
    {
     "name": "stdout",
     "output_type": "stream",
     "text": [
      "The Value of a that minimizes the L2 norm between  g(t) and f(t) over the interval [0, 2] is ： 4.603000 \n",
      "The residential mean squared error is : 0.011318\n"
     ]
    }
   ],
   "source": [
    "def g(t):\n",
    "    return 1 - (np.exp(-2*t) * np.cos(np.pi*t))\n",
    "\n",
    "def f(a ,t):\n",
    "    return 1- (np.exp(-a*t))\n",
    "\n",
    "t1 = np.arange(0.0, 2.0, 0.01)\n",
    "a1 = np.arange(0.0, 20.0, 0.001)\n",
    "\n",
    "   \n",
    "def L(a):\n",
    "    err = 0\n",
    "    for t in (t1):\n",
    "        err = err + np.square(g(t)-f(a,t))\n",
    "    return err\n",
    "\n",
    "minerr = L(0)\n",
    "\n",
    "for a in (a1):\n",
    "    if L(a)<minerr:\n",
    "        minerr=L(a)\n",
    "        mina=a\n",
    "\n",
    "print(\"The Value of a that minimizes the L2 norm between  g(t) and f(t) over the interval [0, 2] is ： %f \"%mina)\n",
    "Sqerror = minerr / len(t1)\n",
    "print(\"The residential mean squared error is : %f\"%Sqerror)"
   ]
  },
  {
   "cell_type": "code",
   "execution_count": null,
   "metadata": {
    "collapsed": true
   },
   "outputs": [],
   "source": []
  }
 ],
 "metadata": {
  "kernelspec": {
   "display_name": "Python 2",
   "language": "python",
   "name": "python2"
  },
  "language_info": {
   "codemirror_mode": {
    "name": "ipython",
    "version": 2
   },
   "file_extension": ".py",
   "mimetype": "text/x-python",
   "name": "python",
   "nbconvert_exporter": "python",
   "pygments_lexer": "ipython2",
   "version": "2.7.13"
  }
 },
 "nbformat": 4,
 "nbformat_minor": 2
}
