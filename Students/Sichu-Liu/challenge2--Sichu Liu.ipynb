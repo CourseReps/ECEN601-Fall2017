{
 "cells": [
  {
   "cell_type": "code",
   "execution_count": 2,
   "metadata": {
    "collapsed": true
   },
   "outputs": [],
   "source": [
    "from scipy.linalg import circulant\n",
    "my_circ_matrix = circulant([1, 2, 3])   #creat a unit matrix"
   ]
  },
  {
   "cell_type": "code",
   "execution_count": 3,
   "metadata": {
    "collapsed": true
   },
   "outputs": [],
   "source": [
    "from scipy.linalg import dft\n",
    "my_dft_matrix = dft(3)     #creat the Fourier transform matrix"
   ]
  },
  {
   "cell_type": "code",
   "execution_count": 4,
   "metadata": {
    "collapsed": true
   },
   "outputs": [],
   "source": [
    "from scipy.linalg import inv\n",
    "my_idft_matrix = inv(my_dft_matrix)"
   ]
  },
  {
   "cell_type": "code",
   "execution_count": 5,
   "metadata": {},
   "outputs": [
    {
     "name": "stdout",
     "output_type": "stream",
     "text": [
      "[[ 6.0-0.j         0.0+0.j        -0.0+0.j       ]\n",
      " [-0.0-0.j        -1.5+0.8660254j -0.0-0.j       ]\n",
      " [ 0.0-0.j         0.0-0.j        -1.5-0.8660254j]]\n"
     ]
    }
   ],
   "source": [
    "import numpy as np\n",
    "matrix_prod1 = np.dot(my_dft_matrix, my_circ_matrix)  #point product\n",
    "matrix_prod2 = np.dot(matrix_prod1, my_idft_matrix)   #get a circulant matrix\n",
    "\n",
    "np.set_printoptions(suppress=True)\n",
    "print(matrix_prod2)"
   ]
  },
  {
   "cell_type": "markdown",
   "metadata": {},
   "source": [
    "# Questions 1\n",
    "Are circulant matrices always diagonalized by the discrete Fourier transform matrix and its inverse?Yes. circulant matrices are equal to the multiply of a discrete Fourier transform matrix and a diagonal matrix and the inverse of Fourier matrix.X=F⋅diag(x^)⋅FH\n",
    "Are product of circulant matrices (of a same size) always circulant matrices?Yes. A circulant matrix multiply another circulant matrix is still circulant matrix.\n",
    "Do all pairs of circulant matrices commute under matrix multiplication?No,because unit matrix is also a circulant matrix, the matrix multiplication of unit matrix and another circulant matrix is also the circulant matrix.\n"
   ]
  },
  {
   "cell_type": "code",
   "execution_count": 6,
   "metadata": {},
   "outputs": [
    {
     "data": {
      "text/plain": [
       "18.0"
      ]
     },
     "execution_count": 6,
     "metadata": {},
     "output_type": "execute_result"
    }
   ],
   "source": [
    "from scipy.linalg import det\n",
    "det(my_circ_matrix)       #the determinant of previous circulant matrix"
   ]
  },
  {
   "cell_type": "code",
   "execution_count": 7,
   "metadata": {},
   "outputs": [
    {
     "name": "stdout",
     "output_type": "stream",
     "text": [
      "17.65038\n"
     ]
    }
   ],
   "source": [
    "import math\n",
    "from numpy import random\n",
    "\n",
    "def my_log(x):\n",
    "    return math.log(x)\n",
    "\n",
    "my_vec_log = np.vectorize(my_log)\n",
    "\n",
    "A_step1 = my_vec_log(my_circ_matrix) # Numpy already offers a vectorized natural logarithm.\n",
    "# A_step1 = np.log(matrix_prod2)\n",
    "\n",
    "max_index = 100000\n",
    "my_identity = np.identity(len(A_step1)) #creat a unit matrix\n",
    "current_value = 0.0\n",
    "for my_index in range(0, max_index):\n",
    "    permutation_matrix = random.permutation(my_identity)\n",
    "    sign_permuation = det(permutation_matrix)\n",
    "    current_value += sign_permuation*(np.exp(np.trace(np.dot(A_step1, permutation_matrix))))\n",
    "a_step2 = math.factorial(len(A_step1)) * current_value / max_index\n",
    "print(a_step2)"
   ]
  },
  {
   "cell_type": "markdown",
   "metadata": {},
   "source": [
    "# Questions 2\n",
    "Go through the code and provide a compelling explain explanation of why these numbers are close.Suppose a my_cric_matrix=[a,b,c;c,a,b;b,c,a],it is easy to get that det(my_cric_matrix)=3abc-a^3-b^3-c^3. According to the code above, permutation_matrix is a random produced matrix with six forms, all has the same probability. They are [1,0,0;0,1,0;0,0,1], [1,0,0;0,0,1;0,1,0], [0,1,0;1,0,0;0,0,1], [0,1,0;0,0,1;1,0,0], [0,0,1;1,0,0;0,1,0], [0,0,1;0,1,0;1,0,0]. If the time of producing permutation_matrix of six forms are same, a_step2=2abc-a^3-b^3-c^3, which equals to det(my_cric_matrix). In fact, the times may not same but they are very close. So a_steps is close to det(my_cric_matrix).\n",
    "Is this a property of circulant matrices, or would this finding extend to arbitrary matrices over the real numbers?Yes. if change my_circ_matrix to an ordinary matrix which can be expressed as A=[a,b,c;d,e,f;g,h,i]. The equation is still estabished.\n",
    "# Task \n"
   ]
  },
  {
   "cell_type": "code",
   "execution_count": 11,
   "metadata": {},
   "outputs": [
    {
     "name": "stdout",
     "output_type": "stream",
     "text": [
      "This is the task:\n",
      "the determinant function is multiplicative！\n"
     ]
    }
   ],
   "source": [
    "import math\n",
    "from numpy import random\n",
    "\n",
    "n=random.randint(0,10)\n",
    "\n",
    "A=np.random.random((n,n))\n",
    "B=np.random.random((n,n))\n",
    "dm=det(np.dot(A,B))\n",
    "md=det(A)*det(B)\n",
    "\n",
    "print(\"This is the task:\")\n",
    "if (abs(dm-md)<0.001):\n",
    "    print(\"the determinant function is multiplicative！\")\n",
    "else:\n",
    "    print(\"the determinant function isn't multiplicative！\")\n"
   ]
  },
  {
   "cell_type": "code",
   "execution_count": null,
   "metadata": {
    "collapsed": true
   },
   "outputs": [],
   "source": []
  }
 ],
 "metadata": {
  "kernelspec": {
   "display_name": "Python 3",
   "language": "python",
   "name": "python3"
  },
  "language_info": {
   "codemirror_mode": {
    "name": "ipython",
    "version": 3
   },
   "file_extension": ".py",
   "mimetype": "text/x-python",
   "name": "python",
   "nbconvert_exporter": "python",
   "pygments_lexer": "ipython3",
   "version": "3.6.1"
  }
 },
 "nbformat": 4,
 "nbformat_minor": 2
}
