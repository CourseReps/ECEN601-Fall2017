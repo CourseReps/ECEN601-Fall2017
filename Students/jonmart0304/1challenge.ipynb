{
 "cells": [
  {
   "cell_type": "markdown",
   "metadata": {},
   "source": [
    "# Challenge 1\n",
    "\n",
    "## SciPy Tutorial\n",
    "Pertinent information about [SciPy](https://docs.scipy.org/) and NumPy is available in the [SciPy Tutorial](https://docs.scipy.org/doc/scipy/reference/tutorial/index.html).\n",
    " * Read [Introduction](https://docs.scipy.org/doc/scipy/reference/tutorial/general.html)\n",
    " * Read [Basic functions](https://docs.scipy.org/doc/scipy/reference/tutorial/basic.html)\n",
    " * Read [Optimization](https://docs.scipy.org/doc/scipy/reference/tutorial/optimize.html)\n",
    " \n",
    "Consider the function defined below.\n",
    " * Plot the function using [matplotlib](https://matplotlib.org/)"
   ]
  },
  {
   "cell_type": "code",
   "execution_count": 2,
   "metadata": {
    "collapsed": true
   },
   "outputs": [],
   "source": [
    "import numpy as np\n",
    "import matplotlib.pyplot as plt\n",
    "from scipy.optimize import curve_fit"
   ]
  },
  {
   "cell_type": "code",
   "execution_count": 3,
   "metadata": {},
   "outputs": [
    {
     "data": {
      "image/png": "[encoded data removed]",
      "text/plain": [
       "<matplotlib.figure.Figure at 0x7fd4ba410eb8>"
      ]
     },
     "metadata": {},
     "output_type": "display_data"
    }
   ],
   "source": [
    "def g(t):\n",
    "    return 1 - (np.exp(-2*t) * np.cos(np.pi*t))\n",
    "\n",
    "t1 = np.arange(0.0, 2.0, 0.01)\n",
    "\n",
    "plt.figure(1)\n",
    "plt.plot(t1, g(t1), 'k')\n",
    "plt.show()"
   ]
  },
  {
   "cell_type": "markdown",
   "metadata": {},
   "source": [
    "Consider the class of functions of the form $f(t) = 1 - e^{-at}$ where $a$ is a free parameter.\n",
    " * Find the value of $a$ that minimizes the $L_2$ norm between $g(t)$ and $f(t)$ over the interval $[0, 2]$\n",
    " * Computer the residual mean squared error\n",
    " * Explain how you obtained $a$"
   ]
  },
  {
   "cell_type": "markdown",
   "metadata": {},
   "source": [
    "# Solution\n",
    "\n",
    "Below, I create a function for $f(t) = 1 - e^{-at}$ where for parameters I accept the time interval and the value of $a$. I use the \"scipy.optimize.curve_fit\" function to fit the $f(t)$ function to the $g(t)$ function which optimizes the $a$ value. As shown below, the optimal value of a (\"a_optimal\") which minimizes the $L_2$ norm between the two functions is $a = 4.60357809$.\n"
   ]
  },
  {
   "cell_type": "code",
   "execution_count": 4,
   "metadata": {},
   "outputs": [
    {
     "name": "stdout",
     "output_type": "stream",
     "text": [
      "a_optimal... [ 4.60357809]\n",
      "pcov... [[ 0.0443824]]\n"
     ]
    },
    {
     "data": {
      "image/png": "[encoded data removed]",
      "text/plain": [
       "<matplotlib.figure.Figure at 0x7fd489ca7d30>"
      ]
     },
     "metadata": {},
     "output_type": "display_data"
    }
   ],
   "source": [
    "# Function which needs \"a\" value optimized.\n",
    "def f(t,a):\n",
    "        return 1 - (np.exp(-a*t))\n",
    "    \n",
    "\n",
    "# Function which optimizes the \"a\" value to fit the f(t) function to the g(t) function.\n",
    "a_optimal, pcov = curve_fit(f, t1, g(t1), method = \"lm\")\n",
    "\n",
    "print('a_optimal...', a_optimal)\n",
    "print(\"pcov...\", pcov)\n",
    "\n",
    "\n",
    "\n",
    "plt.plot(t1, f(t1, a_optimal), 'r-', label='fit')\n",
    "plt.show()"
   ]
  },
  {
   "cell_type": "markdown",
   "metadata": {},
   "source": [
    "Below, I compute the residual mean squared error between two functions after applying \"scipy.optimize.curve_fit\". I wrote a \"for loop\" which computes $f(t)$ and $g(t)$ using the time interval and the optimal value of $a$ computed above. For each value computed, the residual mean squared error is computed as so: $$Residual Mean Squared Error = (1/count) \\sum (g(t) - f(t))^2$$\n",
    "\n",
    "Which gives us a residual_mse value of 0.01131818."
   ]
  },
  {
   "cell_type": "code",
   "execution_count": 7,
   "metadata": {},
   "outputs": [
    {
     "name": "stdout",
     "output_type": "stream",
     "text": [
      "residual_mse... [ 0.01131818]\n"
     ]
    }
   ],
   "source": [
    "#For loop to calculate the residual mean squared error between the g(t) function and the optimized f(t) function\n",
    "sum_val = 0\n",
    "count = 0\n",
    "for t in t1:\n",
    "    yg = g(t)\n",
    "    yf = f(t, a_optimal)\n",
    "    y_diff = (yg - yf)\n",
    "    sq_val = (y_diff ** 2)\n",
    "    sum_val += sq_val\n",
    "    count += 1\n",
    "    \n",
    "    \n",
    "final_sum = sum_val\n",
    "residual_mse = ((1/count)*final_sum)\n",
    "print('residual_mse...', residual_mse)\n",
    "    "
   ]
  },
  {
   "cell_type": "markdown",
   "metadata": {},
   "source": [
    "As mentioned above, the value for $a$ was calculated using the \"scipy.optimize.curve_fit\" function. This allows us to fit an unconstrained function to target data by using the Levenberg-Marquardt algorithm to calculate the unknown parameter as to minimize the $L_2$ norm between $g(t)$ and $f(t)$ values along the interval $t$. Essentially what takes place is an iteration algorithm which carries out a trial and error process until the optimal value is discovered."
   ]
  }
 ],
 "metadata": {
  "kernelspec": {
   "display_name": "Python 3",
   "language": "python",
   "name": "python3"
  },
  "language_info": {
   "codemirror_mode": {
    "name": "ipython",
    "version": 3
   },
   "file_extension": ".py",
   "mimetype": "text/x-python",
   "name": "python",
   "nbconvert_exporter": "python",
   "pygments_lexer": "ipython3",
   "version": "3.6.1"
  }
 },
 "nbformat": 4,
 "nbformat_minor": 2
}
