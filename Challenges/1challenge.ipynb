{
 "cells": [
  {
   "cell_type": "markdown",
   "metadata": {},
   "source": [
    "# Challenge 1\n",
    "\n",
    "## SciPy Tutorial\n",
    "Pertinent information about [SciPy](https://docs.scipy.org/) and NumPy is available in the [SciPy Tutorial](https://docs.scipy.org/doc/scipy/reference/tutorial/index.html).\n",
    " * Read [Introduction](https://docs.scipy.org/doc/scipy/reference/tutorial/general.html)\n",
    " * Read [Basic functions](https://docs.scipy.org/doc/scipy/reference/tutorial/basic.html)\n",
    " * Read [Optimization](https://docs.scipy.org/doc/scipy/reference/tutorial/optimize.html)\n",
    " \n",
    "Consider the function defined below.\n",
    " * Plot the function using [matplotlib](https://matplotlib.org/)"
   ]
  },
  {
   "cell_type": "code",
   "execution_count": null,
   "metadata": {
    "collapsed": true
   },
   "outputs": [],
   "source": [
    "import numpy as np\n",
    "import matplotlib.pyplot as plt"
   ]
  },
  {
   "cell_type": "code",
   "execution_count": null,
   "metadata": {
    "collapsed": true
   },
   "outputs": [],
   "source": [
    "def g(t):\n",
    "    return 1 - (np.exp(-2*t) * np.cos(np.pi*t))\n",
    "\n",
    "t1 = np.arange(0.0, 2.0, 0.01)\n",
    "\n",
    "plt.figure(1)\n",
    "plt.plot(t1, g(t1), 'k')\n",
    "plt.show()"
   ]
  },
  {
   "cell_type": "markdown",
   "metadata": {},
   "source": [
    "Consider the class of functions of the form $f(t) = 1 - e^{-at}$ where $a$ is a free parameter.\n",
    " * Find the value of $a$ that minimizes the $L_2$ norm between $g(t)$ and $f(t)$ over the interval $[0, 2]$\n",
    " * Computer the residual mean squared error\n",
    " * Explain how you obtained $a$"
   ]
  },
  {
   "cell_type": "markdown",
   "metadata": {},
   "source": [
    "Solution:"
   ]
  },
  {
   "cell_type": "code",
   "execution_count": 3,
   "metadata": {
    "collapsed": true
   },
   "outputs": [],
   "source": [
    "import numpy as np\n",
    "import matplotlib.pyplot as plt\n",
    "from scipy.optimize import minimize_scalar"
   ]
  },
  {
   "cell_type": "code",
   "execution_count": 4,
   "metadata": {},
   "outputs": [
    {
     "name": "stdout",
     "output_type": "stream",
     "text": [
      "The Value of a that minimizes the L2 norm between tow functions is 4.603468 \n",
      "The residential mean squared error is 0.011318\n"
     ]
    },
    {
     "data": {
      "image/png": "[encoded data removed]",
      "text/plain": [
       "<matplotlib.figure.Figure at 0x7d21440a58>"
      ]
     },
     "metadata": {},
     "output_type": "display_data"
    }
   ],
   "source": [
    "###################################### define function g(t) #################################################################################\n",
    "def g(t):   \n",
    "    return 1 - (np.exp(-2*t) * np.cos(np.pi*t))\n",
    "\n",
    "##################################### defining function f(a,t) ##############################################################################\n",
    "def f(a,t):    \n",
    "    return 1- (np.exp(-1*a*t))\n",
    "\n",
    "################################## find the L2 norm between g(t) and f(a,t) for the min a ##################################################\n",
    "t1 = np.arange(0.0, 2.0, 0.01)\n",
    "\n",
    "def target(a):  \n",
    "    total = 0\n",
    "    for t in (t1):\n",
    "        total = total + np.square(g(t)-f(a,t))\n",
    "    return np.sqrt(total)\n",
    "\n",
    "mina = minimize_scalar(target)\n",
    "print(\"The Value of a that minimizes the L2 norm between tow functions is %f \"%mina.x)\n",
    "\n",
    "\n",
    "################################## calculate the residential mean squared error #############################################################\n",
    "a=mina.x\n",
    "length = len(t1)\n",
    "RMSE = np.square(target(a)) / length\n",
    "print(\"The residential mean squared error is %f\"%RMSE)\n",
    "\n",
    "\n",
    "plt.figure(1)\n",
    "plt.plot(t1,g(t1),'b',label='g(t)')\n",
    "plt.plot(t1,f(a,t1),'r',label='f(t)')\n",
    "plt.legend()\n",
    "plt.show()"
   ]
  },
  {
   "cell_type": "markdown",
   "metadata": {},
   "source": [
    "The function minimize_scalar from the SciPy library was used for calculate the value of \"a\". This function performed a scalar minimization over all the values of \"t\" in the interval [0, 2]."
   ]
  }
 ],
 "metadata": {
  "kernelspec": {
   "display_name": "Python 3",
   "language": "python",
   "name": "python3"
  },
  "language_info": {
   "codemirror_mode": {
    "name": "ipython",
    "version": 3
   },
   "file_extension": ".py",
   "mimetype": "text/x-python",
   "name": "python",
   "nbconvert_exporter": "python",
   "pygments_lexer": "ipython3",
   "version": "3.6.1"
  }
 },
 "nbformat": 4,
 "nbformat_minor": 2
}
