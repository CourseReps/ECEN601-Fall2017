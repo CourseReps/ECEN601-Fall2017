{
 "cells": [
  {
   "cell_type": "markdown",
   "metadata": {},
   "source": [
    "# Challenge 2\n",
    "An important aspect of pragmatic vector space methods is the ability to handle vectors and matrices.\n",
    "A large collection of linear algebra functions is available in [scipy.linalg](https://docs.scipy.org/doc/scipy/reference/linalg.html).\n",
    "These functions can be employed in conjunction with the tools available in [NumPy](http://www.numpy.org/).\n",
    "We note that the main object in NumPy is the homogeneous multidimensional array."
   ]
  },
  {
   "cell_type": "markdown",
   "metadata": {},
   "source": [
    "## Matrix\n",
    "We begin by creating a simple matrix.\n",
    "One possible approach to complete this task is to use ```scipy.linalg.circulant(c)```."
   ]
  },
  {
   "cell_type": "code",
   "execution_count": 14,
   "metadata": {},
   "outputs": [],
   "source": [
    "from scipy.linalg import circulant\n",
    "my_circ_matrix = circulant([1, 2, 3])"
   ]
  },
  {
   "cell_type": "markdown",
   "metadata": {},
   "source": [
    "Alternatively, you can construct the familiar discrete Fourier transform matrix with ```scipy.linalg.dft(n)```."
   ]
  },
  {
   "cell_type": "code",
   "execution_count": 15,
   "metadata": {},
   "outputs": [],
   "source": [
    "from scipy.linalg import dft\n",
    "my_dft_matrix = dft(3)"
   ]
  },
  {
   "cell_type": "markdown",
   "metadata": {},
   "source": [
    "The inverse of a matrix can be computed using ```scipy.linalg.inv(a)```."
   ]
  },
  {
   "cell_type": "code",
   "execution_count": 16,
   "metadata": {},
   "outputs": [],
   "source": [
    "from scipy.linalg import inv\n",
    "my_idft_matrix = inv(my_dft_matrix)"
   ]
  },
  {
   "cell_type": "markdown",
   "metadata": {},
   "source": [
    "The operation ```numpy.dot(a, b)``` computes the dot product of two arrays.\n",
    "For 2-D arrays it is equivalent to matrix multiplication, and for 1-D arrays to inner product of vectors (without complex conjugation)."
   ]
  },
  {
   "cell_type": "code",
   "execution_count": 17,
   "metadata": {},
   "outputs": [
    {
     "name": "stdout",
     "output_type": "stream",
     "text": [
      "[[ 6.0-0.j        -0.0+0.j         0.0+0.j       ]\n",
      " [-0.0-0.j        -1.5+0.8660254j -0.0+0.j       ]\n",
      " [ 0.0-0.j         0.0-0.j        -1.5-0.8660254j]]\n"
     ]
    }
   ],
   "source": [
    "import numpy as np\n",
    "matrix_prod1 = np.dot(my_dft_matrix, my_circ_matrix)\n",
    "matrix_prod2 = np.dot(matrix_prod1, my_idft_matrix)\n",
    "\n",
    "np.set_printoptions(suppress=True)\n",
    "print(matrix_prod2)"
   ]
  },
  {
   "cell_type": "markdown",
   "metadata": {},
   "source": [
    "## Questions\n",
    "These steps and their solutions immediately bring up three questions.\n",
    " * Are circulant matrices always diagonalized by the discrete Fourier transform matrix and its inverse?\n",
    " * Are product of circulant matrices always circulant matrices?\n",
    " * Do all pairs of circulant matrices commute under matrix multiplication?"
   ]
  },
  {
   "cell_type": "code",
   "execution_count": null,
   "metadata": {
    "collapsed": true
   },
   "outputs": [],
   "source": []
  }
 ],
 "metadata": {
  "kernelspec": {
   "display_name": "Python 3",
   "language": "python",
   "name": "python3"
  },
  "language_info": {
   "codemirror_mode": {
    "name": "ipython",
    "version": 3
   },
   "file_extension": ".py",
   "mimetype": "text/x-python",
   "name": "python",
   "nbconvert_exporter": "python",
   "pygments_lexer": "ipython3",
   "version": "3.6.1"
  }
 },
 "nbformat": 4,
 "nbformat_minor": 2
}
